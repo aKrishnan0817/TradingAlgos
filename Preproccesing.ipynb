{
 "cells": [
  {
   "cell_type": "markdown",
   "id": "5d83ac60",
   "metadata": {},
   "source": [
    "# Objectives\n",
    "- Acceleration and Velocity columns\n",
    "- Percent Change over past few columns\n",
    "- Direction(y) 0 or 1 goes up or down\n"
   ]
  },
  {
   "cell_type": "code",
   "execution_count": 1,
   "id": "22379fa8",
   "metadata": {},
   "outputs": [
    {
     "name": "stdout",
     "output_type": "stream",
     "text": [
      "\u001b[34mOLD_ALGOS\u001b[m\u001b[m                 Preproccesing_tests.ipynb spy_data_clean.pickle\r\n",
      "Preproccesing.ipynb       \u001b[34m__pycache__\u001b[m\u001b[m\r\n"
     ]
    }
   ],
   "source": [
    "!ls"
   ]
  },
  {
   "cell_type": "code",
   "execution_count": 7,
   "id": "a2e7b12e",
   "metadata": {},
   "outputs": [],
   "source": [
    "import pickle\n",
    "import pandas as pd\n",
    "import numpy as np"
   ]
  },
  {
   "cell_type": "code",
   "execution_count": 5,
   "id": "6edf5983",
   "metadata": {},
   "outputs": [],
   "source": [
    "with open('spy_data_clean.pickle', 'rb') as f:\n",
    "    tickData = pickle.load(f)"
   ]
  },
  {
   "cell_type": "code",
   "execution_count": 6,
   "id": "fb00b198",
   "metadata": {},
   "outputs": [
    {
     "data": {
      "text/html": [
       "<div>\n",
       "<style scoped>\n",
       "    .dataframe tbody tr th:only-of-type {\n",
       "        vertical-align: middle;\n",
       "    }\n",
       "\n",
       "    .dataframe tbody tr th {\n",
       "        vertical-align: top;\n",
       "    }\n",
       "\n",
       "    .dataframe thead th {\n",
       "        text-align: right;\n",
       "    }\n",
       "</style>\n",
       "<table border=\"1\" class=\"dataframe\">\n",
       "  <thead>\n",
       "    <tr style=\"text-align: right;\">\n",
       "      <th></th>\n",
       "      <th>price</th>\n",
       "      <th>DateTime</th>\n",
       "    </tr>\n",
       "  </thead>\n",
       "  <tbody>\n",
       "    <tr>\n",
       "      <th>0</th>\n",
       "      <td>1496.4</td>\n",
       "      <td>2000-01-03 08:30:34</td>\n",
       "    </tr>\n",
       "    <tr>\n",
       "      <th>1</th>\n",
       "      <td>1496.0</td>\n",
       "      <td>2000-01-03 08:30:36</td>\n",
       "    </tr>\n",
       "    <tr>\n",
       "      <th>2</th>\n",
       "      <td>1495.5</td>\n",
       "      <td>2000-01-03 08:30:37</td>\n",
       "    </tr>\n",
       "    <tr>\n",
       "      <th>3</th>\n",
       "      <td>1495.0</td>\n",
       "      <td>2000-01-03 08:30:46</td>\n",
       "    </tr>\n",
       "    <tr>\n",
       "      <th>4</th>\n",
       "      <td>1495.5</td>\n",
       "      <td>2000-01-03 08:30:53</td>\n",
       "    </tr>\n",
       "  </tbody>\n",
       "</table>\n",
       "</div>"
      ],
      "text/plain": [
       "    price            DateTime\n",
       "0  1496.4 2000-01-03 08:30:34\n",
       "1  1496.0 2000-01-03 08:30:36\n",
       "2  1495.5 2000-01-03 08:30:37\n",
       "3  1495.0 2000-01-03 08:30:46\n",
       "4  1495.5 2000-01-03 08:30:53"
      ]
     },
     "execution_count": 6,
     "metadata": {},
     "output_type": "execute_result"
    }
   ],
   "source": [
    "tickData.head()"
   ]
  },
  {
   "cell_type": "markdown",
   "id": "abcb372c",
   "metadata": {},
   "source": [
    "### Idea:\n",
    "\n",
    "    Instead of using the actual time difference between the points while calculating the velocity, use 1 or the sqrt of the time difference.\n",
    "\n",
    "### Reasoning:\n",
    "\n",
    "    The prices are being updated each tick, yet the data appears in time stamps. To make the calculus more applicable one aproach could be to treat it as a continous function, with each next point being discrete.\n"
   ]
  },
  {
   "cell_type": "code",
   "execution_count": 13,
   "id": "697c78d9",
   "metadata": {},
   "outputs": [
    {
     "data": {
      "text/plain": [
       "1495.5"
      ]
     },
     "execution_count": 13,
     "metadata": {},
     "output_type": "execute_result"
    }
   ],
   "source": [
    "tickData[\"price\"].iloc[4]"
   ]
  },
  {
   "cell_type": "code",
   "execution_count": 25,
   "id": "c8309beb",
   "metadata": {},
   "outputs": [],
   "source": [
    "def get_velocity(index, method=\"SQRT\"):\n",
    "    \n",
    "    p1 = tickData[\"price\"].iloc[index]\n",
    "    p0 = tickData[\"price\"].iloc[index-1]\n",
    "    \n",
    "    timeDiff = 1\n",
    "    if method == \"SQRT\":\n",
    "        timeDiff = (tickData[\"DateTime\"].iloc[index] - tickData[\"DateTime\"].iloc[index-1])\n",
    "        timeDiff = np.sqrt(timeDiff.total_seconds())\n",
    "        \n",
    "    velocity = (p1-p0)/timeDiff\n",
    "    \n",
    "    return velocity\n",
    "        \n",
    "    "
   ]
  },
  {
   "cell_type": "code",
   "execution_count": 27,
   "id": "4386d7c1",
   "metadata": {},
   "outputs": [],
   "source": [
    "def get_acceleration(index, method=\"SQRT\"):\n",
    "    \n",
    "    v1 = get_velocity(index)\n",
    "    v0 = get_velocity(index-1)\n",
    "    \n",
    "    timeDiff = 1\n",
    "    if method == \"SQRT\":\n",
    "        timeDiff = (tickData[\"DateTime\"].iloc[index] - tickData[\"DateTime\"].iloc[index-1])\n",
    "        timeDiff = np.sqrt(timeDiff.total_seconds())\n",
    "        \n",
    "    acceleration = (v1-v0)/timeDiff\n",
    "    \n",
    "    return acceleration"
   ]
  },
  {
   "cell_type": "code",
   "execution_count": 26,
   "id": "ff1004c7",
   "metadata": {},
   "outputs": [
    {
     "data": {
      "text/plain": [
       "0.1889822365046136"
      ]
     },
     "execution_count": 26,
     "metadata": {},
     "output_type": "execute_result"
    }
   ],
   "source": [
    "get_velocity(4)"
   ]
  },
  {
   "cell_type": "code",
   "execution_count": 28,
   "id": "19739f8c",
   "metadata": {},
   "outputs": [
    {
     "data": {
      "text/plain": [
       "0.13442265026344263"
      ]
     },
     "execution_count": 28,
     "metadata": {},
     "output_type": "execute_result"
    }
   ],
   "source": [
    "get_acceleration(4)"
   ]
  },
  {
   "cell_type": "code",
   "execution_count": null,
   "id": "096eccab",
   "metadata": {},
   "outputs": [],
   "source": []
  }
 ],
 "metadata": {
  "kernelspec": {
   "display_name": "Python 3 (ipykernel)",
   "language": "python",
   "name": "python3"
  },
  "language_info": {
   "codemirror_mode": {
    "name": "ipython",
    "version": 3
   },
   "file_extension": ".py",
   "mimetype": "text/x-python",
   "name": "python",
   "nbconvert_exporter": "python",
   "pygments_lexer": "ipython3",
   "version": "3.11.5"
  }
 },
 "nbformat": 4,
 "nbformat_minor": 5
}
