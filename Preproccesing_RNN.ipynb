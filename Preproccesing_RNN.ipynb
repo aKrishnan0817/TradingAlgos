{
 "cells": [
  {
   "cell_type": "markdown",
   "id": "73beae8a",
   "metadata": {},
   "source": [
    "# Ready the Data to be used for RNN\n",
    "    Create a funciton that generates windows on variable lenghts such that the data is formated:\n",
    "    \n",
    "    X: (Price at t-1), (Price at t-2), (Price at t-n) \n",
    "    \n",
    "    Y: (Price at t)"
   ]
  },
  {
   "cell_type": "code",
   "execution_count": 1,
   "id": "1e208c7a",
   "metadata": {},
   "outputs": [],
   "source": [
    "import pickle\n",
    "import pandas as pd\n",
    "import numpy as np"
   ]
  },
  {
   "cell_type": "code",
   "execution_count": 2,
   "id": "8b986d75",
   "metadata": {},
   "outputs": [],
   "source": [
    "with open('spy_data_clean.pickle', 'rb') as f:\n",
    "    tickData = pickle.load(f)"
   ]
  },
  {
   "cell_type": "code",
   "execution_count": 7,
   "id": "e63ad3dc",
   "metadata": {},
   "outputs": [
    {
     "data": {
      "text/html": [
       "<div>\n",
       "<style scoped>\n",
       "    .dataframe tbody tr th:only-of-type {\n",
       "        vertical-align: middle;\n",
       "    }\n",
       "\n",
       "    .dataframe tbody tr th {\n",
       "        vertical-align: top;\n",
       "    }\n",
       "\n",
       "    .dataframe thead th {\n",
       "        text-align: right;\n",
       "    }\n",
       "</style>\n",
       "<table border=\"1\" class=\"dataframe\">\n",
       "  <thead>\n",
       "    <tr style=\"text-align: right;\">\n",
       "      <th></th>\n",
       "      <th>price</th>\n",
       "      <th>DateTime</th>\n",
       "    </tr>\n",
       "  </thead>\n",
       "  <tbody>\n",
       "    <tr>\n",
       "      <th>0</th>\n",
       "      <td>1496.4</td>\n",
       "      <td>2000-01-03 08:30:34</td>\n",
       "    </tr>\n",
       "    <tr>\n",
       "      <th>1</th>\n",
       "      <td>1496.0</td>\n",
       "      <td>2000-01-03 08:30:36</td>\n",
       "    </tr>\n",
       "    <tr>\n",
       "      <th>2</th>\n",
       "      <td>1495.5</td>\n",
       "      <td>2000-01-03 08:30:37</td>\n",
       "    </tr>\n",
       "    <tr>\n",
       "      <th>3</th>\n",
       "      <td>1495.0</td>\n",
       "      <td>2000-01-03 08:30:46</td>\n",
       "    </tr>\n",
       "    <tr>\n",
       "      <th>4</th>\n",
       "      <td>1495.5</td>\n",
       "      <td>2000-01-03 08:30:53</td>\n",
       "    </tr>\n",
       "  </tbody>\n",
       "</table>\n",
       "</div>"
      ],
      "text/plain": [
       "    price            DateTime\n",
       "0  1496.4 2000-01-03 08:30:34\n",
       "1  1496.0 2000-01-03 08:30:36\n",
       "2  1495.5 2000-01-03 08:30:37\n",
       "3  1495.0 2000-01-03 08:30:46\n",
       "4  1495.5 2000-01-03 08:30:53"
      ]
     },
     "execution_count": 7,
     "metadata": {},
     "output_type": "execute_result"
    }
   ],
   "source": [
    "tickData.head()"
   ]
  },
  {
   "cell_type": "code",
   "execution_count": 6,
   "id": "254a8182",
   "metadata": {},
   "outputs": [
    {
     "data": {
      "text/plain": [
       "array([1496. , 1495.5, 1495. , 1495.5])"
      ]
     },
     "execution_count": 6,
     "metadata": {},
     "output_type": "execute_result"
    }
   ],
   "source": [
    "tickData[\"price\"].iloc[0:4]"
   ]
  },
  {
   "cell_type": "code",
   "execution_count": 9,
   "id": "f7769624",
   "metadata": {},
   "outputs": [
    {
     "data": {
      "text/plain": [
       "numpy.float64"
      ]
     },
     "execution_count": 9,
     "metadata": {},
     "output_type": "execute_result"
    }
   ],
   "source": []
  },
  {
   "cell_type": "code",
   "execution_count": 17,
   "id": "c91430da",
   "metadata": {},
   "outputs": [],
   "source": [
    "def window_generator(index, window_size=5):\n",
    "    X = np.array(tickData[\"price\"].iloc[index-window_size-1:index-1])\n",
    "    \n",
    "    y = tickData['price'].iloc[index]\n",
    "    \n",
    "    return X,y"
   ]
  },
  {
   "cell_type": "code",
   "execution_count": 23,
   "id": "992c85ff",
   "metadata": {},
   "outputs": [],
   "source": [
    "Xlist=list()\n",
    "ylist=list()\n",
    "window_size=5\n",
    "\n",
    "for i in range(window_size+1, 1000):\n",
    "    X,y = window_generator(i,window_size)\n",
    "    Xlist.append(X)\n",
    "    ylist.append(y)\n",
    "    \n",
    "rnnData = pd.DataFrame({\"X\":Xlist, \"y\":ylist})"
   ]
  },
  {
   "cell_type": "code",
   "execution_count": 24,
   "id": "5af660e3",
   "metadata": {},
   "outputs": [
    {
     "data": {
      "text/html": [
       "<div>\n",
       "<style scoped>\n",
       "    .dataframe tbody tr th:only-of-type {\n",
       "        vertical-align: middle;\n",
       "    }\n",
       "\n",
       "    .dataframe tbody tr th {\n",
       "        vertical-align: top;\n",
       "    }\n",
       "\n",
       "    .dataframe thead th {\n",
       "        text-align: right;\n",
       "    }\n",
       "</style>\n",
       "<table border=\"1\" class=\"dataframe\">\n",
       "  <thead>\n",
       "    <tr style=\"text-align: right;\">\n",
       "      <th></th>\n",
       "      <th>X</th>\n",
       "      <th>y</th>\n",
       "    </tr>\n",
       "  </thead>\n",
       "  <tbody>\n",
       "    <tr>\n",
       "      <th>0</th>\n",
       "      <td>[1496.4, 1496.0, 1495.5, 1495.0, 1495.5]</td>\n",
       "      <td>1494.5</td>\n",
       "    </tr>\n",
       "    <tr>\n",
       "      <th>1</th>\n",
       "      <td>[1496.0, 1495.5, 1495.0, 1495.5, 1495.0]</td>\n",
       "      <td>1495.0</td>\n",
       "    </tr>\n",
       "    <tr>\n",
       "      <th>2</th>\n",
       "      <td>[1495.5, 1495.0, 1495.5, 1495.0, 1494.5]</td>\n",
       "      <td>1494.5</td>\n",
       "    </tr>\n",
       "    <tr>\n",
       "      <th>3</th>\n",
       "      <td>[1495.0, 1495.5, 1495.0, 1494.5, 1495.0]</td>\n",
       "      <td>1494.7</td>\n",
       "    </tr>\n",
       "    <tr>\n",
       "      <th>4</th>\n",
       "      <td>[1495.5, 1495.0, 1494.5, 1495.0, 1494.5]</td>\n",
       "      <td>1495.0</td>\n",
       "    </tr>\n",
       "    <tr>\n",
       "      <th>...</th>\n",
       "      <td>...</td>\n",
       "      <td>...</td>\n",
       "    </tr>\n",
       "    <tr>\n",
       "      <th>989</th>\n",
       "      <td>[1459.5, 1459.1, 1459.0, 1459.5, 1459.0]</td>\n",
       "      <td>1458.6</td>\n",
       "    </tr>\n",
       "    <tr>\n",
       "      <th>990</th>\n",
       "      <td>[1459.1, 1459.0, 1459.5, 1459.0, 1458.7]</td>\n",
       "      <td>1458.5</td>\n",
       "    </tr>\n",
       "    <tr>\n",
       "      <th>991</th>\n",
       "      <td>[1459.0, 1459.5, 1459.0, 1458.7, 1458.6]</td>\n",
       "      <td>1458.0</td>\n",
       "    </tr>\n",
       "    <tr>\n",
       "      <th>992</th>\n",
       "      <td>[1459.5, 1459.0, 1458.7, 1458.6, 1458.5]</td>\n",
       "      <td>1457.5</td>\n",
       "    </tr>\n",
       "    <tr>\n",
       "      <th>993</th>\n",
       "      <td>[1459.0, 1458.7, 1458.6, 1458.5, 1458.0]</td>\n",
       "      <td>1457.0</td>\n",
       "    </tr>\n",
       "  </tbody>\n",
       "</table>\n",
       "<p>994 rows × 2 columns</p>\n",
       "</div>"
      ],
      "text/plain": [
       "                                            X       y\n",
       "0    [1496.4, 1496.0, 1495.5, 1495.0, 1495.5]  1494.5\n",
       "1    [1496.0, 1495.5, 1495.0, 1495.5, 1495.0]  1495.0\n",
       "2    [1495.5, 1495.0, 1495.5, 1495.0, 1494.5]  1494.5\n",
       "3    [1495.0, 1495.5, 1495.0, 1494.5, 1495.0]  1494.7\n",
       "4    [1495.5, 1495.0, 1494.5, 1495.0, 1494.5]  1495.0\n",
       "..                                        ...     ...\n",
       "989  [1459.5, 1459.1, 1459.0, 1459.5, 1459.0]  1458.6\n",
       "990  [1459.1, 1459.0, 1459.5, 1459.0, 1458.7]  1458.5\n",
       "991  [1459.0, 1459.5, 1459.0, 1458.7, 1458.6]  1458.0\n",
       "992  [1459.5, 1459.0, 1458.7, 1458.6, 1458.5]  1457.5\n",
       "993  [1459.0, 1458.7, 1458.6, 1458.5, 1458.0]  1457.0\n",
       "\n",
       "[994 rows x 2 columns]"
      ]
     },
     "execution_count": 24,
     "metadata": {},
     "output_type": "execute_result"
    }
   ],
   "source": [
    "rnnData"
   ]
  },
  {
   "cell_type": "code",
   "execution_count": null,
   "id": "ebe52314",
   "metadata": {},
   "outputs": [],
   "source": []
  }
 ],
 "metadata": {
  "kernelspec": {
   "display_name": "Python 3 (ipykernel)",
   "language": "python",
   "name": "python3"
  },
  "language_info": {
   "codemirror_mode": {
    "name": "ipython",
    "version": 3
   },
   "file_extension": ".py",
   "mimetype": "text/x-python",
   "name": "python",
   "nbconvert_exporter": "python",
   "pygments_lexer": "ipython3",
   "version": "3.11.5"
  }
 },
 "nbformat": 4,
 "nbformat_minor": 5
}
