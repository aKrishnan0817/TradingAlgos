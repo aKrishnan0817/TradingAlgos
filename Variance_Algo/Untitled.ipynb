{
 "cells": [
  {
   "cell_type": "code",
   "execution_count": 1,
   "id": "c2d2b96c",
   "metadata": {},
   "outputs": [],
   "source": [
    "import mlflow\n",
    "mlflow.set_tracking_uri('http://127.0.0.1:8080/')\n"
   ]
  },
  {
   "cell_type": "code",
   "execution_count": 3,
   "id": "a8946b20",
   "metadata": {},
   "outputs": [
    {
     "name": "stdout",
     "output_type": "stream",
     "text": [
      "[2024-11-14 11:05:59 -0500] [1312] [INFO] Starting gunicorn 23.0.0\n",
      "[2024-11-14 11:05:59 -0500] [1312] [INFO] Listening at: http://127.0.0.1:8080 (1312)\n",
      "[2024-11-14 11:05:59 -0500] [1312] [INFO] Using worker: sync\n",
      "[2024-11-14 11:05:59 -0500] [1313] [INFO] Booting worker with pid: 1313\n",
      "[2024-11-14 11:05:59 -0500] [1314] [INFO] Booting worker with pid: 1314\n",
      "[2024-11-14 11:05:59 -0500] [1315] [INFO] Booting worker with pid: 1315\n",
      "[2024-11-14 11:05:59 -0500] [1316] [INFO] Booting worker with pid: 1316\n",
      "^C\n",
      "[2024-11-14 11:38:51 -0500] [1312] [INFO] Handling signal: int\n",
      "[2024-11-14 11:38:51 -0500] [1314] [INFO] Worker exiting (pid: 1314)\n",
      "[2024-11-14 11:38:51 -0500] [1316] [INFO] Worker exiting (pid: 1316)\n",
      "[2024-11-14 11:38:51 -0500] [1313] [INFO] Worker exiting (pid: 1313)\n",
      "[2024-11-14 11:38:51 -0500] [1315] [INFO] Worker exiting (pid: 1315)\n"
     ]
    }
   ],
   "source": [
    "!mlflow server --host 127.0.0.1 --port 8080\n"
   ]
  },
  {
   "cell_type": "code",
   "execution_count": null,
   "id": "aebfc56b",
   "metadata": {},
   "outputs": [],
   "source": []
  }
 ],
 "metadata": {
  "kernelspec": {
   "display_name": ".env",
   "language": "python",
   "name": ".env"
  },
  "language_info": {
   "codemirror_mode": {
    "name": "ipython",
    "version": 3
   },
   "file_extension": ".py",
   "mimetype": "text/x-python",
   "name": "python",
   "nbconvert_exporter": "python",
   "pygments_lexer": "ipython3",
   "version": "3.12.0"
  }
 },
 "nbformat": 4,
 "nbformat_minor": 5
}
