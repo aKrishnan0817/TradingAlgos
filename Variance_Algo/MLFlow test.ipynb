{
 "cells": [
  {
   "cell_type": "code",
   "execution_count": 1,
   "id": "3904fd1e",
   "metadata": {},
   "outputs": [],
   "source": [
    "import mlflow\n",
    "import mlflow.sklearn\n",
    "from sklearn.model_selection import train_test_split\n",
    "from sklearn.linear_model import LinearRegression\n",
    "from sklearn.metrics import mean_squared_error\n",
    "from sklearn.datasets import make_regression\n"
   ]
  },
  {
   "cell_type": "code",
   "execution_count": 2,
   "id": "e11cc56c",
   "metadata": {},
   "outputs": [],
   "source": [
    "# Generate a sample dataset\n",
    "X, y = make_regression(n_samples=100, n_features=1, noise=0.1, random_state=42)\n",
    "X_train, X_test, y_train, y_test = train_test_split(X, y, test_size=0.2, random_state=42)\n"
   ]
  },
  {
   "cell_type": "code",
   "execution_count": 3,
   "id": "5fd9cc35",
   "metadata": {},
   "outputs": [
    {
     "name": "stderr",
     "output_type": "stream",
     "text": [
      "2024/11/13 16:07:30 INFO mlflow.tracking.fluent: Experiment with name 'Simple Linear Regression Example' does not exist. Creating a new experiment.\n"
     ]
    },
    {
     "data": {
      "text/plain": [
       "<Experiment: artifact_location='file:///Users/atulkrishnan/Desktop/TradingAlgos/Variance_Algo/mlruns/479961333097922963', creation_time=1731532050590, experiment_id='479961333097922963', last_update_time=1731532050590, lifecycle_stage='active', name='Simple Linear Regression Example', tags={}>"
      ]
     },
     "execution_count": 3,
     "metadata": {},
     "output_type": "execute_result"
    }
   ],
   "source": [
    "mlflow.set_experiment(\"Simple Linear Regression Example\")\n"
   ]
  },
  {
   "cell_type": "code",
   "execution_count": 4,
   "id": "c7d77b0a",
   "metadata": {},
   "outputs": [
    {
     "name": "stderr",
     "output_type": "stream",
     "text": [
      "2024/11/13 16:07:41 WARNING mlflow.models.model: Model logged without a signature and input example. Please set `input_example` parameter when logging the model to auto infer the model signature.\n"
     ]
    },
    {
     "name": "stdout",
     "output_type": "stream",
     "text": [
      "Logged model with MSE: 0.010420222653186971\n"
     ]
    }
   ],
   "source": [
    "# Start an MLflow run\n",
    "with mlflow.start_run():\n",
    "    \n",
    "    # Define and train the model\n",
    "    model = LinearRegression()\n",
    "    model.fit(X_train, y_train)\n",
    "    \n",
    "    # Make predictions and calculate the mean squared error\n",
    "    predictions = model.predict(X_test)\n",
    "    mse = mean_squared_error(y_test, predictions)\n",
    "    \n",
    "    # Log model parameters\n",
    "    mlflow.log_param(\"fit_intercept\", model.fit_intercept)\n",
    "    \n",
    "    # Log metrics\n",
    "    mlflow.log_metric(\"mse\", mse)\n",
    "    \n",
    "    # Log the model\n",
    "    mlflow.sklearn.log_model(model, \"linear_regression_model\")\n",
    "    \n",
    "    print(f\"Logged model with MSE: {mse}\")\n"
   ]
  },
  {
   "cell_type": "code",
   "execution_count": 1,
   "id": "550fc510",
   "metadata": {},
   "outputs": [
    {
     "name": "stdout",
     "output_type": "stream",
     "text": [
      "[2024-11-14 10:00:48 -0500] [11699] [INFO] Starting gunicorn 23.0.0\n",
      "[2024-11-14 10:00:48 -0500] [11699] [ERROR] Connection in use: ('127.0.0.1', 5000)\n",
      "[2024-11-14 10:00:48 -0500] [11699] [ERROR] connection to ('127.0.0.1', 5000) failed: [Errno 48] Address already in use\n",
      "[2024-11-14 10:00:49 -0500] [11699] [ERROR] Connection in use: ('127.0.0.1', 5000)\n",
      "[2024-11-14 10:00:49 -0500] [11699] [ERROR] connection to ('127.0.0.1', 5000) failed: [Errno 48] Address already in use\n",
      "[2024-11-14 10:00:50 -0500] [11699] [ERROR] Connection in use: ('127.0.0.1', 5000)\n",
      "[2024-11-14 10:00:50 -0500] [11699] [ERROR] connection to ('127.0.0.1', 5000) failed: [Errno 48] Address already in use\n",
      "[2024-11-14 10:00:51 -0500] [11699] [ERROR] Connection in use: ('127.0.0.1', 5000)\n",
      "[2024-11-14 10:00:51 -0500] [11699] [ERROR] connection to ('127.0.0.1', 5000) failed: [Errno 48] Address already in use\n",
      "[2024-11-14 10:00:52 -0500] [11699] [ERROR] Connection in use: ('127.0.0.1', 5000)\n",
      "[2024-11-14 10:00:52 -0500] [11699] [ERROR] connection to ('127.0.0.1', 5000) failed: [Errno 48] Address already in use\n",
      "[2024-11-14 10:00:53 -0500] [11699] [ERROR] Can't connect to ('127.0.0.1', 5000)\n",
      "Running the mlflow server failed. Please see the logs above for details.\n"
     ]
    }
   ],
   "source": [
    "!mlflow ui"
   ]
  },
  {
   "cell_type": "code",
   "execution_count": null,
   "id": "b7a701b6",
   "metadata": {},
   "outputs": [],
   "source": []
  }
 ],
 "metadata": {
  "kernelspec": {
   "display_name": ".env",
   "language": "python",
   "name": ".env"
  },
  "language_info": {
   "codemirror_mode": {
    "name": "ipython",
    "version": 3
   },
   "file_extension": ".py",
   "mimetype": "text/x-python",
   "name": "python",
   "nbconvert_exporter": "python",
   "pygments_lexer": "ipython3",
   "version": "3.12.0"
  }
 },
 "nbformat": 4,
 "nbformat_minor": 5
}
