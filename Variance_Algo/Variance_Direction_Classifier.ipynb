{
 "cells": [
  {
   "cell_type": "code",
   "execution_count": 2,
   "id": "ca33dea4",
   "metadata": {},
   "outputs": [
    {
     "name": "stderr",
     "output_type": "stream",
     "text": [
      "/Library/Frameworks/Python.framework/Versions/3.12/lib/python3.12/site-packages/tqdm/auto.py:21: TqdmWarning: IProgress not found. Please update jupyter and ipywidgets. See https://ipywidgets.readthedocs.io/en/stable/user_install.html\n",
      "  from .autonotebook import tqdm as notebook_tqdm\n"
     ]
    }
   ],
   "source": [
    "import pickle\n",
    "import optuna\n",
    "import mlflow\n",
    "import tensorflow as tf\n",
    "from tensorflow.keras.models import Sequential\n",
    "from tensorflow.keras.layers import Dense\n",
    "from sklearn.model_selection import train_test_split\n",
    "from sklearn.metrics import accuracy_score\n",
    "import numpy as np\n",
    "import pandas as pd\n",
    "from tensorflow.keras.layers import Dense,Dropout\n",
    "from tensorflow.keras import layers, regularizers"
   ]
  },
  {
   "cell_type": "code",
   "execution_count": 3,
   "id": "76749f63",
   "metadata": {},
   "outputs": [],
   "source": [
    "with open('Datasets/spy_classification_data.pkl', 'rb') as file:\n",
    "    tickData = pickle.load(file)"
   ]
  },
  {
   "cell_type": "code",
   "execution_count": 4,
   "id": "05980173",
   "metadata": {},
   "outputs": [],
   "source": [
    "#huge amnt of data so cutting it short for ease\n",
    "startIndex= int(len(tickData) - len(tickData)/75)"
   ]
  },
  {
   "cell_type": "code",
   "execution_count": 5,
   "id": "dfb2c4fd",
   "metadata": {},
   "outputs": [],
   "source": [
    "tickData=tickData[startIndex:]"
   ]
  },
  {
   "cell_type": "code",
   "execution_count": 6,
   "id": "a6ca68a4",
   "metadata": {},
   "outputs": [],
   "source": [
    "X = tickData.iloc[:, :-1]\n",
    "y = tickData.iloc[:, -1]"
   ]
  },
  {
   "cell_type": "code",
   "execution_count": 15,
   "id": "dde3abfe",
   "metadata": {},
   "outputs": [],
   "source": [
    "X_train, X_val, y_train, y_val = train_test_split(X, y, test_size=0.2, random_state=42)\n"
   ]
  },
  {
   "cell_type": "code",
   "execution_count": 17,
   "id": "342bb1c6",
   "metadata": {},
   "outputs": [
    {
     "name": "stderr",
     "output_type": "stream",
     "text": [
      "2024/11/13 17:28:15 INFO mlflow.tracking.fluent: Experiment with name 'Variance Classificaiton Optimization' does not exist. Creating a new experiment.\n"
     ]
    },
    {
     "data": {
      "text/plain": [
       "<Experiment: artifact_location='file:///Users/atulkrishnan/Desktop/TradingAlgos/Variance_Algo/mlruns/658072455368796720', creation_time=1731536895333, experiment_id='658072455368796720', last_update_time=1731536895333, lifecycle_stage='active', name='Variance Classificaiton Optimization', tags={}>"
      ]
     },
     "execution_count": 17,
     "metadata": {},
     "output_type": "execute_result"
    }
   ],
   "source": [
    "mlflow.set_experiment(\"Variance Classificaiton Optimization\")\n"
   ]
  },
  {
   "cell_type": "code",
   "execution_count": 18,
   "id": "4468f7ac",
   "metadata": {},
   "outputs": [],
   "source": [
    "experiment_counter = 1\n"
   ]
  },
  {
   "cell_type": "code",
   "execution_count": 21,
   "id": "45351b23",
   "metadata": {},
   "outputs": [],
   "source": [
    "def objective(trial):\n",
    "    global experiment_counter\n",
    "\n",
    "    model_name = f\"Model {experiment_counter}\"\n",
    "    \n",
    "    # Start MLflow run for each Optuna trial\n",
    "    with mlflow.start_run(run_name=model_name) as run:\n",
    "        model = Sequential()\n",
    "        model.add(Dense(\n",
    "            units=trial.suggest_int('n_units_l1', 16, 64),\n",
    "            activation='relu',\n",
    "            input_shape=(X_train.shape[1],),\n",
    "            kernel_regularizer=tf.keras.regularizers.l2(trial.suggest_loguniform('l2_reg', 1e-6, 1e-2))\n",
    "        ))\n",
    "        model.add(Dropout(trial.suggest_float('dropout_rate_l1', 0.1, 0.5)))\n",
    "\n",
    "        n_layers = trial.suggest_int('n_layers', 1, 3)\n",
    "        for i in range(n_layers):\n",
    "            model.add(Dense(\n",
    "                units=trial.suggest_int(f'n_units_l{i+2}', 16, 64),\n",
    "                activation='relu',\n",
    "                kernel_regularizer=tf.keras.regularizers.l2(trial.suggest_loguniform(f'l2_reg_l{i+2}', 1e-6, 1e-2))\n",
    "            ))\n",
    "            model.add(Dropout(trial.suggest_float(f'dropout_rate_l{i+2}', 0.1, 0.5)))\n",
    "\n",
    "        model.add(Dense(1, activation='sigmoid'))\n",
    "\n",
    "        lr = trial.suggest_loguniform('learning_rate', 1e-4, 1e-2)\n",
    "        model.compile(optimizer=tf.keras.optimizers.Adam(learning_rate=lr),\n",
    "                      loss='binary_crossentropy',\n",
    "                      metrics=['accuracy'])\n",
    "\n",
    "        mlflow.log_param(\"n_units_l1\", trial.params['n_units_l1'])\n",
    "        mlflow.log_param(\"dropout_rate_l1\", trial.params['dropout_rate_l1'])\n",
    "        mlflow.log_param(\"l2_reg\", trial.params['l2_reg'])\n",
    "        mlflow.log_param(\"learning_rate\", lr)\n",
    "        mlflow.log_param(\"n_layers\", n_layers)\n",
    "        \n",
    "        for i in range(n_layers):\n",
    "            mlflow.log_param(f\"n_units_l{i+2}\", trial.params[f'n_units_l{i+2}'])\n",
    "            mlflow.log_param(f\"dropout_rate_l{i+2}\", trial.params[f'dropout_rate_l{i+2}'])\n",
    "            mlflow.log_param(f\"l2_reg_l{i+2}\", trial.params[f'l2_reg_l{i+2}'])\n",
    "\n",
    "        history = model.fit(X_train, y_train,\n",
    "                            validation_data=(X_val, y_val),\n",
    "                            epochs=trial.suggest_int('epochs', 10, 50),\n",
    "                            batch_size=trial.suggest_int('batch_size', 16, 64),\n",
    "                            verbose=0)\n",
    "\n",
    "        val_loss, val_accuracy = model.evaluate(X_val, y_val, verbose=0)\n",
    "        mlflow.log_metric(\"val_loss\", val_loss)\n",
    "        mlflow.log_metric(\"val_accuracy\", val_accuracy)\n",
    "\n",
    "        mlflow.keras.log_model(model, model_name)\n",
    "\n",
    "        experiment_counter += 1\n",
    "\n",
    "        return val_accuracy\n"
   ]
  },
  {
   "cell_type": "code",
   "execution_count": null,
   "id": "e4f776ec",
   "metadata": {},
   "outputs": [],
   "source": [
    "study = optuna.create_study(direction='maximize')\n",
    "study.optimize(objective, n_trials=100)"
   ]
  },
  {
   "cell_type": "code",
   "execution_count": null,
   "id": "7c81246d",
   "metadata": {},
   "outputs": [],
   "source": [
    "print(\"Best trial:\")\n",
    "print(\"  Value: \", study.best_trial.value)\n",
    "print(\"  Params: \")\n",
    "for key, value in study.best_trial.params.items():\n",
    "    print(\"    {}: {}\".format(key, value))"
   ]
  },
  {
   "cell_type": "code",
   "execution_count": null,
   "id": "b6bd0b30",
   "metadata": {},
   "outputs": [],
   "source": []
  }
 ],
 "metadata": {
  "kernelspec": {
   "display_name": ".env",
   "language": "python",
   "name": ".env"
  },
  "language_info": {
   "codemirror_mode": {
    "name": "ipython",
    "version": 3
   },
   "file_extension": ".py",
   "mimetype": "text/x-python",
   "name": "python",
   "nbconvert_exporter": "python",
   "pygments_lexer": "ipython3",
   "version": "3.12.0"
  }
 },
 "nbformat": 4,
 "nbformat_minor": 5
}
