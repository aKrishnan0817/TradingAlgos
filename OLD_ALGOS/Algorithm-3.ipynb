{
 "cells": [
  {
   "cell_type": "code",
   "execution_count": 1,
   "id": "be7554cc",
   "metadata": {},
   "outputs": [],
   "source": [
    "from AlgoTools import AlgoTools\n",
    "from Trader import Trader\n",
    "import pandas as pd\n",
    "import time\n",
    "import datetime\n",
    "import pickle\n",
    "import numpy as np"
   ]
  },
  {
   "cell_type": "markdown",
   "id": "c4282afd",
   "metadata": {},
   "source": [
    "# Processing the data\n",
    "- The data has already been grouped into days and converted to date time objects\n",
    "- Objective is to shuffle the days, then create a train-test split as I will be training on indivuals days"
   ]
  },
  {
   "cell_type": "code",
   "execution_count": 87,
   "id": "66aff9a4",
   "metadata": {},
   "outputs": [],
   "source": [
    "with open('SP-groupedByDays.pkl', 'rb') as f:\n",
    "    spDaily = pickle.load(f)"
   ]
  },
  {
   "cell_type": "code",
   "execution_count": 88,
   "id": "56cddc5b",
   "metadata": {},
   "outputs": [],
   "source": [
    "with open('spydf.pickle', 'rb') as f:\n",
    "    tickData = pickle.load(f)"
   ]
  },
  {
   "cell_type": "code",
   "execution_count": 89,
   "id": "819aa2e6",
   "metadata": {},
   "outputs": [],
   "source": [
    "import random\n",
    "random.shuffle(spDaily)"
   ]
  },
  {
   "cell_type": "code",
   "execution_count": 90,
   "id": "1b2eee7e",
   "metadata": {},
   "outputs": [],
   "source": [
    "trainLen = int(len(spDaily)*0.75)"
   ]
  },
  {
   "cell_type": "code",
   "execution_count": 91,
   "id": "f0975006",
   "metadata": {},
   "outputs": [],
   "source": [
    "trainData=spDaily[:trainLen]\n",
    "testData=spDaily[trainLen:]"
   ]
  },
  {
   "cell_type": "code",
   "execution_count": 126,
   "id": "661c8e2c",
   "metadata": {},
   "outputs": [],
   "source": [
    "tempData=spDaily[10:11]"
   ]
  },
  {
   "cell_type": "markdown",
   "id": "a31207da",
   "metadata": {},
   "source": [
    "# Creating the Algorithim"
   ]
  },
  {
   "cell_type": "code",
   "execution_count": 127,
   "id": "2cb85d76",
   "metadata": {},
   "outputs": [],
   "source": [
    "algoTools = AlgoTools(tickData)"
   ]
  },
  {
   "cell_type": "code",
   "execution_count": 128,
   "id": "795d3c78",
   "metadata": {},
   "outputs": [],
   "source": [
    "def Algo(data,r, a_L, a_S, E_e, stopProf, stopLoss):\n",
    "    #data = tempData\n",
    "   # r, a_L, a_S, E_e, stopProf, stopLoss = params\n",
    "    trader = Trader()\n",
    "    #for each day in the data\n",
    "    for d in range(len(data)):\n",
    "        #for each time stamp in the day\n",
    "        index = 1\n",
    "        \n",
    "        for t in range(data[d].index[2] , data[d].index[len(data[d])-1]):\n",
    "            index = index + 1\n",
    "            \n",
    "            #close out because market is closing                \n",
    "            ti = tickData.loc[t,\"Time2\"].hour*100 + tickData.loc[t,\"Time2\"].minute\n",
    "            if (1513<ti<1520 or 2330<ti<2359):\n",
    "                if trader.getLastTradePos() != 0:\n",
    "                    trader.closeOut(data[d].iloc[index,:])\n",
    "                continue\n",
    "            \n",
    "            \n",
    "\n",
    "\n",
    "            \n",
    "            #if the acceleration is greater than or equal to acceleration constant Long\n",
    "            elif (algoTools.getAccel(t) >= a_L ) and trader.getLastTradePos() == 0:\n",
    "                trader.goLong(data[d].iloc[index,:],\"A_L reached\")\n",
    "            \n",
    "            #same as previous statment but for shorting\n",
    "            elif  ( algoTools.getAccel(t) <= a_S) and trader.getLastTradePos() == 0:\n",
    "                trader.goShort(data[d].iloc[index,:],\"A_S reached\")\n",
    "                \n",
    "            \n",
    "            #stop profit (in points)\n",
    "            elif (trader.getLastTradePos() == 1 and data[d].loc[t,\"price\"] - trader.getLastTradePrice() >= stopProf ) or (trader.getLastTradePos() == -1 and trader.getLastTradePrice() - data[d].loc[t,\"price\"] >= stopProf):\n",
    "                trader.closeOut(data[d].iloc[index,:],\"Stop Prof reached\")\n",
    "                \n",
    "            \n",
    "            #stop loss (in points)\n",
    "            elif trader.getLastTradePos() == 1 and (trader.getLastTradePrice()-data[d].loc[t,\"price\"] ) >= stopLoss:\n",
    "                trader.closeOut(data[d].iloc[index,:],\"Stop Loss reached L\")\n",
    "                \n",
    "                \n",
    "            elif trader.getLastTradePos() == -1 and (data[d].loc[t,\"price\"]-trader.getLastTradePrice()) >= stopLoss:\n",
    "                trader.closeOut(data[d].iloc[index,:],\"Stop Loss reached S\")\n",
    "                \n",
    "\n",
    "\n",
    "            \n",
    "                \n",
    "            \n",
    "            \n",
    "                \n",
    "            \n",
    "    return trader"
   ]
  },
  {
   "cell_type": "code",
   "execution_count": 129,
   "id": "e7e5ba8c",
   "metadata": {},
   "outputs": [],
   "source": [
    "trader = Algo(tempData,0.9,0.5,-0.5,0.01,2,1)"
   ]
  },
  {
   "cell_type": "code",
   "execution_count": 130,
   "id": "97a0de69",
   "metadata": {},
   "outputs": [
    {
     "data": {
      "text/plain": [
       "{'Total Return': -114.99999999999773, 'Max Return': 100.0, 'Min Return': -50.0}"
      ]
     },
     "execution_count": 130,
     "metadata": {},
     "output_type": "execute_result"
    }
   ],
   "source": [
    "trader.getTradeInfo()"
   ]
  },
  {
   "cell_type": "code",
   "execution_count": 131,
   "id": "692990da",
   "metadata": {},
   "outputs": [
    {
     "data": {
      "text/plain": [
       "0    0.675676\n",
       "dtype: float64"
      ]
     },
     "execution_count": 131,
     "metadata": {},
     "output_type": "execute_result"
    }
   ],
   "source": [
    "trader.getLR()"
   ]
  },
  {
   "cell_type": "code",
   "execution_count": 125,
   "id": "533febe8",
   "metadata": {},
   "outputs": [
    {
     "data": {
      "text/html": [
       "<div>\n",
       "<style scoped>\n",
       "    .dataframe tbody tr th:only-of-type {\n",
       "        vertical-align: middle;\n",
       "    }\n",
       "\n",
       "    .dataframe tbody tr th {\n",
       "        vertical-align: top;\n",
       "    }\n",
       "\n",
       "    .dataframe thead th {\n",
       "        text-align: right;\n",
       "    }\n",
       "</style>\n",
       "<table border=\"1\" class=\"dataframe\">\n",
       "  <thead>\n",
       "    <tr style=\"text-align: right;\">\n",
       "      <th></th>\n",
       "      <th>Position</th>\n",
       "      <th>TradePrice</th>\n",
       "      <th>TradeTime</th>\n",
       "      <th>Method</th>\n",
       "    </tr>\n",
       "  </thead>\n",
       "  <tbody>\n",
       "    <tr>\n",
       "      <th>0</th>\n",
       "      <td>1.0</td>\n",
       "      <td>1252.6</td>\n",
       "      <td>2008-07-28 03:30:05</td>\n",
       "      <td>A_L reached</td>\n",
       "    </tr>\n",
       "    <tr>\n",
       "      <th>1</th>\n",
       "      <td>0.0</td>\n",
       "      <td>1251.6</td>\n",
       "      <td>2008-07-28 04:34:59</td>\n",
       "      <td>Stop Loss reached L</td>\n",
       "    </tr>\n",
       "    <tr>\n",
       "      <th>2</th>\n",
       "      <td>-1.0</td>\n",
       "      <td>1252.1</td>\n",
       "      <td>2008-07-28 06:21:30</td>\n",
       "      <td>A_S reached</td>\n",
       "    </tr>\n",
       "    <tr>\n",
       "      <th>3</th>\n",
       "      <td>0.0</td>\n",
       "      <td>1253.4</td>\n",
       "      <td>2008-07-28 06:21:40</td>\n",
       "      <td>Stop Loss reached S</td>\n",
       "    </tr>\n",
       "    <tr>\n",
       "      <th>4</th>\n",
       "      <td>1.0</td>\n",
       "      <td>1253.9</td>\n",
       "      <td>2008-07-28 06:36:13</td>\n",
       "      <td>A_L reached</td>\n",
       "    </tr>\n",
       "    <tr>\n",
       "      <th>...</th>\n",
       "      <td>...</td>\n",
       "      <td>...</td>\n",
       "      <td>...</td>\n",
       "      <td>...</td>\n",
       "    </tr>\n",
       "    <tr>\n",
       "      <th>509</th>\n",
       "      <td>0.0</td>\n",
       "      <td>1158.2</td>\n",
       "      <td>2010-10-06 06:36:12</td>\n",
       "      <td>Stop Loss reached S</td>\n",
       "    </tr>\n",
       "    <tr>\n",
       "      <th>510</th>\n",
       "      <td>-1.0</td>\n",
       "      <td>1157.6</td>\n",
       "      <td>2010-10-06 07:15:00</td>\n",
       "      <td>A_S reached</td>\n",
       "    </tr>\n",
       "    <tr>\n",
       "      <th>511</th>\n",
       "      <td>0.0</td>\n",
       "      <td>1155.6</td>\n",
       "      <td>2010-10-06 07:16:20</td>\n",
       "      <td>Stop Prof reached</td>\n",
       "    </tr>\n",
       "    <tr>\n",
       "      <th>512</th>\n",
       "      <td>-1.0</td>\n",
       "      <td>1156.0</td>\n",
       "      <td>2010-10-06 08:30:25</td>\n",
       "      <td>A_S reached</td>\n",
       "    </tr>\n",
       "    <tr>\n",
       "      <th>513</th>\n",
       "      <td>0.0</td>\n",
       "      <td>1157.0</td>\n",
       "      <td>2010-10-06 08:34:01</td>\n",
       "      <td>Stop Loss reached S</td>\n",
       "    </tr>\n",
       "  </tbody>\n",
       "</table>\n",
       "<p>514 rows × 4 columns</p>\n",
       "</div>"
      ],
      "text/plain": [
       "     Position  TradePrice           TradeTime               Method\n",
       "0         1.0      1252.6 2008-07-28 03:30:05          A_L reached\n",
       "1         0.0      1251.6 2008-07-28 04:34:59  Stop Loss reached L\n",
       "2        -1.0      1252.1 2008-07-28 06:21:30          A_S reached\n",
       "3         0.0      1253.4 2008-07-28 06:21:40  Stop Loss reached S\n",
       "4         1.0      1253.9 2008-07-28 06:36:13          A_L reached\n",
       "..        ...         ...                 ...                  ...\n",
       "509       0.0      1158.2 2010-10-06 06:36:12  Stop Loss reached S\n",
       "510      -1.0      1157.6 2010-10-06 07:15:00          A_S reached\n",
       "511       0.0      1155.6 2010-10-06 07:16:20    Stop Prof reached\n",
       "512      -1.0      1156.0 2010-10-06 08:30:25          A_S reached\n",
       "513       0.0      1157.0 2010-10-06 08:34:01  Stop Loss reached S\n",
       "\n",
       "[514 rows x 4 columns]"
      ]
     },
     "execution_count": 125,
     "metadata": {},
     "output_type": "execute_result"
    }
   ],
   "source": [
    "trader.getTradeData()"
   ]
  },
  {
   "cell_type": "code",
   "execution_count": null,
   "id": "42f9ef9d",
   "metadata": {},
   "outputs": [],
   "source": []
  }
 ],
 "metadata": {
  "kernelspec": {
   "display_name": "Python 3 (ipykernel)",
   "language": "python",
   "name": "python3"
  },
  "language_info": {
   "codemirror_mode": {
    "name": "ipython",
    "version": 3
   },
   "file_extension": ".py",
   "mimetype": "text/x-python",
   "name": "python",
   "nbconvert_exporter": "python",
   "pygments_lexer": "ipython3",
   "version": "3.11.5"
  }
 },
 "nbformat": 4,
 "nbformat_minor": 5
}
