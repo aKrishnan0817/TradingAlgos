{
 "cells": [
  {
   "cell_type": "code",
   "execution_count": 1,
   "id": "be7554cc",
   "metadata": {},
   "outputs": [],
   "source": [
    "from AlgoTools import AlgoTools\n",
    "from Trader import Trader\n",
    "import pandas as pd\n",
    "import time\n",
    "import datetime\n",
    "import pickle\n",
    "import numpy as np"
   ]
  },
  {
   "cell_type": "markdown",
   "id": "c4282afd",
   "metadata": {},
   "source": [
    "# Processing the data\n",
    "- The data has already been grouped into days and converted to date time objects\n",
    "- Objective is to shuffle the days, then create a train-test split as I will be training on indivuals days"
   ]
  },
  {
   "cell_type": "code",
   "execution_count": 2,
   "id": "66aff9a4",
   "metadata": {},
   "outputs": [],
   "source": [
    "with open('SP-groupedByDays.pkl', 'rb') as f:\n",
    "    spDaily = pickle.load(f)"
   ]
  },
  {
   "cell_type": "code",
   "execution_count": 3,
   "id": "56cddc5b",
   "metadata": {},
   "outputs": [],
   "source": [
    "with open('spydf.pickle', 'rb') as f:\n",
    "    tickData = pickle.load(f)"
   ]
  },
  {
   "cell_type": "code",
   "execution_count": 5,
   "id": "1b2eee7e",
   "metadata": {},
   "outputs": [],
   "source": [
    "trainLen = int(len(spDaily)*0.75)"
   ]
  },
  {
   "cell_type": "code",
   "execution_count": 4,
   "id": "819aa2e6",
   "metadata": {},
   "outputs": [],
   "source": [
    "import random\n",
    "random.shuffle(spDaily)"
   ]
  },
  {
   "cell_type": "code",
   "execution_count": 6,
   "id": "f0975006",
   "metadata": {},
   "outputs": [],
   "source": [
    "trainData=spDaily[:trainLen]\n",
    "testData=spDaily[trainLen:]"
   ]
  },
  {
   "cell_type": "code",
   "execution_count": 11,
   "id": "661c8e2c",
   "metadata": {},
   "outputs": [],
   "source": [
    "tempData=spDaily[:10]"
   ]
  },
  {
   "cell_type": "markdown",
   "id": "a31207da",
   "metadata": {},
   "source": [
    "# Creating the Algorithim"
   ]
  },
  {
   "cell_type": "code",
   "execution_count": 12,
   "id": "2cb85d76",
   "metadata": {},
   "outputs": [],
   "source": [
    "algoTools = AlgoTools(tickData)"
   ]
  },
  {
   "cell_type": "code",
   "execution_count": 13,
   "id": "795d3c78",
   "metadata": {},
   "outputs": [],
   "source": [
    "def Algo(data,r, a_L, a_S, E_e, stopProf, stopLoss):\n",
    "    trader = Trader()\n",
    "    #for each day in the data\n",
    "    for d in range(len(data)):\n",
    "        #for each time stamp in the day\n",
    "        index = 1\n",
    "        \n",
    "        for t in range(data[d].index[2] , data[d].index[len(data[d])-1]):\n",
    "            index = index + 1\n",
    "            \n",
    "            #close out because market is closing                \n",
    "            ti = tickData.loc[t,\"Time2\"].hour*100 + tickData.loc[t,\"Time2\"].minute\n",
    "            if (1513<ti<1520 or 2330<ti<2359):\n",
    "                if trader.getLastTradePos() != 0:\n",
    "                    trader.closeOut(data[d].iloc[index,:])\n",
    "                continue\n",
    "            \n",
    "            \n",
    "\n",
    "\n",
    "            \n",
    "            #if the acceleration is greater than or equal to acceleration constant Long\n",
    "            if (algoTools.getAccel(t) >= a_L or algoTools.getRate(t) >= r) and trader.getLastTradePos() == 0:\n",
    "                trader.goLong(data[d].iloc[index,:], \"A_L reached\")\n",
    "                continue\n",
    "            \n",
    "            #same as previous statment but for shorting\n",
    "            if  ( algoTools.getAccel(t) <= a_S or algoTools.getRate(t) <= -r ) and trader.getLastTradePos() == 0:\n",
    "                trader.goShort(data[d].iloc[index,:],\"A_S reached\")\n",
    "                continue\n",
    "            \n",
    "            \n",
    "            \n",
    "            \n",
    "           \n",
    "            \n",
    "            #-----Closing Conditions------\n",
    "            \n",
    "            \n",
    "            #as per calclus reasoing if the first deravitive is = 0 it has found a local extrema. therfore close out \n",
    "            #E_e is error of extrema\n",
    "            if algoTools.getRate(t) <= E_e and trader.getLastTradePos() != 0:\n",
    "                trader.closeOut(data[d].iloc[index,:], \"E_e reached\")\n",
    "                continue\n",
    "               \n",
    "            \n",
    "            #stop profit (in points)\n",
    "            if (trader.getLastTradePos() == 1 and data[d].loc[t,\"price\"] - trader.getLastTradePrice() >= stopProf ) or (trader.getLastTradePos() == -1 and trader.getLastTradePrice() - data[d].loc[t,\"price\"] >= stopProf):\n",
    "                trader.closeOut(data[d].iloc[index,:],\"Stop Prof Reached\")\n",
    "                continue\n",
    "            \n",
    "            #stop loss (in points)\n",
    "            if (trader.getLastTradePos() == 1 and data[d].loc[t,\"price\"] - trader.getLastTradePrice() <= stopLoss) or (trader.getLastTradePos() == -1 and trader.getLastTradePrice() - data[d].loc[t,\"price\"] <= stopLoss ):\n",
    "                trader.closeOut(data[d].iloc[index,:],\"Stop Loss Reached\")\n",
    "                continue\n",
    "                \n",
    "            \n",
    "            \n",
    "                \n",
    "            \n",
    "    return trader"
   ]
  },
  {
   "cell_type": "code",
   "execution_count": 14,
   "id": "e7e5ba8c",
   "metadata": {},
   "outputs": [],
   "source": [
    "trader = Algo(tempData,1,0.5,-0.5,0.01,2,0.5)"
   ]
  },
  {
   "cell_type": "code",
   "execution_count": 15,
   "id": "809e4c5a",
   "metadata": {},
   "outputs": [
    {
     "data": {
      "text/plain": [
       "{'Total Return': 6220.000000000124, 'Max Return': 100.0, 'Min Return': -50.0}"
      ]
     },
     "execution_count": 15,
     "metadata": {},
     "output_type": "execute_result"
    }
   ],
   "source": [
    "trader.getTradeInfo()"
   ]
  },
  {
   "cell_type": "code",
   "execution_count": 16,
   "id": "692990da",
   "metadata": {},
   "outputs": [
    {
     "data": {
      "text/plain": [
       "0    0.335751\n",
       "dtype: float64"
      ]
     },
     "execution_count": 16,
     "metadata": {},
     "output_type": "execute_result"
    }
   ],
   "source": [
    "trader.getLR()"
   ]
  },
  {
   "cell_type": "code",
   "execution_count": 13,
   "id": "533febe8",
   "metadata": {},
   "outputs": [
    {
     "data": {
      "text/html": [
       "<div>\n",
       "<style scoped>\n",
       "    .dataframe tbody tr th:only-of-type {\n",
       "        vertical-align: middle;\n",
       "    }\n",
       "\n",
       "    .dataframe tbody tr th {\n",
       "        vertical-align: top;\n",
       "    }\n",
       "\n",
       "    .dataframe thead th {\n",
       "        text-align: right;\n",
       "    }\n",
       "</style>\n",
       "<table border=\"1\" class=\"dataframe\">\n",
       "  <thead>\n",
       "    <tr style=\"text-align: right;\">\n",
       "      <th></th>\n",
       "      <th>Position</th>\n",
       "      <th>TradePrice</th>\n",
       "      <th>TradeTime</th>\n",
       "      <th>Method</th>\n",
       "    </tr>\n",
       "  </thead>\n",
       "  <tbody>\n",
       "    <tr>\n",
       "      <th>0</th>\n",
       "      <td>-1.0</td>\n",
       "      <td>1219.8</td>\n",
       "      <td>2005-08-23 15:30:00</td>\n",
       "      <td>A_S reached</td>\n",
       "    </tr>\n",
       "    <tr>\n",
       "      <th>1</th>\n",
       "      <td>0.0</td>\n",
       "      <td>1219.8</td>\n",
       "      <td>2005-08-23 15:30:00</td>\n",
       "      <td>E_e reached</td>\n",
       "    </tr>\n",
       "    <tr>\n",
       "      <th>2</th>\n",
       "      <td>1.0</td>\n",
       "      <td>1221.3</td>\n",
       "      <td>2005-08-23 15:30:00</td>\n",
       "      <td>A_L reached</td>\n",
       "    </tr>\n",
       "    <tr>\n",
       "      <th>3</th>\n",
       "      <td>0.0</td>\n",
       "      <td>1221.3</td>\n",
       "      <td>2005-08-23 15:30:00</td>\n",
       "      <td>E_e reached</td>\n",
       "    </tr>\n",
       "    <tr>\n",
       "      <th>4</th>\n",
       "      <td>-1.0</td>\n",
       "      <td>1220.4</td>\n",
       "      <td>2005-08-23 17:00:00</td>\n",
       "      <td>A_S reached</td>\n",
       "    </tr>\n",
       "    <tr>\n",
       "      <th>...</th>\n",
       "      <td>...</td>\n",
       "      <td>...</td>\n",
       "      <td>...</td>\n",
       "      <td>...</td>\n",
       "    </tr>\n",
       "    <tr>\n",
       "      <th>2059</th>\n",
       "      <td>0.0</td>\n",
       "      <td>1176.6</td>\n",
       "      <td>2010-10-14 07:30:03</td>\n",
       "      <td>E_e reached</td>\n",
       "    </tr>\n",
       "    <tr>\n",
       "      <th>2060</th>\n",
       "      <td>1.0</td>\n",
       "      <td>1175.3</td>\n",
       "      <td>2010-10-14 07:30:11</td>\n",
       "      <td>A_L reached</td>\n",
       "    </tr>\n",
       "    <tr>\n",
       "      <th>2061</th>\n",
       "      <td>0.0</td>\n",
       "      <td>1175.2</td>\n",
       "      <td>2010-10-14 07:30:11</td>\n",
       "      <td>E_e reached</td>\n",
       "    </tr>\n",
       "    <tr>\n",
       "      <th>2062</th>\n",
       "      <td>1.0</td>\n",
       "      <td>1176.2</td>\n",
       "      <td>2010-10-14 07:30:23</td>\n",
       "      <td>A_L reached</td>\n",
       "    </tr>\n",
       "    <tr>\n",
       "      <th>2063</th>\n",
       "      <td>0.0</td>\n",
       "      <td>1176.2</td>\n",
       "      <td>2010-10-14 07:30:23</td>\n",
       "      <td>E_e reached</td>\n",
       "    </tr>\n",
       "  </tbody>\n",
       "</table>\n",
       "<p>2064 rows × 4 columns</p>\n",
       "</div>"
      ],
      "text/plain": [
       "      Position  TradePrice           TradeTime       Method\n",
       "0         -1.0      1219.8 2005-08-23 15:30:00  A_S reached\n",
       "1          0.0      1219.8 2005-08-23 15:30:00  E_e reached\n",
       "2          1.0      1221.3 2005-08-23 15:30:00  A_L reached\n",
       "3          0.0      1221.3 2005-08-23 15:30:00  E_e reached\n",
       "4         -1.0      1220.4 2005-08-23 17:00:00  A_S reached\n",
       "...        ...         ...                 ...          ...\n",
       "2059       0.0      1176.6 2010-10-14 07:30:03  E_e reached\n",
       "2060       1.0      1175.3 2010-10-14 07:30:11  A_L reached\n",
       "2061       0.0      1175.2 2010-10-14 07:30:11  E_e reached\n",
       "2062       1.0      1176.2 2010-10-14 07:30:23  A_L reached\n",
       "2063       0.0      1176.2 2010-10-14 07:30:23  E_e reached\n",
       "\n",
       "[2064 rows x 4 columns]"
      ]
     },
     "execution_count": 13,
     "metadata": {},
     "output_type": "execute_result"
    }
   ],
   "source": [
    "trader.getTradeData()"
   ]
  },
  {
   "cell_type": "code",
   "execution_count": null,
   "id": "55254bff",
   "metadata": {},
   "outputs": [],
   "source": [
    "from scipy.optimize import minimize\n",
    "\n",
    "\n",
    "\n",
    "# Initial guess for the parameters\n",
    "initial_guess = [1,0.5,-0.5,0.01,2,0.5]\n",
    "\n",
    "# Perform the minimization\n",
    "result = minimize(Algo, initial_guess)\n",
    "\n",
    "# Output the result\n",
    "print(\"Optimized parameters:\", result.x)\n",
    "print(\"Function value at optimized parameters:\", result.fun)"
   ]
  },
  {
   "cell_type": "code",
   "execution_count": null,
   "id": "42f9ef9d",
   "metadata": {},
   "outputs": [],
   "source": []
  }
 ],
 "metadata": {
  "kernelspec": {
   "display_name": "Python 3 (ipykernel)",
   "language": "python",
   "name": "python3"
  },
  "language_info": {
   "codemirror_mode": {
    "name": "ipython",
    "version": 3
   },
   "file_extension": ".py",
   "mimetype": "text/x-python",
   "name": "python",
   "nbconvert_exporter": "python",
   "pygments_lexer": "ipython3",
   "version": "3.11.5"
  }
 },
 "nbformat": 4,
 "nbformat_minor": 5
}
