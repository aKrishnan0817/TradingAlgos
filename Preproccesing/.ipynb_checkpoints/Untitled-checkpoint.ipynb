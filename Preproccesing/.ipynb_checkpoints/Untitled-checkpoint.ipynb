{
 "cells": [
  {
   "cell_type": "code",
   "execution_count": null,
   "id": "6f70baa8",
   "metadata": {},
   "outputs": [],
   "source": [
    "import pandas as pd"
   ]
  },
  {
   "cell_type": "code",
   "execution_count": null,
   "id": "af0fe471",
   "metadata": {},
   "outputs": [],
   "source": [
    "!ls ../NDXAlgos"
   ]
  },
  {
   "cell_type": "code",
   "execution_count": 178,
   "id": "e87b78c0",
   "metadata": {},
   "outputs": [
    {
     "name": "stderr",
     "output_type": "stream",
     "text": [
      "IOPub data rate exceeded.\n",
      "The notebook server will temporarily stop sending output\n",
      "to the client in order to avoid crashing it.\n",
      "To change this limit, set the config variable\n",
      "`--NotebookApp.iopub_data_rate_limit`.\n",
      "\n",
      "Current values:\n",
      "NotebookApp.iopub_data_rate_limit=1000000.0 (bytes/sec)\n",
      "NotebookApp.rate_limit_window=3.0 (secs)\n",
      "\n"
     ]
    }
   ],
   "source": [
    "data = pd.read_csv(\"../NDXAlgos/NDXPriceData2020.csv\")\n",
    "for i in range(len(data)):\n",
    "    data[\"Ticker\"][i] = data[\"Ticker\"][i].split(\" \")[0]\n",
    "Tickers = data[\"Ticker\"].drop_duplicates()\n",
    "dates = data[\"Date\"].drop_duplicates()\n",
    "dataFormated = pd.DataFrame({\"Date\":dates})\n",
    "\n",
    "for ticker in Tickers:\n",
    "    dataFormated[ticker]=[None]*254\n",
    "    \n",
    "for date in dates:\n",
    "    day = data[data['Date'] == date].reset_index()\n",
    "    for i in range(len(day)):\n",
    "        tic= day.loc[i,\"Ticker\"]\n",
    "        priceInfo = {\"Open\":day.loc[i,\"Open\"],\"Close\":day.loc[i,\"Close\"],\"High\":day.loc[i,\"High\"],\"Low\":day.loc[i,\"Low\"]}\n",
    "        dataFormated.at[date,tic] = priceInfo"
   ]
  },
  {
   "cell_type": "code",
   "execution_count": 181,
   "id": "f284a209",
   "metadata": {},
   "outputs": [],
   "source": [
    "dataFormated.head()"
   ]
  },
  {
   "cell_type": "code",
   "execution_count": null,
   "id": "6ae22b4a",
   "metadata": {},
   "outputs": [],
   "source": []
  }
 ],
 "metadata": {
  "kernelspec": {
   "display_name": ".env",
   "language": "python",
   "name": ".env"
  },
  "language_info": {
   "codemirror_mode": {
    "name": "ipython",
    "version": 3
   },
   "file_extension": ".py",
   "mimetype": "text/x-python",
   "name": "python",
   "nbconvert_exporter": "python",
   "pygments_lexer": "ipython3",
   "version": "3.12.0"
  }
 },
 "nbformat": 4,
 "nbformat_minor": 5
}
