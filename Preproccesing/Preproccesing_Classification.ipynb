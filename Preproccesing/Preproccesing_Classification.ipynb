{
 "cells": [
  {
   "cell_type": "markdown",
   "id": "12bada7e",
   "metadata": {},
   "source": [
    "# Objectives\n",
    "- Acceleration and Velocity columns\n",
    "- Percent Change over past few columns\n",
    "- Direction(y) 0 or 1 goes up or down\n"
   ]
  },
  {
   "cell_type": "code",
   "execution_count": 1,
   "id": "822590c1",
   "metadata": {},
   "outputs": [
    {
     "name": "stdout",
     "output_type": "stream",
     "text": [
      "\u001b[34mOLD_ALGOS\u001b[m\u001b[m                 Preproccesing_tests.ipynb spy_data_clean.pickle\r\n",
      "Preproccesing.ipynb       \u001b[34m__pycache__\u001b[m\u001b[m\r\n"
     ]
    }
   ],
   "source": [
    "!ls"
   ]
  },
  {
   "cell_type": "code",
   "execution_count": 7,
   "id": "d9702a1a",
   "metadata": {},
   "outputs": [],
   "source": [
    "import pickle\n",
    "import pandas as pd\n",
    "import numpy as np"
   ]
  },
  {
   "cell_type": "code",
   "execution_count": 5,
   "id": "edafcf7b",
   "metadata": {},
   "outputs": [],
   "source": [
    "with open('spy_data_clean.pickle', 'rb') as f:\n",
    "    tickData = pickle.load(f)"
   ]
  },
  {
   "cell_type": "code",
   "execution_count": 6,
   "id": "23d4e955",
   "metadata": {},
   "outputs": [
    {
     "data": {
      "text/html": [
       "<div>\n",
       "<style scoped>\n",
       "    .dataframe tbody tr th:only-of-type {\n",
       "        vertical-align: middle;\n",
       "    }\n",
       "\n",
       "    .dataframe tbody tr th {\n",
       "        vertical-align: top;\n",
       "    }\n",
       "\n",
       "    .dataframe thead th {\n",
       "        text-align: right;\n",
       "    }\n",
       "</style>\n",
       "<table border=\"1\" class=\"dataframe\">\n",
       "  <thead>\n",
       "    <tr style=\"text-align: right;\">\n",
       "      <th></th>\n",
       "      <th>price</th>\n",
       "      <th>DateTime</th>\n",
       "    </tr>\n",
       "  </thead>\n",
       "  <tbody>\n",
       "    <tr>\n",
       "      <th>0</th>\n",
       "      <td>1496.4</td>\n",
       "      <td>2000-01-03 08:30:34</td>\n",
       "    </tr>\n",
       "    <tr>\n",
       "      <th>1</th>\n",
       "      <td>1496.0</td>\n",
       "      <td>2000-01-03 08:30:36</td>\n",
       "    </tr>\n",
       "    <tr>\n",
       "      <th>2</th>\n",
       "      <td>1495.5</td>\n",
       "      <td>2000-01-03 08:30:37</td>\n",
       "    </tr>\n",
       "    <tr>\n",
       "      <th>3</th>\n",
       "      <td>1495.0</td>\n",
       "      <td>2000-01-03 08:30:46</td>\n",
       "    </tr>\n",
       "    <tr>\n",
       "      <th>4</th>\n",
       "      <td>1495.5</td>\n",
       "      <td>2000-01-03 08:30:53</td>\n",
       "    </tr>\n",
       "  </tbody>\n",
       "</table>\n",
       "</div>"
      ],
      "text/plain": [
       "    price            DateTime\n",
       "0  1496.4 2000-01-03 08:30:34\n",
       "1  1496.0 2000-01-03 08:30:36\n",
       "2  1495.5 2000-01-03 08:30:37\n",
       "3  1495.0 2000-01-03 08:30:46\n",
       "4  1495.5 2000-01-03 08:30:53"
      ]
     },
     "execution_count": 6,
     "metadata": {},
     "output_type": "execute_result"
    }
   ],
   "source": [
    "tickData.head()"
   ]
  },
  {
   "cell_type": "markdown",
   "id": "da45d538",
   "metadata": {},
   "source": [
    "### Idea:\n",
    "\n",
    "    Instead of using the actual time difference between the points while calculating the velocity, use 1 or the sqrt of the time difference.\n",
    "\n",
    "### Reasoning:\n",
    "\n",
    "    The prices are being updated each tick, yet the data appears in time stamps. To make the calculus more applicable one aproach could be to treat it as a continous function, with each next point being discrete.\n"
   ]
  },
  {
   "cell_type": "code",
   "execution_count": 13,
   "id": "39372b60",
   "metadata": {},
   "outputs": [
    {
     "data": {
      "text/plain": [
       "1495.5"
      ]
     },
     "execution_count": 13,
     "metadata": {},
     "output_type": "execute_result"
    }
   ],
   "source": [
    "tickData[\"price\"].iloc[4]"
   ]
  },
  {
   "cell_type": "code",
   "execution_count": 111,
   "id": "8fa0f2d1",
   "metadata": {},
   "outputs": [],
   "source": [
    "tickData = tickData.drop_duplicates(subset='DateTime')\n"
   ]
  },
  {
   "cell_type": "code",
   "execution_count": 114,
   "id": "f8d64faf",
   "metadata": {},
   "outputs": [],
   "source": [
    "def get_prctChange(index, window_size=3):\n",
    "    \"\"\"\n",
    "    Args:\n",
    "        index: which row of data to find the percent change for\n",
    "        window_size: how many previous rows to include \n",
    "        \n",
    "    Output:\n",
    "         A list of the perecentage changes on the past window_size rows\n",
    "         index/ index-1 would be the first element of the list\n",
    "    \n",
    "    \"\"\"\n",
    "    \n",
    "    window = tickData['price'].iloc[index-window_size:index]\n",
    "    window = np.array(window)\n",
    "    changeList = []\n",
    "    for i in range(1,window_size):\n",
    "        changeList.append(window[i]/window[i-1])\n",
    "        \n",
    "    changeList.reverse()\n",
    "    \n",
    "    return changeList"
   ]
  },
  {
   "cell_type": "code",
   "execution_count": 112,
   "id": "1c875ef5",
   "metadata": {},
   "outputs": [],
   "source": [
    "def get_velocity(index, method=\"SQRT\"):\n",
    "    \n",
    "    p1 = tickData[\"price\"].iloc[index]\n",
    "    p0 = tickData[\"price\"].iloc[index-1]\n",
    "    \n",
    "    timeDiff = 1\n",
    "    if method == \"SQRT\":\n",
    "        timeDiff = (tickData[\"DateTime\"].iloc[index] - tickData[\"DateTime\"].iloc[index-1])\n",
    "        timeDiff = np.sqrt(timeDiff.total_seconds())\n",
    "        \n",
    "    velocity = (p1-p0)/timeDiff\n",
    "    \n",
    "    return velocity\n",
    "        \n",
    "    "
   ]
  },
  {
   "cell_type": "code",
   "execution_count": 113,
   "id": "85156cad",
   "metadata": {},
   "outputs": [],
   "source": [
    "def get_acceleration(index, method=\"SQRT\"):\n",
    "    \n",
    "    v1 = get_velocity(index)\n",
    "    v0 = get_velocity(index-1)\n",
    "    \n",
    "    timeDiff = 1\n",
    "    if method == \"SQRT\":\n",
    "        timeDiff = (tickData[\"DateTime\"].iloc[index] - tickData[\"DateTime\"].iloc[index-1])\n",
    "        timeDiff = np.sqrt(timeDiff.total_seconds())\n",
    "        \n",
    "    acceleration = (v1-v0)/timeDiff\n",
    "    \n",
    "    return acceleration"
   ]
  },
  {
   "cell_type": "code",
   "execution_count": 115,
   "id": "f1fc3c03",
   "metadata": {},
   "outputs": [
    {
     "data": {
      "text/plain": [
       "0    1496.4\n",
       "1    1496.0\n",
       "2    1495.5\n",
       "3    1495.0\n",
       "Name: price, dtype: float64"
      ]
     },
     "execution_count": 115,
     "metadata": {},
     "output_type": "execute_result"
    }
   ],
   "source": [
    "tickData['price'].iloc[index-4:index]\n"
   ]
  },
  {
   "cell_type": "code",
   "execution_count": 132,
   "id": "735c6b3f",
   "metadata": {},
   "outputs": [],
   "source": [
    "def get_momentum(index):\n",
    "    pC = get_prctChange(index)[0]\n",
    "    v = get_velocity(index)\n",
    "    \n",
    "    m = (v*pC)\n",
    "    if m <0:\n",
    "        return ((v*pC)**2)*-1\n",
    "    return (v*pC)**2"
   ]
  },
  {
   "cell_type": "code",
   "execution_count": 133,
   "id": "57403fbd",
   "metadata": {},
   "outputs": [],
   "source": [
    "def get_direction(index):\n",
    "    if tickData['price'].iloc[index+1] > tickData['price'].iloc[index]:\n",
    "        return 1\n",
    "    else:\n",
    "        return 0"
   ]
  },
  {
   "cell_type": "code",
   "execution_count": 139,
   "id": "4c699b8a",
   "metadata": {},
   "outputs": [],
   "source": [
    "vList=[]\n",
    "aList=[]\n",
    "mList=[]\n",
    "pC_0=[]\n",
    "pC_1=[]\n",
    "dList=[]\n",
    "\n",
    "for i in range(3,len(tickData)-4):\n",
    "    vList.append(get_velocity(i))\n",
    "    aList.append(get_acceleration(i))\n",
    "    mList.append(get_momentum(i))\n",
    "    pc = get_prctChange(i)\n",
    "    pC_0.append(pc[0])\n",
    "    pC_1.append(pc[1])\n",
    "    dList.append(get_direction(i))"
   ]
  },
  {
   "cell_type": "code",
   "execution_count": 140,
   "id": "ffb23390",
   "metadata": {},
   "outputs": [],
   "source": [
    "featuredDict = {\"Velocity\":vList,\"Acceleration\":aList,\"Momentum\":mList,\"pC_0\":pC_0,\"pC_1\":pC_1,\"Direction\":dList}"
   ]
  },
  {
   "cell_type": "code",
   "execution_count": 141,
   "id": "ea85a627",
   "metadata": {},
   "outputs": [],
   "source": [
    "featuredData= pd.DataFrame(featuredDict)"
   ]
  },
  {
   "cell_type": "code",
   "execution_count": 142,
   "id": "296e4f39",
   "metadata": {},
   "outputs": [
    {
     "data": {
      "text/html": [
       "<div>\n",
       "<style scoped>\n",
       "    .dataframe tbody tr th:only-of-type {\n",
       "        vertical-align: middle;\n",
       "    }\n",
       "\n",
       "    .dataframe tbody tr th {\n",
       "        vertical-align: top;\n",
       "    }\n",
       "\n",
       "    .dataframe thead th {\n",
       "        text-align: right;\n",
       "    }\n",
       "</style>\n",
       "<table border=\"1\" class=\"dataframe\">\n",
       "  <thead>\n",
       "    <tr style=\"text-align: right;\">\n",
       "      <th></th>\n",
       "      <th>Velocity</th>\n",
       "      <th>Acceleration</th>\n",
       "      <th>Momentum</th>\n",
       "      <th>pC_0</th>\n",
       "      <th>pC_1</th>\n",
       "      <th>Direction</th>\n",
       "    </tr>\n",
       "  </thead>\n",
       "  <tbody>\n",
       "    <tr>\n",
       "      <th>0</th>\n",
       "      <td>-0.166667</td>\n",
       "      <td>0.111111</td>\n",
       "      <td>-0.027759</td>\n",
       "      <td>0.999666</td>\n",
       "      <td>0.999733</td>\n",
       "      <td>1</td>\n",
       "    </tr>\n",
       "    <tr>\n",
       "      <th>1</th>\n",
       "      <td>0.188982</td>\n",
       "      <td>0.134423</td>\n",
       "      <td>0.035690</td>\n",
       "      <td>0.999666</td>\n",
       "      <td>0.999666</td>\n",
       "      <td>0</td>\n",
       "    </tr>\n",
       "    <tr>\n",
       "      <th>2</th>\n",
       "      <td>-0.500000</td>\n",
       "      <td>-0.688982</td>\n",
       "      <td>-0.250167</td>\n",
       "      <td>1.000334</td>\n",
       "      <td>0.999666</td>\n",
       "      <td>0</td>\n",
       "    </tr>\n",
       "    <tr>\n",
       "      <th>3</th>\n",
       "      <td>-0.223607</td>\n",
       "      <td>0.123607</td>\n",
       "      <td>-0.049967</td>\n",
       "      <td>0.999666</td>\n",
       "      <td>1.000334</td>\n",
       "      <td>1</td>\n",
       "    </tr>\n",
       "    <tr>\n",
       "      <th>4</th>\n",
       "      <td>0.223607</td>\n",
       "      <td>0.200000</td>\n",
       "      <td>0.049967</td>\n",
       "      <td>0.999666</td>\n",
       "      <td>0.999666</td>\n",
       "      <td>0</td>\n",
       "    </tr>\n",
       "  </tbody>\n",
       "</table>\n",
       "</div>"
      ],
      "text/plain": [
       "   Velocity  Acceleration  Momentum      pC_0      pC_1  Direction\n",
       "0 -0.166667      0.111111 -0.027759  0.999666  0.999733          1\n",
       "1  0.188982      0.134423  0.035690  0.999666  0.999666          0\n",
       "2 -0.500000     -0.688982 -0.250167  1.000334  0.999666          0\n",
       "3 -0.223607      0.123607 -0.049967  0.999666  1.000334          1\n",
       "4  0.223607      0.200000  0.049967  0.999666  0.999666          0"
      ]
     },
     "execution_count": 142,
     "metadata": {},
     "output_type": "execute_result"
    }
   ],
   "source": [
    "featuredData.head()"
   ]
  },
  {
   "cell_type": "code",
   "execution_count": 143,
   "id": "0d268694",
   "metadata": {},
   "outputs": [],
   "source": [
    "featuredData.to_pickle('spy_classification_data.pkl')\n"
   ]
  },
  {
   "cell_type": "code",
   "execution_count": null,
   "id": "1c93daba",
   "metadata": {},
   "outputs": [],
   "source": []
  }
 ],
 "metadata": {
  "kernelspec": {
   "display_name": "Python 3 (ipykernel)",
   "language": "python",
   "name": "python3"
  },
  "language_info": {
   "codemirror_mode": {
    "name": "ipython",
    "version": 3
   },
   "file_extension": ".py",
   "mimetype": "text/x-python",
   "name": "python",
   "nbconvert_exporter": "python",
   "pygments_lexer": "ipython3",
   "version": "3.11.5"
  }
 },
 "nbformat": 4,
 "nbformat_minor": 5
}
