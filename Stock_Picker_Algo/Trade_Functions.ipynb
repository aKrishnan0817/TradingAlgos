{
 "cells": [
  {
   "cell_type": "code",
   "execution_count": 157,
   "id": "e61bbb6f",
   "metadata": {},
   "outputs": [],
   "source": [
    "import pandas as pd\n",
    "import pandas_market_calendars as mcal\n",
    "import datetime\n",
    "import yfinance as yf\n",
    "import pickle"
   ]
  },
  {
   "cell_type": "code",
   "execution_count": 158,
   "id": "4499e6d5",
   "metadata": {},
   "outputs": [],
   "source": [
    "with open('joinedData.pkl', 'rb') as file:\n",
    "    data = pickle.load(file)"
   ]
  },
  {
   "cell_type": "code",
   "execution_count": 159,
   "id": "0c6dcc18",
   "metadata": {},
   "outputs": [],
   "source": [
    "def getDate(date):\n",
    "    #date needs to be a string like 2024-01-01\n",
    "    dateList= date.split('-')\n",
    "    return datetime.date(int(dateList[0]),int(dateList[1]),int(dateList[2]) )\n"
   ]
  },
  {
   "cell_type": "code",
   "execution_count": 160,
   "id": "719f02da",
   "metadata": {},
   "outputs": [],
   "source": [
    "def get_calendar():\n",
    "    nyse = mcal.get_calendar('NYSE')\n",
    "    a = nyse.valid_days(start_date='2019-01-01', end_date='2024-11-08')\n",
    "    cal =[]\n",
    "    for x in a:\n",
    "        cal.append(datetime.datetime.strftime(x,'%Y-%m-%d'))\n",
    "    return cal"
   ]
  },
  {
   "cell_type": "code",
   "execution_count": 161,
   "id": "51f12b47",
   "metadata": {},
   "outputs": [],
   "source": [
    "def get_NDXmembers(file=\"Nasdaq100MembersJan2024.csv\"):\n",
    "    df = pd.read_csv(file,header = None)\n",
    "    df.columns = ['members']\n",
    "    NDX_members=[]\n",
    "    for x in df['members']:\n",
    "        ticker = x[:x.find(\" \")]\n",
    "        NDX_members.append(ticker)\n",
    "    return NDX_members\n",
    "    "
   ]
  },
  {
   "cell_type": "code",
   "execution_count": 174,
   "id": "4609bd19",
   "metadata": {},
   "outputs": [],
   "source": [
    "def get_SortedPctChange(InputDate, TimeInput=5,NDXfile=\"Nasdaq100MembersJan2024.csv\",debug=False):\n",
    "    \n",
    "    cal = get_calendar()\n",
    "    NDX_members = get_NDXmembers(NDXfile)\n",
    "    PctChangeList = {\"Ticker\":[],\"PctChange\":[]}\n",
    "    startDate = cal[cal.index(InputDate)-TimeInput]\n",
    "    InputDate = cal[cal.index(InputDate)-1]\n",
    "\n",
    "    for ticker in NDX_members:\n",
    "        try:\n",
    "            #Get the data based on the provided ticker, RunDate, and startDate(being runDate-Timeinput)\n",
    "            #Get the Close Values\n",
    "            endPrice = data.loc[getDate(InputDate),ticker][\"Close\"]\n",
    "            startPrice = data.loc[getDate(startDate),ticker][\"Close\"]\n",
    "            \n",
    "            \n",
    "\n",
    "            #Calculaute the percent change in Close Price from RunDate and RunDate-TimeInput\n",
    "            pctChange = (endPrice-startPrice)/startPrice\n",
    "\n",
    "            PctChangeList['Ticker'].append(ticker)\n",
    "            PctChangeList['PctChange'].append(pctChange)\n",
    "            \n",
    "            if debug:\n",
    "                print(\"---\",ticker,\"----\")\n",
    "\n",
    "                print(f\"Start Date:{startDate} , Start Price:{startPrice} \")\n",
    "                print(f\"End Date:{InputDate} , End Price:{endPrice} \")\n",
    "                print(f\"Percent Change: {pctChange}\")\n",
    "                print(\"\")\n",
    "        except:\n",
    "            print(\"UNABLE TO FIND:---\",ticker,\"----\")\n",
    "        \n",
    "    #Convert to dataframe and sort it \n",
    "    dfChange = (pd.DataFrame(PctChangeList).sort_values('PctChange',ascending=False)).reset_index(drop=True)\n",
    "    \n",
    "    return dfChange"
   ]
  },
  {
   "cell_type": "code",
   "execution_count": null,
   "id": "170a8f40",
   "metadata": {},
   "outputs": [],
   "source": []
  },
  {
   "cell_type": "code",
   "execution_count": 145,
   "id": "97b9dc3e",
   "metadata": {},
   "outputs": [],
   "source": [
    "def getShortReturns(RunDate,ShortStockList,holdTime=0):\n",
    "    ShortReturnList = list()\n",
    "    cal = get_calendar()\n",
    "    \n",
    "    for ticker in ShortStockList:\n",
    "        try:\n",
    "            endDate = cal[cal.index(RunDate)+holdTime]\n",
    "\n",
    "            #Get the data based on the provided ticker, RunDate, and startDate(being runDate-Timeinput)\n",
    "\n",
    "            endPrice = data.loc[getDate(endDate),ticker][\"Close\"]\n",
    "            startPrice = data.loc[getDate(RunDate),ticker][\"Open\"]\n",
    "\n",
    "            \n",
    "            #Calculate and Append Return\n",
    "            Return = -(endPrice-startPrice)/startPrice\n",
    "            ShortReturnList.append(Return)\n",
    "            \n",
    "            if debug:\n",
    "                print(\"---\",ticker,\"----\")\n",
    "\n",
    "                print(f\"Start Date:{RunDate} , Start Price:{startPrice} \")\n",
    "                print(f\"End Date:{endDate} , End Price:{endPrice} \")\n",
    "                print(f\"Return:{Return}\")\n",
    "                print(\"\")\n",
    "            \n",
    "        except:\n",
    "            print(\"UNABLE TO FIND:---\",ticker,\"----\")\n",
    "\n",
    "    return ShortReturnList"
   ]
  },
  {
   "cell_type": "code",
   "execution_count": 220,
   "id": "8421f758",
   "metadata": {},
   "outputs": [],
   "source": [
    "def getLongReturns(RunDate,LongStockList,holdTime=0,debug=False):\n",
    "    LongReturnList = list()\n",
    "    cal = get_calendar()\n",
    "    \n",
    "    for ticker in LongStockList:  \n",
    "        try:\n",
    "            endDate = cal[cal.index(RunDate)+holdTime]\n",
    "            \n",
    "            #Get the data based on the provided ticker, RunDate, and startDate(being runDate-Timeinput)\n",
    "            endPrice = data.loc[getDate(endDate),ticker][\"Close\"]\n",
    "            startPrice = data.loc[getDate(RunDate),ticker][\"Open\"]\n",
    "            \n",
    "            #Calculate and Append Return\n",
    "            Return = (endPrice-startPrice)/startPrice\n",
    "            LongReturnList.append(Return)\n",
    "            \n",
    "            if debug:\n",
    "                print(\"---\",ticker,\"----\")\n",
    "\n",
    "                print(f\"Start Date:{RunDate} , Start Price:{startPrice} \")\n",
    "                print(f\"End Date:{endDate} , End Price:{endPrice} \")\n",
    "                print(f\"Return:{Return}\")\n",
    "                print(\"\")\n",
    "\n",
    "            \n",
    "        except:\n",
    "            print(\"UNABLE TO FIND:---\",ticker,\"----\")\n",
    "        \n",
    "    return LongReturnList"
   ]
  },
  {
   "cell_type": "code",
   "execution_count": 223,
   "id": "0b97718a",
   "metadata": {},
   "outputs": [],
   "source": [
    "#PctChange = get_SortedPctChange('2024-10-09',4,debug=True)\n"
   ]
  },
  {
   "cell_type": "code",
   "execution_count": 224,
   "id": "99fc968a",
   "metadata": {},
   "outputs": [],
   "source": [
    "#PctChange"
   ]
  },
  {
   "cell_type": "code",
   "execution_count": 225,
   "id": "c2831d3d",
   "metadata": {},
   "outputs": [],
   "source": [
    "#LongStockList = PctChange[\"Ticker\"].iloc[:2]\n",
    "#LongReturns = getLongReturns('2024-10-09',LongStockList,debug=True)\n"
   ]
  },
  {
   "cell_type": "code",
   "execution_count": 226,
   "id": "1d185569",
   "metadata": {},
   "outputs": [],
   "source": [
    "#LongReturns"
   ]
  },
  {
   "cell_type": "code",
   "execution_count": null,
   "id": "ba15e2b9",
   "metadata": {},
   "outputs": [],
   "source": []
  }
 ],
 "metadata": {
  "kernelspec": {
   "display_name": ".env",
   "language": "python",
   "name": ".env"
  },
  "language_info": {
   "codemirror_mode": {
    "name": "ipython",
    "version": 3
   },
   "file_extension": ".py",
   "mimetype": "text/x-python",
   "name": "python",
   "nbconvert_exporter": "python",
   "pygments_lexer": "ipython3",
   "version": "3.12.0"
  }
 },
 "nbformat": 4,
 "nbformat_minor": 5
}
