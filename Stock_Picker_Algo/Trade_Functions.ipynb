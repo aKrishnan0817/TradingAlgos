{
 "cells": [
  {
   "cell_type": "code",
   "execution_count": 149,
   "id": "e61bbb6f",
   "metadata": {},
   "outputs": [],
   "source": [
    "import pandas as pd\n",
    "import pandas_market_calendars as mcal\n",
    "import datetime\n",
    "import yfinance as yf\n",
    "import pickle"
   ]
  },
  {
   "cell_type": "code",
   "execution_count": 150,
   "id": "0356c033",
   "metadata": {},
   "outputs": [],
   "source": [
    "with open('joinedData.pkl', 'rb') as file:\n",
    "    data = pickle.load(file)"
   ]
  },
  {
   "cell_type": "code",
   "execution_count": 151,
   "id": "2a88de59",
   "metadata": {},
   "outputs": [],
   "source": [
    "def getDate(date):\n",
    "    #date needs to be a string like 2024-01-01\n",
    "    dateList= date.split('-')\n",
    "    return datetime.date(int(dateList[0]),int(dateList[1]),int(dateList[2]) )\n"
   ]
  },
  {
   "cell_type": "code",
   "execution_count": 152,
   "id": "719f02da",
   "metadata": {},
   "outputs": [],
   "source": [
    "def get_calendar():\n",
    "    nyse = mcal.get_calendar('NYSE')\n",
    "    a = nyse.valid_days(start_date='2019-01-01', end_date='2024-11-08')\n",
    "    cal =[]\n",
    "    for x in a:\n",
    "        cal.append(datetime.datetime.strftime(x,'%Y-%m-%d'))\n",
    "    return cal"
   ]
  },
  {
   "cell_type": "code",
   "execution_count": 153,
   "id": "51f12b47",
   "metadata": {},
   "outputs": [],
   "source": [
    "def get_NDXmembers(file=\"Nasdaq100MembersJan2024.csv\"):\n",
    "    df = pd.read_csv(file,header = None)\n",
    "    df.columns = ['members']\n",
    "    NDX_members=[]\n",
    "    for x in df['members']:\n",
    "        ticker = x[:x.find(\" \")]\n",
    "        NDX_members.append(ticker)\n",
    "    return NDX_members\n",
    "    "
   ]
  },
  {
   "cell_type": "code",
   "execution_count": 154,
   "id": "4609bd19",
   "metadata": {},
   "outputs": [],
   "source": [
    "def get_SortedPctChange(InputDate, TimeInput=5,NDXfile=\"Nasdaq100MembersJan2024.csv\"):\n",
    "    \n",
    "    cal = get_calendar()\n",
    "    NDX_members = get_NDXmembers(NDXfile)\n",
    "    PctChangeList = {\"Ticker\":[],\"PctChange\":[]}\n",
    "    startDate = cal[cal.index(InputDate)-TimeInput]\n",
    "    \n",
    "    for ticker in NDX_members:\n",
    "        try:\n",
    "            #Get the data based on the provided ticker, RunDate, and startDate(being runDate-Timeinput)\n",
    "            #Get the Close Values\n",
    "            endPrice = data.loc[getDate(InputDate),ticker][\"Close\"]\n",
    "            startPrice = data.loc[getDate(startDate),ticker][\"Close\"]\n",
    "\n",
    "            #Calculaute the percent change in Close Price from RunDate and RunDate-TimeInput\n",
    "            pctChange = (endPrice-startPrice)/startPrice\n",
    "\n",
    "            PctChangeList['Ticker'].append(ticker)\n",
    "            PctChangeList['PctChange'].append(pctChange)\n",
    "        except:\n",
    "            print(\"UNABLE TO FIND:---\",ticker,\"----\")\n",
    "        \n",
    "    #Convert to dataframe and sort it \n",
    "    dfChange = (pd.DataFrame(PctChangeList).sort_values('PctChange',ascending=False)).reset_index(drop=True)\n",
    "    \n",
    "    return dfChange"
   ]
  },
  {
   "cell_type": "code",
   "execution_count": 155,
   "id": "74e6e009",
   "metadata": {},
   "outputs": [],
   "source": [
    "#get_SortedPctChange('2024-05-03')"
   ]
  },
  {
   "cell_type": "code",
   "execution_count": 156,
   "id": "8421f758",
   "metadata": {},
   "outputs": [],
   "source": [
    "def getLongReturns(RunDate,LongStockList,holdTime=1):\n",
    "    LongReturnList = list()\n",
    "    cal = get_calendar()\n",
    "    \n",
    "    for ticker in LongStockList:  \n",
    "        try:\n",
    "            endDate = cal[cal.index(RunDate)+holdTime]\n",
    "\n",
    "            #Get the data based on the provided ticker, RunDate, and startDate(being runDate-Timeinput)\n",
    "            endPrice = data.loc[getDate(endDate),ticker][\"Close\"]\n",
    "            startPrice = data.loc[getDate(RunDate),ticker][\"Close\"]\n",
    "            print(endPrice,startPrice)\n",
    "\n",
    "            #Calculate and Append Return\n",
    "            Return = -(endPrice-startPrice)/startPrice\n",
    "            LongReturnList.append(Return)\n",
    "        except:\n",
    "            print(\"UNABLE TO FIND:---\",ticker,\"----\")\n",
    "        \n",
    "    return LongReturnList"
   ]
  },
  {
   "cell_type": "code",
   "execution_count": 145,
   "id": "97b9dc3e",
   "metadata": {},
   "outputs": [],
   "source": [
    "def getShortReturns(RunDate,ShortStockList,holdTime=1):\n",
    "    ShortReturnList = list()\n",
    "    cal = get_calendar()\n",
    "    \n",
    "    for ticker in ShortStockList:\n",
    "        try:\n",
    "            endDate = cal[cal.index(RunDate)+holdTime]\n",
    "\n",
    "            #Get the data based on the provided ticker, RunDate, and startDate(being runDate-Timeinput)\n",
    "\n",
    "            endPrice = data.loc[getDate(endDate),ticker][\"Close\"]\n",
    "            startPrice = data.loc[getDate(RunDate),ticker][\"Close\"]\n",
    "\n",
    "\n",
    "            #Calculate and Append Return\n",
    "            Return = -(endPrice-startPrice)/startPrice\n",
    "            ShortReturnList.append(Return)\n",
    "        except:\n",
    "            print(\"UNABLE TO FIND:---\",ticker,\"----\")\n",
    "\n",
    "    return ShortReturnList"
   ]
  },
  {
   "cell_type": "code",
   "execution_count": null,
   "id": "3071b8ff",
   "metadata": {},
   "outputs": [],
   "source": []
  }
 ],
 "metadata": {
  "kernelspec": {
   "display_name": ".env",
   "language": "python",
   "name": ".env"
  },
  "language_info": {
   "codemirror_mode": {
    "name": "ipython",
    "version": 3
   },
   "file_extension": ".py",
   "mimetype": "text/x-python",
   "name": "python",
   "nbconvert_exporter": "python",
   "pygments_lexer": "ipython3",
   "version": "3.12.0"
  }
 },
 "nbformat": 4,
 "nbformat_minor": 5
}
