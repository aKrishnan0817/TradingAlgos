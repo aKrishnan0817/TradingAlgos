{
 "cells": [
  {
   "cell_type": "code",
   "execution_count": 2,
   "id": "e61bbb6f",
   "metadata": {},
   "outputs": [],
   "source": [
    "import pandas as pd\n",
    "import pandas_market_calendars as mcal\n",
    "import datetime\n",
    "import yfinance as yf\n",
    "import pickle"
   ]
  },
  {
   "cell_type": "code",
   "execution_count": 2,
   "id": "4499e6d5",
   "metadata": {},
   "outputs": [],
   "source": [
    "with open('joinedData.pkl', 'rb') as file:\n",
    "    data = pickle.load(file)"
   ]
  },
  {
   "cell_type": "code",
   "execution_count": 3,
   "id": "0c6dcc18",
   "metadata": {},
   "outputs": [],
   "source": [
    "def getDate(date):\n",
    "    #date needs to be a string like 2024-01-01\n",
    "    dateList= date.split('-')\n",
    "    return datetime.date(int(dateList[0]),int(dateList[1]),int(dateList[2]) )\n"
   ]
  },
  {
   "cell_type": "code",
   "execution_count": 4,
   "id": "719f02da",
   "metadata": {},
   "outputs": [],
   "source": [
    "def get_calendar():\n",
    "    nyse = mcal.get_calendar('NYSE')\n",
    "    a = nyse.valid_days(start_date='2019-01-01', end_date='2024-11-14')\n",
    "    cal =[]\n",
    "    for x in a:\n",
    "        cal.append(datetime.datetime.strftime(x,'%Y-%m-%d'))\n",
    "    return cal"
   ]
  },
  {
   "cell_type": "code",
   "execution_count": 5,
   "id": "37b3ccb4",
   "metadata": {},
   "outputs": [],
   "source": [
    "def getPrice(date, ticker, Open_Close=\"Close\"):\n",
    "    return data.loc[getDate(date),ticker][Open_Close]"
   ]
  },
  {
   "cell_type": "code",
   "execution_count": 6,
   "id": "61b944a0",
   "metadata": {},
   "outputs": [],
   "source": [
    "cal=get_calendar()"
   ]
  },
  {
   "cell_type": "code",
   "execution_count": 7,
   "id": "a3248a46",
   "metadata": {},
   "outputs": [],
   "source": [
    "def getDateOffset(Date,offset=0,cal=cal):\n",
    "    try:\n",
    "        return cal[cal.index(Date)+offset]\n",
    "    except:\n",
    "        cal=get_calendar()\n",
    "        return cal[cal.index(Date)+offset]"
   ]
  },
  {
   "cell_type": "code",
   "execution_count": null,
   "id": "a616aef8",
   "metadata": {},
   "outputs": [],
   "source": []
  },
  {
   "cell_type": "code",
   "execution_count": 8,
   "id": "51f12b47",
   "metadata": {},
   "outputs": [],
   "source": [
    "def get_NDXmembers(file=\"Nasdaq100MembersJan2024.csv\"):\n",
    "    df = pd.read_csv(file,header = None)\n",
    "    df.columns = ['members']\n",
    "    NDX_members=[]\n",
    "    for x in df['members']:\n",
    "        ticker = x[:x.find(\" \")]\n",
    "        NDX_members.append(ticker)\n",
    "    return NDX_members\n",
    "    "
   ]
  },
  {
   "cell_type": "code",
   "execution_count": 9,
   "id": "71441711",
   "metadata": {},
   "outputs": [],
   "source": [
    "def getPctChange(ticker,startDate,endDate,startTime=\"Close\",endTime=\"Close\"):\n",
    "    \n",
    "    startPrice = data.loc[getDate(startDate),ticker][startTime]\n",
    "    endPrice = data.loc[getDate(endDate),ticker][endTime]\n",
    "    \n",
    "    pctChange = (endPrice-startPrice)/startPrice\n",
    "    \n",
    "    return pctChange"
   ]
  },
  {
   "cell_type": "code",
   "execution_count": 13,
   "id": "55e81e36",
   "metadata": {},
   "outputs": [],
   "source": [
    "def getMomentum(date,ticker,debug=False):\n",
    "    #a=getPctChange(ticker,getDateOffset(date,-5),getDateOffset(date,-4))\n",
    "    #b=getPctChange(ticker,getDateOffset(date,-4),getDateOffset(date,-3))\n",
    "    c=getPctChange(ticker,getDateOffset(date,-3),getDateOffset(date,-2))\n",
    "    d=getPctChange(ticker,getDateOffset(date,-2),getDateOffset(date,-1))\n",
    "\n",
    "\n",
    "   # delta_1 = (b-a)/(c-b)\n",
    "    #delta_2 = (c-b)/(d-c)\n",
    "    #momentum = delta_1/delta_2\n",
    "    if debug:\n",
    "        print(f\"A:{a}\\nB:{b}\\nC:{c}\\nD:{d}\\n\")\n",
    "        print(f\"Delta_1:{delta_1}\\nDelta_2:{delta_2}\\nMomentum:{momentum}\")\n",
    "    #return momentum\n",
    "    \n",
    "    return d/c"
   ]
  },
  {
   "cell_type": "code",
   "execution_count": 27,
   "id": "4609bd19",
   "metadata": {},
   "outputs": [],
   "source": [
    "def get_SortedPctChange(InputDate, TimeInput=5,NDXfile=\"Nasdaq100MembersJan2024.csv\",debug=False):\n",
    "    \n",
    "    NDX_members = get_NDXmembers(NDXfile)\n",
    "    PctChangeList = {\"Ticker\":[],\"PctChange\":[],\"Momentum\":[]}\n",
    "    startDate = getDateOffset(InputDate,-TimeInput)\n",
    "    endDate = getDateOffset(InputDate,-1)\n",
    "\n",
    "    for ticker in NDX_members:\n",
    "        try:\n",
    "            #Get the data based on the provided ticker, RunDate, and startDate(being runDate-Timeinput)\n",
    "            #Get the Close Values\n",
    "            \n",
    "            pctChange = getPctChange(ticker,startDate,endDate)\n",
    "\n",
    "            PctChangeList['Ticker'].append(ticker)\n",
    "            PctChangeList['PctChange'].append(pctChange)\n",
    "            PctChangeList[\"Momentum\"].append(getMomentum(InputDate,ticker))\n",
    "            \n",
    "            if debug:\n",
    "                print(\"---\",ticker,\"----\")\n",
    "                print(f\"Start Date:{startDate} , Start Price:{startPrice} \")\n",
    "                print(f\"End Date:{InputDate} , End Price:{endPrice} \")\n",
    "                print(f\"Percent Change: {pctChange}\")\n",
    "                print(\"\")\n",
    "        except:\n",
    "            print(\"UNABLE TO FIND:---\",ticker,\"----\")\n",
    "        \n",
    "    #Convert to dataframe and sort it \n",
    "    dfChange = (pd.DataFrame(PctChangeList).sort_values('Momentum',ascending=False)).reset_index(drop=True)\n",
    "    \n",
    "    return dfChange"
   ]
  },
  {
   "cell_type": "code",
   "execution_count": 28,
   "id": "170a8f40",
   "metadata": {},
   "outputs": [
    {
     "data": {
      "text/html": [
       "<div>\n",
       "<style scoped>\n",
       "    .dataframe tbody tr th:only-of-type {\n",
       "        vertical-align: middle;\n",
       "    }\n",
       "\n",
       "    .dataframe tbody tr th {\n",
       "        vertical-align: top;\n",
       "    }\n",
       "\n",
       "    .dataframe thead th {\n",
       "        text-align: right;\n",
       "    }\n",
       "</style>\n",
       "<table border=\"1\" class=\"dataframe\">\n",
       "  <thead>\n",
       "    <tr style=\"text-align: right;\">\n",
       "      <th></th>\n",
       "      <th>Ticker</th>\n",
       "      <th>PctChange</th>\n",
       "      <th>Momentum</th>\n",
       "    </tr>\n",
       "  </thead>\n",
       "  <tbody>\n",
       "    <tr>\n",
       "      <th>0</th>\n",
       "      <td>AEP</td>\n",
       "      <td>0.005703</td>\n",
       "      <td>134.957154</td>\n",
       "    </tr>\n",
       "    <tr>\n",
       "      <th>1</th>\n",
       "      <td>DASH</td>\n",
       "      <td>0.018326</td>\n",
       "      <td>28.988829</td>\n",
       "    </tr>\n",
       "    <tr>\n",
       "      <th>2</th>\n",
       "      <td>REGN</td>\n",
       "      <td>-0.101627</td>\n",
       "      <td>18.723658</td>\n",
       "    </tr>\n",
       "    <tr>\n",
       "      <th>3</th>\n",
       "      <td>META</td>\n",
       "      <td>-0.009891</td>\n",
       "      <td>16.405312</td>\n",
       "    </tr>\n",
       "    <tr>\n",
       "      <th>4</th>\n",
       "      <td>LIN</td>\n",
       "      <td>-0.037171</td>\n",
       "      <td>13.726809</td>\n",
       "    </tr>\n",
       "    <tr>\n",
       "      <th>...</th>\n",
       "      <td>...</td>\n",
       "      <td>...</td>\n",
       "      <td>...</td>\n",
       "    </tr>\n",
       "    <tr>\n",
       "      <th>96</th>\n",
       "      <td>MAR</td>\n",
       "      <td>-0.008012</td>\n",
       "      <td>-11.443622</td>\n",
       "    </tr>\n",
       "    <tr>\n",
       "      <th>97</th>\n",
       "      <td>XEL</td>\n",
       "      <td>0.036457</td>\n",
       "      <td>-13.025106</td>\n",
       "    </tr>\n",
       "    <tr>\n",
       "      <th>98</th>\n",
       "      <td>IDXX</td>\n",
       "      <td>-0.098558</td>\n",
       "      <td>-13.489786</td>\n",
       "    </tr>\n",
       "    <tr>\n",
       "      <th>99</th>\n",
       "      <td>MSFT</td>\n",
       "      <td>-0.050917</td>\n",
       "      <td>-45.078436</td>\n",
       "    </tr>\n",
       "    <tr>\n",
       "      <th>100</th>\n",
       "      <td>ANSS</td>\n",
       "      <td>-0.007435</td>\n",
       "      <td>-50.974021</td>\n",
       "    </tr>\n",
       "  </tbody>\n",
       "</table>\n",
       "<p>101 rows × 3 columns</p>\n",
       "</div>"
      ],
      "text/plain": [
       "    Ticker  PctChange    Momentum\n",
       "0      AEP   0.005703  134.957154\n",
       "1     DASH   0.018326   28.988829\n",
       "2     REGN  -0.101627   18.723658\n",
       "3     META  -0.009891   16.405312\n",
       "4      LIN  -0.037171   13.726809\n",
       "..     ...        ...         ...\n",
       "96     MAR  -0.008012  -11.443622\n",
       "97     XEL   0.036457  -13.025106\n",
       "98    IDXX  -0.098558  -13.489786\n",
       "99    MSFT  -0.050917  -45.078436\n",
       "100   ANSS  -0.007435  -50.974021\n",
       "\n",
       "[101 rows x 3 columns]"
      ]
     },
     "execution_count": 28,
     "metadata": {},
     "output_type": "execute_result"
    }
   ],
   "source": [
    "PctChange= get_SortedPctChange('2024-11-01')\n",
    "PctChange"
   ]
  },
  {
   "cell_type": "code",
   "execution_count": 30,
   "id": "de48fab5",
   "metadata": {},
   "outputs": [
    {
     "name": "stdout",
     "output_type": "stream",
     "text": [
      "--- AEP ----\n",
      "Start Date:2024-11-01 , Start Price:98.52999877929688 \n",
      "End Date:2024-11-04 , End Price:98.4000015258789 \n",
      "Return:-0.0013193672488432404\n",
      "\n",
      "--- DASH ----\n",
      "Start Date:2024-11-01 , Start Price:155.91000366210938 \n",
      "End Date:2024-11-04 , End Price:157.24000549316406 \n",
      "Return:0.008530574047942994\n",
      "\n",
      "--- REGN ----\n",
      "Start Date:2024-11-01 , Start Price:844.6099853515625 \n",
      "End Date:2024-11-04 , End Price:828.8400268554688 \n",
      "Return:-0.018671290618864307\n",
      "\n",
      "--- META ----\n",
      "Start Date:2024-11-01 , Start Price:567.6099853515625 \n",
      "End Date:2024-11-04 , End Price:560.6799926757812 \n",
      "Return:-0.012209074636854736\n",
      "\n",
      "--- LIN ----\n",
      "Start Date:2024-11-01 , Start Price:456.510009765625 \n",
      "End Date:2024-11-04 , End Price:458.32000732421875 \n",
      "Return:0.003964858425608266\n",
      "\n",
      "--- WDAY ----\n",
      "Start Date:2024-11-01 , Start Price:233.1699981689453 \n",
      "End Date:2024-11-04 , End Price:241.13999938964844 \n",
      "Return:0.03418107510953614\n",
      "\n",
      "--- CSCO ----\n",
      "Start Date:2024-11-01 , Start Price:54.7400016784668 \n",
      "End Date:2024-11-04 , End Price:55.83000183105469 \n",
      "Return:0.019912314928128082\n",
      "\n",
      "--- CMCSA ----\n",
      "Start Date:2024-11-01 , Start Price:44.349998474121094 \n",
      "End Date:2024-11-04 , End Price:42.529998779296875 \n",
      "Return:-0.041037198589447904\n",
      "\n",
      "--- LULU ----\n",
      "Start Date:2024-11-01 , Start Price:299.8500061035156 \n",
      "End Date:2024-11-04 , End Price:318.1300048828125 \n",
      "Return:0.060963809928975515\n",
      "\n",
      "--- ROP ----\n",
      "Start Date:2024-11-01 , Start Price:536.5999755859375 \n",
      "End Date:2024-11-04 , End Price:542.0800170898438 \n",
      "Return:0.010212526562123578\n",
      "\n"
     ]
    }
   ],
   "source": [
    "LongStockList = PctChange[\"Ticker\"].iloc[:10]\n",
    "LongReturns = getLongReturns('2024-11-01',LongStockList,holdTime=1,debug=True)"
   ]
  },
  {
   "cell_type": "code",
   "execution_count": 19,
   "id": "afed31ba",
   "metadata": {},
   "outputs": [
    {
     "data": {
      "text/plain": [
       "-0.11539729764353195"
      ]
     },
     "execution_count": 19,
     "metadata": {},
     "output_type": "execute_result"
    }
   ],
   "source": [
    "getMomentum('2024-11-01',\"WBD\")"
   ]
  },
  {
   "cell_type": "code",
   "execution_count": 21,
   "id": "97b9dc3e",
   "metadata": {},
   "outputs": [],
   "source": [
    "def getShortReturns(RunDate,ShortStockList,holdTime=0):\n",
    "    ShortReturnList = list()\n",
    "    cal = get_calendar()\n",
    "    \n",
    "    for ticker in ShortStockList:\n",
    "        try:\n",
    "            endDate = cal[cal.index(RunDate)+holdTime]\n",
    "\n",
    "            #Get the data based on the provided ticker, RunDate, and startDate(being runDate-Timeinput)\n",
    "\n",
    "            endPrice = data.loc[getDate(endDate),ticker][\"Close\"]\n",
    "            startPrice = data.loc[getDate(RunDate),ticker][\"Open\"]\n",
    "\n",
    "            \n",
    "            #Calculate and Append Return\n",
    "            Return = -(endPrice-startPrice)/startPrice\n",
    "            ShortReturnList.append(Return)\n",
    "            \n",
    "            if debug:\n",
    "                print(\"---\",ticker,\"----\")\n",
    "\n",
    "                print(f\"Start Date:{RunDate} , Start Price:{startPrice} \")\n",
    "                print(f\"End Date:{endDate} , End Price:{endPrice} \")\n",
    "                print(f\"Return:{Return}\")\n",
    "                print(\"\")\n",
    "            \n",
    "        except:\n",
    "            print(\"UNABLE TO FIND:---\",ticker,\"----\")\n",
    "\n",
    "    return ShortReturnList"
   ]
  },
  {
   "cell_type": "code",
   "execution_count": 20,
   "id": "8421f758",
   "metadata": {},
   "outputs": [],
   "source": [
    "def getLongReturns(RunDate,LongStockList,holdTime=0,debug=False):\n",
    "    LongReturnList = list()\n",
    "    cal = get_calendar()\n",
    "    \n",
    "    for ticker in LongStockList:  \n",
    "        try:\n",
    "            endDate = cal[cal.index(RunDate)+holdTime]\n",
    "            \n",
    "            #Get the data based on the provided ticker, RunDate, and startDate(being runDate-Timeinput)\n",
    "            endPrice = data.loc[getDate(endDate),ticker][\"Close\"]\n",
    "            startPrice = data.loc[getDate(RunDate),ticker][\"Open\"]\n",
    "            \n",
    "            #Calculate and Append Return\n",
    "            Return = (endPrice-startPrice)/startPrice\n",
    "            LongReturnList.append(Return)\n",
    "            \n",
    "            if debug:\n",
    "                print(\"---\",ticker,\"----\")\n",
    "\n",
    "                print(f\"Start Date:{RunDate} , Start Price:{startPrice} \")\n",
    "                print(f\"End Date:{endDate} , End Price:{endPrice} \")\n",
    "                print(f\"Return:{Return}\")\n",
    "                print(\"\")\n",
    "\n",
    "            \n",
    "        except:\n",
    "            print(\"UNABLE TO FIND:---\",ticker,\"----\")\n",
    "        \n",
    "    return LongReturnList"
   ]
  },
  {
   "cell_type": "code",
   "execution_count": 223,
   "id": "0b97718a",
   "metadata": {},
   "outputs": [],
   "source": [
    "#PctChange = get_SortedPctChange('2024-10-09',4,debug=True)\n"
   ]
  },
  {
   "cell_type": "code",
   "execution_count": 224,
   "id": "99fc968a",
   "metadata": {},
   "outputs": [],
   "source": [
    "#PctChange"
   ]
  },
  {
   "cell_type": "code",
   "execution_count": 225,
   "id": "c2831d3d",
   "metadata": {},
   "outputs": [],
   "source": [
    "#LongStockList = PctChange[\"Ticker\"].iloc[:2]\n",
    "#LongReturns = getLongReturns('2024-10-09',LongStockList,debug=True)\n"
   ]
  },
  {
   "cell_type": "code",
   "execution_count": 226,
   "id": "1d185569",
   "metadata": {},
   "outputs": [],
   "source": [
    "#LongReturns"
   ]
  },
  {
   "cell_type": "code",
   "execution_count": null,
   "id": "ba15e2b9",
   "metadata": {},
   "outputs": [],
   "source": []
  }
 ],
 "metadata": {
  "kernelspec": {
   "display_name": ".env",
   "language": "python",
   "name": ".env"
  },
  "language_info": {
   "codemirror_mode": {
    "name": "ipython",
    "version": 3
   },
   "file_extension": ".py",
   "mimetype": "text/x-python",
   "name": "python",
   "nbconvert_exporter": "python",
   "pygments_lexer": "ipython3",
   "version": "3.12.0"
  }
 },
 "nbformat": 4,
 "nbformat_minor": 5
}
