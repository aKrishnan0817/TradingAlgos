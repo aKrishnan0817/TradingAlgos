{
 "cells": [
  {
   "cell_type": "code",
   "execution_count": 55,
   "id": "e61bbb6f",
   "metadata": {},
   "outputs": [],
   "source": [
    "import pandas as pd\n",
    "import pandas_market_calendars as mcal\n",
    "import datetime\n",
    "import yfinance as yf"
   ]
  },
  {
   "cell_type": "code",
   "execution_count": 56,
   "id": "719f02da",
   "metadata": {},
   "outputs": [],
   "source": [
    "def get_calendar():\n",
    "    nyse = mcal.get_calendar('NYSE')\n",
    "    a = nyse.valid_days(start_date='2024-01-01', end_date='2024-11-08')\n",
    "    cal =[]\n",
    "    for x in a:\n",
    "        cal.append(datetime.datetime.strftime(x,'%Y-%m-%d'))\n",
    "    return cal"
   ]
  },
  {
   "cell_type": "code",
   "execution_count": 57,
   "id": "51f12b47",
   "metadata": {},
   "outputs": [],
   "source": [
    "def get_NDXmembers(file=\"Nasdaq100MembersJan2024.csv\"):\n",
    "    df = pd.read_csv(file,header = None)\n",
    "    df.columns = ['members']\n",
    "    NDX_members=[]\n",
    "    for x in df['members']:\n",
    "        ticker = x[:x.find(\" \")]\n",
    "        NDX_members.append(ticker)\n",
    "    return NDX_members\n",
    "    "
   ]
  },
  {
   "cell_type": "code",
   "execution_count": 58,
   "id": "4609bd19",
   "metadata": {},
   "outputs": [],
   "source": [
    "def get_SortedPctChange(InputDate, TimeInput=5,NDXfile=\"Nasdaq100MembersJan2024.csv\"):\n",
    "    \n",
    "    cal = get_calendar()\n",
    "    NDX_members = get_NDXmembers(NDXfile)\n",
    "    PctChangeList = {\"Ticker\":[],\"PctChange\":[]}\n",
    "    startDate = cal[cal.index(InputDate)-TimeInput]\n",
    "    \n",
    "    for ticker in NDX_members:\n",
    "        \n",
    "        #Get the data based on the provided ticker, RunDate, and startDate(being runDate-Timeinput)\n",
    "        data = (yf.download(ticker, start=startDate, end=InputDate,multi_level_index=False)).reset_index()\n",
    "        \n",
    "        #Get the Close Values\n",
    "        CloseVals=data[\"Close\"].values\n",
    "        \n",
    "        #Calculaute the percent change in Close Price from RunDate and RunDate-TimeInput\n",
    "        pctChange = (CloseVals[-1]-CloseVals[0])/CloseVals[0]\n",
    "        \n",
    "        PctChangeList['Ticker'].append(ticker)\n",
    "        PctChangeList['PctChange'].append(pctChange)\n",
    "        \n",
    "    #Convert to dataframe and sort it \n",
    "    dfChange = (pd.DataFrame(PctChangeList).sort_values('PctChange',ascending=False)).reset_index(drop=True)\n",
    "    \n",
    "    return dfChange"
   ]
  },
  {
   "cell_type": "code",
   "execution_count": 60,
   "id": "8421f758",
   "metadata": {},
   "outputs": [],
   "source": [
    "def getLongReturns(RunDate,LongStockList,holdTime=1):\n",
    "    LongReturnList = list()\n",
    "    cal = get_calendar()\n",
    "    \n",
    "    for ticker in LongStockList:\n",
    "        \n",
    "        endDate = cal[cal.index(RunDate)+holdTime]\n",
    "\n",
    "        #Get the data based on the provided ticker, RunDate, and startDate(being runDate-Timeinput)\n",
    "        data = (yf.download(ticker, start=RunDate, end=endDate,multi_level_index=False)).reset_index()\n",
    "        #Get the Close and Open Values\n",
    "        ClosePrice=data[\"Close\"].values\n",
    "        OpenPrice = data['Open'].values\n",
    "        \n",
    "        #Calculate and Append Return\n",
    "        Return = (ClosePrice[-1]-OpenPrice[0])/OpenPrice[0]\n",
    "        LongReturnList.append(Return)\n",
    "        \n",
    "    return LongReturnList"
   ]
  },
  {
   "cell_type": "code",
   "execution_count": null,
   "id": "97b9dc3e",
   "metadata": {},
   "outputs": [],
   "source": [
    "def getShortReturns(RunDate,ShortStockList,holdTime=1):\n",
    "    ShortReturnList = list()\n",
    "    cal = get_calendar()\n",
    "    \n",
    "    for ticker in ShortStockList:\n",
    "        \n",
    "        endDate = cal[cal.index(RunDate)+holdTime]\n",
    "\n",
    "        #Get the data based on the provided ticker, RunDate, and startDate(being runDate-Timeinput)\n",
    "        data = (yf.download(ticker, start=RunDate, end=endDate,multi_level_index=False)).reset_index()\n",
    "        \n",
    "        #Get the Close and Open Values\n",
    "        ClosePrice=data[\"Close\"].values\n",
    "        OpenPrice = data['Open'].values\n",
    "        \n",
    "        #Calculate and Append Return\n",
    "        Return = -(ClosePrice[-1]-OpenPrice[0])/OpenPrice[0]\n",
    "        ShortReturnList.append(Return)\n",
    "    return ShortReturnList"
   ]
  },
  {
   "cell_type": "code",
   "execution_count": null,
   "id": "370cc984",
   "metadata": {},
   "outputs": [],
   "source": []
  }
 ],
 "metadata": {
  "kernelspec": {
   "display_name": ".env",
   "language": "python",
   "name": ".env"
  },
  "language_info": {
   "codemirror_mode": {
    "name": "ipython",
    "version": 3
   },
   "file_extension": ".py",
   "mimetype": "text/x-python",
   "name": "python",
   "nbconvert_exporter": "python",
   "pygments_lexer": "ipython3",
   "version": "3.12.0"
  }
 },
 "nbformat": 4,
 "nbformat_minor": 5
}
