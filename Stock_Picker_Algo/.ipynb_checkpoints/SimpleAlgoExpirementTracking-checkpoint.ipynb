{
 "cells": [
  {
   "cell_type": "code",
   "execution_count": 2,
   "id": "598efd9d",
   "metadata": {},
   "outputs": [
    {
     "ename": "FileNotFoundError",
     "evalue": "[Errno 2] No such file or directory: 'NDX_data/NDXdata2020.pkl'",
     "output_type": "error",
     "traceback": [
      "\u001b[0;31m---------------------------------------------------------------------------\u001b[0m",
      "\u001b[0;31mFileNotFoundError\u001b[0m                         Traceback (most recent call last)",
      "Cell \u001b[0;32mIn[2], line 4\u001b[0m\n\u001b[1;32m      2\u001b[0m \u001b[38;5;28;01mimport\u001b[39;00m \u001b[38;5;21;01mpandas_market_calendars\u001b[39;00m \u001b[38;5;28;01mas\u001b[39;00m \u001b[38;5;21;01mmcal\u001b[39;00m\n\u001b[1;32m      3\u001b[0m \u001b[38;5;28;01mimport\u001b[39;00m \u001b[38;5;21;01mdatetime\u001b[39;00m\n\u001b[0;32m----> 4\u001b[0m \u001b[38;5;28;01mfrom\u001b[39;00m \u001b[38;5;21;01mTools\u001b[39;00m\u001b[38;5;21;01m.\u001b[39;00m\u001b[38;5;21;01mTrade_Functions\u001b[39;00m \u001b[38;5;28;01mimport\u001b[39;00m \u001b[38;5;241m*\u001b[39m\n\u001b[1;32m      5\u001b[0m \u001b[38;5;28;01mimport\u001b[39;00m \u001b[38;5;21;01mnumpy\u001b[39;00m \u001b[38;5;28;01mas\u001b[39;00m \u001b[38;5;21;01mnp\u001b[39;00m\n\u001b[1;32m      6\u001b[0m \u001b[38;5;28;01mimport\u001b[39;00m \u001b[38;5;21;01mmlflow\u001b[39;00m\n",
      "File \u001b[0;32m~/Desktop/TradingAlgos/Stock_Picker_Algo/Tools/Trade_Functions.py:19\u001b[0m\n\u001b[1;32m     17\u001b[0m data \u001b[38;5;241m=\u001b[39m pd\u001b[38;5;241m.\u001b[39mDataFrame()\n\u001b[1;32m     18\u001b[0m \u001b[38;5;28;01mfor\u001b[39;00m year \u001b[38;5;129;01min\u001b[39;00m \u001b[38;5;28mrange\u001b[39m(\u001b[38;5;241m2020\u001b[39m,\u001b[38;5;241m2025\u001b[39m):\n\u001b[0;32m---> 19\u001b[0m     \u001b[38;5;28;01mwith\u001b[39;00m \u001b[38;5;28;43mopen\u001b[39;49m\u001b[43m(\u001b[49m\u001b[38;5;124;43mf\u001b[39;49m\u001b[38;5;124;43m'\u001b[39;49m\u001b[38;5;124;43mNDX_data/NDXdata\u001b[39;49m\u001b[38;5;132;43;01m{\u001b[39;49;00m\u001b[43myear\u001b[49m\u001b[38;5;132;43;01m}\u001b[39;49;00m\u001b[38;5;124;43m.pkl\u001b[39;49m\u001b[38;5;124;43m'\u001b[39;49m\u001b[43m,\u001b[49m\u001b[43m \u001b[49m\u001b[38;5;124;43m'\u001b[39;49m\u001b[38;5;124;43mrb\u001b[39;49m\u001b[38;5;124;43m'\u001b[39;49m\u001b[43m)\u001b[49m \u001b[38;5;28;01mas\u001b[39;00m file:\n\u001b[1;32m     20\u001b[0m         ndxData \u001b[38;5;241m=\u001b[39m pickle\u001b[38;5;241m.\u001b[39mload(file)\n\u001b[1;32m     21\u001b[0m     data\u001b[38;5;241m=\u001b[39mpd\u001b[38;5;241m.\u001b[39mconcat([data,ndxData])\n",
      "\u001b[0;31mFileNotFoundError\u001b[0m: [Errno 2] No such file or directory: 'NDX_data/NDXdata2020.pkl'"
     ]
    }
   ],
   "source": [
    "import pandas as pd\n",
    "import pandas_market_calendars as mcal\n",
    "import datetime\n",
    "from Tools.Trade_Functions import *\n",
    "import numpy as np\n",
    "import mlflow\n",
    "import optuna"
   ]
  },
  {
   "cell_type": "code",
   "execution_count": 2,
   "id": "80eb3015",
   "metadata": {},
   "outputs": [
    {
     "data": {
      "text/plain": [
       "<Experiment: artifact_location='file:///Users/atulkrishnan/Desktop/TradingAlgos/Stock_Picker_Algo/mlruns/465876189061855417', creation_time=1731593079904, experiment_id='465876189061855417', last_update_time=1731593079904, lifecycle_stage='active', name='Stock Picking Algo', tags={}>"
      ]
     },
     "execution_count": 2,
     "metadata": {},
     "output_type": "execute_result"
    }
   ],
   "source": [
    "mlflow.set_experiment(\"Stock Picking Algo\")\n"
   ]
  },
  {
   "cell_type": "code",
   "execution_count": 3,
   "id": "ec5e1aa2",
   "metadata": {},
   "outputs": [],
   "source": [
    "experiment_counter=0"
   ]
  },
  {
   "cell_type": "code",
   "execution_count": 4,
   "id": "cd7f8da1",
   "metadata": {},
   "outputs": [],
   "source": [
    "def objective(trial):\n",
    "    global experiment_counter\n",
    "\n",
    "    expirement_name = f\"Model {experiment_counter}\"\n",
    "    \n",
    "    with mlflow.start_run(run_name=expirement_name) as run:\n",
    "       \n",
    "        TimeInput = trial.suggest_int('TimeInput', 2, 7)\n",
    "        NumStocks=trial.suggest_int('NumStocks', 1, 5)\n",
    "        holdTime=trial.suggest_int('holdTime', 0, 3)\n",
    "    \n",
    "        \n",
    "        Money = 1\n",
    "        TotalReturnList = list()\n",
    "        DateReturnList = list()\n",
    "\n",
    "        DateRange=['2023-01-05','2024-11-07']\n",
    "        DateRange=[cal.index(DateRange[0]),cal.index(DateRange[1])]\n",
    "        for day in cal[DateRange[0]:DateRange[1]]:\n",
    "            Money = pick_trade(RunDate=day,NumStocks=NumStocks,Money=Money,cal=cal,TimeInput=TimeInput,holdTime=holdTime,debug=False)\n",
    "            TotalReturnList.append(Money)\n",
    "            \n",
    "        PrctReturnList=list()\n",
    "        retList= [1]+TotalReturnList\n",
    "        for i in range(1,len(retList)-1):\n",
    "            PrctReturnList.append((TotalReturnList[i]-TotalReturnList[i-1])/TotalReturnList[i-1])\n",
    "        PrctReturnList = np.array(PrctReturnList)\n",
    "        \n",
    "        negativeMean = np.mean(PrctReturnList[PrctReturnList >0])\n",
    "        negativeTradeCount = (len(PrctReturnList[PrctReturnList <0]))\n",
    "        \n",
    "        positiveMean = np.mean(PrctReturnList[PrctReturnList >0])\n",
    "        positiveTradeCount = (len(PrctReturnList[PrctReturnList >0]))\n",
    "        \n",
    "        mlflow.log_param(\"TimeInput\", trial.params['TimeInput'])\n",
    "        mlflow.log_param(\"NumStocks\", trial.params['NumStocks'])\n",
    "        mlflow.log_param(\"holdTime\", trial.params['holdTime'])\n",
    "        \n",
    "        tradeRatio = negativeTradeCount/positiveTradeCount \n",
    "        \n",
    "        mlflow.log_metric(\"total_return\", Money)\n",
    "        mlflow.log_metric(\"tradeRatio\", tradeRatio)\n",
    "\n",
    "        experiment_counter += 1\n",
    "\n",
    "        return Money, tradeRatio\n"
   ]
  },
  {
   "cell_type": "code",
   "execution_count": 5,
   "id": "98e9833e",
   "metadata": {},
   "outputs": [
    {
     "name": "stderr",
     "output_type": "stream",
     "text": [
      "[I 2024-11-14 10:47:53,456] A new study created in memory with name: no-name-8297da16-36e7-430b-bcdf-7632fd7be845\n",
      "/Users/atulkrishnan/Desktop/TradingAlgos/Stock_Picker_Algo/Trade_Functions.py:117: RuntimeWarning: divide by zero encountered in scalar divide\n",
      "  return d/c\n"
     ]
    },
    {
     "name": "stdout",
     "output_type": "stream",
     "text": [
      "UNABLE TO FIND:--- ARM ----\n",
      "2023-01-05\n",
      "Total Return:  1.048724307051093\n",
      "UNABLE TO FIND:--- ARM ----\n",
      "2023-01-06\n",
      "Total Return:  1.0828675947502753\n",
      "UNABLE TO FIND:--- ARM ----\n",
      "2023-01-09\n",
      "Total Return:  1.127362504115927\n",
      "UNABLE TO FIND:--- ARM ----\n",
      "2023-01-10\n",
      "Total Return:  1.1638697759750598\n",
      "UNABLE TO FIND:--- ARM ----\n",
      "2023-01-11\n",
      "Total Return:  1.215063210311606\n",
      "UNABLE TO FIND:--- ARM ----\n",
      "2023-01-12\n",
      "Total Return:  1.2359487042336552\n",
      "UNABLE TO FIND:--- ARM ----\n",
      "2023-01-13\n",
      "Total Return:  1.3016520096920292\n",
      "UNABLE TO FIND:--- ARM ----\n",
      "2023-01-17\n",
      "Total Return:  1.2928362652366348\n",
      "UNABLE TO FIND:--- ARM ----\n"
     ]
    },
    {
     "name": "stderr",
     "output_type": "stream",
     "text": [
      "/Users/atulkrishnan/Desktop/TradingAlgos/Stock_Picker_Algo/Trade_Functions.py:117: RuntimeWarning: divide by zero encountered in scalar divide\n",
      "  return d/c\n",
      "/Users/atulkrishnan/Desktop/TradingAlgos/Stock_Picker_Algo/Trade_Functions.py:117: RuntimeWarning: divide by zero encountered in scalar divide\n",
      "  return d/c\n"
     ]
    },
    {
     "name": "stdout",
     "output_type": "stream",
     "text": [
      "2023-01-18\n",
      "Total Return:  1.224480689356272\n",
      "UNABLE TO FIND:--- ARM ----\n",
      "2023-01-19\n",
      "Total Return:  1.2957458771526777\n",
      "UNABLE TO FIND:--- ARM ----\n",
      "2023-01-20\n",
      "Total Return:  1.3782702355821743\n",
      "UNABLE TO FIND:--- ARM ----\n",
      "2023-01-23\n",
      "Total Return:  1.3928166328922726\n",
      "UNABLE TO FIND:--- ARM ----\n",
      "2023-01-24\n",
      "Total Return:  1.4232345707704974\n",
      "UNABLE TO FIND:--- ARM ----\n",
      "2023-01-25\n",
      "Total Return:  1.4460633375457133\n",
      "UNABLE TO FIND:--- ARM ----\n",
      "2023-01-26\n",
      "Total Return:  1.4158533508128937\n",
      "UNABLE TO FIND:--- ARM ----\n",
      "2023-01-27\n",
      "Total Return:  1.3776404168060532\n",
      "UNABLE TO FIND:--- ARM ----\n",
      "2023-01-30\n",
      "Total Return:  1.339669557593529\n",
      "UNABLE TO FIND:--- ARM ----\n"
     ]
    },
    {
     "name": "stderr",
     "output_type": "stream",
     "text": [
      "/Users/atulkrishnan/Desktop/TradingAlgos/Stock_Picker_Algo/Trade_Functions.py:117: RuntimeWarning: divide by zero encountered in scalar divide\n",
      "  return d/c\n",
      "/Users/atulkrishnan/Desktop/TradingAlgos/Stock_Picker_Algo/Trade_Functions.py:117: RuntimeWarning: divide by zero encountered in scalar divide\n",
      "  return d/c\n"
     ]
    },
    {
     "name": "stdout",
     "output_type": "stream",
     "text": [
      "2023-01-31\n",
      "Total Return:  1.3788556152437608\n",
      "UNABLE TO FIND:--- ARM ----\n",
      "2023-02-01\n",
      "Total Return:  1.4557870355213827\n",
      "UNABLE TO FIND:--- ARM ----\n",
      "2023-02-02\n",
      "Total Return:  1.4227663009444957\n",
      "UNABLE TO FIND:--- ARM ----\n"
     ]
    },
    {
     "name": "stderr",
     "output_type": "stream",
     "text": [
      "/Users/atulkrishnan/Desktop/TradingAlgos/Stock_Picker_Algo/Trade_Functions.py:117: RuntimeWarning: divide by zero encountered in scalar divide\n",
      "  return d/c\n"
     ]
    },
    {
     "name": "stdout",
     "output_type": "stream",
     "text": [
      "2023-02-03\n",
      "Total Return:  1.389443011878124\n",
      "UNABLE TO FIND:--- ARM ----\n",
      "2023-02-06\n",
      "Total Return:  1.3999644166729572\n",
      "UNABLE TO FIND:--- ARM ----\n",
      "2023-02-07\n",
      "Total Return:  1.3967351673806268\n",
      "UNABLE TO FIND:--- ARM ----\n",
      "2023-02-08\n",
      "Total Return:  1.3652090540754491\n",
      "UNABLE TO FIND:--- ARM ----\n",
      "2023-02-09\n",
      "Total Return:  1.3272003102354166\n",
      "UNABLE TO FIND:--- ARM ----\n",
      "2023-02-10\n",
      "Total Return:  1.354933217013337\n",
      "UNABLE TO FIND:--- ARM ----\n"
     ]
    },
    {
     "name": "stderr",
     "output_type": "stream",
     "text": [
      "/Users/atulkrishnan/Desktop/TradingAlgos/Stock_Picker_Algo/Trade_Functions.py:117: RuntimeWarning: divide by zero encountered in scalar divide\n",
      "  return d/c\n",
      "/Users/atulkrishnan/Desktop/TradingAlgos/Stock_Picker_Algo/Trade_Functions.py:117: RuntimeWarning: divide by zero encountered in scalar divide\n",
      "  return d/c\n"
     ]
    },
    {
     "name": "stdout",
     "output_type": "stream",
     "text": [
      "2023-02-13\n",
      "Total Return:  1.3798787330926783\n",
      "UNABLE TO FIND:--- ARM ----\n",
      "2023-02-14\n",
      "Total Return:  1.3886780131987142\n",
      "UNABLE TO FIND:--- ARM ----\n",
      "2023-02-15\n",
      "Total Return:  1.3967661644276492\n",
      "UNABLE TO FIND:--- ARM ----\n"
     ]
    },
    {
     "name": "stderr",
     "output_type": "stream",
     "text": [
      "/Users/atulkrishnan/Desktop/TradingAlgos/Stock_Picker_Algo/Trade_Functions.py:117: RuntimeWarning: divide by zero encountered in scalar divide\n",
      "  return d/c\n",
      "/Users/atulkrishnan/Desktop/TradingAlgos/Stock_Picker_Algo/Trade_Functions.py:117: RuntimeWarning: divide by zero encountered in scalar divide\n",
      "  return d/c\n"
     ]
    },
    {
     "name": "stdout",
     "output_type": "stream",
     "text": [
      "2023-02-16\n",
      "Total Return:  1.3147633752497698\n",
      "UNABLE TO FIND:--- ARM ----\n",
      "2023-02-17\n",
      "Total Return:  1.1756714064541367\n",
      "UNABLE TO FIND:--- ARM ----\n",
      "2023-02-21\n",
      "Total Return:  1.1592633308016749\n",
      "UNABLE TO FIND:--- ARM ----\n",
      "2023-02-22\n",
      "Total Return:  1.1620410095200635\n",
      "UNABLE TO FIND:--- ARM ----\n",
      "2023-02-23\n",
      "Total Return:  1.1708395949068782\n",
      "UNABLE TO FIND:--- ARM ----\n",
      "2023-02-24\n",
      "Total Return:  1.1908285202325062\n",
      "UNABLE TO FIND:--- ARM ----\n"
     ]
    },
    {
     "name": "stderr",
     "output_type": "stream",
     "text": [
      "/Users/atulkrishnan/Desktop/TradingAlgos/Stock_Picker_Algo/Trade_Functions.py:117: RuntimeWarning: divide by zero encountered in scalar divide\n",
      "  return d/c\n"
     ]
    },
    {
     "name": "stdout",
     "output_type": "stream",
     "text": [
      "2023-02-27\n",
      "Total Return:  1.191712079093737\n",
      "UNABLE TO FIND:--- ARM ----\n",
      "2023-02-28\n",
      "Total Return:  1.207940230370443\n",
      "UNABLE TO FIND:--- ARM ----\n",
      "2023-03-01\n",
      "Total Return:  1.190793100943465\n",
      "UNABLE TO FIND:--- ARM ----\n",
      "2023-03-02\n",
      "Total Return:  1.2440908404807116\n",
      "UNABLE TO FIND:--- ARM ----\n",
      "2023-03-03\n",
      "Total Return:  1.2271679250091139\n",
      "UNABLE TO FIND:--- ARM ----\n",
      "2023-03-06\n",
      "Total Return:  1.1992848984628852\n",
      "UNABLE TO FIND:--- ARM ----\n",
      "2023-03-07\n",
      "Total Return:  1.2089885765469848\n",
      "UNABLE TO FIND:--- ARM ----\n",
      "2023-03-08\n",
      "Total Return:  1.1596683083914527\n",
      "UNABLE TO FIND:--- ARM ----\n",
      "2023-03-09\n",
      "Total Return:  1.0900733225181407\n",
      "UNABLE TO FIND:--- ARM ----\n",
      "2023-03-10\n",
      "Total Return:  1.0647105083724364\n",
      "UNABLE TO FIND:--- ARM ----\n",
      "2023-03-13\n",
      "Total Return:  1.0984612797333435\n",
      "UNABLE TO FIND:--- ARM ----\n",
      "2023-03-14\n",
      "Total Return:  1.093619793569324\n",
      "UNABLE TO FIND:--- ARM ----\n",
      "2023-03-15\n",
      "Total Return:  1.1214892034041988\n",
      "UNABLE TO FIND:--- ARM ----\n",
      "2023-03-16\n",
      "Total Return:  1.1586555919164185\n",
      "UNABLE TO FIND:--- ARM ----\n",
      "2023-03-17\n",
      "Total Return:  1.1328322504031694\n",
      "UNABLE TO FIND:--- ARM ----\n",
      "2023-03-20\n",
      "Total Return:  1.1607562392028337\n",
      "UNABLE TO FIND:--- ARM ----\n",
      "2023-03-21\n",
      "Total Return:  1.1441337981923576\n",
      "UNABLE TO FIND:--- ARM ----\n",
      "2023-03-22\n",
      "Total Return:  1.147077405340708\n",
      "UNABLE TO FIND:--- ARM ----\n"
     ]
    },
    {
     "name": "stderr",
     "output_type": "stream",
     "text": [
      "/Users/atulkrishnan/Desktop/TradingAlgos/Stock_Picker_Algo/Trade_Functions.py:117: RuntimeWarning: divide by zero encountered in scalar divide\n",
      "  return d/c\n"
     ]
    },
    {
     "name": "stdout",
     "output_type": "stream",
     "text": [
      "2023-03-23\n",
      "Total Return:  1.1333602379621892\n",
      "UNABLE TO FIND:--- ARM ----\n",
      "2023-03-24\n",
      "Total Return:  1.1424221755748665\n",
      "UNABLE TO FIND:--- ARM ----\n",
      "2023-03-27\n",
      "Total Return:  1.1284685090050086\n",
      "UNABLE TO FIND:--- ARM ----\n"
     ]
    },
    {
     "name": "stderr",
     "output_type": "stream",
     "text": [
      "/Users/atulkrishnan/Desktop/TradingAlgos/Stock_Picker_Algo/Trade_Functions.py:117: RuntimeWarning: divide by zero encountered in scalar divide\n",
      "  return d/c\n"
     ]
    },
    {
     "name": "stdout",
     "output_type": "stream",
     "text": [
      "2023-03-28\n",
      "Total Return:  1.1374688742569423\n",
      "UNABLE TO FIND:--- ARM ----\n",
      "2023-03-29\n",
      "Total Return:  1.1392546167267308\n",
      "UNABLE TO FIND:--- ARM ----\n",
      "2023-03-30\n",
      "Total Return:  1.1374335266856201\n",
      "UNABLE TO FIND:--- ARM ----\n",
      "2023-03-31\n",
      "Total Return:  1.1537643552538595\n",
      "UNABLE TO FIND:--- ARM ----\n",
      "2023-04-03\n",
      "Total Return:  1.1457322141451534\n",
      "UNABLE TO FIND:--- ARM ----\n",
      "2023-04-04\n",
      "Total Return:  1.108102408529149\n",
      "UNABLE TO FIND:--- ARM ----\n",
      "2023-04-05\n",
      "Total Return:  1.1035944108214557\n",
      "UNABLE TO FIND:--- ARM ----\n",
      "2023-04-06\n",
      "Total Return:  1.0951657046565333\n",
      "UNABLE TO FIND:--- ARM ----\n",
      "2023-04-10\n",
      "Total Return:  1.093094236010943\n",
      "UNABLE TO FIND:--- ARM ----\n"
     ]
    },
    {
     "name": "stderr",
     "output_type": "stream",
     "text": [
      "/Users/atulkrishnan/Desktop/TradingAlgos/Stock_Picker_Algo/Trade_Functions.py:117: RuntimeWarning: divide by zero encountered in scalar divide\n",
      "  return d/c\n"
     ]
    },
    {
     "name": "stdout",
     "output_type": "stream",
     "text": [
      "2023-04-11\n",
      "Total Return:  1.0409142747204736\n",
      "UNABLE TO FIND:--- ARM ----\n",
      "2023-04-12\n",
      "Total Return:  1.0207041231258331\n",
      "UNABLE TO FIND:--- ARM ----\n",
      "2023-04-13\n",
      "Total Return:  1.0099232798781663\n",
      "UNABLE TO FIND:--- ARM ----\n"
     ]
    },
    {
     "name": "stderr",
     "output_type": "stream",
     "text": [
      "/Users/atulkrishnan/Desktop/TradingAlgos/Stock_Picker_Algo/Trade_Functions.py:117: RuntimeWarning: divide by zero encountered in scalar divide\n",
      "  return d/c\n",
      "/Users/atulkrishnan/Desktop/TradingAlgos/Stock_Picker_Algo/Trade_Functions.py:117: RuntimeWarning: invalid value encountered in scalar divide\n",
      "  return d/c\n",
      "/Users/atulkrishnan/Desktop/TradingAlgos/Stock_Picker_Algo/Trade_Functions.py:117: RuntimeWarning: divide by zero encountered in scalar divide\n",
      "  return d/c\n"
     ]
    },
    {
     "name": "stdout",
     "output_type": "stream",
     "text": [
      "2023-04-14\n",
      "Total Return:  1.0336914595202893\n",
      "UNABLE TO FIND:--- ARM ----\n",
      "2023-04-17\n",
      "Total Return:  1.0204287150847466\n",
      "UNABLE TO FIND:--- ARM ----\n",
      "2023-04-18\n",
      "Total Return:  1.011608674937848\n",
      "UNABLE TO FIND:--- ARM ----\n"
     ]
    },
    {
     "name": "stderr",
     "output_type": "stream",
     "text": [
      "/Users/atulkrishnan/Desktop/TradingAlgos/Stock_Picker_Algo/Trade_Functions.py:117: RuntimeWarning: divide by zero encountered in scalar divide\n",
      "  return d/c\n",
      "/Users/atulkrishnan/Desktop/TradingAlgos/Stock_Picker_Algo/Trade_Functions.py:117: RuntimeWarning: divide by zero encountered in scalar divide\n",
      "  return d/c\n"
     ]
    },
    {
     "name": "stdout",
     "output_type": "stream",
     "text": [
      "2023-04-19\n",
      "Total Return:  0.9708867197463853\n",
      "UNABLE TO FIND:--- ARM ----\n",
      "2023-04-20\n",
      "Total Return:  0.9669358495156085\n",
      "UNABLE TO FIND:--- ARM ----\n",
      "2023-04-21\n",
      "Total Return:  0.9641041094210708\n",
      "UNABLE TO FIND:--- ARM ----\n"
     ]
    },
    {
     "name": "stderr",
     "output_type": "stream",
     "text": [
      "/Users/atulkrishnan/Desktop/TradingAlgos/Stock_Picker_Algo/Trade_Functions.py:117: RuntimeWarning: divide by zero encountered in scalar divide\n",
      "  return d/c\n"
     ]
    },
    {
     "name": "stdout",
     "output_type": "stream",
     "text": [
      "2023-04-24\n",
      "Total Return:  0.9322266695962864\n",
      "UNABLE TO FIND:--- ARM ----\n",
      "2023-04-25\n",
      "Total Return:  0.9072123859830887\n",
      "UNABLE TO FIND:--- ARM ----\n",
      "2023-04-26\n",
      "Total Return:  0.9101456338970825\n",
      "UNABLE TO FIND:--- ARM ----\n",
      "2023-04-27\n",
      "Total Return:  0.9023384611830048\n",
      "UNABLE TO FIND:--- ARM ----\n",
      "2023-04-28\n",
      "Total Return:  0.8871487274149437\n",
      "UNABLE TO FIND:--- ARM ----\n",
      "2023-05-01\n",
      "Total Return:  0.8731315118066896\n",
      "UNABLE TO FIND:--- ARM ----\n",
      "2023-05-02\n",
      "Total Return:  0.9460578054668157\n",
      "UNABLE TO FIND:--- ARM ----\n",
      "2023-05-03\n",
      "Total Return:  0.9201896430069483\n",
      "UNABLE TO FIND:--- ARM ----\n",
      "2023-05-04\n",
      "Total Return:  0.9300053222172177\n",
      "UNABLE TO FIND:--- ARM ----\n",
      "2023-05-05\n",
      "Total Return:  0.9432649262022972\n",
      "UNABLE TO FIND:--- ARM ----\n",
      "2023-05-08\n",
      "Total Return:  0.9794765584666196\n",
      "UNABLE TO FIND:--- ARM ----\n",
      "2023-05-09\n",
      "Total Return:  1.014241732709912\n",
      "UNABLE TO FIND:--- ARM ----\n"
     ]
    },
    {
     "name": "stderr",
     "output_type": "stream",
     "text": [
      "/Users/atulkrishnan/Desktop/TradingAlgos/Stock_Picker_Algo/Trade_Functions.py:117: RuntimeWarning: divide by zero encountered in scalar divide\n",
      "  return d/c\n",
      "/Users/atulkrishnan/Desktop/TradingAlgos/Stock_Picker_Algo/Trade_Functions.py:117: RuntimeWarning: divide by zero encountered in scalar divide\n",
      "  return d/c\n"
     ]
    },
    {
     "name": "stdout",
     "output_type": "stream",
     "text": [
      "2023-05-10\n",
      "Total Return:  1.020971768504563\n",
      "UNABLE TO FIND:--- ARM ----\n",
      "2023-05-11\n",
      "Total Return:  1.0152025708868662\n",
      "UNABLE TO FIND:--- ARM ----\n",
      "2023-05-12\n",
      "Total Return:  1.024512063961464\n",
      "UNABLE TO FIND:--- ARM ----\n",
      "2023-05-15\n",
      "Total Return:  1.049308640422538\n",
      "UNABLE TO FIND:--- ARM ----\n",
      "2023-05-16\n",
      "Total Return:  1.0659132329109318\n",
      "UNABLE TO FIND:--- ARM ----\n",
      "2023-05-17\n",
      "Total Return:  1.1513329182183802\n",
      "UNABLE TO FIND:--- ARM ----\n"
     ]
    },
    {
     "name": "stderr",
     "output_type": "stream",
     "text": [
      "/Users/atulkrishnan/Desktop/TradingAlgos/Stock_Picker_Algo/Trade_Functions.py:117: RuntimeWarning: divide by zero encountered in scalar divide\n",
      "  return d/c\n",
      "/Users/atulkrishnan/Desktop/TradingAlgos/Stock_Picker_Algo/Trade_Functions.py:117: RuntimeWarning: divide by zero encountered in scalar divide\n",
      "  return d/c\n"
     ]
    },
    {
     "name": "stdout",
     "output_type": "stream",
     "text": [
      "2023-05-18\n",
      "Total Return:  1.1745476498675873\n",
      "UNABLE TO FIND:--- ARM ----\n",
      "2023-05-19\n",
      "Total Return:  1.1529780855144578\n",
      "UNABLE TO FIND:--- ARM ----\n",
      "2023-05-22\n",
      "Total Return:  1.1273839383161341\n",
      "UNABLE TO FIND:--- ARM ----\n"
     ]
    },
    {
     "name": "stderr",
     "output_type": "stream",
     "text": [
      "/Users/atulkrishnan/Desktop/TradingAlgos/Stock_Picker_Algo/Trade_Functions.py:117: RuntimeWarning: divide by zero encountered in scalar divide\n",
      "  return d/c\n"
     ]
    },
    {
     "name": "stdout",
     "output_type": "stream",
     "text": [
      "2023-05-23\n",
      "Total Return:  1.125381134155514\n",
      "UNABLE TO FIND:--- ARM ----\n",
      "2023-05-24\n",
      "Total Return:  1.0953989121089691\n",
      "UNABLE TO FIND:--- ARM ----\n",
      "2023-05-25\n",
      "Total Return:  1.066894568842017\n",
      "UNABLE TO FIND:--- ARM ----\n"
     ]
    },
    {
     "name": "stderr",
     "output_type": "stream",
     "text": [
      "/Users/atulkrishnan/Desktop/TradingAlgos/Stock_Picker_Algo/Trade_Functions.py:117: RuntimeWarning: divide by zero encountered in scalar divide\n",
      "  return d/c\n",
      "/Users/atulkrishnan/Desktop/TradingAlgos/Stock_Picker_Algo/Trade_Functions.py:117: RuntimeWarning: divide by zero encountered in scalar divide\n",
      "  return d/c\n"
     ]
    },
    {
     "name": "stdout",
     "output_type": "stream",
     "text": [
      "2023-05-26\n",
      "Total Return:  1.1368084018298195\n",
      "UNABLE TO FIND:--- ARM ----\n",
      "2023-05-30\n",
      "Total Return:  1.053772323401644\n",
      "UNABLE TO FIND:--- ARM ----\n",
      "2023-05-31\n",
      "Total Return:  1.0746193869765681\n",
      "UNABLE TO FIND:--- ARM ----\n",
      "2023-06-01\n",
      "Total Return:  1.1092324217110041\n",
      "UNABLE TO FIND:--- ARM ----\n",
      "2023-06-02\n",
      "Total Return:  1.1226888924568743\n",
      "UNABLE TO FIND:--- ARM ----\n",
      "2023-06-05\n",
      "Total Return:  1.1311422554255817\n",
      "UNABLE TO FIND:--- ARM ----\n"
     ]
    },
    {
     "name": "stderr",
     "output_type": "stream",
     "text": [
      "/Users/atulkrishnan/Desktop/TradingAlgos/Stock_Picker_Algo/Trade_Functions.py:117: RuntimeWarning: divide by zero encountered in scalar divide\n",
      "  return d/c\n",
      "/Users/atulkrishnan/Desktop/TradingAlgos/Stock_Picker_Algo/Trade_Functions.py:117: RuntimeWarning: divide by zero encountered in scalar divide\n",
      "  return d/c\n"
     ]
    },
    {
     "name": "stdout",
     "output_type": "stream",
     "text": [
      "2023-06-06\n",
      "Total Return:  1.1031781163846677\n",
      "UNABLE TO FIND:--- ARM ----\n",
      "2023-06-07\n",
      "Total Return:  1.0954376045128102\n",
      "UNABLE TO FIND:--- ARM ----\n",
      "2023-06-08\n",
      "Total Return:  1.142439873515842\n",
      "UNABLE TO FIND:--- ARM ----\n",
      "2023-06-09\n",
      "Total Return:  1.1335248160352434\n",
      "UNABLE TO FIND:--- ARM ----\n",
      "2023-06-12\n",
      "Total Return:  1.1331826713490651\n",
      "UNABLE TO FIND:--- ARM ----\n",
      "2023-06-13\n",
      "Total Return:  1.112692392079269\n",
      "UNABLE TO FIND:--- ARM ----\n"
     ]
    },
    {
     "name": "stderr",
     "output_type": "stream",
     "text": [
      "/Users/atulkrishnan/Desktop/TradingAlgos/Stock_Picker_Algo/Trade_Functions.py:117: RuntimeWarning: divide by zero encountered in scalar divide\n",
      "  return d/c\n"
     ]
    },
    {
     "name": "stdout",
     "output_type": "stream",
     "text": [
      "2023-06-14\n",
      "Total Return:  1.1326898981014115\n",
      "UNABLE TO FIND:--- ARM ----\n",
      "2023-06-15\n",
      "Total Return:  1.1510914133375305\n",
      "UNABLE TO FIND:--- ARM ----\n",
      "2023-06-16\n",
      "Total Return:  1.118908843504866\n",
      "UNABLE TO FIND:--- ARM ----\n"
     ]
    },
    {
     "name": "stderr",
     "output_type": "stream",
     "text": [
      "/Users/atulkrishnan/Desktop/TradingAlgos/Stock_Picker_Algo/Trade_Functions.py:117: RuntimeWarning: divide by zero encountered in scalar divide\n",
      "  return d/c\n"
     ]
    },
    {
     "name": "stdout",
     "output_type": "stream",
     "text": [
      "2023-06-20\n",
      "Total Return:  1.1269335350488947\n",
      "UNABLE TO FIND:--- ARM ----\n",
      "2023-06-21\n",
      "Total Return:  1.106416625134158\n",
      "UNABLE TO FIND:--- ARM ----\n",
      "2023-06-22\n",
      "Total Return:  1.1009464792089454\n",
      "UNABLE TO FIND:--- ARM ----\n",
      "2023-06-23\n",
      "Total Return:  1.0745597643450062\n",
      "UNABLE TO FIND:--- ARM ----\n",
      "2023-06-26\n",
      "Total Return:  1.0719496214207336\n",
      "UNABLE TO FIND:--- ARM ----\n",
      "2023-06-27\n",
      "Total Return:  1.1009700360086798\n",
      "UNABLE TO FIND:--- ARM ----\n"
     ]
    },
    {
     "name": "stderr",
     "output_type": "stream",
     "text": [
      "/Users/atulkrishnan/Desktop/TradingAlgos/Stock_Picker_Algo/Trade_Functions.py:117: RuntimeWarning: divide by zero encountered in scalar divide\n",
      "  return d/c\n"
     ]
    },
    {
     "name": "stdout",
     "output_type": "stream",
     "text": [
      "2023-06-28\n",
      "Total Return:  1.1306044584424928\n",
      "UNABLE TO FIND:--- ARM ----\n",
      "2023-06-29\n",
      "Total Return:  1.1508506706378774\n",
      "UNABLE TO FIND:--- ARM ----\n",
      "2023-06-30\n",
      "Total Return:  1.1612600039751215\n",
      "UNABLE TO FIND:--- ARM ----\n"
     ]
    },
    {
     "name": "stderr",
     "output_type": "stream",
     "text": [
      "/Users/atulkrishnan/Desktop/TradingAlgos/Stock_Picker_Algo/Trade_Functions.py:117: RuntimeWarning: divide by zero encountered in scalar divide\n",
      "  return d/c\n",
      "/Users/atulkrishnan/Desktop/TradingAlgos/Stock_Picker_Algo/Trade_Functions.py:117: RuntimeWarning: divide by zero encountered in scalar divide\n",
      "  return d/c\n"
     ]
    },
    {
     "name": "stdout",
     "output_type": "stream",
     "text": [
      "2023-07-03\n",
      "Total Return:  1.1480839706741943\n",
      "UNABLE TO FIND:--- ARM ----\n",
      "2023-07-05\n",
      "Total Return:  1.138162551307512\n",
      "UNABLE TO FIND:--- ARM ----\n",
      "2023-07-06\n",
      "Total Return:  1.1111556902994852\n",
      "UNABLE TO FIND:--- ARM ----\n",
      "2023-07-07\n",
      "Total Return:  1.1076358075825588\n",
      "UNABLE TO FIND:--- ARM ----\n",
      "2023-07-10\n",
      "Total Return:  1.142084673598469\n",
      "UNABLE TO FIND:--- ARM ----\n",
      "2023-07-11\n",
      "Total Return:  1.1042846695350133\n",
      "UNABLE TO FIND:--- ARM ----\n",
      "2023-07-12\n",
      "Total Return:  1.118856362241591\n",
      "UNABLE TO FIND:--- ARM ----\n",
      "2023-07-13\n",
      "Total Return:  1.121451202286675\n",
      "UNABLE TO FIND:--- ARM ----\n",
      "2023-07-14\n",
      "Total Return:  1.1218560471130354\n",
      "UNABLE TO FIND:--- ARM ----\n",
      "2023-07-17\n",
      "Total Return:  1.1631695179387305\n",
      "UNABLE TO FIND:--- ARM ----\n",
      "2023-07-18\n",
      "Total Return:  1.1822768785753104\n",
      "UNABLE TO FIND:--- ARM ----\n",
      "2023-07-19\n",
      "Total Return:  1.1085644563472528\n",
      "UNABLE TO FIND:--- ARM ----\n"
     ]
    },
    {
     "name": "stderr",
     "output_type": "stream",
     "text": [
      "/Users/atulkrishnan/Desktop/TradingAlgos/Stock_Picker_Algo/Trade_Functions.py:117: RuntimeWarning: divide by zero encountered in scalar divide\n",
      "  return d/c\n"
     ]
    },
    {
     "name": "stdout",
     "output_type": "stream",
     "text": [
      "2023-07-20\n",
      "Total Return:  1.0644763086592193\n",
      "UNABLE TO FIND:--- ARM ----\n",
      "2023-07-21\n",
      "Total Return:  1.0463676669578432\n",
      "UNABLE TO FIND:--- ARM ----\n",
      "2023-07-24\n",
      "Total Return:  1.0398129552516089\n",
      "UNABLE TO FIND:--- ARM ----\n",
      "2023-07-25\n",
      "Total Return:  1.0488927477203558\n",
      "UNABLE TO FIND:--- ARM ----\n",
      "2023-07-26\n",
      "Total Return:  1.066703815858578\n",
      "UNABLE TO FIND:--- ARM ----\n",
      "2023-07-27\n",
      "Total Return:  1.0900053971534087\n",
      "UNABLE TO FIND:--- ARM ----\n",
      "2023-07-28\n",
      "Total Return:  1.0986252545630681\n",
      "UNABLE TO FIND:--- ARM ----\n",
      "2023-07-31\n",
      "Total Return:  1.0991138915238834\n",
      "UNABLE TO FIND:--- ARM ----\n",
      "2023-08-01\n",
      "Total Return:  1.0397648690906398\n",
      "UNABLE TO FIND:--- ARM ----\n"
     ]
    },
    {
     "name": "stderr",
     "output_type": "stream",
     "text": [
      "/Users/atulkrishnan/Desktop/TradingAlgos/Stock_Picker_Algo/Trade_Functions.py:117: RuntimeWarning: divide by zero encountered in scalar divide\n",
      "  return d/c\n"
     ]
    },
    {
     "name": "stdout",
     "output_type": "stream",
     "text": [
      "2023-08-02\n",
      "Total Return:  0.9990240922348355\n",
      "UNABLE TO FIND:--- ARM ----\n",
      "2023-08-03\n",
      "Total Return:  0.9891702779350144\n",
      "UNABLE TO FIND:--- ARM ----\n",
      "2023-08-04\n",
      "Total Return:  1.0077061379658463\n",
      "UNABLE TO FIND:--- ARM ----\n"
     ]
    },
    {
     "name": "stderr",
     "output_type": "stream",
     "text": [
      "/Users/atulkrishnan/Desktop/TradingAlgos/Stock_Picker_Algo/Trade_Functions.py:117: RuntimeWarning: divide by zero encountered in scalar divide\n",
      "  return d/c\n",
      "/Users/atulkrishnan/Desktop/TradingAlgos/Stock_Picker_Algo/Trade_Functions.py:117: RuntimeWarning: divide by zero encountered in scalar divide\n",
      "  return d/c\n"
     ]
    },
    {
     "name": "stdout",
     "output_type": "stream",
     "text": [
      "2023-08-07\n",
      "Total Return:  1.0165292190250201\n",
      "UNABLE TO FIND:--- ARM ----\n",
      "2023-08-08\n",
      "Total Return:  1.0192596369865572\n",
      "UNABLE TO FIND:--- ARM ----\n",
      "2023-08-09\n",
      "Total Return:  1.0218132835471807\n",
      "UNABLE TO FIND:--- ARM ----\n",
      "2023-08-10\n",
      "Total Return:  1.0045618788923814\n",
      "UNABLE TO FIND:--- ARM ----\n",
      "2023-08-11\n",
      "Total Return:  0.9918696807260168\n",
      "UNABLE TO FIND:--- ARM ----\n",
      "2023-08-14\n",
      "Total Return:  0.9883649111604571\n",
      "UNABLE TO FIND:--- ARM ----\n"
     ]
    },
    {
     "name": "stderr",
     "output_type": "stream",
     "text": [
      "/Users/atulkrishnan/Desktop/TradingAlgos/Stock_Picker_Algo/Trade_Functions.py:117: RuntimeWarning: divide by zero encountered in scalar divide\n",
      "  return d/c\n",
      "/Users/atulkrishnan/Desktop/TradingAlgos/Stock_Picker_Algo/Trade_Functions.py:117: RuntimeWarning: divide by zero encountered in scalar divide\n",
      "  return d/c\n"
     ]
    },
    {
     "name": "stdout",
     "output_type": "stream",
     "text": [
      "2023-08-15\n",
      "Total Return:  0.9606708954918088\n",
      "UNABLE TO FIND:--- ARM ----\n",
      "2023-08-16\n",
      "Total Return:  0.9208201127599183\n",
      "UNABLE TO FIND:--- ARM ----\n",
      "2023-08-17\n",
      "Total Return:  0.916281144671532\n",
      "UNABLE TO FIND:--- ARM ----\n",
      "2023-08-18\n",
      "Total Return:  0.9538221953341214\n",
      "UNABLE TO FIND:--- ARM ----\n",
      "2023-08-21\n",
      "Total Return:  0.9611094451264974\n",
      "UNABLE TO FIND:--- ARM ----\n",
      "2023-08-22\n",
      "Total Return:  0.9405209899217124\n",
      "UNABLE TO FIND:--- ARM ----\n",
      "2023-08-23\n",
      "Total Return:  0.918217900394298\n",
      "UNABLE TO FIND:--- ARM ----\n",
      "2023-08-24\n",
      "Total Return:  0.8572382019714924\n",
      "UNABLE TO FIND:--- ARM ----\n",
      "2023-08-25\n",
      "Total Return:  0.8802607192743618\n",
      "UNABLE TO FIND:--- ARM ----\n"
     ]
    },
    {
     "name": "stderr",
     "output_type": "stream",
     "text": [
      "/Users/atulkrishnan/Desktop/TradingAlgos/Stock_Picker_Algo/Trade_Functions.py:117: RuntimeWarning: divide by zero encountered in scalar divide\n",
      "  return d/c\n"
     ]
    },
    {
     "name": "stdout",
     "output_type": "stream",
     "text": [
      "2023-08-28\n",
      "Total Return:  0.8984163939603962\n",
      "UNABLE TO FIND:--- ARM ----\n",
      "2023-08-29\n",
      "Total Return:  0.9287354815482044\n",
      "UNABLE TO FIND:--- ARM ----\n",
      "2023-08-30\n",
      "Total Return:  0.9388879718275058\n",
      "UNABLE TO FIND:--- ARM ----\n",
      "2023-08-31\n",
      "Total Return:  0.961409702617836\n",
      "UNABLE TO FIND:--- ARM ----\n",
      "2023-09-01\n",
      "Total Return:  0.9784896662116507\n",
      "UNABLE TO FIND:--- ARM ----\n",
      "2023-09-05\n",
      "Total Return:  0.986750868565532\n",
      "UNABLE TO FIND:--- ARM ----\n",
      "2023-09-06\n",
      "Total Return:  0.9793458658941637\n",
      "UNABLE TO FIND:--- ARM ----\n",
      "2023-09-07\n",
      "Total Return:  0.9954633368488179\n",
      "UNABLE TO FIND:--- ARM ----\n",
      "2023-09-08\n",
      "Total Return:  1.0160297699193284\n",
      "UNABLE TO FIND:--- ARM ----\n",
      "2023-09-11\n",
      "Total Return:  1.0205610050631662\n",
      "UNABLE TO FIND:--- ARM ----\n",
      "2023-09-12\n",
      "Total Return:  1.0039341182600863\n",
      "UNABLE TO FIND:--- ARM ----\n",
      "2023-09-13\n",
      "Total Return:  1.0224668252299431\n",
      "UNABLE TO FIND:--- ARM ----\n"
     ]
    },
    {
     "name": "stderr",
     "output_type": "stream",
     "text": [
      "/Users/atulkrishnan/Desktop/TradingAlgos/Stock_Picker_Algo/Trade_Functions.py:117: RuntimeWarning: divide by zero encountered in scalar divide\n",
      "  return d/c\n",
      "/Users/atulkrishnan/Desktop/TradingAlgos/Stock_Picker_Algo/Trade_Functions.py:117: RuntimeWarning: divide by zero encountered in scalar divide\n",
      "  return d/c\n",
      "/Users/atulkrishnan/Desktop/TradingAlgos/Stock_Picker_Algo/Trade_Functions.py:117: RuntimeWarning: divide by zero encountered in scalar divide\n",
      "  return d/c\n"
     ]
    },
    {
     "name": "stdout",
     "output_type": "stream",
     "text": [
      "2023-09-14\n",
      "Total Return:  1.0404717560648966\n",
      "UNABLE TO FIND:--- ARM ----\n",
      "2023-09-15\n",
      "Total Return:  1.0060677271562826\n",
      "UNABLE TO FIND:--- ARM ----\n",
      "2023-09-18\n",
      "Total Return:  0.9786451398908964\n",
      "2023-09-19\n",
      "Total Return:  0.9598866587079544\n",
      "2023-09-20\n",
      "Total Return:  0.9301007445187585\n",
      "2023-09-21\n",
      "Total Return:  0.9223841080113199\n",
      "2023-09-22\n",
      "Total Return:  0.9235198403540843\n",
      "2023-09-25\n",
      "Total Return:  0.9166838471653374\n",
      "2023-09-26\n",
      "Total Return:  0.9231236990145006\n",
      "2023-09-27\n",
      "Total Return:  0.9651243515451062\n",
      "2023-09-28\n",
      "Total Return:  1.001569879358024\n",
      "2023-09-29\n",
      "Total Return:  1.0054658284953228\n"
     ]
    },
    {
     "name": "stderr",
     "output_type": "stream",
     "text": [
      "/Users/atulkrishnan/Desktop/TradingAlgos/Stock_Picker_Algo/Trade_Functions.py:117: RuntimeWarning: invalid value encountered in scalar divide\n",
      "  return d/c\n",
      "/Users/atulkrishnan/Desktop/TradingAlgos/Stock_Picker_Algo/Trade_Functions.py:117: RuntimeWarning: divide by zero encountered in scalar divide\n",
      "  return d/c\n"
     ]
    },
    {
     "name": "stdout",
     "output_type": "stream",
     "text": [
      "2023-10-02\n",
      "Total Return:  0.981798842477071\n",
      "2023-10-03\n",
      "Total Return:  0.9695414575467528\n",
      "2023-10-04\n",
      "Total Return:  0.9879400746481894\n",
      "2023-10-05\n",
      "Total Return:  0.9938980261249132\n",
      "2023-10-06\n",
      "Total Return:  1.020207382847764\n",
      "2023-10-09\n",
      "Total Return:  1.0534332192921834\n"
     ]
    },
    {
     "name": "stderr",
     "output_type": "stream",
     "text": [
      "/Users/atulkrishnan/Desktop/TradingAlgos/Stock_Picker_Algo/Trade_Functions.py:117: RuntimeWarning: divide by zero encountered in scalar divide\n",
      "  return d/c\n",
      "/Users/atulkrishnan/Desktop/TradingAlgos/Stock_Picker_Algo/Trade_Functions.py:117: RuntimeWarning: divide by zero encountered in scalar divide\n",
      "  return d/c\n"
     ]
    },
    {
     "name": "stdout",
     "output_type": "stream",
     "text": [
      "2023-10-10\n",
      "Total Return:  1.0834291599699846\n",
      "2023-10-11\n",
      "Total Return:  1.0500444240864766\n",
      "2023-10-12\n",
      "Total Return:  0.9727149377771803\n"
     ]
    },
    {
     "name": "stderr",
     "output_type": "stream",
     "text": [
      "/Users/atulkrishnan/Desktop/TradingAlgos/Stock_Picker_Algo/Trade_Functions.py:117: RuntimeWarning: divide by zero encountered in scalar divide\n",
      "  return d/c\n",
      "/Users/atulkrishnan/Desktop/TradingAlgos/Stock_Picker_Algo/Trade_Functions.py:117: RuntimeWarning: divide by zero encountered in scalar divide\n",
      "  return d/c\n"
     ]
    },
    {
     "name": "stdout",
     "output_type": "stream",
     "text": [
      "2023-10-13\n",
      "Total Return:  0.9595828539107251\n",
      "2023-10-16\n",
      "Total Return:  0.9601742516238542\n",
      "2023-10-17\n",
      "Total Return:  0.9470087698813193\n",
      "2023-10-18\n",
      "Total Return:  0.9476965311862621\n",
      "2023-10-19\n",
      "Total Return:  0.9474858855926587\n",
      "2023-10-20\n",
      "Total Return:  0.9478013417449187\n"
     ]
    },
    {
     "name": "stderr",
     "output_type": "stream",
     "text": [
      "/Users/atulkrishnan/Desktop/TradingAlgos/Stock_Picker_Algo/Trade_Functions.py:117: RuntimeWarning: divide by zero encountered in scalar divide\n",
      "  return d/c\n"
     ]
    },
    {
     "name": "stdout",
     "output_type": "stream",
     "text": [
      "2023-10-23\n",
      "Total Return:  0.9604872734158092\n",
      "2023-10-24\n",
      "Total Return:  0.9304776625484659\n",
      "2023-10-25\n",
      "Total Return:  0.867763154297473\n"
     ]
    },
    {
     "name": "stderr",
     "output_type": "stream",
     "text": [
      "/Users/atulkrishnan/Desktop/TradingAlgos/Stock_Picker_Algo/Trade_Functions.py:117: RuntimeWarning: divide by zero encountered in scalar divide\n",
      "  return d/c\n",
      "/Users/atulkrishnan/Desktop/TradingAlgos/Stock_Picker_Algo/Trade_Functions.py:117: RuntimeWarning: divide by zero encountered in scalar divide\n",
      "  return d/c\n"
     ]
    },
    {
     "name": "stdout",
     "output_type": "stream",
     "text": [
      "2023-10-26\n",
      "Total Return:  0.85134013449424\n",
      "2023-10-27\n",
      "Total Return:  0.8500472360861198\n",
      "2023-10-30\n",
      "Total Return:  0.8557926569288841\n",
      "2023-10-31\n",
      "Total Return:  0.8859966078341308\n",
      "2023-11-01\n",
      "Total Return:  0.963792957638892\n",
      "2023-11-02\n",
      "Total Return:  0.9945273733664932\n",
      "2023-11-03\n",
      "Total Return:  1.0079166373061665\n",
      "2023-11-06\n",
      "Total Return:  0.9975576619762951\n",
      "2023-11-07\n",
      "Total Return:  0.9956348946247735\n",
      "2023-11-08\n",
      "Total Return:  0.9821640693000743\n",
      "2023-11-09\n",
      "Total Return:  0.9946654264419481\n",
      "2023-11-10\n",
      "Total Return:  0.9885379452043508\n",
      "2023-11-13\n",
      "Total Return:  1.0284120053960504\n",
      "2023-11-14\n",
      "Total Return:  1.0605928612633613\n",
      "2023-11-15\n",
      "Total Return:  1.050472793168923\n",
      "2023-11-16\n",
      "Total Return:  1.0597014117155503\n",
      "2023-11-17\n",
      "Total Return:  1.0862199671310768\n",
      "2023-11-20\n",
      "Total Return:  1.0979653853630313\n",
      "2023-11-21\n",
      "Total Return:  1.1301378524000423\n",
      "2023-11-22\n",
      "Total Return:  1.1729344616958504\n",
      "2023-11-24\n",
      "Total Return:  1.190541604029115\n"
     ]
    },
    {
     "name": "stderr",
     "output_type": "stream",
     "text": [
      "/Users/atulkrishnan/Desktop/TradingAlgos/Stock_Picker_Algo/Trade_Functions.py:117: RuntimeWarning: divide by zero encountered in scalar divide\n",
      "  return d/c\n",
      "/Users/atulkrishnan/Desktop/TradingAlgos/Stock_Picker_Algo/Trade_Functions.py:117: RuntimeWarning: divide by zero encountered in scalar divide\n",
      "  return d/c\n"
     ]
    },
    {
     "name": "stdout",
     "output_type": "stream",
     "text": [
      "2023-11-27\n",
      "Total Return:  1.1938977394281887\n",
      "2023-11-28\n",
      "Total Return:  1.2163697347714775\n",
      "2023-11-29\n",
      "Total Return:  1.2159130577422017\n"
     ]
    },
    {
     "name": "stderr",
     "output_type": "stream",
     "text": [
      "/Users/atulkrishnan/Desktop/TradingAlgos/Stock_Picker_Algo/Trade_Functions.py:117: RuntimeWarning: divide by zero encountered in scalar divide\n",
      "  return d/c\n"
     ]
    },
    {
     "name": "stdout",
     "output_type": "stream",
     "text": [
      "2023-11-30\n",
      "Total Return:  1.2439797740841505\n",
      "2023-12-01\n",
      "Total Return:  1.2629899025506088\n",
      "2023-12-04\n",
      "Total Return:  1.2676297909736376\n"
     ]
    },
    {
     "name": "stderr",
     "output_type": "stream",
     "text": [
      "/Users/atulkrishnan/Desktop/TradingAlgos/Stock_Picker_Algo/Trade_Functions.py:117: RuntimeWarning: divide by zero encountered in scalar divide\n",
      "  return d/c\n"
     ]
    },
    {
     "name": "stdout",
     "output_type": "stream",
     "text": [
      "2023-12-05\n",
      "Total Return:  1.2676636080898969\n",
      "2023-12-06\n",
      "Total Return:  1.294960658943813\n",
      "2023-12-07\n",
      "Total Return:  1.2955456990631458\n",
      "2023-12-08\n",
      "Total Return:  1.3389440539369164\n",
      "2023-12-11\n",
      "Total Return:  1.3500767151928863\n",
      "2023-12-12\n",
      "Total Return:  1.4147089152004764\n"
     ]
    },
    {
     "name": "stderr",
     "output_type": "stream",
     "text": [
      "/Users/atulkrishnan/Desktop/TradingAlgos/Stock_Picker_Algo/Trade_Functions.py:117: RuntimeWarning: divide by zero encountered in scalar divide\n",
      "  return d/c\n"
     ]
    },
    {
     "name": "stdout",
     "output_type": "stream",
     "text": [
      "2023-12-13\n",
      "Total Return:  1.4545086192689733\n",
      "2023-12-14\n",
      "Total Return:  1.4743309774667523\n",
      "2023-12-15\n",
      "Total Return:  1.431196993097367\n"
     ]
    },
    {
     "name": "stderr",
     "output_type": "stream",
     "text": [
      "/Users/atulkrishnan/Desktop/TradingAlgos/Stock_Picker_Algo/Trade_Functions.py:117: RuntimeWarning: divide by zero encountered in scalar divide\n",
      "  return d/c\n",
      "/Users/atulkrishnan/Desktop/TradingAlgos/Stock_Picker_Algo/Trade_Functions.py:117: RuntimeWarning: divide by zero encountered in scalar divide\n",
      "  return d/c\n"
     ]
    },
    {
     "name": "stdout",
     "output_type": "stream",
     "text": [
      "2023-12-18\n",
      "Total Return:  1.4635254420603392\n",
      "2023-12-19\n",
      "Total Return:  1.426194108275869\n",
      "2023-12-20\n",
      "Total Return:  1.4129524129497277\n"
     ]
    },
    {
     "name": "stderr",
     "output_type": "stream",
     "text": [
      "/Users/atulkrishnan/Desktop/TradingAlgos/Stock_Picker_Algo/Trade_Functions.py:117: RuntimeWarning: divide by zero encountered in scalar divide\n",
      "  return d/c\n",
      "/Users/atulkrishnan/Desktop/TradingAlgos/Stock_Picker_Algo/Trade_Functions.py:117: RuntimeWarning: divide by zero encountered in scalar divide\n",
      "  return d/c\n"
     ]
    },
    {
     "name": "stdout",
     "output_type": "stream",
     "text": [
      "2023-12-21\n",
      "Total Return:  1.42090592682413\n",
      "2023-12-22\n",
      "Total Return:  1.4295295660061882\n",
      "2023-12-26\n",
      "Total Return:  1.4515760883138897\n"
     ]
    },
    {
     "name": "stderr",
     "output_type": "stream",
     "text": [
      "/Users/atulkrishnan/Desktop/TradingAlgos/Stock_Picker_Algo/Trade_Functions.py:117: RuntimeWarning: divide by zero encountered in scalar divide\n",
      "  return d/c\n"
     ]
    },
    {
     "name": "stdout",
     "output_type": "stream",
     "text": [
      "2023-12-27\n",
      "Total Return:  1.451283087881006\n",
      "2023-12-28\n",
      "Total Return:  1.4377244299478362\n",
      "2023-12-29\n",
      "Total Return:  1.3597730649643611\n",
      "2024-01-02\n",
      "Total Return:  1.3861438737653606\n",
      "2024-01-03\n",
      "Total Return:  1.369519725577578\n",
      "2024-01-04\n",
      "Total Return:  1.3783340053588546\n"
     ]
    },
    {
     "name": "stderr",
     "output_type": "stream",
     "text": [
      "/Users/atulkrishnan/Desktop/TradingAlgos/Stock_Picker_Algo/Trade_Functions.py:117: RuntimeWarning: divide by zero encountered in scalar divide\n",
      "  return d/c\n",
      "/Users/atulkrishnan/Desktop/TradingAlgos/Stock_Picker_Algo/Trade_Functions.py:117: RuntimeWarning: divide by zero encountered in scalar divide\n",
      "  return d/c\n"
     ]
    },
    {
     "name": "stdout",
     "output_type": "stream",
     "text": [
      "2024-01-05\n",
      "Total Return:  1.3906832083589526\n",
      "2024-01-08\n",
      "Total Return:  1.5282354935622928\n",
      "2024-01-09\n",
      "Total Return:  1.58825179531945\n"
     ]
    },
    {
     "name": "stderr",
     "output_type": "stream",
     "text": [
      "/Users/atulkrishnan/Desktop/TradingAlgos/Stock_Picker_Algo/Trade_Functions.py:117: RuntimeWarning: divide by zero encountered in scalar divide\n",
      "  return d/c\n",
      "/Users/atulkrishnan/Desktop/TradingAlgos/Stock_Picker_Algo/Trade_Functions.py:117: RuntimeWarning: divide by zero encountered in scalar divide\n",
      "  return d/c\n"
     ]
    },
    {
     "name": "stdout",
     "output_type": "stream",
     "text": [
      "2024-01-10\n",
      "Total Return:  1.602279904488459\n",
      "2024-01-11\n",
      "Total Return:  1.607821208559746\n",
      "2024-01-12\n",
      "Total Return:  1.6109622285562895\n"
     ]
    },
    {
     "name": "stderr",
     "output_type": "stream",
     "text": [
      "/Users/atulkrishnan/Desktop/TradingAlgos/Stock_Picker_Algo/Trade_Functions.py:117: RuntimeWarning: divide by zero encountered in scalar divide\n",
      "  return d/c\n",
      "/Users/atulkrishnan/Desktop/TradingAlgos/Stock_Picker_Algo/Trade_Functions.py:117: RuntimeWarning: divide by zero encountered in scalar divide\n",
      "  return d/c\n",
      "/Users/atulkrishnan/Desktop/TradingAlgos/Stock_Picker_Algo/Trade_Functions.py:117: RuntimeWarning: divide by zero encountered in scalar divide\n",
      "  return d/c\n"
     ]
    },
    {
     "name": "stdout",
     "output_type": "stream",
     "text": [
      "2024-01-16\n",
      "Total Return:  1.5881461215214814\n",
      "2024-01-17\n",
      "Total Return:  1.6147567105079346\n",
      "2024-01-18\n",
      "Total Return:  1.669489365380573\n",
      "2024-01-19\n",
      "Total Return:  1.7061073189973153\n",
      "2024-01-22\n",
      "Total Return:  1.6641468470298577\n",
      "2024-01-23\n",
      "Total Return:  1.7173133683263482\n"
     ]
    },
    {
     "name": "stderr",
     "output_type": "stream",
     "text": [
      "/Users/atulkrishnan/Desktop/TradingAlgos/Stock_Picker_Algo/Trade_Functions.py:117: RuntimeWarning: divide by zero encountered in scalar divide\n",
      "  return d/c\n"
     ]
    },
    {
     "name": "stdout",
     "output_type": "stream",
     "text": [
      "2024-01-24\n",
      "Total Return:  1.7104646695974342\n",
      "2024-01-25\n",
      "Total Return:  1.72637655764705\n",
      "2024-01-26\n",
      "Total Return:  1.7617427712731082\n",
      "2024-01-29\n",
      "Total Return:  1.7706457667063566\n",
      "2024-01-30\n",
      "Total Return:  1.7129846810517018\n",
      "2024-01-31\n",
      "Total Return:  1.8010354005833218\n",
      "2024-02-01\n",
      "Total Return:  1.8332368463232092\n",
      "2024-02-02\n",
      "Total Return:  1.8887033166452025\n",
      "2024-02-05\n",
      "Total Return:  1.9623875931385895\n"
     ]
    },
    {
     "name": "stderr",
     "output_type": "stream",
     "text": [
      "/Users/atulkrishnan/Desktop/TradingAlgos/Stock_Picker_Algo/Trade_Functions.py:117: RuntimeWarning: invalid value encountered in scalar divide\n",
      "  return d/c\n",
      "/Users/atulkrishnan/Desktop/TradingAlgos/Stock_Picker_Algo/Trade_Functions.py:117: RuntimeWarning: divide by zero encountered in scalar divide\n",
      "  return d/c\n"
     ]
    },
    {
     "name": "stdout",
     "output_type": "stream",
     "text": [
      "2024-02-06\n",
      "Total Return:  1.9799764780239253\n",
      "2024-02-07\n",
      "Total Return:  2.0340664181917987\n",
      "2024-02-08\n",
      "Total Return:  2.0308640291860454\n"
     ]
    },
    {
     "name": "stderr",
     "output_type": "stream",
     "text": [
      "/Users/atulkrishnan/Desktop/TradingAlgos/Stock_Picker_Algo/Trade_Functions.py:117: RuntimeWarning: divide by zero encountered in scalar divide\n",
      "  return d/c\n"
     ]
    },
    {
     "name": "stdout",
     "output_type": "stream",
     "text": [
      "2024-02-09\n",
      "Total Return:  2.305182484100281\n",
      "2024-02-12\n",
      "Total Return:  2.240615342517552\n",
      "2024-02-13\n",
      "Total Return:  2.3719773872056873\n",
      "2024-02-14\n",
      "Total Return:  2.5956965064275046\n",
      "2024-02-15\n",
      "Total Return:  2.439001138186633\n",
      "2024-02-16\n",
      "Total Return:  2.166667612860529\n"
     ]
    },
    {
     "name": "stderr",
     "output_type": "stream",
     "text": [
      "/Users/atulkrishnan/Desktop/TradingAlgos/Stock_Picker_Algo/Trade_Functions.py:117: RuntimeWarning: divide by zero encountered in scalar divide\n",
      "  return d/c\n",
      "/Users/atulkrishnan/Desktop/TradingAlgos/Stock_Picker_Algo/Trade_Functions.py:117: RuntimeWarning: divide by zero encountered in scalar divide\n",
      "  return d/c\n"
     ]
    },
    {
     "name": "stdout",
     "output_type": "stream",
     "text": [
      "2024-02-20\n",
      "Total Return:  2.1124571354035133\n",
      "2024-02-21\n",
      "Total Return:  2.122172772288276\n",
      "2024-02-22\n",
      "Total Return:  2.127069347812402\n",
      "2024-02-23\n",
      "Total Return:  2.025724081242047\n",
      "2024-02-26\n",
      "Total Return:  2.0099558791186056\n",
      "2024-02-27\n",
      "Total Return:  1.9378248494639378\n"
     ]
    },
    {
     "name": "stderr",
     "output_type": "stream",
     "text": [
      "/Users/atulkrishnan/Desktop/TradingAlgos/Stock_Picker_Algo/Trade_Functions.py:117: RuntimeWarning: divide by zero encountered in scalar divide\n",
      "  return d/c\n",
      "/Users/atulkrishnan/Desktop/TradingAlgos/Stock_Picker_Algo/Trade_Functions.py:117: RuntimeWarning: divide by zero encountered in scalar divide\n",
      "  return d/c\n",
      "/Users/atulkrishnan/Desktop/TradingAlgos/Stock_Picker_Algo/Trade_Functions.py:117: RuntimeWarning: divide by zero encountered in scalar divide\n",
      "  return d/c\n"
     ]
    },
    {
     "name": "stdout",
     "output_type": "stream",
     "text": [
      "2024-02-28\n",
      "Total Return:  1.978017386640415\n",
      "2024-02-29\n",
      "Total Return:  1.9337119461726995\n",
      "2024-03-01\n",
      "Total Return:  1.9892232633655693\n",
      "2024-03-04\n",
      "Total Return:  2.0221192731204676\n",
      "2024-03-05\n",
      "Total Return:  2.0852207063186134\n",
      "2024-03-06\n",
      "Total Return:  2.1340216360534847\n",
      "2024-03-07\n",
      "Total Return:  2.1217019230585255\n",
      "2024-03-08\n",
      "Total Return:  2.068219430783703\n",
      "2024-03-11\n",
      "Total Return:  2.126347401157609\n",
      "2024-03-12\n",
      "Total Return:  2.064648201445395\n",
      "2024-03-13\n",
      "Total Return:  2.0031012549409244\n",
      "2024-03-14\n",
      "Total Return:  1.932508638526574\n"
     ]
    },
    {
     "name": "stderr",
     "output_type": "stream",
     "text": [
      "/Users/atulkrishnan/Desktop/TradingAlgos/Stock_Picker_Algo/Trade_Functions.py:117: RuntimeWarning: divide by zero encountered in scalar divide\n",
      "  return d/c\n"
     ]
    },
    {
     "name": "stdout",
     "output_type": "stream",
     "text": [
      "2024-03-15\n",
      "Total Return:  1.9926099751291653\n",
      "2024-03-18\n",
      "Total Return:  1.9733778708988188\n",
      "2024-03-19\n",
      "Total Return:  2.0060006493990508\n",
      "2024-03-20\n",
      "Total Return:  2.000664126878022\n",
      "2024-03-21\n",
      "Total Return:  1.9944681014331913\n",
      "2024-03-22\n",
      "Total Return:  2.0651652386822255\n"
     ]
    },
    {
     "name": "stderr",
     "output_type": "stream",
     "text": [
      "/Users/atulkrishnan/Desktop/TradingAlgos/Stock_Picker_Algo/Trade_Functions.py:117: RuntimeWarning: divide by zero encountered in scalar divide\n",
      "  return d/c\n",
      "/Users/atulkrishnan/Desktop/TradingAlgos/Stock_Picker_Algo/Trade_Functions.py:117: RuntimeWarning: divide by zero encountered in scalar divide\n",
      "  return d/c\n",
      "/Users/atulkrishnan/Desktop/TradingAlgos/Stock_Picker_Algo/Trade_Functions.py:117: RuntimeWarning: divide by zero encountered in scalar divide\n",
      "  return d/c\n"
     ]
    },
    {
     "name": "stdout",
     "output_type": "stream",
     "text": [
      "2024-03-25\n",
      "Total Return:  2.1487062838741133\n",
      "2024-03-26\n",
      "Total Return:  2.089335921087279\n",
      "2024-03-27\n",
      "Total Return:  2.045636595957373\n"
     ]
    },
    {
     "name": "stderr",
     "output_type": "stream",
     "text": [
      "/Users/atulkrishnan/Desktop/TradingAlgos/Stock_Picker_Algo/Trade_Functions.py:117: RuntimeWarning: divide by zero encountered in scalar divide\n",
      "  return d/c\n"
     ]
    },
    {
     "name": "stdout",
     "output_type": "stream",
     "text": [
      "2024-03-28\n",
      "Total Return:  2.066934660185985\n",
      "2024-04-01\n",
      "Total Return:  2.042736434363371\n",
      "2024-04-02\n",
      "Total Return:  2.08557295471638\n",
      "2024-04-03\n",
      "Total Return:  2.091366159297854\n",
      "2024-04-04\n",
      "Total Return:  2.05992434511314\n",
      "2024-04-05\n",
      "Total Return:  2.0709340140584955\n",
      "2024-04-08\n",
      "Total Return:  2.0553764592668244\n",
      "2024-04-09\n",
      "Total Return:  1.9852166871346788\n",
      "2024-04-10\n",
      "Total Return:  1.981502092247862\n",
      "2024-04-11\n",
      "Total Return:  1.9396644352098855\n",
      "2024-04-12\n",
      "Total Return:  1.840719504186103\n",
      "2024-04-15\n",
      "Total Return:  1.7897763947698522\n",
      "2024-04-16\n",
      "Total Return:  1.7559537201451567\n",
      "2024-04-17\n",
      "Total Return:  1.690681119010489\n",
      "2024-04-18\n",
      "Total Return:  1.5477432667801148\n"
     ]
    },
    {
     "name": "stderr",
     "output_type": "stream",
     "text": [
      "/Users/atulkrishnan/Desktop/TradingAlgos/Stock_Picker_Algo/Trade_Functions.py:117: RuntimeWarning: divide by zero encountered in scalar divide\n",
      "  return d/c\n"
     ]
    },
    {
     "name": "stdout",
     "output_type": "stream",
     "text": [
      "2024-04-19\n",
      "Total Return:  1.5857179550564946\n",
      "2024-04-22\n",
      "Total Return:  1.593328811604842\n",
      "2024-04-23\n",
      "Total Return:  1.610839320307023\n",
      "2024-04-24\n",
      "Total Return:  1.5752921310596104\n",
      "2024-04-25\n",
      "Total Return:  1.64824579162423\n",
      "2024-04-26\n",
      "Total Return:  1.778740878519606\n"
     ]
    },
    {
     "name": "stderr",
     "output_type": "stream",
     "text": [
      "/Users/atulkrishnan/Desktop/TradingAlgos/Stock_Picker_Algo/Trade_Functions.py:117: RuntimeWarning: divide by zero encountered in scalar divide\n",
      "  return d/c\n",
      "/Users/atulkrishnan/Desktop/TradingAlgos/Stock_Picker_Algo/Trade_Functions.py:117: RuntimeWarning: divide by zero encountered in scalar divide\n",
      "  return d/c\n"
     ]
    },
    {
     "name": "stdout",
     "output_type": "stream",
     "text": [
      "2024-04-29\n",
      "Total Return:  1.7626334286502554\n",
      "2024-04-30\n",
      "Total Return:  1.640002204394778\n",
      "2024-05-01\n",
      "Total Return:  1.6585222891854703\n"
     ]
    },
    {
     "name": "stderr",
     "output_type": "stream",
     "text": [
      "/Users/atulkrishnan/Desktop/TradingAlgos/Stock_Picker_Algo/Trade_Functions.py:117: RuntimeWarning: divide by zero encountered in scalar divide\n",
      "  return d/c\n",
      "/Users/atulkrishnan/Desktop/TradingAlgos/Stock_Picker_Algo/Trade_Functions.py:117: RuntimeWarning: divide by zero encountered in scalar divide\n",
      "  return d/c\n"
     ]
    },
    {
     "name": "stdout",
     "output_type": "stream",
     "text": [
      "2024-05-02\n",
      "Total Return:  1.686371181576638\n",
      "2024-05-03\n",
      "Total Return:  1.6767575529979108\n",
      "2024-05-06\n",
      "Total Return:  1.6243806222667487\n",
      "2024-05-07\n",
      "Total Return:  1.6370632950558912\n",
      "2024-05-08\n",
      "Total Return:  1.5969418701570928\n",
      "2024-05-09\n",
      "Total Return:  1.6122616913359629\n"
     ]
    },
    {
     "name": "stderr",
     "output_type": "stream",
     "text": [
      "/Users/atulkrishnan/Desktop/TradingAlgos/Stock_Picker_Algo/Trade_Functions.py:117: RuntimeWarning: divide by zero encountered in scalar divide\n",
      "  return d/c\n"
     ]
    },
    {
     "name": "stdout",
     "output_type": "stream",
     "text": [
      "2024-05-10\n",
      "Total Return:  1.5961196529640997\n",
      "2024-05-13\n",
      "Total Return:  1.6167757369967823\n",
      "2024-05-14\n",
      "Total Return:  1.6200459801530025\n",
      "2024-05-15\n",
      "Total Return:  1.6180591724438638\n",
      "2024-05-16\n",
      "Total Return:  1.6002816166319178\n",
      "2024-05-17\n",
      "Total Return:  1.6156276310871904\n"
     ]
    },
    {
     "name": "stderr",
     "output_type": "stream",
     "text": [
      "/Users/atulkrishnan/Desktop/TradingAlgos/Stock_Picker_Algo/Trade_Functions.py:117: RuntimeWarning: divide by zero encountered in scalar divide\n",
      "  return d/c\n"
     ]
    },
    {
     "name": "stdout",
     "output_type": "stream",
     "text": [
      "2024-05-20\n",
      "Total Return:  1.6113771605485248\n",
      "2024-05-21\n",
      "Total Return:  1.6970932614694278\n",
      "2024-05-22\n",
      "Total Return:  1.7448468673569983\n"
     ]
    },
    {
     "name": "stderr",
     "output_type": "stream",
     "text": [
      "/Users/atulkrishnan/Desktop/TradingAlgos/Stock_Picker_Algo/Trade_Functions.py:117: RuntimeWarning: divide by zero encountered in scalar divide\n",
      "  return d/c\n"
     ]
    },
    {
     "name": "stdout",
     "output_type": "stream",
     "text": [
      "2024-05-23\n",
      "Total Return:  1.7469048223093027\n",
      "2024-05-24\n",
      "Total Return:  1.7552122200077418\n",
      "2024-05-28\n",
      "Total Return:  1.7423321999998223\n",
      "2024-05-29\n",
      "Total Return:  1.7128252667280428\n",
      "2024-05-30\n",
      "Total Return:  1.684272601716738\n",
      "2024-05-31\n",
      "Total Return:  1.7034860766927746\n"
     ]
    },
    {
     "name": "stderr",
     "output_type": "stream",
     "text": [
      "/Users/atulkrishnan/Desktop/TradingAlgos/Stock_Picker_Algo/Trade_Functions.py:117: RuntimeWarning: divide by zero encountered in scalar divide\n",
      "  return d/c\n"
     ]
    },
    {
     "name": "stdout",
     "output_type": "stream",
     "text": [
      "2024-06-03\n",
      "Total Return:  1.6693281885638185\n",
      "2024-06-04\n",
      "Total Return:  1.7147717941848906\n",
      "2024-06-05\n",
      "Total Return:  1.7796851761969537\n",
      "2024-06-06\n",
      "Total Return:  1.7871438406472882\n",
      "2024-06-07\n",
      "Total Return:  1.8159769264133145\n",
      "2024-06-10\n",
      "Total Return:  1.8272718473999177\n"
     ]
    },
    {
     "name": "stderr",
     "output_type": "stream",
     "text": [
      "/Users/atulkrishnan/Desktop/TradingAlgos/Stock_Picker_Algo/Trade_Functions.py:117: RuntimeWarning: divide by zero encountered in scalar divide\n",
      "  return d/c\n"
     ]
    },
    {
     "name": "stdout",
     "output_type": "stream",
     "text": [
      "2024-06-11\n",
      "Total Return:  1.8930022309670194\n",
      "2024-06-12\n",
      "Total Return:  1.9292302281743605\n",
      "2024-06-13\n",
      "Total Return:  1.9133802722961513\n"
     ]
    },
    {
     "name": "stderr",
     "output_type": "stream",
     "text": [
      "/Users/atulkrishnan/Desktop/TradingAlgos/Stock_Picker_Algo/Trade_Functions.py:117: RuntimeWarning: divide by zero encountered in scalar divide\n",
      "  return d/c\n",
      "/Users/atulkrishnan/Desktop/TradingAlgos/Stock_Picker_Algo/Trade_Functions.py:117: RuntimeWarning: divide by zero encountered in scalar divide\n",
      "  return d/c\n",
      "/Users/atulkrishnan/Desktop/TradingAlgos/Stock_Picker_Algo/Trade_Functions.py:117: RuntimeWarning: divide by zero encountered in scalar divide\n",
      "  return d/c\n"
     ]
    },
    {
     "name": "stdout",
     "output_type": "stream",
     "text": [
      "2024-06-14\n",
      "Total Return:  1.9991131471419918\n",
      "2024-06-17\n",
      "Total Return:  2.0445727077446807\n",
      "2024-06-18\n",
      "Total Return:  2.025073081324293\n",
      "2024-06-20\n",
      "Total Return:  1.8605971782996258\n",
      "2024-06-21\n",
      "Total Return:  1.8363833523770279\n",
      "2024-06-24\n",
      "Total Return:  1.842441118528507\n"
     ]
    },
    {
     "name": "stderr",
     "output_type": "stream",
     "text": [
      "/Users/atulkrishnan/Desktop/TradingAlgos/Stock_Picker_Algo/Trade_Functions.py:117: RuntimeWarning: divide by zero encountered in scalar divide\n",
      "  return d/c\n"
     ]
    },
    {
     "name": "stdout",
     "output_type": "stream",
     "text": [
      "2024-06-25\n",
      "Total Return:  1.8829190012454107\n",
      "2024-06-26\n",
      "Total Return:  1.8626425399170379\n",
      "2024-06-27\n",
      "Total Return:  1.872525909411102\n"
     ]
    },
    {
     "name": "stderr",
     "output_type": "stream",
     "text": [
      "/Users/atulkrishnan/Desktop/TradingAlgos/Stock_Picker_Algo/Trade_Functions.py:117: RuntimeWarning: divide by zero encountered in scalar divide\n",
      "  return d/c\n",
      "/Users/atulkrishnan/Desktop/TradingAlgos/Stock_Picker_Algo/Trade_Functions.py:117: RuntimeWarning: divide by zero encountered in scalar divide\n",
      "  return d/c\n"
     ]
    },
    {
     "name": "stdout",
     "output_type": "stream",
     "text": [
      "2024-06-28\n",
      "Total Return:  1.922176591421238\n",
      "2024-07-01\n",
      "Total Return:  1.9667713213752362\n",
      "2024-07-02\n",
      "Total Return:  2.0516414345469003\n"
     ]
    },
    {
     "name": "stderr",
     "output_type": "stream",
     "text": [
      "/Users/atulkrishnan/Desktop/TradingAlgos/Stock_Picker_Algo/Trade_Functions.py:117: RuntimeWarning: divide by zero encountered in scalar divide\n",
      "  return d/c\n"
     ]
    },
    {
     "name": "stdout",
     "output_type": "stream",
     "text": [
      "2024-07-03\n",
      "Total Return:  2.1209844328034393\n",
      "2024-07-05\n",
      "Total Return:  2.1781389002472182\n",
      "2024-07-08\n",
      "Total Return:  2.2094305247245876\n"
     ]
    },
    {
     "name": "stderr",
     "output_type": "stream",
     "text": [
      "/Users/atulkrishnan/Desktop/TradingAlgos/Stock_Picker_Algo/Trade_Functions.py:117: RuntimeWarning: divide by zero encountered in scalar divide\n",
      "  return d/c\n",
      "/Users/atulkrishnan/Desktop/TradingAlgos/Stock_Picker_Algo/Trade_Functions.py:117: RuntimeWarning: divide by zero encountered in scalar divide\n",
      "  return d/c\n"
     ]
    },
    {
     "name": "stdout",
     "output_type": "stream",
     "text": [
      "2024-07-09\n",
      "Total Return:  2.2324885286695526\n",
      "2024-07-10\n",
      "Total Return:  2.1758017288203857\n",
      "2024-07-11\n",
      "Total Return:  2.122284228371882\n"
     ]
    },
    {
     "name": "stderr",
     "output_type": "stream",
     "text": [
      "/Users/atulkrishnan/Desktop/TradingAlgos/Stock_Picker_Algo/Trade_Functions.py:117: RuntimeWarning: divide by zero encountered in scalar divide\n",
      "  return d/c\n"
     ]
    },
    {
     "name": "stdout",
     "output_type": "stream",
     "text": [
      "2024-07-12\n",
      "Total Return:  2.1032270987312467\n",
      "2024-07-15\n",
      "Total Return:  2.1765252672925763\n",
      "2024-07-16\n",
      "Total Return:  2.189305756645534\n",
      "2024-07-17\n",
      "Total Return:  2.1701851267627323\n",
      "2024-07-18\n",
      "Total Return:  2.1070053418246237\n",
      "2024-07-19\n",
      "Total Return:  2.1061513702931958\n"
     ]
    },
    {
     "name": "stderr",
     "output_type": "stream",
     "text": [
      "/Users/atulkrishnan/Desktop/TradingAlgos/Stock_Picker_Algo/Trade_Functions.py:117: RuntimeWarning: divide by zero encountered in scalar divide\n",
      "  return d/c\n"
     ]
    },
    {
     "name": "stdout",
     "output_type": "stream",
     "text": [
      "2024-07-22\n",
      "Total Return:  2.06776536103249\n",
      "2024-07-23\n",
      "Total Return:  1.9490032964187152\n",
      "2024-07-24\n",
      "Total Return:  1.8067887791644066\n",
      "2024-07-25\n",
      "Total Return:  1.8351645088046453\n",
      "2024-07-26\n",
      "Total Return:  1.8668192298317132\n",
      "2024-07-29\n",
      "Total Return:  1.8915907955675393\n",
      "2024-07-30\n",
      "Total Return:  1.901796727218663\n",
      "2024-07-31\n",
      "Total Return:  1.8783732289436883\n",
      "2024-08-01\n",
      "Total Return:  1.6945479577259652\n"
     ]
    },
    {
     "name": "stderr",
     "output_type": "stream",
     "text": [
      "/Users/atulkrishnan/Desktop/TradingAlgos/Stock_Picker_Algo/Trade_Functions.py:117: RuntimeWarning: divide by zero encountered in scalar divide\n",
      "  return d/c\n"
     ]
    },
    {
     "name": "stdout",
     "output_type": "stream",
     "text": [
      "2024-08-02\n",
      "Total Return:  1.6548348435838538\n",
      "2024-08-05\n",
      "Total Return:  1.8359768847734454\n",
      "2024-08-06\n",
      "Total Return:  1.825165987683507\n",
      "2024-08-07\n",
      "Total Return:  1.8255280331404107\n",
      "2024-08-08\n",
      "Total Return:  1.8620597507229601\n",
      "2024-08-09\n",
      "Total Return:  1.8557118239258636\n",
      "2024-08-12\n",
      "Total Return:  1.884226979186446\n",
      "2024-08-13\n",
      "Total Return:  1.8926600727955822\n",
      "2024-08-14\n",
      "Total Return:  1.9583121724515973\n",
      "2024-08-15\n",
      "Total Return:  1.9978041500604484\n",
      "2024-08-16\n",
      "Total Return:  2.0371539966502943\n",
      "2024-08-19\n",
      "Total Return:  2.0424012710721224\n",
      "2024-08-20\n",
      "Total Return:  2.0175915051824633\n",
      "2024-08-21\n",
      "Total Return:  1.9660882483075954\n",
      "2024-08-22\n",
      "Total Return:  1.953913675395658\n"
     ]
    },
    {
     "name": "stderr",
     "output_type": "stream",
     "text": [
      "/Users/atulkrishnan/Desktop/TradingAlgos/Stock_Picker_Algo/Trade_Functions.py:117: RuntimeWarning: divide by zero encountered in scalar divide\n",
      "  return d/c\n"
     ]
    },
    {
     "name": "stdout",
     "output_type": "stream",
     "text": [
      "2024-08-23\n",
      "Total Return:  1.9170125866654266\n",
      "2024-08-26\n",
      "Total Return:  1.9136021029485706\n",
      "2024-08-27\n",
      "Total Return:  1.8880889946034278\n",
      "2024-08-28\n",
      "Total Return:  1.8354893246145676\n",
      "2024-08-29\n",
      "Total Return:  1.8280125777229315\n",
      "2024-08-30\n",
      "Total Return:  1.7910412632241437\n"
     ]
    },
    {
     "name": "stderr",
     "output_type": "stream",
     "text": [
      "/Users/atulkrishnan/Desktop/TradingAlgos/Stock_Picker_Algo/Trade_Functions.py:117: RuntimeWarning: divide by zero encountered in scalar divide\n",
      "  return d/c\n"
     ]
    },
    {
     "name": "stdout",
     "output_type": "stream",
     "text": [
      "2024-09-03\n",
      "Total Return:  1.70269653450837\n",
      "2024-09-04\n",
      "Total Return:  1.6698194022020043\n",
      "2024-09-05\n",
      "Total Return:  1.6510751655802338\n",
      "2024-09-06\n",
      "Total Return:  1.6027090626113563\n",
      "2024-09-09\n",
      "Total Return:  1.5925422755898593\n",
      "2024-09-10\n",
      "Total Return:  1.6107754068800375\n",
      "2024-09-11\n",
      "Total Return:  1.647115327748411\n",
      "2024-09-12\n",
      "Total Return:  1.7355432804088706\n",
      "2024-09-13\n",
      "Total Return:  1.7002656115190709\n"
     ]
    },
    {
     "name": "stderr",
     "output_type": "stream",
     "text": [
      "/Users/atulkrishnan/Desktop/TradingAlgos/Stock_Picker_Algo/Trade_Functions.py:117: RuntimeWarning: divide by zero encountered in scalar divide\n",
      "  return d/c\n"
     ]
    },
    {
     "name": "stdout",
     "output_type": "stream",
     "text": [
      "2024-09-16\n",
      "Total Return:  1.6886664707767256\n",
      "2024-09-17\n",
      "Total Return:  1.6730808909744992\n",
      "2024-09-18\n",
      "Total Return:  1.6392283220515411\n"
     ]
    },
    {
     "name": "stderr",
     "output_type": "stream",
     "text": [
      "/Users/atulkrishnan/Desktop/TradingAlgos/Stock_Picker_Algo/Trade_Functions.py:117: RuntimeWarning: divide by zero encountered in scalar divide\n",
      "  return d/c\n",
      "/Users/atulkrishnan/Desktop/TradingAlgos/Stock_Picker_Algo/Trade_Functions.py:117: RuntimeWarning: divide by zero encountered in scalar divide\n",
      "  return d/c\n"
     ]
    },
    {
     "name": "stdout",
     "output_type": "stream",
     "text": [
      "2024-09-19\n",
      "Total Return:  1.6001165556705867\n",
      "2024-09-20\n",
      "Total Return:  1.6296759286004794\n",
      "2024-09-23\n",
      "Total Return:  1.6000335306266038\n"
     ]
    },
    {
     "name": "stderr",
     "output_type": "stream",
     "text": [
      "/Users/atulkrishnan/Desktop/TradingAlgos/Stock_Picker_Algo/Trade_Functions.py:117: RuntimeWarning: invalid value encountered in scalar divide\n",
      "  return d/c\n",
      "/Users/atulkrishnan/Desktop/TradingAlgos/Stock_Picker_Algo/Trade_Functions.py:117: RuntimeWarning: divide by zero encountered in scalar divide\n",
      "  return d/c\n"
     ]
    },
    {
     "name": "stdout",
     "output_type": "stream",
     "text": [
      "2024-09-24\n",
      "Total Return:  1.63444852777259\n",
      "2024-09-25\n",
      "Total Return:  1.7556057384074544\n",
      "2024-09-26\n",
      "Total Return:  1.7576415780816146\n"
     ]
    },
    {
     "name": "stderr",
     "output_type": "stream",
     "text": [
      "/Users/atulkrishnan/Desktop/TradingAlgos/Stock_Picker_Algo/Trade_Functions.py:117: RuntimeWarning: divide by zero encountered in scalar divide\n",
      "  return d/c\n",
      "/Users/atulkrishnan/Desktop/TradingAlgos/Stock_Picker_Algo/Trade_Functions.py:117: RuntimeWarning: divide by zero encountered in scalar divide\n",
      "  return d/c\n"
     ]
    },
    {
     "name": "stdout",
     "output_type": "stream",
     "text": [
      "2024-09-27\n",
      "Total Return:  1.6988083335986337\n",
      "2024-09-30\n",
      "Total Return:  1.6594055841692272\n",
      "2024-10-01\n",
      "Total Return:  1.7237108513904351\n"
     ]
    },
    {
     "name": "stderr",
     "output_type": "stream",
     "text": [
      "/Users/atulkrishnan/Desktop/TradingAlgos/Stock_Picker_Algo/Trade_Functions.py:117: RuntimeWarning: divide by zero encountered in scalar divide\n",
      "  return d/c\n",
      "/Users/atulkrishnan/Desktop/TradingAlgos/Stock_Picker_Algo/Trade_Functions.py:117: RuntimeWarning: divide by zero encountered in scalar divide\n",
      "  return d/c\n"
     ]
    },
    {
     "name": "stdout",
     "output_type": "stream",
     "text": [
      "2024-10-02\n",
      "Total Return:  1.7379447811570783\n",
      "2024-10-03\n",
      "Total Return:  1.8206730710264876\n",
      "2024-10-04\n",
      "Total Return:  1.8677749821867673\n"
     ]
    },
    {
     "name": "stderr",
     "output_type": "stream",
     "text": [
      "/Users/atulkrishnan/Desktop/TradingAlgos/Stock_Picker_Algo/Trade_Functions.py:117: RuntimeWarning: divide by zero encountered in scalar divide\n",
      "  return d/c\n",
      "/Users/atulkrishnan/Desktop/TradingAlgos/Stock_Picker_Algo/Trade_Functions.py:117: RuntimeWarning: divide by zero encountered in scalar divide\n",
      "  return d/c\n"
     ]
    },
    {
     "name": "stdout",
     "output_type": "stream",
     "text": [
      "2024-10-07\n",
      "Total Return:  1.8548527025585269\n",
      "2024-10-08\n",
      "Total Return:  1.8101914860802502\n",
      "2024-10-09\n",
      "Total Return:  1.839822599557119\n"
     ]
    },
    {
     "name": "stderr",
     "output_type": "stream",
     "text": [
      "/Users/atulkrishnan/Desktop/TradingAlgos/Stock_Picker_Algo/Trade_Functions.py:117: RuntimeWarning: divide by zero encountered in scalar divide\n",
      "  return d/c\n"
     ]
    },
    {
     "name": "stdout",
     "output_type": "stream",
     "text": [
      "2024-10-10\n",
      "Total Return:  1.9203812234586093\n",
      "2024-10-11\n",
      "Total Return:  1.94849876245419\n",
      "2024-10-14\n",
      "Total Return:  1.8958846899786936\n",
      "2024-10-15\n",
      "Total Return:  1.881164486947206\n",
      "2024-10-16\n",
      "Total Return:  1.8786801161267026\n",
      "2024-10-17\n",
      "Total Return:  1.840802254501733\n",
      "2024-10-18\n",
      "Total Return:  1.850401222299623\n",
      "2024-10-21\n",
      "Total Return:  1.8447143544201716\n",
      "2024-10-22\n",
      "Total Return:  1.8145705305513693\n"
     ]
    },
    {
     "name": "stderr",
     "output_type": "stream",
     "text": [
      "/Users/atulkrishnan/Desktop/TradingAlgos/Stock_Picker_Algo/Trade_Functions.py:117: RuntimeWarning: divide by zero encountered in scalar divide\n",
      "  return d/c\n",
      "/Users/atulkrishnan/Desktop/TradingAlgos/Stock_Picker_Algo/Trade_Functions.py:117: RuntimeWarning: divide by zero encountered in scalar divide\n",
      "  return d/c\n"
     ]
    },
    {
     "name": "stdout",
     "output_type": "stream",
     "text": [
      "2024-10-23\n",
      "Total Return:  1.7635888828753228\n",
      "2024-10-24\n",
      "Total Return:  1.7903746188135838\n",
      "2024-10-25\n",
      "Total Return:  1.7857427218368116\n",
      "2024-10-28\n",
      "Total Return:  1.7973650124626266\n",
      "2024-10-29\n",
      "Total Return:  1.8108523685910392\n",
      "2024-10-30\n",
      "Total Return:  1.7218278084104834\n",
      "2024-10-31\n",
      "Total Return:  1.6961922921704993\n",
      "2024-11-01\n",
      "Total Return:  1.7025511486767715\n",
      "2024-11-04\n",
      "Total Return:  1.7405694492242902\n"
     ]
    },
    {
     "name": "stderr",
     "output_type": "stream",
     "text": [
      "[I 2024-11-14 10:48:32,796] Trial 0 finished with values: [1.9440433527770558, 0.8704453441295547] and parameters: {'TimeInput': 3, 'NumStocks': 3, 'holdTime': 1}.\n"
     ]
    },
    {
     "name": "stdout",
     "output_type": "stream",
     "text": [
      "2024-11-05\n",
      "Total Return:  1.7997509515396652\n",
      "2024-11-06\n",
      "Total Return:  1.9440433527770558\n",
      "UNABLE TO FIND:--- ARM ----\n",
      "2023-01-05\n",
      "Total Return:  0.9893919836681614\n",
      "UNABLE TO FIND:--- ARM ----\n"
     ]
    },
    {
     "name": "stderr",
     "output_type": "stream",
     "text": [
      "/Users/atulkrishnan/Desktop/TradingAlgos/Stock_Picker_Algo/Trade_Functions.py:117: RuntimeWarning: divide by zero encountered in scalar divide\n",
      "  return d/c\n"
     ]
    },
    {
     "name": "stdout",
     "output_type": "stream",
     "text": [
      "2023-01-06\n",
      "Total Return:  1.0557757784818589\n",
      "UNABLE TO FIND:--- ARM ----\n",
      "2023-01-09\n",
      "Total Return:  1.1642268499602921\n",
      "UNABLE TO FIND:--- ARM ----\n",
      "2023-01-10\n",
      "Total Return:  1.243157501398602\n",
      "UNABLE TO FIND:--- ARM ----\n",
      "2023-01-11\n",
      "Total Return:  1.2692174319809206\n",
      "UNABLE TO FIND:--- ARM ----\n",
      "2023-01-12\n",
      "Total Return:  1.3049700970614342\n",
      "UNABLE TO FIND:--- ARM ----\n",
      "2023-01-13\n",
      "Total Return:  1.386678184740925\n",
      "UNABLE TO FIND:--- ARM ----\n",
      "2023-01-17\n",
      "Total Return:  1.370839919166405\n",
      "UNABLE TO FIND:--- ARM ----\n",
      "2023-01-18\n",
      "Total Return:  1.3147664745282388\n",
      "UNABLE TO FIND:--- ARM ----\n",
      "2023-01-19\n",
      "Total Return:  1.3810726152653368\n",
      "UNABLE TO FIND:--- ARM ----\n"
     ]
    },
    {
     "name": "stderr",
     "output_type": "stream",
     "text": [
      "/Users/atulkrishnan/Desktop/TradingAlgos/Stock_Picker_Algo/Trade_Functions.py:117: RuntimeWarning: divide by zero encountered in scalar divide\n",
      "  return d/c\n",
      "/Users/atulkrishnan/Desktop/TradingAlgos/Stock_Picker_Algo/Trade_Functions.py:117: RuntimeWarning: divide by zero encountered in scalar divide\n",
      "  return d/c\n"
     ]
    },
    {
     "name": "stdout",
     "output_type": "stream",
     "text": [
      "2023-01-20\n",
      "Total Return:  1.404611042978946\n",
      "UNABLE TO FIND:--- ARM ----\n",
      "2023-01-23\n",
      "Total Return:  1.4635591530419039\n",
      "UNABLE TO FIND:--- ARM ----\n",
      "2023-01-24\n",
      "Total Return:  1.4781946696112922\n",
      "UNABLE TO FIND:--- ARM ----\n",
      "2023-01-25\n",
      "Total Return:  1.4958229218392836\n",
      "UNABLE TO FIND:--- ARM ----\n",
      "2023-01-26\n",
      "Total Return:  1.5151303758013446\n",
      "UNABLE TO FIND:--- ARM ----\n",
      "2023-01-27\n",
      "Total Return:  1.5545874860910178\n",
      "UNABLE TO FIND:--- ARM ----\n"
     ]
    },
    {
     "name": "stderr",
     "output_type": "stream",
     "text": [
      "/Users/atulkrishnan/Desktop/TradingAlgos/Stock_Picker_Algo/Trade_Functions.py:117: RuntimeWarning: divide by zero encountered in scalar divide\n",
      "  return d/c\n",
      "/Users/atulkrishnan/Desktop/TradingAlgos/Stock_Picker_Algo/Trade_Functions.py:117: RuntimeWarning: divide by zero encountered in scalar divide\n",
      "  return d/c\n"
     ]
    },
    {
     "name": "stdout",
     "output_type": "stream",
     "text": [
      "2023-01-30\n",
      "Total Return:  1.5124158473622524\n",
      "UNABLE TO FIND:--- ARM ----\n",
      "2023-01-31\n",
      "Total Return:  1.667177202393194\n",
      "UNABLE TO FIND:--- ARM ----\n",
      "2023-02-01\n",
      "Total Return:  1.8050460642890835\n",
      "UNABLE TO FIND:--- ARM ----\n"
     ]
    },
    {
     "name": "stderr",
     "output_type": "stream",
     "text": [
      "/Users/atulkrishnan/Desktop/TradingAlgos/Stock_Picker_Algo/Trade_Functions.py:117: RuntimeWarning: divide by zero encountered in scalar divide\n",
      "  return d/c\n"
     ]
    },
    {
     "name": "stdout",
     "output_type": "stream",
     "text": [
      "2023-02-02\n",
      "Total Return:  1.8305804741886422\n",
      "UNABLE TO FIND:--- ARM ----\n",
      "2023-02-03\n",
      "Total Return:  1.856422283164592\n",
      "UNABLE TO FIND:--- ARM ----\n",
      "2023-02-06\n",
      "Total Return:  1.9070799933705878\n",
      "UNABLE TO FIND:--- ARM ----\n",
      "2023-02-07\n",
      "Total Return:  1.8849858053916573\n",
      "UNABLE TO FIND:--- ARM ----\n",
      "2023-02-08\n",
      "Total Return:  1.7651403739145872\n",
      "UNABLE TO FIND:--- ARM ----\n",
      "2023-02-09\n",
      "Total Return:  1.651529454035109\n",
      "UNABLE TO FIND:--- ARM ----\n"
     ]
    },
    {
     "name": "stderr",
     "output_type": "stream",
     "text": [
      "/Users/atulkrishnan/Desktop/TradingAlgos/Stock_Picker_Algo/Trade_Functions.py:117: RuntimeWarning: divide by zero encountered in scalar divide\n",
      "  return d/c\n",
      "/Users/atulkrishnan/Desktop/TradingAlgos/Stock_Picker_Algo/Trade_Functions.py:117: RuntimeWarning: divide by zero encountered in scalar divide\n",
      "  return d/c\n"
     ]
    },
    {
     "name": "stdout",
     "output_type": "stream",
     "text": [
      "2023-02-10\n",
      "Total Return:  1.5895450660962729\n",
      "UNABLE TO FIND:--- ARM ----\n",
      "2023-02-13\n",
      "Total Return:  1.6275813779010087\n",
      "UNABLE TO FIND:--- ARM ----\n",
      "2023-02-14\n",
      "Total Return:  1.699557539281567\n",
      "UNABLE TO FIND:--- ARM ----\n"
     ]
    },
    {
     "name": "stderr",
     "output_type": "stream",
     "text": [
      "/Users/atulkrishnan/Desktop/TradingAlgos/Stock_Picker_Algo/Trade_Functions.py:117: RuntimeWarning: divide by zero encountered in scalar divide\n",
      "  return d/c\n",
      "/Users/atulkrishnan/Desktop/TradingAlgos/Stock_Picker_Algo/Trade_Functions.py:117: RuntimeWarning: divide by zero encountered in scalar divide\n",
      "  return d/c\n"
     ]
    },
    {
     "name": "stdout",
     "output_type": "stream",
     "text": [
      "2023-02-15\n",
      "Total Return:  1.7094409855436883\n",
      "UNABLE TO FIND:--- ARM ----\n",
      "2023-02-16\n",
      "Total Return:  1.5882787010872645\n",
      "UNABLE TO FIND:--- ARM ----\n",
      "2023-02-17\n",
      "Total Return:  1.4509790379348853\n",
      "UNABLE TO FIND:--- ARM ----\n",
      "2023-02-21\n",
      "Total Return:  1.4015363898960655\n",
      "UNABLE TO FIND:--- ARM ----\n",
      "2023-02-22\n",
      "Total Return:  1.3879651934962516\n",
      "UNABLE TO FIND:--- ARM ----\n",
      "2023-02-23\n",
      "Total Return:  1.3380646749958787\n",
      "UNABLE TO FIND:--- ARM ----\n",
      "2023-02-24\n",
      "Total Return:  1.363451700179807\n",
      "UNABLE TO FIND:--- ARM ----\n"
     ]
    },
    {
     "name": "stderr",
     "output_type": "stream",
     "text": [
      "/Users/atulkrishnan/Desktop/TradingAlgos/Stock_Picker_Algo/Trade_Functions.py:117: RuntimeWarning: divide by zero encountered in scalar divide\n",
      "  return d/c\n"
     ]
    },
    {
     "name": "stdout",
     "output_type": "stream",
     "text": [
      "2023-02-27\n",
      "Total Return:  1.3669348605019003\n",
      "UNABLE TO FIND:--- ARM ----\n",
      "2023-02-28\n",
      "Total Return:  1.355550440855814\n",
      "UNABLE TO FIND:--- ARM ----\n",
      "2023-03-01\n",
      "Total Return:  1.3781839766560688\n",
      "UNABLE TO FIND:--- ARM ----\n",
      "2023-03-02\n",
      "Total Return:  1.3474689605329635\n",
      "UNABLE TO FIND:--- ARM ----\n",
      "2023-03-03\n",
      "Total Return:  1.3312857133541791\n",
      "UNABLE TO FIND:--- ARM ----\n",
      "2023-03-06\n",
      "Total Return:  1.3179193269124443\n",
      "UNABLE TO FIND:--- ARM ----\n",
      "2023-03-07\n",
      "Total Return:  1.2721765263249267\n",
      "UNABLE TO FIND:--- ARM ----\n",
      "2023-03-08\n",
      "Total Return:  1.265337572565744\n",
      "UNABLE TO FIND:--- ARM ----\n",
      "2023-03-09\n",
      "Total Return:  1.1141436103874518\n",
      "UNABLE TO FIND:--- ARM ----\n",
      "2023-03-10\n",
      "Total Return:  1.0520363075090648\n",
      "UNABLE TO FIND:--- ARM ----\n",
      "2023-03-13\n",
      "Total Return:  1.1020021490781295\n",
      "UNABLE TO FIND:--- ARM ----\n",
      "2023-03-14\n",
      "Total Return:  1.0931381662695958\n",
      "UNABLE TO FIND:--- ARM ----\n",
      "2023-03-15\n",
      "Total Return:  1.189719103361914\n",
      "UNABLE TO FIND:--- ARM ----\n",
      "2023-03-16\n",
      "Total Return:  1.1725395855299803\n",
      "UNABLE TO FIND:--- ARM ----\n",
      "2023-03-17\n",
      "Total Return:  1.174359094888066\n",
      "UNABLE TO FIND:--- ARM ----\n",
      "2023-03-20\n",
      "Total Return:  1.1698469860945842\n",
      "UNABLE TO FIND:--- ARM ----\n",
      "2023-03-21\n",
      "Total Return:  1.1768419695377663\n",
      "UNABLE TO FIND:--- ARM ----\n",
      "2023-03-22\n",
      "Total Return:  1.2325216097105323\n",
      "UNABLE TO FIND:--- ARM ----\n",
      "2023-03-23\n",
      "Total Return:  1.1982489195788566\n",
      "UNABLE TO FIND:--- ARM ----\n"
     ]
    },
    {
     "name": "stderr",
     "output_type": "stream",
     "text": [
      "/Users/atulkrishnan/Desktop/TradingAlgos/Stock_Picker_Algo/Trade_Functions.py:117: RuntimeWarning: divide by zero encountered in scalar divide\n",
      "  return d/c\n"
     ]
    },
    {
     "name": "stdout",
     "output_type": "stream",
     "text": [
      "2023-03-24\n",
      "Total Return:  1.1778568681288664\n",
      "UNABLE TO FIND:--- ARM ----\n",
      "2023-03-27\n",
      "Total Return:  1.081376782211446\n",
      "UNABLE TO FIND:--- ARM ----\n",
      "2023-03-28\n",
      "Total Return:  1.03475635099729\n",
      "UNABLE TO FIND:--- ARM ----\n"
     ]
    },
    {
     "name": "stderr",
     "output_type": "stream",
     "text": [
      "/Users/atulkrishnan/Desktop/TradingAlgos/Stock_Picker_Algo/Trade_Functions.py:117: RuntimeWarning: divide by zero encountered in scalar divide\n",
      "  return d/c\n"
     ]
    },
    {
     "name": "stdout",
     "output_type": "stream",
     "text": [
      "2023-03-29\n",
      "Total Return:  1.0116925046196394\n",
      "UNABLE TO FIND:--- ARM ----\n",
      "2023-03-30\n",
      "Total Return:  1.0094473855544628\n",
      "UNABLE TO FIND:--- ARM ----\n",
      "2023-03-31\n",
      "Total Return:  1.0300540921134125\n",
      "UNABLE TO FIND:--- ARM ----\n",
      "2023-04-03\n",
      "Total Return:  1.0374360248235657\n",
      "UNABLE TO FIND:--- ARM ----\n",
      "2023-04-04\n",
      "Total Return:  1.0323986946284383\n",
      "UNABLE TO FIND:--- ARM ----\n",
      "2023-04-05\n",
      "Total Return:  1.0231035457630702\n",
      "UNABLE TO FIND:--- ARM ----\n",
      "2023-04-06\n",
      "Total Return:  1.0300091655508636\n",
      "UNABLE TO FIND:--- ARM ----\n",
      "2023-04-10\n",
      "Total Return:  1.0178282530821807\n",
      "UNABLE TO FIND:--- ARM ----\n",
      "2023-04-11\n",
      "Total Return:  0.9934178233154671\n",
      "UNABLE TO FIND:--- ARM ----\n"
     ]
    },
    {
     "name": "stderr",
     "output_type": "stream",
     "text": [
      "/Users/atulkrishnan/Desktop/TradingAlgos/Stock_Picker_Algo/Trade_Functions.py:117: RuntimeWarning: divide by zero encountered in scalar divide\n",
      "  return d/c\n"
     ]
    },
    {
     "name": "stdout",
     "output_type": "stream",
     "text": [
      "2023-04-12\n",
      "Total Return:  0.9724257656207713\n",
      "UNABLE TO FIND:--- ARM ----\n",
      "2023-04-13\n",
      "Total Return:  0.9901321476409627\n",
      "UNABLE TO FIND:--- ARM ----\n"
     ]
    },
    {
     "name": "stderr",
     "output_type": "stream",
     "text": [
      "/Users/atulkrishnan/Desktop/TradingAlgos/Stock_Picker_Algo/Trade_Functions.py:117: RuntimeWarning: divide by zero encountered in scalar divide\n",
      "  return d/c\n",
      "/Users/atulkrishnan/Desktop/TradingAlgos/Stock_Picker_Algo/Trade_Functions.py:117: RuntimeWarning: invalid value encountered in scalar divide\n",
      "  return d/c\n"
     ]
    },
    {
     "name": "stdout",
     "output_type": "stream",
     "text": [
      "2023-04-14\n",
      "Total Return:  0.9801023285985339\n",
      "UNABLE TO FIND:--- ARM ----\n",
      "2023-04-17\n",
      "Total Return:  1.0405337714263794\n",
      "UNABLE TO FIND:--- ARM ----\n",
      "2023-04-18\n",
      "Total Return:  0.9939884914090477\n",
      "UNABLE TO FIND:--- ARM ----\n"
     ]
    },
    {
     "name": "stderr",
     "output_type": "stream",
     "text": [
      "/Users/atulkrishnan/Desktop/TradingAlgos/Stock_Picker_Algo/Trade_Functions.py:117: RuntimeWarning: divide by zero encountered in scalar divide\n",
      "  return d/c\n",
      "/Users/atulkrishnan/Desktop/TradingAlgos/Stock_Picker_Algo/Trade_Functions.py:117: RuntimeWarning: divide by zero encountered in scalar divide\n",
      "  return d/c\n"
     ]
    },
    {
     "name": "stdout",
     "output_type": "stream",
     "text": [
      "2023-04-19\n",
      "Total Return:  0.945909161096695\n",
      "UNABLE TO FIND:--- ARM ----\n",
      "2023-04-20\n",
      "Total Return:  0.9498958309336021\n",
      "UNABLE TO FIND:--- ARM ----\n",
      "2023-04-21\n",
      "Total Return:  0.9581552285359948\n",
      "UNABLE TO FIND:--- ARM ----\n"
     ]
    },
    {
     "name": "stderr",
     "output_type": "stream",
     "text": [
      "/Users/atulkrishnan/Desktop/TradingAlgos/Stock_Picker_Algo/Trade_Functions.py:117: RuntimeWarning: divide by zero encountered in scalar divide\n",
      "  return d/c\n",
      "/Users/atulkrishnan/Desktop/TradingAlgos/Stock_Picker_Algo/Trade_Functions.py:117: RuntimeWarning: divide by zero encountered in scalar divide\n",
      "  return d/c\n"
     ]
    },
    {
     "name": "stdout",
     "output_type": "stream",
     "text": [
      "2023-04-24\n",
      "Total Return:  0.9448933929728103\n",
      "UNABLE TO FIND:--- ARM ----\n",
      "2023-04-25\n",
      "Total Return:  0.9295459413631587\n",
      "UNABLE TO FIND:--- ARM ----\n",
      "2023-04-26\n",
      "Total Return:  0.93871360814856\n",
      "UNABLE TO FIND:--- ARM ----\n",
      "2023-04-27\n",
      "Total Return:  0.9442794651471833\n",
      "UNABLE TO FIND:--- ARM ----\n",
      "2023-04-28\n",
      "Total Return:  0.9607542726076881\n",
      "UNABLE TO FIND:--- ARM ----\n",
      "2023-05-01\n",
      "Total Return:  0.9632506167111571\n",
      "UNABLE TO FIND:--- ARM ----\n",
      "2023-05-02\n",
      "Total Return:  0.938890119992759\n",
      "UNABLE TO FIND:--- ARM ----\n",
      "2023-05-03\n",
      "Total Return:  0.9155619648158478\n",
      "UNABLE TO FIND:--- ARM ----\n",
      "2023-05-04\n",
      "Total Return:  0.9459612138022601\n",
      "UNABLE TO FIND:--- ARM ----\n",
      "2023-05-05\n",
      "Total Return:  0.9352147938223403\n",
      "UNABLE TO FIND:--- ARM ----\n",
      "2023-05-08\n",
      "Total Return:  0.9097621009285687\n",
      "UNABLE TO FIND:--- ARM ----\n",
      "2023-05-09\n",
      "Total Return:  0.8930686445910063\n",
      "UNABLE TO FIND:--- ARM ----\n"
     ]
    },
    {
     "name": "stderr",
     "output_type": "stream",
     "text": [
      "/Users/atulkrishnan/Desktop/TradingAlgos/Stock_Picker_Algo/Trade_Functions.py:117: RuntimeWarning: divide by zero encountered in scalar divide\n",
      "  return d/c\n",
      "/Users/atulkrishnan/Desktop/TradingAlgos/Stock_Picker_Algo/Trade_Functions.py:117: RuntimeWarning: divide by zero encountered in scalar divide\n",
      "  return d/c\n"
     ]
    },
    {
     "name": "stdout",
     "output_type": "stream",
     "text": [
      "2023-05-10\n",
      "Total Return:  0.9199045156667012\n",
      "UNABLE TO FIND:--- ARM ----\n",
      "2023-05-11\n",
      "Total Return:  0.8947820668825248\n",
      "UNABLE TO FIND:--- ARM ----\n",
      "2023-05-12\n",
      "Total Return:  0.9406423689342056\n",
      "UNABLE TO FIND:--- ARM ----\n",
      "2023-05-15\n",
      "Total Return:  0.9714225515735608\n",
      "UNABLE TO FIND:--- ARM ----\n",
      "2023-05-16\n",
      "Total Return:  1.00900605476939\n",
      "UNABLE TO FIND:--- ARM ----\n",
      "2023-05-17\n",
      "Total Return:  1.0361693413798334\n",
      "UNABLE TO FIND:--- ARM ----\n"
     ]
    },
    {
     "name": "stderr",
     "output_type": "stream",
     "text": [
      "/Users/atulkrishnan/Desktop/TradingAlgos/Stock_Picker_Algo/Trade_Functions.py:117: RuntimeWarning: divide by zero encountered in scalar divide\n",
      "  return d/c\n",
      "/Users/atulkrishnan/Desktop/TradingAlgos/Stock_Picker_Algo/Trade_Functions.py:117: RuntimeWarning: divide by zero encountered in scalar divide\n",
      "  return d/c\n"
     ]
    },
    {
     "name": "stdout",
     "output_type": "stream",
     "text": [
      "2023-05-18\n",
      "Total Return:  1.0944268241142239\n",
      "UNABLE TO FIND:--- ARM ----\n",
      "2023-05-19\n",
      "Total Return:  1.0774296823342968\n",
      "UNABLE TO FIND:--- ARM ----\n",
      "2023-05-22\n",
      "Total Return:  1.0624034037259062\n",
      "UNABLE TO FIND:--- ARM ----\n"
     ]
    },
    {
     "name": "stderr",
     "output_type": "stream",
     "text": [
      "/Users/atulkrishnan/Desktop/TradingAlgos/Stock_Picker_Algo/Trade_Functions.py:117: RuntimeWarning: divide by zero encountered in scalar divide\n",
      "  return d/c\n"
     ]
    },
    {
     "name": "stdout",
     "output_type": "stream",
     "text": [
      "2023-05-23\n",
      "Total Return:  1.0931191780071845\n",
      "UNABLE TO FIND:--- ARM ----\n",
      "2023-05-24\n",
      "Total Return:  1.106279216907473\n",
      "UNABLE TO FIND:--- ARM ----\n",
      "2023-05-25\n",
      "Total Return:  1.1304322154820017\n",
      "UNABLE TO FIND:--- ARM ----\n"
     ]
    },
    {
     "name": "stderr",
     "output_type": "stream",
     "text": [
      "/Users/atulkrishnan/Desktop/TradingAlgos/Stock_Picker_Algo/Trade_Functions.py:117: RuntimeWarning: divide by zero encountered in scalar divide\n",
      "  return d/c\n",
      "/Users/atulkrishnan/Desktop/TradingAlgos/Stock_Picker_Algo/Trade_Functions.py:117: RuntimeWarning: divide by zero encountered in scalar divide\n",
      "  return d/c\n"
     ]
    },
    {
     "name": "stdout",
     "output_type": "stream",
     "text": [
      "2023-05-26\n",
      "Total Return:  1.2604628213441722\n",
      "UNABLE TO FIND:--- ARM ----\n",
      "2023-05-30\n",
      "Total Return:  1.0923762760354587\n",
      "UNABLE TO FIND:--- ARM ----\n",
      "2023-05-31\n",
      "Total Return:  1.1149631120392725\n",
      "UNABLE TO FIND:--- ARM ----\n",
      "2023-06-01\n",
      "Total Return:  1.0918894878957341\n",
      "UNABLE TO FIND:--- ARM ----\n",
      "2023-06-02\n",
      "Total Return:  1.041460192602454\n",
      "UNABLE TO FIND:--- ARM ----\n",
      "2023-06-05\n",
      "Total Return:  1.0645292797632884\n",
      "UNABLE TO FIND:--- ARM ----\n"
     ]
    },
    {
     "name": "stderr",
     "output_type": "stream",
     "text": [
      "/Users/atulkrishnan/Desktop/TradingAlgos/Stock_Picker_Algo/Trade_Functions.py:117: RuntimeWarning: divide by zero encountered in scalar divide\n",
      "  return d/c\n",
      "/Users/atulkrishnan/Desktop/TradingAlgos/Stock_Picker_Algo/Trade_Functions.py:117: RuntimeWarning: divide by zero encountered in scalar divide\n",
      "  return d/c\n"
     ]
    },
    {
     "name": "stdout",
     "output_type": "stream",
     "text": [
      "2023-06-06\n",
      "Total Return:  1.0190459956857953\n",
      "UNABLE TO FIND:--- ARM ----\n",
      "2023-06-07\n",
      "Total Return:  0.9843912527893303\n",
      "UNABLE TO FIND:--- ARM ----\n",
      "2023-06-08\n",
      "Total Return:  0.9970100025659381\n",
      "UNABLE TO FIND:--- ARM ----\n",
      "2023-06-09\n",
      "Total Return:  1.0101598906650127\n",
      "UNABLE TO FIND:--- ARM ----\n",
      "2023-06-12\n",
      "Total Return:  0.9320795464230098\n",
      "UNABLE TO FIND:--- ARM ----\n",
      "2023-06-13\n",
      "Total Return:  0.9023744740781255\n",
      "UNABLE TO FIND:--- ARM ----\n"
     ]
    },
    {
     "name": "stderr",
     "output_type": "stream",
     "text": [
      "/Users/atulkrishnan/Desktop/TradingAlgos/Stock_Picker_Algo/Trade_Functions.py:117: RuntimeWarning: divide by zero encountered in scalar divide\n",
      "  return d/c\n"
     ]
    },
    {
     "name": "stdout",
     "output_type": "stream",
     "text": [
      "2023-06-14\n",
      "Total Return:  0.8875643252141201\n",
      "UNABLE TO FIND:--- ARM ----\n",
      "2023-06-15\n",
      "Total Return:  0.8894393762086551\n",
      "UNABLE TO FIND:--- ARM ----\n",
      "2023-06-16\n",
      "Total Return:  0.8561710023305176\n",
      "UNABLE TO FIND:--- ARM ----\n"
     ]
    },
    {
     "name": "stderr",
     "output_type": "stream",
     "text": [
      "/Users/atulkrishnan/Desktop/TradingAlgos/Stock_Picker_Algo/Trade_Functions.py:117: RuntimeWarning: divide by zero encountered in scalar divide\n",
      "  return d/c\n"
     ]
    },
    {
     "name": "stdout",
     "output_type": "stream",
     "text": [
      "2023-06-20\n",
      "Total Return:  0.7660600199187614\n",
      "UNABLE TO FIND:--- ARM ----\n",
      "2023-06-21\n",
      "Total Return:  0.757677615276069\n",
      "UNABLE TO FIND:--- ARM ----\n",
      "2023-06-22\n",
      "Total Return:  0.7511691933946094\n",
      "UNABLE TO FIND:--- ARM ----\n",
      "2023-06-23\n",
      "Total Return:  0.7403053083924537\n",
      "UNABLE TO FIND:--- ARM ----\n",
      "2023-06-26\n",
      "Total Return:  0.7550794733071611\n",
      "UNABLE TO FIND:--- ARM ----\n",
      "2023-06-27\n",
      "Total Return:  0.7696093767315862\n",
      "UNABLE TO FIND:--- ARM ----\n"
     ]
    },
    {
     "name": "stderr",
     "output_type": "stream",
     "text": [
      "/Users/atulkrishnan/Desktop/TradingAlgos/Stock_Picker_Algo/Trade_Functions.py:117: RuntimeWarning: divide by zero encountered in scalar divide\n",
      "  return d/c\n"
     ]
    },
    {
     "name": "stdout",
     "output_type": "stream",
     "text": [
      "2023-06-28\n",
      "Total Return:  0.8024995654469957\n",
      "UNABLE TO FIND:--- ARM ----\n",
      "2023-06-29\n",
      "Total Return:  0.7987408062780421\n",
      "UNABLE TO FIND:--- ARM ----\n",
      "2023-06-30\n",
      "Total Return:  0.7792525812129986\n",
      "UNABLE TO FIND:--- ARM ----\n"
     ]
    },
    {
     "name": "stderr",
     "output_type": "stream",
     "text": [
      "/Users/atulkrishnan/Desktop/TradingAlgos/Stock_Picker_Algo/Trade_Functions.py:117: RuntimeWarning: divide by zero encountered in scalar divide\n",
      "  return d/c\n",
      "/Users/atulkrishnan/Desktop/TradingAlgos/Stock_Picker_Algo/Trade_Functions.py:117: RuntimeWarning: divide by zero encountered in scalar divide\n",
      "  return d/c\n"
     ]
    },
    {
     "name": "stdout",
     "output_type": "stream",
     "text": [
      "2023-07-03\n",
      "Total Return:  0.7795888646523693\n",
      "UNABLE TO FIND:--- ARM ----\n",
      "2023-07-05\n",
      "Total Return:  0.7732139216315338\n",
      "UNABLE TO FIND:--- ARM ----\n",
      "2023-07-06\n",
      "Total Return:  0.7630374829892503\n",
      "UNABLE TO FIND:--- ARM ----\n",
      "2023-07-07\n",
      "Total Return:  0.7388662501276548\n",
      "UNABLE TO FIND:--- ARM ----\n",
      "2023-07-10\n",
      "Total Return:  0.7641061052253023\n",
      "UNABLE TO FIND:--- ARM ----\n",
      "2023-07-11\n",
      "Total Return:  0.7681880584529938\n",
      "UNABLE TO FIND:--- ARM ----\n",
      "2023-07-12\n",
      "Total Return:  0.8272686370196232\n",
      "UNABLE TO FIND:--- ARM ----\n",
      "2023-07-13\n",
      "Total Return:  0.8310461338561942\n",
      "UNABLE TO FIND:--- ARM ----\n",
      "2023-07-14\n",
      "Total Return:  0.8228282441127012\n",
      "UNABLE TO FIND:--- ARM ----\n",
      "2023-07-17\n",
      "Total Return:  0.8302368956057189\n",
      "UNABLE TO FIND:--- ARM ----\n",
      "2023-07-18\n",
      "Total Return:  0.8110422233013636\n",
      "UNABLE TO FIND:--- ARM ----\n",
      "2023-07-19\n",
      "Total Return:  0.7583494771494738\n",
      "UNABLE TO FIND:--- ARM ----\n"
     ]
    },
    {
     "name": "stderr",
     "output_type": "stream",
     "text": [
      "/Users/atulkrishnan/Desktop/TradingAlgos/Stock_Picker_Algo/Trade_Functions.py:117: RuntimeWarning: divide by zero encountered in scalar divide\n",
      "  return d/c\n"
     ]
    },
    {
     "name": "stdout",
     "output_type": "stream",
     "text": [
      "2023-07-20\n",
      "Total Return:  0.7142058561020836\n",
      "UNABLE TO FIND:--- ARM ----\n",
      "2023-07-21\n",
      "Total Return:  0.7022864682277995\n",
      "UNABLE TO FIND:--- ARM ----\n",
      "2023-07-24\n",
      "Total Return:  0.6797459486597205\n",
      "UNABLE TO FIND:--- ARM ----\n",
      "2023-07-25\n",
      "Total Return:  0.6826178521750513\n",
      "UNABLE TO FIND:--- ARM ----\n",
      "2023-07-26\n",
      "Total Return:  0.7014549563896657\n",
      "UNABLE TO FIND:--- ARM ----\n",
      "2023-07-27\n",
      "Total Return:  0.7357947764561465\n",
      "UNABLE TO FIND:--- ARM ----\n",
      "2023-07-28\n",
      "Total Return:  0.7442892153170392\n",
      "UNABLE TO FIND:--- ARM ----\n",
      "2023-07-31\n",
      "Total Return:  0.752390155024038\n",
      "UNABLE TO FIND:--- ARM ----\n",
      "2023-08-01\n",
      "Total Return:  0.7186027647652193\n",
      "UNABLE TO FIND:--- ARM ----\n"
     ]
    },
    {
     "name": "stderr",
     "output_type": "stream",
     "text": [
      "/Users/atulkrishnan/Desktop/TradingAlgos/Stock_Picker_Algo/Trade_Functions.py:117: RuntimeWarning: divide by zero encountered in scalar divide\n",
      "  return d/c\n"
     ]
    },
    {
     "name": "stdout",
     "output_type": "stream",
     "text": [
      "2023-08-02\n",
      "Total Return:  0.7153700214209938\n",
      "UNABLE TO FIND:--- ARM ----\n",
      "2023-08-03\n",
      "Total Return:  0.7142191631403086\n",
      "UNABLE TO FIND:--- ARM ----\n",
      "2023-08-04\n",
      "Total Return:  0.7344838664103162\n",
      "UNABLE TO FIND:--- ARM ----\n"
     ]
    },
    {
     "name": "stderr",
     "output_type": "stream",
     "text": [
      "/Users/atulkrishnan/Desktop/TradingAlgos/Stock_Picker_Algo/Trade_Functions.py:117: RuntimeWarning: divide by zero encountered in scalar divide\n",
      "  return d/c\n",
      "/Users/atulkrishnan/Desktop/TradingAlgos/Stock_Picker_Algo/Trade_Functions.py:117: RuntimeWarning: divide by zero encountered in scalar divide\n",
      "  return d/c\n"
     ]
    },
    {
     "name": "stdout",
     "output_type": "stream",
     "text": [
      "2023-08-07\n",
      "Total Return:  0.7293151133527338\n",
      "UNABLE TO FIND:--- ARM ----\n",
      "2023-08-08\n",
      "Total Return:  0.7196248854376955\n",
      "UNABLE TO FIND:--- ARM ----\n",
      "2023-08-09\n",
      "Total Return:  0.7255497306033271\n",
      "UNABLE TO FIND:--- ARM ----\n",
      "2023-08-10\n",
      "Total Return:  0.7384766460440164\n",
      "UNABLE TO FIND:--- ARM ----\n",
      "2023-08-11\n",
      "Total Return:  0.754366354269664\n",
      "UNABLE TO FIND:--- ARM ----\n",
      "2023-08-14\n",
      "Total Return:  0.7652696221949707\n",
      "UNABLE TO FIND:--- ARM ----\n"
     ]
    },
    {
     "name": "stderr",
     "output_type": "stream",
     "text": [
      "/Users/atulkrishnan/Desktop/TradingAlgos/Stock_Picker_Algo/Trade_Functions.py:117: RuntimeWarning: divide by zero encountered in scalar divide\n",
      "  return d/c\n",
      "/Users/atulkrishnan/Desktop/TradingAlgos/Stock_Picker_Algo/Trade_Functions.py:117: RuntimeWarning: divide by zero encountered in scalar divide\n",
      "  return d/c\n"
     ]
    },
    {
     "name": "stdout",
     "output_type": "stream",
     "text": [
      "2023-08-15\n",
      "Total Return:  0.7585342409137565\n",
      "UNABLE TO FIND:--- ARM ----\n",
      "2023-08-16\n",
      "Total Return:  0.7121001155417134\n",
      "UNABLE TO FIND:--- ARM ----\n",
      "2023-08-17\n",
      "Total Return:  0.7404101010858071\n",
      "UNABLE TO FIND:--- ARM ----\n",
      "2023-08-18\n",
      "Total Return:  0.776626574119969\n",
      "UNABLE TO FIND:--- ARM ----\n",
      "2023-08-21\n",
      "Total Return:  0.7971183132925002\n",
      "UNABLE TO FIND:--- ARM ----\n",
      "2023-08-22\n",
      "Total Return:  0.8180913753152751\n",
      "UNABLE TO FIND:--- ARM ----\n",
      "2023-08-23\n",
      "Total Return:  0.7853928545574284\n",
      "UNABLE TO FIND:--- ARM ----\n",
      "2023-08-24\n",
      "Total Return:  0.764891866500212\n",
      "UNABLE TO FIND:--- ARM ----\n",
      "2023-08-25\n",
      "Total Return:  0.7738482980788625\n",
      "UNABLE TO FIND:--- ARM ----\n"
     ]
    },
    {
     "name": "stderr",
     "output_type": "stream",
     "text": [
      "/Users/atulkrishnan/Desktop/TradingAlgos/Stock_Picker_Algo/Trade_Functions.py:117: RuntimeWarning: divide by zero encountered in scalar divide\n",
      "  return d/c\n"
     ]
    },
    {
     "name": "stdout",
     "output_type": "stream",
     "text": [
      "2023-08-28\n",
      "Total Return:  0.8204233577782487\n",
      "UNABLE TO FIND:--- ARM ----\n",
      "2023-08-29\n",
      "Total Return:  0.837625794559928\n",
      "UNABLE TO FIND:--- ARM ----\n",
      "2023-08-30\n",
      "Total Return:  0.8764121907136675\n",
      "UNABLE TO FIND:--- ARM ----\n",
      "2023-08-31\n",
      "Total Return:  0.923720571236674\n",
      "UNABLE TO FIND:--- ARM ----\n",
      "2023-09-01\n",
      "Total Return:  0.9335119867400108\n",
      "UNABLE TO FIND:--- ARM ----\n",
      "2023-09-05\n",
      "Total Return:  0.9547516114576894\n",
      "UNABLE TO FIND:--- ARM ----\n",
      "2023-09-06\n",
      "Total Return:  0.9223855376566151\n",
      "UNABLE TO FIND:--- ARM ----\n",
      "2023-09-07\n",
      "Total Return:  0.943088731161682\n",
      "UNABLE TO FIND:--- ARM ----\n",
      "2023-09-08\n",
      "Total Return:  0.9760309067598968\n",
      "UNABLE TO FIND:--- ARM ----\n",
      "2023-09-11\n",
      "Total Return:  0.9845750071482082\n",
      "UNABLE TO FIND:--- ARM ----\n",
      "2023-09-12\n",
      "Total Return:  0.9865385499571779\n",
      "UNABLE TO FIND:--- ARM ----\n",
      "2023-09-13\n",
      "Total Return:  0.9990346773254322\n",
      "UNABLE TO FIND:--- ARM ----\n"
     ]
    },
    {
     "name": "stderr",
     "output_type": "stream",
     "text": [
      "/Users/atulkrishnan/Desktop/TradingAlgos/Stock_Picker_Algo/Trade_Functions.py:117: RuntimeWarning: divide by zero encountered in scalar divide\n",
      "  return d/c\n",
      "/Users/atulkrishnan/Desktop/TradingAlgos/Stock_Picker_Algo/Trade_Functions.py:117: RuntimeWarning: divide by zero encountered in scalar divide\n",
      "  return d/c\n",
      "/Users/atulkrishnan/Desktop/TradingAlgos/Stock_Picker_Algo/Trade_Functions.py:117: RuntimeWarning: divide by zero encountered in scalar divide\n",
      "  return d/c\n"
     ]
    },
    {
     "name": "stdout",
     "output_type": "stream",
     "text": [
      "2023-09-14\n",
      "Total Return:  1.010338833649122\n",
      "UNABLE TO FIND:--- ARM ----\n",
      "2023-09-15\n",
      "Total Return:  0.9656735591609533\n",
      "UNABLE TO FIND:--- ARM ----\n",
      "2023-09-18\n",
      "Total Return:  0.9490780352587641\n",
      "UNABLE TO FIND:--- ARM ----\n",
      "2023-09-19\n",
      "Total Return:  0.9451974546686611\n",
      "UNABLE TO FIND:--- ARM ----\n",
      "2023-09-20\n",
      "Total Return:  0.9338368512954083\n",
      "UNABLE TO FIND:--- ARM ----\n",
      "2023-09-21\n",
      "Total Return:  0.9188375409320737\n",
      "2023-09-22\n",
      "Total Return:  0.9160569373221865\n",
      "2023-09-25\n",
      "Total Return:  0.8927031563247889\n",
      "2023-09-26\n",
      "Total Return:  0.879499063592846\n",
      "2023-09-27\n",
      "Total Return:  0.8637410624771236\n",
      "2023-09-28\n",
      "Total Return:  0.9238078020223766\n",
      "2023-09-29\n",
      "Total Return:  0.9738736827001397\n"
     ]
    },
    {
     "name": "stderr",
     "output_type": "stream",
     "text": [
      "/Users/atulkrishnan/Desktop/TradingAlgos/Stock_Picker_Algo/Trade_Functions.py:117: RuntimeWarning: invalid value encountered in scalar divide\n",
      "  return d/c\n",
      "/Users/atulkrishnan/Desktop/TradingAlgos/Stock_Picker_Algo/Trade_Functions.py:117: RuntimeWarning: divide by zero encountered in scalar divide\n",
      "  return d/c\n"
     ]
    },
    {
     "name": "stdout",
     "output_type": "stream",
     "text": [
      "2023-10-02\n",
      "Total Return:  0.9560606385175785\n",
      "2023-10-03\n",
      "Total Return:  0.9355088306414004\n",
      "2023-10-04\n",
      "Total Return:  0.9821220563529058\n",
      "2023-10-05\n",
      "Total Return:  1.017311944287987\n",
      "2023-10-06\n",
      "Total Return:  1.037270479219774\n",
      "2023-10-09\n",
      "Total Return:  1.067878773172969\n"
     ]
    },
    {
     "name": "stderr",
     "output_type": "stream",
     "text": [
      "/Users/atulkrishnan/Desktop/TradingAlgos/Stock_Picker_Algo/Trade_Functions.py:117: RuntimeWarning: divide by zero encountered in scalar divide\n",
      "  return d/c\n",
      "/Users/atulkrishnan/Desktop/TradingAlgos/Stock_Picker_Algo/Trade_Functions.py:117: RuntimeWarning: divide by zero encountered in scalar divide\n",
      "  return d/c\n"
     ]
    },
    {
     "name": "stdout",
     "output_type": "stream",
     "text": [
      "2023-10-10\n",
      "Total Return:  1.0739127153900234\n",
      "2023-10-11\n",
      "Total Return:  1.0121566439257301\n",
      "2023-10-12\n",
      "Total Return:  0.9987128462772155\n"
     ]
    },
    {
     "name": "stderr",
     "output_type": "stream",
     "text": [
      "/Users/atulkrishnan/Desktop/TradingAlgos/Stock_Picker_Algo/Trade_Functions.py:117: RuntimeWarning: divide by zero encountered in scalar divide\n",
      "  return d/c\n",
      "/Users/atulkrishnan/Desktop/TradingAlgos/Stock_Picker_Algo/Trade_Functions.py:117: RuntimeWarning: divide by zero encountered in scalar divide\n",
      "  return d/c\n"
     ]
    },
    {
     "name": "stdout",
     "output_type": "stream",
     "text": [
      "2023-10-13\n",
      "Total Return:  0.9992985736395871\n",
      "2023-10-16\n",
      "Total Return:  1.0025716636295359\n",
      "2023-10-17\n",
      "Total Return:  0.9798869344546209\n",
      "2023-10-18\n",
      "Total Return:  0.9422392536906654\n",
      "2023-10-19\n",
      "Total Return:  0.9163340933845125\n",
      "2023-10-20\n",
      "Total Return:  0.9163340933845125\n"
     ]
    },
    {
     "name": "stderr",
     "output_type": "stream",
     "text": [
      "/Users/atulkrishnan/Desktop/TradingAlgos/Stock_Picker_Algo/Trade_Functions.py:117: RuntimeWarning: divide by zero encountered in scalar divide\n",
      "  return d/c\n"
     ]
    },
    {
     "name": "stdout",
     "output_type": "stream",
     "text": [
      "2023-10-23\n",
      "Total Return:  0.9227457442045224\n",
      "2023-10-24\n",
      "Total Return:  0.9262819617467329\n",
      "2023-10-25\n",
      "Total Return:  0.8984948815668554\n"
     ]
    },
    {
     "name": "stderr",
     "output_type": "stream",
     "text": [
      "/Users/atulkrishnan/Desktop/TradingAlgos/Stock_Picker_Algo/Trade_Functions.py:117: RuntimeWarning: divide by zero encountered in scalar divide\n",
      "  return d/c\n",
      "/Users/atulkrishnan/Desktop/TradingAlgos/Stock_Picker_Algo/Trade_Functions.py:117: RuntimeWarning: divide by zero encountered in scalar divide\n",
      "  return d/c\n"
     ]
    },
    {
     "name": "stdout",
     "output_type": "stream",
     "text": [
      "2023-10-26\n",
      "Total Return:  0.8689031706636083\n",
      "2023-10-27\n",
      "Total Return:  0.8881332255949187\n",
      "2023-10-30\n",
      "Total Return:  0.8218473664932091\n",
      "2023-10-31\n",
      "Total Return:  0.8297470986958811\n",
      "2023-11-01\n",
      "Total Return:  0.8414355917787917\n",
      "2023-11-02\n",
      "Total Return:  0.853974225470944\n",
      "2023-11-03\n",
      "Total Return:  0.8635759589136279\n",
      "2023-11-06\n",
      "Total Return:  0.8301496750233679\n",
      "2023-11-07\n",
      "Total Return:  0.8098364927324877\n",
      "2023-11-08\n",
      "Total Return:  0.7981309421912184\n",
      "2023-11-09\n",
      "Total Return:  0.8232289295907819\n",
      "2023-11-10\n",
      "Total Return:  0.8595054303589406\n",
      "2023-11-13\n",
      "Total Return:  0.9054331922566723\n",
      "2023-11-14\n",
      "Total Return:  0.9296426885782314\n",
      "2023-11-15\n",
      "Total Return:  0.8940896401284024\n",
      "2023-11-16\n",
      "Total Return:  0.9085104472997084\n",
      "2023-11-17\n",
      "Total Return:  0.9472560960529804\n",
      "2023-11-20\n",
      "Total Return:  0.9442269667933677\n",
      "2023-11-21\n",
      "Total Return:  0.9052578903415853\n",
      "2023-11-22\n",
      "Total Return:  0.9038186948426538\n",
      "2023-11-24\n",
      "Total Return:  0.8964705753723883\n"
     ]
    },
    {
     "name": "stderr",
     "output_type": "stream",
     "text": [
      "/Users/atulkrishnan/Desktop/TradingAlgos/Stock_Picker_Algo/Trade_Functions.py:117: RuntimeWarning: divide by zero encountered in scalar divide\n",
      "  return d/c\n",
      "/Users/atulkrishnan/Desktop/TradingAlgos/Stock_Picker_Algo/Trade_Functions.py:117: RuntimeWarning: divide by zero encountered in scalar divide\n",
      "  return d/c\n"
     ]
    },
    {
     "name": "stdout",
     "output_type": "stream",
     "text": [
      "2023-11-27\n",
      "Total Return:  0.8804037598297604\n",
      "2023-11-28\n",
      "Total Return:  0.9002287468049256\n",
      "2023-11-29\n",
      "Total Return:  0.9568175278168408\n"
     ]
    },
    {
     "name": "stderr",
     "output_type": "stream",
     "text": [
      "/Users/atulkrishnan/Desktop/TradingAlgos/Stock_Picker_Algo/Trade_Functions.py:117: RuntimeWarning: divide by zero encountered in scalar divide\n",
      "  return d/c\n"
     ]
    },
    {
     "name": "stdout",
     "output_type": "stream",
     "text": [
      "2023-11-30\n",
      "Total Return:  0.9758276044055488\n",
      "2023-12-01\n",
      "Total Return:  0.972491288035859\n",
      "2023-12-04\n",
      "Total Return:  0.9870081406903578\n"
     ]
    },
    {
     "name": "stderr",
     "output_type": "stream",
     "text": [
      "/Users/atulkrishnan/Desktop/TradingAlgos/Stock_Picker_Algo/Trade_Functions.py:117: RuntimeWarning: divide by zero encountered in scalar divide\n",
      "  return d/c\n"
     ]
    },
    {
     "name": "stdout",
     "output_type": "stream",
     "text": [
      "2023-12-05\n",
      "Total Return:  1.0107117237637724\n",
      "2023-12-06\n",
      "Total Return:  1.0446012613839306\n",
      "2023-12-07\n",
      "Total Return:  1.0418339035301127\n",
      "2023-12-08\n",
      "Total Return:  1.054563262447158\n",
      "2023-12-11\n",
      "Total Return:  1.0812451482445071\n",
      "2023-12-12\n",
      "Total Return:  1.1298092225003185\n"
     ]
    },
    {
     "name": "stderr",
     "output_type": "stream",
     "text": [
      "/Users/atulkrishnan/Desktop/TradingAlgos/Stock_Picker_Algo/Trade_Functions.py:117: RuntimeWarning: divide by zero encountered in scalar divide\n",
      "  return d/c\n"
     ]
    },
    {
     "name": "stdout",
     "output_type": "stream",
     "text": [
      "2023-12-13\n",
      "Total Return:  1.170526773715808\n",
      "2023-12-14\n",
      "Total Return:  1.2107810780500383\n",
      "2023-12-15\n",
      "Total Return:  1.268024524139779\n"
     ]
    },
    {
     "name": "stderr",
     "output_type": "stream",
     "text": [
      "/Users/atulkrishnan/Desktop/TradingAlgos/Stock_Picker_Algo/Trade_Functions.py:117: RuntimeWarning: divide by zero encountered in scalar divide\n",
      "  return d/c\n",
      "/Users/atulkrishnan/Desktop/TradingAlgos/Stock_Picker_Algo/Trade_Functions.py:117: RuntimeWarning: divide by zero encountered in scalar divide\n",
      "  return d/c\n"
     ]
    },
    {
     "name": "stdout",
     "output_type": "stream",
     "text": [
      "2023-12-18\n",
      "Total Return:  1.2892713828816627\n",
      "2023-12-19\n",
      "Total Return:  1.236390799052759\n",
      "2023-12-20\n",
      "Total Return:  1.1919918135932757\n"
     ]
    },
    {
     "name": "stderr",
     "output_type": "stream",
     "text": [
      "/Users/atulkrishnan/Desktop/TradingAlgos/Stock_Picker_Algo/Trade_Functions.py:117: RuntimeWarning: divide by zero encountered in scalar divide\n",
      "  return d/c\n",
      "/Users/atulkrishnan/Desktop/TradingAlgos/Stock_Picker_Algo/Trade_Functions.py:117: RuntimeWarning: divide by zero encountered in scalar divide\n",
      "  return d/c\n"
     ]
    },
    {
     "name": "stdout",
     "output_type": "stream",
     "text": [
      "2023-12-21\n",
      "Total Return:  1.1178347891267788\n",
      "2023-12-22\n",
      "Total Return:  1.1069930162261175\n",
      "2023-12-26\n",
      "Total Return:  1.108877661368532\n"
     ]
    },
    {
     "name": "stderr",
     "output_type": "stream",
     "text": [
      "/Users/atulkrishnan/Desktop/TradingAlgos/Stock_Picker_Algo/Trade_Functions.py:117: RuntimeWarning: divide by zero encountered in scalar divide\n",
      "  return d/c\n"
     ]
    },
    {
     "name": "stdout",
     "output_type": "stream",
     "text": [
      "2023-12-27\n",
      "Total Return:  1.1098590607286412\n",
      "2023-12-28\n",
      "Total Return:  1.1211358991712166\n",
      "2023-12-29\n",
      "Total Return:  1.1000082654684056\n",
      "2024-01-02\n",
      "Total Return:  1.0522431746421823\n",
      "2024-01-03\n",
      "Total Return:  1.0162362904553746\n",
      "2024-01-04\n",
      "Total Return:  1.0359065881445952\n"
     ]
    },
    {
     "name": "stderr",
     "output_type": "stream",
     "text": [
      "/Users/atulkrishnan/Desktop/TradingAlgos/Stock_Picker_Algo/Trade_Functions.py:117: RuntimeWarning: divide by zero encountered in scalar divide\n",
      "  return d/c\n",
      "/Users/atulkrishnan/Desktop/TradingAlgos/Stock_Picker_Algo/Trade_Functions.py:117: RuntimeWarning: divide by zero encountered in scalar divide\n",
      "  return d/c\n"
     ]
    },
    {
     "name": "stdout",
     "output_type": "stream",
     "text": [
      "2024-01-05\n",
      "Total Return:  1.1096322055251233\n",
      "2024-01-08\n",
      "Total Return:  1.0967908442140033\n",
      "2024-01-09\n",
      "Total Return:  1.0542213531702513\n"
     ]
    },
    {
     "name": "stderr",
     "output_type": "stream",
     "text": [
      "/Users/atulkrishnan/Desktop/TradingAlgos/Stock_Picker_Algo/Trade_Functions.py:117: RuntimeWarning: divide by zero encountered in scalar divide\n",
      "  return d/c\n",
      "/Users/atulkrishnan/Desktop/TradingAlgos/Stock_Picker_Algo/Trade_Functions.py:117: RuntimeWarning: divide by zero encountered in scalar divide\n",
      "  return d/c\n"
     ]
    },
    {
     "name": "stdout",
     "output_type": "stream",
     "text": [
      "2024-01-10\n",
      "Total Return:  1.043010773232556\n",
      "2024-01-11\n",
      "Total Return:  1.0270407714222602\n",
      "2024-01-12\n",
      "Total Return:  0.9699119203408281\n"
     ]
    },
    {
     "name": "stderr",
     "output_type": "stream",
     "text": [
      "/Users/atulkrishnan/Desktop/TradingAlgos/Stock_Picker_Algo/Trade_Functions.py:117: RuntimeWarning: divide by zero encountered in scalar divide\n",
      "  return d/c\n",
      "/Users/atulkrishnan/Desktop/TradingAlgos/Stock_Picker_Algo/Trade_Functions.py:117: RuntimeWarning: divide by zero encountered in scalar divide\n",
      "  return d/c\n",
      "/Users/atulkrishnan/Desktop/TradingAlgos/Stock_Picker_Algo/Trade_Functions.py:117: RuntimeWarning: divide by zero encountered in scalar divide\n",
      "  return d/c\n"
     ]
    },
    {
     "name": "stdout",
     "output_type": "stream",
     "text": [
      "2024-01-16\n",
      "Total Return:  0.9063428782855155\n",
      "2024-01-17\n",
      "Total Return:  0.9206835191425503\n",
      "2024-01-18\n",
      "Total Return:  0.9243234130352294\n",
      "2024-01-19\n",
      "Total Return:  0.9375916886189096\n",
      "2024-01-22\n",
      "Total Return:  0.9397078833894431\n",
      "2024-01-23\n",
      "Total Return:  1.01339741884796\n"
     ]
    },
    {
     "name": "stderr",
     "output_type": "stream",
     "text": [
      "/Users/atulkrishnan/Desktop/TradingAlgos/Stock_Picker_Algo/Trade_Functions.py:117: RuntimeWarning: divide by zero encountered in scalar divide\n",
      "  return d/c\n"
     ]
    },
    {
     "name": "stdout",
     "output_type": "stream",
     "text": [
      "2024-01-24\n",
      "Total Return:  1.0226219828722654\n",
      "2024-01-25\n",
      "Total Return:  1.0184121776893553\n",
      "2024-01-26\n",
      "Total Return:  1.0807030350768203\n",
      "2024-01-29\n",
      "Total Return:  1.064625366063651\n",
      "2024-01-30\n",
      "Total Return:  1.0586014804724657\n",
      "2024-01-31\n",
      "Total Return:  1.0673660168420978\n",
      "2024-02-01\n",
      "Total Return:  1.1456988475875736\n",
      "2024-02-02\n",
      "Total Return:  1.2826560017378492\n",
      "2024-02-05\n",
      "Total Return:  1.4820734314804342\n"
     ]
    },
    {
     "name": "stderr",
     "output_type": "stream",
     "text": [
      "/Users/atulkrishnan/Desktop/TradingAlgos/Stock_Picker_Algo/Trade_Functions.py:117: RuntimeWarning: invalid value encountered in scalar divide\n",
      "  return d/c\n",
      "/Users/atulkrishnan/Desktop/TradingAlgos/Stock_Picker_Algo/Trade_Functions.py:117: RuntimeWarning: divide by zero encountered in scalar divide\n",
      "  return d/c\n"
     ]
    },
    {
     "name": "stdout",
     "output_type": "stream",
     "text": [
      "2024-02-06\n",
      "Total Return:  1.5054165837506908\n",
      "2024-02-07\n",
      "Total Return:  1.556712327999482\n",
      "2024-02-08\n",
      "Total Return:  1.718078926460245\n"
     ]
    },
    {
     "name": "stderr",
     "output_type": "stream",
     "text": [
      "/Users/atulkrishnan/Desktop/TradingAlgos/Stock_Picker_Algo/Trade_Functions.py:117: RuntimeWarning: divide by zero encountered in scalar divide\n",
      "  return d/c\n"
     ]
    },
    {
     "name": "stdout",
     "output_type": "stream",
     "text": [
      "2024-02-09\n",
      "Total Return:  2.4147771009582737\n",
      "2024-02-12\n",
      "Total Return:  2.411159752407534\n",
      "2024-02-13\n",
      "Total Return:  2.3787902591214247\n",
      "2024-02-14\n",
      "Total Return:  2.3764791138070605\n",
      "2024-02-15\n",
      "Total Return:  2.3282238226188676\n",
      "2024-02-16\n",
      "Total Return:  1.753839570120687\n"
     ]
    },
    {
     "name": "stderr",
     "output_type": "stream",
     "text": [
      "/Users/atulkrishnan/Desktop/TradingAlgos/Stock_Picker_Algo/Trade_Functions.py:117: RuntimeWarning: divide by zero encountered in scalar divide\n",
      "  return d/c\n",
      "/Users/atulkrishnan/Desktop/TradingAlgos/Stock_Picker_Algo/Trade_Functions.py:117: RuntimeWarning: divide by zero encountered in scalar divide\n",
      "  return d/c\n"
     ]
    },
    {
     "name": "stdout",
     "output_type": "stream",
     "text": [
      "2024-02-20\n",
      "Total Return:  1.6815226503978762\n",
      "2024-02-21\n",
      "Total Return:  1.728726165943871\n",
      "2024-02-22\n",
      "Total Return:  1.6838591334439141\n",
      "2024-02-23\n",
      "Total Return:  1.5895224146507252\n",
      "2024-02-26\n",
      "Total Return:  1.5695985272455848\n",
      "2024-02-27\n",
      "Total Return:  1.4499600537253488\n"
     ]
    },
    {
     "name": "stderr",
     "output_type": "stream",
     "text": [
      "/Users/atulkrishnan/Desktop/TradingAlgos/Stock_Picker_Algo/Trade_Functions.py:117: RuntimeWarning: divide by zero encountered in scalar divide\n",
      "  return d/c\n",
      "/Users/atulkrishnan/Desktop/TradingAlgos/Stock_Picker_Algo/Trade_Functions.py:117: RuntimeWarning: divide by zero encountered in scalar divide\n",
      "  return d/c\n",
      "/Users/atulkrishnan/Desktop/TradingAlgos/Stock_Picker_Algo/Trade_Functions.py:117: RuntimeWarning: divide by zero encountered in scalar divide\n",
      "  return d/c\n"
     ]
    },
    {
     "name": "stdout",
     "output_type": "stream",
     "text": [
      "2024-02-28\n",
      "Total Return:  1.541177266593436\n",
      "2024-02-29\n",
      "Total Return:  1.5304635075570001\n",
      "2024-03-01\n",
      "Total Return:  1.6124658281125779\n",
      "2024-03-04\n",
      "Total Return:  1.6479855472959155\n",
      "2024-03-05\n",
      "Total Return:  1.6720470871069484\n",
      "2024-03-06\n",
      "Total Return:  1.6745882935583183\n",
      "2024-03-07\n",
      "Total Return:  1.6849491084907893\n",
      "2024-03-08\n",
      "Total Return:  1.501745730429828\n",
      "2024-03-11\n",
      "Total Return:  1.5873940523497585\n",
      "2024-03-12\n",
      "Total Return:  1.5095834277393958\n",
      "2024-03-13\n",
      "Total Return:  1.4143031750452042\n",
      "2024-03-14\n",
      "Total Return:  1.3837891785847651\n"
     ]
    },
    {
     "name": "stderr",
     "output_type": "stream",
     "text": [
      "/Users/atulkrishnan/Desktop/TradingAlgos/Stock_Picker_Algo/Trade_Functions.py:117: RuntimeWarning: divide by zero encountered in scalar divide\n",
      "  return d/c\n"
     ]
    },
    {
     "name": "stdout",
     "output_type": "stream",
     "text": [
      "2024-03-15\n",
      "Total Return:  1.419820858662341\n",
      "2024-03-18\n",
      "Total Return:  1.4387518068833542\n",
      "2024-03-19\n",
      "Total Return:  1.483305992262327\n",
      "2024-03-20\n",
      "Total Return:  1.2333151940778324\n",
      "2024-03-21\n",
      "Total Return:  1.213787058294396\n",
      "2024-03-22\n",
      "Total Return:  1.3006209677028728\n"
     ]
    },
    {
     "name": "stderr",
     "output_type": "stream",
     "text": [
      "/Users/atulkrishnan/Desktop/TradingAlgos/Stock_Picker_Algo/Trade_Functions.py:117: RuntimeWarning: divide by zero encountered in scalar divide\n",
      "  return d/c\n",
      "/Users/atulkrishnan/Desktop/TradingAlgos/Stock_Picker_Algo/Trade_Functions.py:117: RuntimeWarning: divide by zero encountered in scalar divide\n",
      "  return d/c\n",
      "/Users/atulkrishnan/Desktop/TradingAlgos/Stock_Picker_Algo/Trade_Functions.py:117: RuntimeWarning: divide by zero encountered in scalar divide\n",
      "  return d/c\n"
     ]
    },
    {
     "name": "stdout",
     "output_type": "stream",
     "text": [
      "2024-03-25\n",
      "Total Return:  1.4016126444706922\n",
      "2024-03-26\n",
      "Total Return:  1.4045572088498324\n",
      "2024-03-27\n",
      "Total Return:  1.3879567833891457\n"
     ]
    },
    {
     "name": "stderr",
     "output_type": "stream",
     "text": [
      "/Users/atulkrishnan/Desktop/TradingAlgos/Stock_Picker_Algo/Trade_Functions.py:117: RuntimeWarning: divide by zero encountered in scalar divide\n",
      "  return d/c\n"
     ]
    },
    {
     "name": "stdout",
     "output_type": "stream",
     "text": [
      "2024-03-28\n",
      "Total Return:  1.4444325928041863\n",
      "2024-04-01\n",
      "Total Return:  1.4874505478695697\n",
      "2024-04-02\n",
      "Total Return:  1.551695362094314\n",
      "2024-04-03\n",
      "Total Return:  1.5033373086112727\n",
      "2024-04-04\n",
      "Total Return:  1.4271196635689853\n",
      "2024-04-05\n",
      "Total Return:  1.410485177880656\n",
      "2024-04-08\n",
      "Total Return:  1.377493543164163\n",
      "2024-04-09\n",
      "Total Return:  1.3711631251837428\n",
      "2024-04-10\n",
      "Total Return:  1.3630113039966798\n",
      "2024-04-11\n",
      "Total Return:  1.3323448393742083\n",
      "2024-04-12\n",
      "Total Return:  1.2171287100302648\n",
      "2024-04-15\n",
      "Total Return:  1.146353107988853\n",
      "2024-04-16\n",
      "Total Return:  1.1213235641463015\n",
      "2024-04-17\n",
      "Total Return:  1.0495121378226608\n",
      "2024-04-18\n",
      "Total Return:  0.7786670761134707\n"
     ]
    },
    {
     "name": "stderr",
     "output_type": "stream",
     "text": [
      "/Users/atulkrishnan/Desktop/TradingAlgos/Stock_Picker_Algo/Trade_Functions.py:117: RuntimeWarning: divide by zero encountered in scalar divide\n",
      "  return d/c\n"
     ]
    },
    {
     "name": "stdout",
     "output_type": "stream",
     "text": [
      "2024-04-19\n",
      "Total Return:  0.7975597774113888\n",
      "2024-04-22\n",
      "Total Return:  0.8007147138398754\n",
      "2024-04-23\n",
      "Total Return:  0.8145730294397443\n",
      "2024-04-24\n",
      "Total Return:  0.7983882269189211\n",
      "2024-04-25\n",
      "Total Return:  0.8265778896111923\n",
      "2024-04-26\n",
      "Total Return:  0.9499403980076477\n"
     ]
    },
    {
     "name": "stderr",
     "output_type": "stream",
     "text": [
      "/Users/atulkrishnan/Desktop/TradingAlgos/Stock_Picker_Algo/Trade_Functions.py:117: RuntimeWarning: divide by zero encountered in scalar divide\n",
      "  return d/c\n",
      "/Users/atulkrishnan/Desktop/TradingAlgos/Stock_Picker_Algo/Trade_Functions.py:117: RuntimeWarning: divide by zero encountered in scalar divide\n",
      "  return d/c\n"
     ]
    },
    {
     "name": "stdout",
     "output_type": "stream",
     "text": [
      "2024-04-29\n",
      "Total Return:  0.9723584897271306\n",
      "2024-04-30\n",
      "Total Return:  0.9360082035852467\n",
      "2024-05-01\n",
      "Total Return:  0.9257737999216133\n"
     ]
    },
    {
     "name": "stderr",
     "output_type": "stream",
     "text": [
      "/Users/atulkrishnan/Desktop/TradingAlgos/Stock_Picker_Algo/Trade_Functions.py:117: RuntimeWarning: divide by zero encountered in scalar divide\n",
      "  return d/c\n",
      "/Users/atulkrishnan/Desktop/TradingAlgos/Stock_Picker_Algo/Trade_Functions.py:117: RuntimeWarning: divide by zero encountered in scalar divide\n",
      "  return d/c\n"
     ]
    },
    {
     "name": "stdout",
     "output_type": "stream",
     "text": [
      "2024-05-02\n",
      "Total Return:  0.9173190227939405\n",
      "2024-05-03\n",
      "Total Return:  0.8962573578746561\n",
      "2024-05-06\n",
      "Total Return:  0.9216244092748351\n",
      "2024-05-07\n",
      "Total Return:  0.957219521847525\n",
      "2024-05-08\n",
      "Total Return:  0.9746966971230698\n",
      "2024-05-09\n",
      "Total Return:  0.9610634083061695\n"
     ]
    },
    {
     "name": "stderr",
     "output_type": "stream",
     "text": [
      "/Users/atulkrishnan/Desktop/TradingAlgos/Stock_Picker_Algo/Trade_Functions.py:117: RuntimeWarning: divide by zero encountered in scalar divide\n",
      "  return d/c\n"
     ]
    },
    {
     "name": "stdout",
     "output_type": "stream",
     "text": [
      "2024-05-10\n",
      "Total Return:  0.9308612637562446\n",
      "2024-05-13\n",
      "Total Return:  0.9340356529200844\n",
      "2024-05-14\n",
      "Total Return:  0.9166968678717778\n",
      "2024-05-15\n",
      "Total Return:  0.8681720560706214\n",
      "2024-05-16\n",
      "Total Return:  0.8342438169397811\n",
      "2024-05-17\n",
      "Total Return:  0.8150738865365997\n"
     ]
    },
    {
     "name": "stderr",
     "output_type": "stream",
     "text": [
      "/Users/atulkrishnan/Desktop/TradingAlgos/Stock_Picker_Algo/Trade_Functions.py:117: RuntimeWarning: divide by zero encountered in scalar divide\n",
      "  return d/c\n"
     ]
    },
    {
     "name": "stdout",
     "output_type": "stream",
     "text": [
      "2024-05-20\n",
      "Total Return:  0.8807186983697303\n",
      "2024-05-21\n",
      "Total Return:  0.8651352476542813\n",
      "2024-05-22\n",
      "Total Return:  0.9929379515455642\n"
     ]
    },
    {
     "name": "stderr",
     "output_type": "stream",
     "text": [
      "/Users/atulkrishnan/Desktop/TradingAlgos/Stock_Picker_Algo/Trade_Functions.py:117: RuntimeWarning: divide by zero encountered in scalar divide\n",
      "  return d/c\n"
     ]
    },
    {
     "name": "stdout",
     "output_type": "stream",
     "text": [
      "2024-05-23\n",
      "Total Return:  1.0339587044565481\n",
      "2024-05-24\n",
      "Total Return:  0.9677865734773263\n",
      "2024-05-28\n",
      "Total Return:  0.8856408606610261\n",
      "2024-05-29\n",
      "Total Return:  0.8656639757739636\n",
      "2024-05-30\n",
      "Total Return:  0.827783167843303\n",
      "2024-05-31\n",
      "Total Return:  0.8460279696235296\n"
     ]
    },
    {
     "name": "stderr",
     "output_type": "stream",
     "text": [
      "/Users/atulkrishnan/Desktop/TradingAlgos/Stock_Picker_Algo/Trade_Functions.py:117: RuntimeWarning: divide by zero encountered in scalar divide\n",
      "  return d/c\n"
     ]
    },
    {
     "name": "stdout",
     "output_type": "stream",
     "text": [
      "2024-06-03\n",
      "Total Return:  0.8518486461855355\n",
      "2024-06-04\n",
      "Total Return:  0.9176130278967147\n",
      "2024-06-05\n",
      "Total Return:  0.9079848758938268\n",
      "2024-06-06\n",
      "Total Return:  0.9199755718354001\n",
      "2024-06-07\n",
      "Total Return:  0.9478583237271686\n",
      "2024-06-10\n",
      "Total Return:  1.0120990058895014\n"
     ]
    },
    {
     "name": "stderr",
     "output_type": "stream",
     "text": [
      "/Users/atulkrishnan/Desktop/TradingAlgos/Stock_Picker_Algo/Trade_Functions.py:117: RuntimeWarning: divide by zero encountered in scalar divide\n",
      "  return d/c\n"
     ]
    },
    {
     "name": "stdout",
     "output_type": "stream",
     "text": [
      "2024-06-11\n",
      "Total Return:  1.051485282336917\n",
      "2024-06-12\n",
      "Total Return:  1.0314390220737795\n",
      "2024-06-13\n",
      "Total Return:  1.0350773802162045\n"
     ]
    },
    {
     "name": "stderr",
     "output_type": "stream",
     "text": [
      "/Users/atulkrishnan/Desktop/TradingAlgos/Stock_Picker_Algo/Trade_Functions.py:117: RuntimeWarning: divide by zero encountered in scalar divide\n",
      "  return d/c\n",
      "/Users/atulkrishnan/Desktop/TradingAlgos/Stock_Picker_Algo/Trade_Functions.py:117: RuntimeWarning: divide by zero encountered in scalar divide\n",
      "  return d/c\n",
      "/Users/atulkrishnan/Desktop/TradingAlgos/Stock_Picker_Algo/Trade_Functions.py:117: RuntimeWarning: divide by zero encountered in scalar divide\n",
      "  return d/c\n"
     ]
    },
    {
     "name": "stdout",
     "output_type": "stream",
     "text": [
      "2024-06-14\n",
      "Total Return:  1.1222163357183632\n",
      "2024-06-17\n",
      "Total Return:  1.123787431738904\n",
      "2024-06-18\n",
      "Total Return:  1.059625601434741\n",
      "2024-06-20\n",
      "Total Return:  0.9745305961673598\n",
      "2024-06-21\n",
      "Total Return:  0.8953641531581388\n",
      "2024-06-24\n",
      "Total Return:  0.8865805131232617\n"
     ]
    },
    {
     "name": "stderr",
     "output_type": "stream",
     "text": [
      "/Users/atulkrishnan/Desktop/TradingAlgos/Stock_Picker_Algo/Trade_Functions.py:117: RuntimeWarning: divide by zero encountered in scalar divide\n",
      "  return d/c\n"
     ]
    },
    {
     "name": "stdout",
     "output_type": "stream",
     "text": [
      "2024-06-25\n",
      "Total Return:  0.8883845934314861\n",
      "2024-06-26\n",
      "Total Return:  0.8776749697275662\n",
      "2024-06-27\n",
      "Total Return:  0.9043641478448898\n"
     ]
    },
    {
     "name": "stderr",
     "output_type": "stream",
     "text": [
      "/Users/atulkrishnan/Desktop/TradingAlgos/Stock_Picker_Algo/Trade_Functions.py:117: RuntimeWarning: divide by zero encountered in scalar divide\n",
      "  return d/c\n",
      "/Users/atulkrishnan/Desktop/TradingAlgos/Stock_Picker_Algo/Trade_Functions.py:117: RuntimeWarning: divide by zero encountered in scalar divide\n",
      "  return d/c\n"
     ]
    },
    {
     "name": "stdout",
     "output_type": "stream",
     "text": [
      "2024-06-28\n",
      "Total Return:  0.9744796665565819\n",
      "2024-07-01\n",
      "Total Return:  0.9949449996029004\n",
      "2024-07-02\n",
      "Total Return:  1.1199438006690658\n"
     ]
    },
    {
     "name": "stderr",
     "output_type": "stream",
     "text": [
      "/Users/atulkrishnan/Desktop/TradingAlgos/Stock_Picker_Algo/Trade_Functions.py:117: RuntimeWarning: divide by zero encountered in scalar divide\n",
      "  return d/c\n"
     ]
    },
    {
     "name": "stdout",
     "output_type": "stream",
     "text": [
      "2024-07-03\n",
      "Total Return:  1.2009220347081264\n",
      "2024-07-05\n",
      "Total Return:  1.2159690379075556\n",
      "2024-07-08\n",
      "Total Return:  1.2877361945052281\n"
     ]
    },
    {
     "name": "stderr",
     "output_type": "stream",
     "text": [
      "/Users/atulkrishnan/Desktop/TradingAlgos/Stock_Picker_Algo/Trade_Functions.py:117: RuntimeWarning: divide by zero encountered in scalar divide\n",
      "  return d/c\n",
      "/Users/atulkrishnan/Desktop/TradingAlgos/Stock_Picker_Algo/Trade_Functions.py:117: RuntimeWarning: divide by zero encountered in scalar divide\n",
      "  return d/c\n"
     ]
    },
    {
     "name": "stdout",
     "output_type": "stream",
     "text": [
      "2024-07-09\n",
      "Total Return:  1.3506352316374308\n",
      "2024-07-10\n",
      "Total Return:  1.238750469384745\n",
      "2024-07-11\n",
      "Total Return:  1.2012246059155673\n"
     ]
    },
    {
     "name": "stderr",
     "output_type": "stream",
     "text": [
      "/Users/atulkrishnan/Desktop/TradingAlgos/Stock_Picker_Algo/Trade_Functions.py:117: RuntimeWarning: divide by zero encountered in scalar divide\n",
      "  return d/c\n"
     ]
    },
    {
     "name": "stdout",
     "output_type": "stream",
     "text": [
      "2024-07-12\n",
      "Total Return:  1.1819579454242453\n",
      "2024-07-15\n",
      "Total Return:  1.1696955369975268\n",
      "2024-07-16\n",
      "Total Return:  1.1902721154400315\n",
      "2024-07-17\n",
      "Total Return:  1.1094067907294776\n",
      "2024-07-18\n",
      "Total Return:  1.0980087567296042\n",
      "2024-07-19\n",
      "Total Return:  1.104467656407843\n"
     ]
    },
    {
     "name": "stderr",
     "output_type": "stream",
     "text": [
      "/Users/atulkrishnan/Desktop/TradingAlgos/Stock_Picker_Algo/Trade_Functions.py:117: RuntimeWarning: divide by zero encountered in scalar divide\n",
      "  return d/c\n"
     ]
    },
    {
     "name": "stdout",
     "output_type": "stream",
     "text": [
      "2024-07-22\n",
      "Total Return:  1.1006371666704131\n",
      "2024-07-23\n",
      "Total Return:  1.0980444460450718\n",
      "2024-07-24\n",
      "Total Return:  1.0189750548681784\n",
      "2024-07-25\n",
      "Total Return:  0.9921752748411705\n",
      "2024-07-26\n",
      "Total Return:  1.0138913056922254\n",
      "2024-07-29\n",
      "Total Return:  1.059673037049542\n",
      "2024-07-30\n",
      "Total Return:  1.0649174022026153\n",
      "2024-07-31\n",
      "Total Return:  1.048863261355158\n",
      "2024-08-01\n",
      "Total Return:  1.0269029842205453\n"
     ]
    },
    {
     "name": "stderr",
     "output_type": "stream",
     "text": [
      "/Users/atulkrishnan/Desktop/TradingAlgos/Stock_Picker_Algo/Trade_Functions.py:117: RuntimeWarning: divide by zero encountered in scalar divide\n",
      "  return d/c\n"
     ]
    },
    {
     "name": "stdout",
     "output_type": "stream",
     "text": [
      "2024-08-02\n",
      "Total Return:  0.9892384544094653\n",
      "2024-08-05\n",
      "Total Return:  1.0763474515993372\n",
      "2024-08-06\n",
      "Total Return:  1.0675602243124493\n",
      "2024-08-07\n",
      "Total Return:  1.075751704160591\n",
      "2024-08-08\n",
      "Total Return:  1.0752888350070293\n",
      "2024-08-09\n",
      "Total Return:  1.096641910857786\n",
      "2024-08-12\n",
      "Total Return:  1.1233509054174327\n",
      "2024-08-13\n",
      "Total Return:  1.162808785390422\n",
      "2024-08-14\n",
      "Total Return:  1.191874960124279\n",
      "2024-08-15\n",
      "Total Return:  1.2006126090305027\n",
      "2024-08-16\n",
      "Total Return:  1.186981006351956\n",
      "2024-08-19\n",
      "Total Return:  1.1701230283193054\n",
      "2024-08-20\n",
      "Total Return:  1.176335594995394\n",
      "2024-08-21\n",
      "Total Return:  1.1339196329013128\n",
      "2024-08-22\n",
      "Total Return:  1.1061551284922655\n"
     ]
    },
    {
     "name": "stderr",
     "output_type": "stream",
     "text": [
      "/Users/atulkrishnan/Desktop/TradingAlgos/Stock_Picker_Algo/Trade_Functions.py:117: RuntimeWarning: divide by zero encountered in scalar divide\n",
      "  return d/c\n"
     ]
    },
    {
     "name": "stdout",
     "output_type": "stream",
     "text": [
      "2024-08-23\n",
      "Total Return:  1.1073980542337596\n",
      "2024-08-26\n",
      "Total Return:  1.1273311880144843\n",
      "2024-08-27\n",
      "Total Return:  1.128631901841551\n",
      "2024-08-28\n",
      "Total Return:  1.1217055720548146\n",
      "2024-08-29\n",
      "Total Return:  1.1250826947965147\n",
      "2024-08-30\n",
      "Total Return:  1.116121837058116\n"
     ]
    },
    {
     "name": "stderr",
     "output_type": "stream",
     "text": [
      "/Users/atulkrishnan/Desktop/TradingAlgos/Stock_Picker_Algo/Trade_Functions.py:117: RuntimeWarning: divide by zero encountered in scalar divide\n",
      "  return d/c\n"
     ]
    },
    {
     "name": "stdout",
     "output_type": "stream",
     "text": [
      "2024-09-03\n",
      "Total Return:  1.1158147122646633\n",
      "2024-09-04\n",
      "Total Return:  1.1489090883460789\n",
      "2024-09-05\n",
      "Total Return:  1.110993136991082\n",
      "2024-09-06\n",
      "Total Return:  1.0799416266571291\n",
      "2024-09-09\n",
      "Total Return:  1.1127723069306303\n",
      "2024-09-10\n",
      "Total Return:  1.0869396959829936\n",
      "2024-09-11\n",
      "Total Return:  0.9581019028957329\n",
      "2024-09-12\n",
      "Total Return:  1.0357648559664308\n",
      "2024-09-13\n",
      "Total Return:  1.009505984112303\n"
     ]
    },
    {
     "name": "stderr",
     "output_type": "stream",
     "text": [
      "/Users/atulkrishnan/Desktop/TradingAlgos/Stock_Picker_Algo/Trade_Functions.py:117: RuntimeWarning: divide by zero encountered in scalar divide\n",
      "  return d/c\n"
     ]
    },
    {
     "name": "stdout",
     "output_type": "stream",
     "text": [
      "2024-09-16\n",
      "Total Return:  0.9660195466364071\n",
      "2024-09-17\n",
      "Total Return:  0.938164311972749\n",
      "2024-09-18\n",
      "Total Return:  0.9282190901227676\n"
     ]
    },
    {
     "name": "stderr",
     "output_type": "stream",
     "text": [
      "/Users/atulkrishnan/Desktop/TradingAlgos/Stock_Picker_Algo/Trade_Functions.py:117: RuntimeWarning: divide by zero encountered in scalar divide\n",
      "  return d/c\n",
      "/Users/atulkrishnan/Desktop/TradingAlgos/Stock_Picker_Algo/Trade_Functions.py:117: RuntimeWarning: divide by zero encountered in scalar divide\n",
      "  return d/c\n"
     ]
    },
    {
     "name": "stdout",
     "output_type": "stream",
     "text": [
      "2024-09-19\n",
      "Total Return:  0.887299906229992\n",
      "2024-09-20\n",
      "Total Return:  0.8914316940697936\n",
      "2024-09-23\n",
      "Total Return:  0.8705849404838344\n"
     ]
    },
    {
     "name": "stderr",
     "output_type": "stream",
     "text": [
      "/Users/atulkrishnan/Desktop/TradingAlgos/Stock_Picker_Algo/Trade_Functions.py:117: RuntimeWarning: invalid value encountered in scalar divide\n",
      "  return d/c\n",
      "/Users/atulkrishnan/Desktop/TradingAlgos/Stock_Picker_Algo/Trade_Functions.py:117: RuntimeWarning: divide by zero encountered in scalar divide\n",
      "  return d/c\n"
     ]
    },
    {
     "name": "stdout",
     "output_type": "stream",
     "text": [
      "2024-09-24\n",
      "Total Return:  0.9006688564770847\n",
      "2024-09-25\n",
      "Total Return:  0.9089165625040988\n",
      "2024-09-26\n",
      "Total Return:  0.8853866825315188\n"
     ]
    },
    {
     "name": "stderr",
     "output_type": "stream",
     "text": [
      "/Users/atulkrishnan/Desktop/TradingAlgos/Stock_Picker_Algo/Trade_Functions.py:117: RuntimeWarning: divide by zero encountered in scalar divide\n",
      "  return d/c\n",
      "/Users/atulkrishnan/Desktop/TradingAlgos/Stock_Picker_Algo/Trade_Functions.py:117: RuntimeWarning: divide by zero encountered in scalar divide\n",
      "  return d/c\n"
     ]
    },
    {
     "name": "stdout",
     "output_type": "stream",
     "text": [
      "2024-09-27\n",
      "Total Return:  0.8900080230204137\n",
      "2024-09-30\n",
      "Total Return:  0.9134656342834886\n",
      "2024-10-01\n",
      "Total Return:  1.0393036944988616\n"
     ]
    },
    {
     "name": "stderr",
     "output_type": "stream",
     "text": [
      "/Users/atulkrishnan/Desktop/TradingAlgos/Stock_Picker_Algo/Trade_Functions.py:117: RuntimeWarning: divide by zero encountered in scalar divide\n",
      "  return d/c\n",
      "/Users/atulkrishnan/Desktop/TradingAlgos/Stock_Picker_Algo/Trade_Functions.py:117: RuntimeWarning: divide by zero encountered in scalar divide\n",
      "  return d/c\n"
     ]
    },
    {
     "name": "stdout",
     "output_type": "stream",
     "text": [
      "2024-10-02\n",
      "Total Return:  1.0328743713921558\n",
      "2024-10-03\n",
      "Total Return:  1.0839560114801585\n",
      "2024-10-04\n",
      "Total Return:  1.0812016317912674\n"
     ]
    },
    {
     "name": "stderr",
     "output_type": "stream",
     "text": [
      "/Users/atulkrishnan/Desktop/TradingAlgos/Stock_Picker_Algo/Trade_Functions.py:117: RuntimeWarning: divide by zero encountered in scalar divide\n",
      "  return d/c\n",
      "/Users/atulkrishnan/Desktop/TradingAlgos/Stock_Picker_Algo/Trade_Functions.py:117: RuntimeWarning: divide by zero encountered in scalar divide\n",
      "  return d/c\n"
     ]
    },
    {
     "name": "stdout",
     "output_type": "stream",
     "text": [
      "2024-10-07\n",
      "Total Return:  1.0691729934903937\n",
      "2024-10-08\n",
      "Total Return:  1.056252664930897\n",
      "2024-10-09\n",
      "Total Return:  1.0617658529009166\n"
     ]
    },
    {
     "name": "stderr",
     "output_type": "stream",
     "text": [
      "/Users/atulkrishnan/Desktop/TradingAlgos/Stock_Picker_Algo/Trade_Functions.py:117: RuntimeWarning: divide by zero encountered in scalar divide\n",
      "  return d/c\n"
     ]
    },
    {
     "name": "stdout",
     "output_type": "stream",
     "text": [
      "2024-10-10\n",
      "Total Return:  1.1081311747606495\n",
      "2024-10-11\n",
      "Total Return:  1.0980297378559554\n",
      "2024-10-14\n",
      "Total Return:  1.0884578269992322\n",
      "2024-10-15\n",
      "Total Return:  1.0678730372317304\n",
      "2024-10-16\n",
      "Total Return:  1.0489529646716103\n",
      "2024-10-17\n",
      "Total Return:  0.995588914334001\n",
      "2024-10-18\n",
      "Total Return:  0.994310309421787\n",
      "2024-10-21\n",
      "Total Return:  1.0260711429684477\n",
      "2024-10-22\n",
      "Total Return:  1.0046451638602634\n"
     ]
    },
    {
     "name": "stderr",
     "output_type": "stream",
     "text": [
      "/Users/atulkrishnan/Desktop/TradingAlgos/Stock_Picker_Algo/Trade_Functions.py:117: RuntimeWarning: divide by zero encountered in scalar divide\n",
      "  return d/c\n",
      "/Users/atulkrishnan/Desktop/TradingAlgos/Stock_Picker_Algo/Trade_Functions.py:117: RuntimeWarning: divide by zero encountered in scalar divide\n",
      "  return d/c\n"
     ]
    },
    {
     "name": "stdout",
     "output_type": "stream",
     "text": [
      "2024-10-23\n",
      "Total Return:  0.9931861743936178\n",
      "2024-10-24\n",
      "Total Return:  0.994119454131997\n",
      "2024-10-25\n",
      "Total Return:  1.019359781483938\n",
      "2024-10-28\n",
      "Total Return:  0.9797934788581131\n",
      "2024-10-29\n",
      "Total Return:  0.9540122838569853\n",
      "2024-10-30\n",
      "Total Return:  0.9237326269232427\n",
      "2024-10-31\n",
      "Total Return:  0.8914723602097839\n",
      "2024-11-01\n",
      "Total Return:  0.9345601791247449\n",
      "2024-11-04\n",
      "Total Return:  0.955826688371082\n"
     ]
    },
    {
     "name": "stderr",
     "output_type": "stream",
     "text": [
      "[I 2024-11-14 10:49:12,609] Trial 1 finished with values: [0.9899658824975957, 0.9870689655172413] and parameters: {'TimeInput': 6, 'NumStocks': 1, 'holdTime': 1}.\n"
     ]
    },
    {
     "name": "stdout",
     "output_type": "stream",
     "text": [
      "2024-11-05\n",
      "Total Return:  0.987522700903864\n",
      "2024-11-06\n",
      "Total Return:  0.9899658824975957\n",
      "UNABLE TO FIND:--- ARM ----\n",
      "2023-01-05\n",
      "Total Return:  1.0131133085109099\n",
      "UNABLE TO FIND:--- ARM ----\n"
     ]
    },
    {
     "name": "stderr",
     "output_type": "stream",
     "text": [
      "/Users/atulkrishnan/Desktop/TradingAlgos/Stock_Picker_Algo/Trade_Functions.py:117: RuntimeWarning: divide by zero encountered in scalar divide\n",
      "  return d/c\n"
     ]
    },
    {
     "name": "stdout",
     "output_type": "stream",
     "text": [
      "2023-01-06\n",
      "Total Return:  1.0317313259839802\n",
      "UNABLE TO FIND:--- ARM ----\n",
      "2023-01-09\n",
      "Total Return:  1.0234672899719373\n",
      "UNABLE TO FIND:--- ARM ----\n",
      "2023-01-10\n",
      "Total Return:  1.0429536113282056\n",
      "UNABLE TO FIND:--- ARM ----\n",
      "2023-01-11\n",
      "Total Return:  1.03335740699686\n",
      "UNABLE TO FIND:--- ARM ----\n",
      "2023-01-12\n",
      "Total Return:  1.0571316576925098\n",
      "UNABLE TO FIND:--- ARM ----\n",
      "2023-01-13\n",
      "Total Return:  1.0970769879875057\n",
      "UNABLE TO FIND:--- ARM ----\n",
      "2023-01-17\n",
      "Total Return:  1.1211664944469355\n",
      "UNABLE TO FIND:--- ARM ----\n",
      "2023-01-18\n",
      "Total Return:  1.0828568993800884\n",
      "UNABLE TO FIND:--- ARM ----\n",
      "2023-01-19\n",
      "Total Return:  1.093503961505472\n",
      "UNABLE TO FIND:--- ARM ----\n"
     ]
    },
    {
     "name": "stderr",
     "output_type": "stream",
     "text": [
      "/Users/atulkrishnan/Desktop/TradingAlgos/Stock_Picker_Algo/Trade_Functions.py:117: RuntimeWarning: divide by zero encountered in scalar divide\n",
      "  return d/c\n",
      "/Users/atulkrishnan/Desktop/TradingAlgos/Stock_Picker_Algo/Trade_Functions.py:117: RuntimeWarning: divide by zero encountered in scalar divide\n",
      "  return d/c\n"
     ]
    },
    {
     "name": "stdout",
     "output_type": "stream",
     "text": [
      "2023-01-20\n",
      "Total Return:  1.121033428911178\n",
      "UNABLE TO FIND:--- ARM ----\n",
      "2023-01-23\n",
      "Total Return:  1.1771432117651344\n",
      "UNABLE TO FIND:--- ARM ----\n",
      "2023-01-24\n",
      "Total Return:  1.1785375561271771\n",
      "UNABLE TO FIND:--- ARM ----\n",
      "2023-01-25\n",
      "Total Return:  1.1949996459893903\n",
      "UNABLE TO FIND:--- ARM ----\n",
      "2023-01-26\n",
      "Total Return:  1.199111006414523\n",
      "UNABLE TO FIND:--- ARM ----\n",
      "2023-01-27\n",
      "Total Return:  1.2559929546937294\n",
      "UNABLE TO FIND:--- ARM ----\n"
     ]
    },
    {
     "name": "stderr",
     "output_type": "stream",
     "text": [
      "/Users/atulkrishnan/Desktop/TradingAlgos/Stock_Picker_Algo/Trade_Functions.py:117: RuntimeWarning: divide by zero encountered in scalar divide\n",
      "  return d/c\n",
      "/Users/atulkrishnan/Desktop/TradingAlgos/Stock_Picker_Algo/Trade_Functions.py:117: RuntimeWarning: divide by zero encountered in scalar divide\n",
      "  return d/c\n"
     ]
    },
    {
     "name": "stdout",
     "output_type": "stream",
     "text": [
      "2023-01-30\n",
      "Total Return:  1.2061270314525618\n",
      "UNABLE TO FIND:--- ARM ----\n",
      "2023-01-31\n",
      "Total Return:  1.23766375245242\n",
      "UNABLE TO FIND:--- ARM ----\n",
      "2023-02-01\n",
      "Total Return:  1.2996317842489382\n",
      "UNABLE TO FIND:--- ARM ----\n"
     ]
    },
    {
     "name": "stderr",
     "output_type": "stream",
     "text": [
      "/Users/atulkrishnan/Desktop/TradingAlgos/Stock_Picker_Algo/Trade_Functions.py:117: RuntimeWarning: divide by zero encountered in scalar divide\n",
      "  return d/c\n"
     ]
    },
    {
     "name": "stdout",
     "output_type": "stream",
     "text": [
      "2023-02-02\n",
      "Total Return:  1.318416054648758\n",
      "UNABLE TO FIND:--- ARM ----\n",
      "2023-02-03\n",
      "Total Return:  1.3047644827039024\n",
      "UNABLE TO FIND:--- ARM ----\n",
      "2023-02-06\n",
      "Total Return:  1.2972759634743503\n",
      "UNABLE TO FIND:--- ARM ----\n",
      "2023-02-07\n",
      "Total Return:  1.320340627980896\n",
      "UNABLE TO FIND:--- ARM ----\n",
      "2023-02-08\n",
      "Total Return:  1.2955243490512038\n",
      "UNABLE TO FIND:--- ARM ----\n",
      "2023-02-09\n",
      "Total Return:  1.2546246861683399\n",
      "UNABLE TO FIND:--- ARM ----\n"
     ]
    },
    {
     "name": "stderr",
     "output_type": "stream",
     "text": [
      "/Users/atulkrishnan/Desktop/TradingAlgos/Stock_Picker_Algo/Trade_Functions.py:117: RuntimeWarning: divide by zero encountered in scalar divide\n",
      "  return d/c\n",
      "/Users/atulkrishnan/Desktop/TradingAlgos/Stock_Picker_Algo/Trade_Functions.py:117: RuntimeWarning: divide by zero encountered in scalar divide\n",
      "  return d/c\n"
     ]
    },
    {
     "name": "stdout",
     "output_type": "stream",
     "text": [
      "2023-02-10\n",
      "Total Return:  1.2611779011374322\n",
      "UNABLE TO FIND:--- ARM ----\n",
      "2023-02-13\n",
      "Total Return:  1.2662076619655926\n",
      "UNABLE TO FIND:--- ARM ----\n",
      "2023-02-14\n",
      "Total Return:  1.2798122590695287\n",
      "UNABLE TO FIND:--- ARM ----\n"
     ]
    },
    {
     "name": "stderr",
     "output_type": "stream",
     "text": [
      "/Users/atulkrishnan/Desktop/TradingAlgos/Stock_Picker_Algo/Trade_Functions.py:117: RuntimeWarning: divide by zero encountered in scalar divide\n",
      "  return d/c\n",
      "/Users/atulkrishnan/Desktop/TradingAlgos/Stock_Picker_Algo/Trade_Functions.py:117: RuntimeWarning: divide by zero encountered in scalar divide\n",
      "  return d/c\n"
     ]
    },
    {
     "name": "stdout",
     "output_type": "stream",
     "text": [
      "2023-02-15\n",
      "Total Return:  1.2973384196832025\n",
      "UNABLE TO FIND:--- ARM ----\n",
      "2023-02-16\n",
      "Total Return:  1.3089839276035695\n",
      "UNABLE TO FIND:--- ARM ----\n",
      "2023-02-17\n",
      "Total Return:  1.2634493219014669\n",
      "UNABLE TO FIND:--- ARM ----\n",
      "2023-02-21\n",
      "Total Return:  1.2383034657237695\n",
      "UNABLE TO FIND:--- ARM ----\n",
      "2023-02-22\n",
      "Total Return:  1.2305888327065042\n",
      "UNABLE TO FIND:--- ARM ----\n",
      "2023-02-23\n",
      "Total Return:  1.218935744622223\n",
      "UNABLE TO FIND:--- ARM ----\n",
      "2023-02-24\n",
      "Total Return:  1.225626000733352\n",
      "UNABLE TO FIND:--- ARM ----\n",
      "2023-02-27\n",
      "Total Return:  1.2263138074326965\n",
      "UNABLE TO FIND:--- ARM ----\n",
      "2023-02-28\n",
      "Total Return:  1.211332992820522\n",
      "UNABLE TO FIND:--- ARM ----\n"
     ]
    },
    {
     "name": "stderr",
     "output_type": "stream",
     "text": [
      "/Users/atulkrishnan/Desktop/TradingAlgos/Stock_Picker_Algo/Trade_Functions.py:117: RuntimeWarning: divide by zero encountered in scalar divide\n",
      "  return d/c\n"
     ]
    },
    {
     "name": "stdout",
     "output_type": "stream",
     "text": [
      "2023-03-01\n",
      "Total Return:  1.1985231644478453\n",
      "UNABLE TO FIND:--- ARM ----\n",
      "2023-03-02\n",
      "Total Return:  1.2190336035873994\n",
      "UNABLE TO FIND:--- ARM ----\n",
      "2023-03-03\n",
      "Total Return:  1.230473510517625\n",
      "UNABLE TO FIND:--- ARM ----\n",
      "2023-03-06\n",
      "Total Return:  1.2146088131241037\n",
      "UNABLE TO FIND:--- ARM ----\n",
      "2023-03-07\n",
      "Total Return:  1.1807312444774385\n",
      "UNABLE TO FIND:--- ARM ----\n",
      "2023-03-08\n",
      "Total Return:  1.189484809961744\n",
      "UNABLE TO FIND:--- ARM ----\n",
      "2023-03-09\n",
      "Total Return:  1.1792221315888627\n",
      "UNABLE TO FIND:--- ARM ----\n",
      "2023-03-10\n",
      "Total Return:  1.1486844156943015\n",
      "UNABLE TO FIND:--- ARM ----\n",
      "2023-03-13\n",
      "Total Return:  1.1579933689848754\n",
      "UNABLE TO FIND:--- ARM ----\n",
      "2023-03-14\n",
      "Total Return:  1.16635288965399\n",
      "UNABLE TO FIND:--- ARM ----\n",
      "2023-03-15\n",
      "Total Return:  1.19127360524068\n",
      "UNABLE TO FIND:--- ARM ----\n",
      "2023-03-16\n",
      "Total Return:  1.224632720714113\n",
      "UNABLE TO FIND:--- ARM ----\n",
      "2023-03-17\n",
      "Total Return:  1.2180402340380507\n",
      "UNABLE TO FIND:--- ARM ----\n",
      "2023-03-20\n",
      "Total Return:  1.2035611414991862\n",
      "UNABLE TO FIND:--- ARM ----\n",
      "2023-03-21\n",
      "Total Return:  1.2099782923566686\n",
      "UNABLE TO FIND:--- ARM ----\n",
      "2023-03-22\n",
      "Total Return:  1.2058278936341247\n",
      "UNABLE TO FIND:--- ARM ----\n",
      "2023-03-23\n",
      "Total Return:  1.207878481276876\n",
      "UNABLE TO FIND:--- ARM ----\n",
      "2023-03-24\n",
      "Total Return:  1.212578609336478\n",
      "UNABLE TO FIND:--- ARM ----\n"
     ]
    },
    {
     "name": "stderr",
     "output_type": "stream",
     "text": [
      "/Users/atulkrishnan/Desktop/TradingAlgos/Stock_Picker_Algo/Trade_Functions.py:117: RuntimeWarning: divide by zero encountered in scalar divide\n",
      "  return d/c\n"
     ]
    },
    {
     "name": "stdout",
     "output_type": "stream",
     "text": [
      "2023-03-27\n",
      "Total Return:  1.2084460405983246\n",
      "UNABLE TO FIND:--- ARM ----\n",
      "2023-03-28\n",
      "Total Return:  1.1829431725053647\n",
      "UNABLE TO FIND:--- ARM ----\n",
      "2023-03-29\n",
      "Total Return:  1.179211024313498\n",
      "UNABLE TO FIND:--- ARM ----\n"
     ]
    },
    {
     "name": "stderr",
     "output_type": "stream",
     "text": [
      "/Users/atulkrishnan/Desktop/TradingAlgos/Stock_Picker_Algo/Trade_Functions.py:117: RuntimeWarning: divide by zero encountered in scalar divide\n",
      "  return d/c\n"
     ]
    },
    {
     "name": "stdout",
     "output_type": "stream",
     "text": [
      "2023-03-30\n",
      "Total Return:  1.172606003040438\n",
      "UNABLE TO FIND:--- ARM ----\n",
      "2023-03-31\n",
      "Total Return:  1.1867484580578564\n",
      "UNABLE TO FIND:--- ARM ----\n",
      "2023-04-03\n",
      "Total Return:  1.1723991555596927\n",
      "UNABLE TO FIND:--- ARM ----\n",
      "2023-04-04\n",
      "Total Return:  1.1647601950671342\n",
      "UNABLE TO FIND:--- ARM ----\n",
      "2023-04-05\n",
      "Total Return:  1.15060513977763\n",
      "UNABLE TO FIND:--- ARM ----\n",
      "2023-04-06\n",
      "Total Return:  1.1421961054282248\n",
      "UNABLE TO FIND:--- ARM ----\n"
     ]
    },
    {
     "name": "stderr",
     "output_type": "stream",
     "text": [
      "/Users/atulkrishnan/Desktop/TradingAlgos/Stock_Picker_Algo/Trade_Functions.py:117: RuntimeWarning: divide by zero encountered in scalar divide\n",
      "  return d/c\n"
     ]
    },
    {
     "name": "stdout",
     "output_type": "stream",
     "text": [
      "2023-04-10\n",
      "Total Return:  1.1390712634226725\n",
      "UNABLE TO FIND:--- ARM ----\n",
      "2023-04-11\n",
      "Total Return:  1.1428323704644219\n",
      "UNABLE TO FIND:--- ARM ----\n",
      "2023-04-12\n",
      "Total Return:  1.1266153175798852\n",
      "UNABLE TO FIND:--- ARM ----\n"
     ]
    },
    {
     "name": "stderr",
     "output_type": "stream",
     "text": [
      "/Users/atulkrishnan/Desktop/TradingAlgos/Stock_Picker_Algo/Trade_Functions.py:117: RuntimeWarning: divide by zero encountered in scalar divide\n",
      "  return d/c\n",
      "/Users/atulkrishnan/Desktop/TradingAlgos/Stock_Picker_Algo/Trade_Functions.py:117: RuntimeWarning: invalid value encountered in scalar divide\n",
      "  return d/c\n",
      "/Users/atulkrishnan/Desktop/TradingAlgos/Stock_Picker_Algo/Trade_Functions.py:117: RuntimeWarning: divide by zero encountered in scalar divide\n",
      "  return d/c\n"
     ]
    },
    {
     "name": "stdout",
     "output_type": "stream",
     "text": [
      "2023-04-13\n",
      "Total Return:  1.1438765138425389\n",
      "UNABLE TO FIND:--- ARM ----\n",
      "2023-04-14\n",
      "Total Return:  1.143771671430504\n",
      "UNABLE TO FIND:--- ARM ----\n",
      "2023-04-17\n",
      "Total Return:  1.1521842468712453\n",
      "UNABLE TO FIND:--- ARM ----\n",
      "2023-04-18\n",
      "Total Return:  1.1374999790770324\n",
      "UNABLE TO FIND:--- ARM ----\n",
      "2023-04-19\n",
      "Total Return:  1.1336022921149074\n",
      "UNABLE TO FIND:--- ARM ----\n",
      "2023-04-20\n",
      "Total Return:  1.1292423252265964\n",
      "UNABLE TO FIND:--- ARM ----\n"
     ]
    },
    {
     "name": "stderr",
     "output_type": "stream",
     "text": [
      "/Users/atulkrishnan/Desktop/TradingAlgos/Stock_Picker_Algo/Trade_Functions.py:117: RuntimeWarning: divide by zero encountered in scalar divide\n",
      "  return d/c\n",
      "/Users/atulkrishnan/Desktop/TradingAlgos/Stock_Picker_Algo/Trade_Functions.py:117: RuntimeWarning: divide by zero encountered in scalar divide\n",
      "  return d/c\n"
     ]
    },
    {
     "name": "stdout",
     "output_type": "stream",
     "text": [
      "2023-04-21\n",
      "Total Return:  1.1283450270399498\n",
      "UNABLE TO FIND:--- ARM ----\n",
      "2023-04-24\n",
      "Total Return:  1.1326467814690386\n",
      "UNABLE TO FIND:--- ARM ----\n",
      "2023-04-25\n",
      "Total Return:  1.1095146725764473\n",
      "UNABLE TO FIND:--- ARM ----\n"
     ]
    },
    {
     "name": "stderr",
     "output_type": "stream",
     "text": [
      "/Users/atulkrishnan/Desktop/TradingAlgos/Stock_Picker_Algo/Trade_Functions.py:117: RuntimeWarning: divide by zero encountered in scalar divide\n",
      "  return d/c\n"
     ]
    },
    {
     "name": "stdout",
     "output_type": "stream",
     "text": [
      "2023-04-26\n",
      "Total Return:  1.1202549700427862\n",
      "UNABLE TO FIND:--- ARM ----\n",
      "2023-04-27\n",
      "Total Return:  1.1245926478834047\n",
      "UNABLE TO FIND:--- ARM ----\n",
      "2023-04-28\n",
      "Total Return:  1.1377883069209889\n",
      "UNABLE TO FIND:--- ARM ----\n",
      "2023-05-01\n",
      "Total Return:  1.1380232620757367\n",
      "UNABLE TO FIND:--- ARM ----\n",
      "2023-05-02\n",
      "Total Return:  1.1244133356270116\n",
      "UNABLE TO FIND:--- ARM ----\n",
      "2023-05-03\n",
      "Total Return:  1.1763636993140585\n",
      "UNABLE TO FIND:--- ARM ----\n",
      "2023-05-04\n",
      "Total Return:  1.177423834021276\n",
      "UNABLE TO FIND:--- ARM ----\n",
      "2023-05-05\n",
      "Total Return:  1.1799805392213747\n",
      "UNABLE TO FIND:--- ARM ----\n",
      "2023-05-08\n",
      "Total Return:  1.1873209369526103\n",
      "UNABLE TO FIND:--- ARM ----\n",
      "2023-05-09\n",
      "Total Return:  1.1859404584223538\n",
      "UNABLE TO FIND:--- ARM ----\n",
      "2023-05-10\n",
      "Total Return:  1.2271307646527367\n",
      "UNABLE TO FIND:--- ARM ----\n",
      "2023-05-11\n",
      "Total Return:  1.216282251403713\n",
      "UNABLE TO FIND:--- ARM ----\n"
     ]
    },
    {
     "name": "stderr",
     "output_type": "stream",
     "text": [
      "/Users/atulkrishnan/Desktop/TradingAlgos/Stock_Picker_Algo/Trade_Functions.py:117: RuntimeWarning: divide by zero encountered in scalar divide\n",
      "  return d/c\n",
      "/Users/atulkrishnan/Desktop/TradingAlgos/Stock_Picker_Algo/Trade_Functions.py:117: RuntimeWarning: divide by zero encountered in scalar divide\n",
      "  return d/c\n"
     ]
    },
    {
     "name": "stdout",
     "output_type": "stream",
     "text": [
      "2023-05-12\n",
      "Total Return:  1.21361570786098\n",
      "UNABLE TO FIND:--- ARM ----\n",
      "2023-05-15\n",
      "Total Return:  1.2395530713313163\n",
      "UNABLE TO FIND:--- ARM ----\n",
      "2023-05-16\n",
      "Total Return:  1.2374575276145392\n",
      "UNABLE TO FIND:--- ARM ----\n"
     ]
    },
    {
     "name": "stderr",
     "output_type": "stream",
     "text": [
      "/Users/atulkrishnan/Desktop/TradingAlgos/Stock_Picker_Algo/Trade_Functions.py:117: RuntimeWarning: divide by zero encountered in scalar divide\n",
      "  return d/c\n",
      "/Users/atulkrishnan/Desktop/TradingAlgos/Stock_Picker_Algo/Trade_Functions.py:117: RuntimeWarning: divide by zero encountered in scalar divide\n",
      "  return d/c\n"
     ]
    },
    {
     "name": "stdout",
     "output_type": "stream",
     "text": [
      "2023-05-17\n",
      "Total Return:  1.2590943476581256\n",
      "UNABLE TO FIND:--- ARM ----\n",
      "2023-05-18\n",
      "Total Return:  1.2684739401571823\n",
      "UNABLE TO FIND:--- ARM ----\n",
      "2023-05-19\n",
      "Total Return:  1.260782917847202\n",
      "UNABLE TO FIND:--- ARM ----\n"
     ]
    },
    {
     "name": "stderr",
     "output_type": "stream",
     "text": [
      "/Users/atulkrishnan/Desktop/TradingAlgos/Stock_Picker_Algo/Trade_Functions.py:117: RuntimeWarning: divide by zero encountered in scalar divide\n",
      "  return d/c\n"
     ]
    },
    {
     "name": "stdout",
     "output_type": "stream",
     "text": [
      "2023-05-22\n",
      "Total Return:  1.2784754395983238\n",
      "UNABLE TO FIND:--- ARM ----\n",
      "2023-05-23\n",
      "Total Return:  1.2783323468087693\n",
      "UNABLE TO FIND:--- ARM ----\n",
      "2023-05-24\n",
      "Total Return:  1.2943012539039795\n",
      "UNABLE TO FIND:--- ARM ----\n"
     ]
    },
    {
     "name": "stderr",
     "output_type": "stream",
     "text": [
      "/Users/atulkrishnan/Desktop/TradingAlgos/Stock_Picker_Algo/Trade_Functions.py:117: RuntimeWarning: divide by zero encountered in scalar divide\n",
      "  return d/c\n",
      "/Users/atulkrishnan/Desktop/TradingAlgos/Stock_Picker_Algo/Trade_Functions.py:117: RuntimeWarning: divide by zero encountered in scalar divide\n",
      "  return d/c\n"
     ]
    },
    {
     "name": "stdout",
     "output_type": "stream",
     "text": [
      "2023-05-25\n",
      "Total Return:  1.2800998818998417\n",
      "UNABLE TO FIND:--- ARM ----\n",
      "2023-05-26\n",
      "Total Return:  1.3266747039996996\n",
      "UNABLE TO FIND:--- ARM ----\n",
      "2023-05-30\n",
      "Total Return:  1.3064341660468441\n",
      "UNABLE TO FIND:--- ARM ----\n",
      "2023-05-31\n",
      "Total Return:  1.2602711807766689\n",
      "UNABLE TO FIND:--- ARM ----\n",
      "2023-06-01\n",
      "Total Return:  1.294485756281175\n",
      "UNABLE TO FIND:--- ARM ----\n",
      "2023-06-02\n",
      "Total Return:  1.2489583841843728\n",
      "UNABLE TO FIND:--- ARM ----\n",
      "2023-06-05\n",
      "Total Return:  1.2480291698004562\n",
      "UNABLE TO FIND:--- ARM ----\n",
      "2023-06-06\n",
      "Total Return:  1.2750299212515939\n",
      "UNABLE TO FIND:--- ARM ----\n",
      "2023-06-07\n",
      "Total Return:  1.2020412966604705\n",
      "UNABLE TO FIND:--- ARM ----\n"
     ]
    },
    {
     "name": "stderr",
     "output_type": "stream",
     "text": [
      "/Users/atulkrishnan/Desktop/TradingAlgos/Stock_Picker_Algo/Trade_Functions.py:117: RuntimeWarning: divide by zero encountered in scalar divide\n",
      "  return d/c\n",
      "/Users/atulkrishnan/Desktop/TradingAlgos/Stock_Picker_Algo/Trade_Functions.py:117: RuntimeWarning: divide by zero encountered in scalar divide\n",
      "  return d/c\n"
     ]
    },
    {
     "name": "stdout",
     "output_type": "stream",
     "text": [
      "2023-06-08\n",
      "Total Return:  1.2293568375048396\n",
      "UNABLE TO FIND:--- ARM ----\n",
      "2023-06-09\n",
      "Total Return:  1.211319970510288\n",
      "UNABLE TO FIND:--- ARM ----\n",
      "2023-06-12\n",
      "Total Return:  1.2066195363828351\n",
      "UNABLE TO FIND:--- ARM ----\n"
     ]
    },
    {
     "name": "stderr",
     "output_type": "stream",
     "text": [
      "/Users/atulkrishnan/Desktop/TradingAlgos/Stock_Picker_Algo/Trade_Functions.py:117: RuntimeWarning: divide by zero encountered in scalar divide\n",
      "  return d/c\n"
     ]
    },
    {
     "name": "stdout",
     "output_type": "stream",
     "text": [
      "2023-06-13\n",
      "Total Return:  1.1798585179318235\n",
      "UNABLE TO FIND:--- ARM ----\n",
      "2023-06-14\n",
      "Total Return:  1.172429608978253\n",
      "UNABLE TO FIND:--- ARM ----\n",
      "2023-06-15\n",
      "Total Return:  1.1973880835275388\n",
      "UNABLE TO FIND:--- ARM ----\n",
      "2023-06-16\n",
      "Total Return:  1.1727823000129296\n",
      "UNABLE TO FIND:--- ARM ----\n",
      "2023-06-20\n",
      "Total Return:  1.1571504500515666\n",
      "UNABLE TO FIND:--- ARM ----\n",
      "2023-06-21\n",
      "Total Return:  1.1269148003255804\n",
      "UNABLE TO FIND:--- ARM ----\n"
     ]
    },
    {
     "name": "stderr",
     "output_type": "stream",
     "text": [
      "/Users/atulkrishnan/Desktop/TradingAlgos/Stock_Picker_Algo/Trade_Functions.py:117: RuntimeWarning: divide by zero encountered in scalar divide\n",
      "  return d/c\n"
     ]
    },
    {
     "name": "stdout",
     "output_type": "stream",
     "text": [
      "2023-06-22\n",
      "Total Return:  1.1299529668776602\n",
      "UNABLE TO FIND:--- ARM ----\n",
      "2023-06-23\n",
      "Total Return:  1.124586197195233\n",
      "UNABLE TO FIND:--- ARM ----\n",
      "2023-06-26\n",
      "Total Return:  1.1328991394388663\n",
      "UNABLE TO FIND:--- ARM ----\n"
     ]
    },
    {
     "name": "stderr",
     "output_type": "stream",
     "text": [
      "/Users/atulkrishnan/Desktop/TradingAlgos/Stock_Picker_Algo/Trade_Functions.py:117: RuntimeWarning: divide by zero encountered in scalar divide\n",
      "  return d/c\n"
     ]
    },
    {
     "name": "stdout",
     "output_type": "stream",
     "text": [
      "2023-06-27\n",
      "Total Return:  1.156499296995594\n",
      "UNABLE TO FIND:--- ARM ----\n",
      "2023-06-28\n",
      "Total Return:  1.1712113813864535\n",
      "UNABLE TO FIND:--- ARM ----\n",
      "2023-06-29\n",
      "Total Return:  1.1717945683447049\n",
      "UNABLE TO FIND:--- ARM ----\n"
     ]
    },
    {
     "name": "stderr",
     "output_type": "stream",
     "text": [
      "/Users/atulkrishnan/Desktop/TradingAlgos/Stock_Picker_Algo/Trade_Functions.py:117: RuntimeWarning: divide by zero encountered in scalar divide\n",
      "  return d/c\n",
      "/Users/atulkrishnan/Desktop/TradingAlgos/Stock_Picker_Algo/Trade_Functions.py:117: RuntimeWarning: divide by zero encountered in scalar divide\n",
      "  return d/c\n"
     ]
    },
    {
     "name": "stdout",
     "output_type": "stream",
     "text": [
      "2023-06-30\n",
      "Total Return:  1.1697159459548911\n",
      "UNABLE TO FIND:--- ARM ----\n",
      "2023-07-03\n",
      "Total Return:  1.1631940306184456\n",
      "UNABLE TO FIND:--- ARM ----\n",
      "2023-07-05\n",
      "Total Return:  1.178022660426654\n",
      "UNABLE TO FIND:--- ARM ----\n",
      "2023-07-06\n",
      "Total Return:  1.1502759174240378\n",
      "UNABLE TO FIND:--- ARM ----\n",
      "2023-07-07\n",
      "Total Return:  1.1495906660480428\n",
      "UNABLE TO FIND:--- ARM ----\n",
      "2023-07-10\n",
      "Total Return:  1.154117763606319\n",
      "UNABLE TO FIND:--- ARM ----\n",
      "2023-07-11\n",
      "Total Return:  1.1362347553418324\n",
      "UNABLE TO FIND:--- ARM ----\n",
      "2023-07-12\n",
      "Total Return:  1.1333983878342395\n",
      "UNABLE TO FIND:--- ARM ----\n",
      "2023-07-13\n",
      "Total Return:  1.1526291217958027\n",
      "UNABLE TO FIND:--- ARM ----\n",
      "2023-07-14\n",
      "Total Return:  1.1485538630481493\n",
      "UNABLE TO FIND:--- ARM ----\n",
      "2023-07-17\n",
      "Total Return:  1.1751334594173235\n",
      "UNABLE TO FIND:--- ARM ----\n",
      "2023-07-18\n",
      "Total Return:  1.1812040281365739\n",
      "UNABLE TO FIND:--- ARM ----\n",
      "2023-07-19\n",
      "Total Return:  1.1469306169648015\n",
      "UNABLE TO FIND:--- ARM ----\n",
      "2023-07-20\n",
      "Total Return:  1.118751672444122\n",
      "UNABLE TO FIND:--- ARM ----\n",
      "2023-07-21\n",
      "Total Return:  1.1193438290874138\n",
      "UNABLE TO FIND:--- ARM ----\n"
     ]
    },
    {
     "name": "stderr",
     "output_type": "stream",
     "text": [
      "/Users/atulkrishnan/Desktop/TradingAlgos/Stock_Picker_Algo/Trade_Functions.py:117: RuntimeWarning: divide by zero encountered in scalar divide\n",
      "  return d/c\n"
     ]
    },
    {
     "name": "stdout",
     "output_type": "stream",
     "text": [
      "2023-07-24\n",
      "Total Return:  1.1116484963868825\n",
      "UNABLE TO FIND:--- ARM ----\n",
      "2023-07-25\n",
      "Total Return:  1.118143464245017\n",
      "UNABLE TO FIND:--- ARM ----\n",
      "2023-07-26\n",
      "Total Return:  1.133386615574663\n",
      "UNABLE TO FIND:--- ARM ----\n",
      "2023-07-27\n",
      "Total Return:  1.113798643559227\n",
      "UNABLE TO FIND:--- ARM ----\n",
      "2023-07-28\n",
      "Total Return:  1.122872078834747\n",
      "UNABLE TO FIND:--- ARM ----\n",
      "2023-07-31\n",
      "Total Return:  1.1256892973326529\n",
      "UNABLE TO FIND:--- ARM ----\n"
     ]
    },
    {
     "name": "stderr",
     "output_type": "stream",
     "text": [
      "/Users/atulkrishnan/Desktop/TradingAlgos/Stock_Picker_Algo/Trade_Functions.py:117: RuntimeWarning: divide by zero encountered in scalar divide\n",
      "  return d/c\n"
     ]
    },
    {
     "name": "stdout",
     "output_type": "stream",
     "text": [
      "2023-08-01\n",
      "Total Return:  1.1387339305771589\n",
      "UNABLE TO FIND:--- ARM ----\n",
      "2023-08-02\n",
      "Total Return:  1.1086100866305273\n",
      "UNABLE TO FIND:--- ARM ----\n",
      "2023-08-03\n",
      "Total Return:  1.1222328074304122\n",
      "UNABLE TO FIND:--- ARM ----\n"
     ]
    },
    {
     "name": "stderr",
     "output_type": "stream",
     "text": [
      "/Users/atulkrishnan/Desktop/TradingAlgos/Stock_Picker_Algo/Trade_Functions.py:117: RuntimeWarning: divide by zero encountered in scalar divide\n",
      "  return d/c\n",
      "/Users/atulkrishnan/Desktop/TradingAlgos/Stock_Picker_Algo/Trade_Functions.py:117: RuntimeWarning: divide by zero encountered in scalar divide\n",
      "  return d/c\n"
     ]
    },
    {
     "name": "stdout",
     "output_type": "stream",
     "text": [
      "2023-08-04\n",
      "Total Return:  1.1234216622633126\n",
      "UNABLE TO FIND:--- ARM ----\n",
      "2023-08-07\n",
      "Total Return:  1.1229654972915633\n",
      "UNABLE TO FIND:--- ARM ----\n",
      "2023-08-08\n",
      "Total Return:  1.1243013438354983\n",
      "UNABLE TO FIND:--- ARM ----\n",
      "2023-08-09\n",
      "Total Return:  1.1067076784731713\n",
      "UNABLE TO FIND:--- ARM ----\n",
      "2023-08-10\n",
      "Total Return:  1.125188934492228\n",
      "UNABLE TO FIND:--- ARM ----\n",
      "2023-08-11\n",
      "Total Return:  1.1311041835977707\n",
      "UNABLE TO FIND:--- ARM ----\n"
     ]
    },
    {
     "name": "stderr",
     "output_type": "stream",
     "text": [
      "/Users/atulkrishnan/Desktop/TradingAlgos/Stock_Picker_Algo/Trade_Functions.py:117: RuntimeWarning: divide by zero encountered in scalar divide\n",
      "  return d/c\n",
      "/Users/atulkrishnan/Desktop/TradingAlgos/Stock_Picker_Algo/Trade_Functions.py:117: RuntimeWarning: divide by zero encountered in scalar divide\n",
      "  return d/c\n"
     ]
    },
    {
     "name": "stdout",
     "output_type": "stream",
     "text": [
      "2023-08-14\n",
      "Total Return:  1.1319048086333947\n",
      "UNABLE TO FIND:--- ARM ----\n",
      "2023-08-15\n",
      "Total Return:  1.129387118907606\n",
      "UNABLE TO FIND:--- ARM ----\n",
      "2023-08-16\n",
      "Total Return:  1.1083157592611406\n",
      "UNABLE TO FIND:--- ARM ----\n",
      "2023-08-17\n",
      "Total Return:  1.0947554355898956\n",
      "UNABLE TO FIND:--- ARM ----\n",
      "2023-08-18\n",
      "Total Return:  1.0884290813320823\n",
      "UNABLE TO FIND:--- ARM ----\n",
      "2023-08-21\n",
      "Total Return:  1.1091000545586827\n",
      "UNABLE TO FIND:--- ARM ----\n",
      "2023-08-22\n",
      "Total Return:  1.0915957995123833\n",
      "UNABLE TO FIND:--- ARM ----\n",
      "2023-08-23\n",
      "Total Return:  1.0927942920069007\n",
      "UNABLE TO FIND:--- ARM ----\n",
      "2023-08-24\n",
      "Total Return:  1.0259838870785642\n",
      "UNABLE TO FIND:--- ARM ----\n",
      "2023-08-25\n",
      "Total Return:  1.011061565247115\n",
      "UNABLE TO FIND:--- ARM ----\n",
      "2023-08-28\n",
      "Total Return:  1.0056036572773213\n",
      "UNABLE TO FIND:--- ARM ----\n",
      "2023-08-29\n",
      "Total Return:  1.031260240602125\n",
      "UNABLE TO FIND:--- ARM ----\n"
     ]
    },
    {
     "name": "stderr",
     "output_type": "stream",
     "text": [
      "/Users/atulkrishnan/Desktop/TradingAlgos/Stock_Picker_Algo/Trade_Functions.py:117: RuntimeWarning: divide by zero encountered in scalar divide\n",
      "  return d/c\n"
     ]
    },
    {
     "name": "stdout",
     "output_type": "stream",
     "text": [
      "2023-08-30\n",
      "Total Return:  1.0496538427728583\n",
      "UNABLE TO FIND:--- ARM ----\n",
      "2023-08-31\n",
      "Total Return:  1.0484116107758663\n",
      "UNABLE TO FIND:--- ARM ----\n",
      "2023-09-01\n",
      "Total Return:  1.0480073104417835\n",
      "UNABLE TO FIND:--- ARM ----\n",
      "2023-09-05\n",
      "Total Return:  1.0600792112149156\n",
      "UNABLE TO FIND:--- ARM ----\n",
      "2023-09-06\n",
      "Total Return:  1.066554990593343\n",
      "UNABLE TO FIND:--- ARM ----\n",
      "2023-09-07\n",
      "Total Return:  1.0890398466714653\n",
      "UNABLE TO FIND:--- ARM ----\n",
      "2023-09-08\n",
      "Total Return:  1.096255275897646\n",
      "UNABLE TO FIND:--- ARM ----\n",
      "2023-09-11\n",
      "Total Return:  1.1037831945829772\n",
      "UNABLE TO FIND:--- ARM ----\n",
      "2023-09-12\n",
      "Total Return:  1.1018249961487872\n",
      "UNABLE TO FIND:--- ARM ----\n"
     ]
    },
    {
     "name": "stderr",
     "output_type": "stream",
     "text": [
      "/Users/atulkrishnan/Desktop/TradingAlgos/Stock_Picker_Algo/Trade_Functions.py:117: RuntimeWarning: divide by zero encountered in scalar divide\n",
      "  return d/c\n",
      "/Users/atulkrishnan/Desktop/TradingAlgos/Stock_Picker_Algo/Trade_Functions.py:117: RuntimeWarning: divide by zero encountered in scalar divide\n",
      "  return d/c\n",
      "/Users/atulkrishnan/Desktop/TradingAlgos/Stock_Picker_Algo/Trade_Functions.py:117: RuntimeWarning: divide by zero encountered in scalar divide\n",
      "  return d/c\n"
     ]
    },
    {
     "name": "stdout",
     "output_type": "stream",
     "text": [
      "2023-09-13\n",
      "Total Return:  1.1006393966399852\n",
      "UNABLE TO FIND:--- ARM ----\n",
      "2023-09-14\n",
      "Total Return:  1.1079928444697567\n",
      "UNABLE TO FIND:--- ARM ----\n",
      "2023-09-15\n",
      "Total Return:  1.0881678108827413\n",
      "UNABLE TO FIND:--- ARM ----\n",
      "2023-09-18\n",
      "Total Return:  1.047885367647639\n",
      "UNABLE TO FIND:--- ARM ----\n",
      "2023-09-19\n",
      "Total Return:  1.05237332245855\n",
      "UNABLE TO FIND:--- ARM ----\n",
      "2023-09-20\n",
      "Total Return:  1.0416698318228899\n",
      "UNABLE TO FIND:--- ARM ----\n",
      "2023-09-21\n",
      "Total Return:  1.0317454420546945\n",
      "2023-09-22\n",
      "Total Return:  1.028100129083463\n",
      "2023-09-25\n",
      "Total Return:  1.03084326001447\n",
      "2023-09-26\n",
      "Total Return:  1.0187907046903608\n",
      "2023-09-27\n",
      "Total Return:  1.0074095531075042\n",
      "2023-09-28\n",
      "Total Return:  1.0293113402732346\n"
     ]
    },
    {
     "name": "stderr",
     "output_type": "stream",
     "text": [
      "/Users/atulkrishnan/Desktop/TradingAlgos/Stock_Picker_Algo/Trade_Functions.py:117: RuntimeWarning: invalid value encountered in scalar divide\n",
      "  return d/c\n",
      "/Users/atulkrishnan/Desktop/TradingAlgos/Stock_Picker_Algo/Trade_Functions.py:117: RuntimeWarning: divide by zero encountered in scalar divide\n",
      "  return d/c\n"
     ]
    },
    {
     "name": "stdout",
     "output_type": "stream",
     "text": [
      "2023-09-29\n",
      "Total Return:  1.0052451979519117\n",
      "2023-10-02\n",
      "Total Return:  1.031706681441327\n",
      "2023-10-03\n",
      "Total Return:  0.9863747215024434\n",
      "2023-10-04\n",
      "Total Return:  0.9877040842629298\n",
      "2023-10-05\n",
      "Total Return:  0.9955351072203583\n",
      "2023-10-06\n",
      "Total Return:  1.01625566133717\n"
     ]
    },
    {
     "name": "stderr",
     "output_type": "stream",
     "text": [
      "/Users/atulkrishnan/Desktop/TradingAlgos/Stock_Picker_Algo/Trade_Functions.py:117: RuntimeWarning: divide by zero encountered in scalar divide\n",
      "  return d/c\n",
      "/Users/atulkrishnan/Desktop/TradingAlgos/Stock_Picker_Algo/Trade_Functions.py:117: RuntimeWarning: divide by zero encountered in scalar divide\n",
      "  return d/c\n"
     ]
    },
    {
     "name": "stdout",
     "output_type": "stream",
     "text": [
      "2023-10-09\n",
      "Total Return:  1.0353494685155062\n",
      "2023-10-10\n",
      "Total Return:  1.0491237709766172\n",
      "2023-10-11\n",
      "Total Return:  1.0548170841446516\n",
      "2023-10-12\n",
      "Total Return:  1.0346659281974415\n",
      "2023-10-13\n",
      "Total Return:  1.0284247238328597\n",
      "2023-10-16\n",
      "Total Return:  1.0214670251927533\n"
     ]
    },
    {
     "name": "stderr",
     "output_type": "stream",
     "text": [
      "/Users/atulkrishnan/Desktop/TradingAlgos/Stock_Picker_Algo/Trade_Functions.py:117: RuntimeWarning: divide by zero encountered in scalar divide\n",
      "  return d/c\n",
      "/Users/atulkrishnan/Desktop/TradingAlgos/Stock_Picker_Algo/Trade_Functions.py:117: RuntimeWarning: divide by zero encountered in scalar divide\n",
      "  return d/c\n"
     ]
    },
    {
     "name": "stdout",
     "output_type": "stream",
     "text": [
      "2023-10-17\n",
      "Total Return:  1.0235284748928\n",
      "2023-10-18\n",
      "Total Return:  1.011802669874486\n",
      "2023-10-19\n",
      "Total Return:  1.0113117510094183\n"
     ]
    },
    {
     "name": "stderr",
     "output_type": "stream",
     "text": [
      "/Users/atulkrishnan/Desktop/TradingAlgos/Stock_Picker_Algo/Trade_Functions.py:117: RuntimeWarning: divide by zero encountered in scalar divide\n",
      "  return d/c\n"
     ]
    },
    {
     "name": "stdout",
     "output_type": "stream",
     "text": [
      "2023-10-20\n",
      "Total Return:  1.0044255379772442\n",
      "2023-10-23\n",
      "Total Return:  1.0147940891770082\n",
      "2023-10-24\n",
      "Total Return:  1.027535302344632\n"
     ]
    },
    {
     "name": "stderr",
     "output_type": "stream",
     "text": [
      "/Users/atulkrishnan/Desktop/TradingAlgos/Stock_Picker_Algo/Trade_Functions.py:117: RuntimeWarning: divide by zero encountered in scalar divide\n",
      "  return d/c\n",
      "/Users/atulkrishnan/Desktop/TradingAlgos/Stock_Picker_Algo/Trade_Functions.py:117: RuntimeWarning: divide by zero encountered in scalar divide\n",
      "  return d/c\n"
     ]
    },
    {
     "name": "stdout",
     "output_type": "stream",
     "text": [
      "2023-10-25\n",
      "Total Return:  1.0197074608749885\n",
      "2023-10-26\n",
      "Total Return:  0.9993328711682521\n",
      "2023-10-27\n",
      "Total Return:  0.9911648563243634\n",
      "2023-10-30\n",
      "Total Return:  0.9560492980808354\n",
      "2023-10-31\n",
      "Total Return:  0.9645114981689589\n",
      "2023-11-01\n",
      "Total Return:  0.9755861336983005\n",
      "2023-11-02\n",
      "Total Return:  0.9746858875173615\n",
      "2023-11-03\n",
      "Total Return:  0.995260250735414\n",
      "2023-11-06\n",
      "Total Return:  0.9702494215941009\n",
      "2023-11-07\n",
      "Total Return:  0.9772338628580131\n",
      "2023-11-08\n",
      "Total Return:  0.9432888786734985\n",
      "2023-11-09\n",
      "Total Return:  0.9241800744928597\n",
      "2023-11-10\n",
      "Total Return:  0.9498280122044109\n",
      "2023-11-13\n",
      "Total Return:  0.9523663998593017\n",
      "2023-11-14\n",
      "Total Return:  0.9673951300869873\n",
      "2023-11-15\n",
      "Total Return:  0.9589497569800531\n",
      "2023-11-16\n",
      "Total Return:  0.9498501862764268\n",
      "2023-11-17\n",
      "Total Return:  0.9555843350011639\n",
      "2023-11-20\n",
      "Total Return:  0.9826663597259108\n",
      "2023-11-21\n",
      "Total Return:  0.9700395809317298\n",
      "2023-11-22\n",
      "Total Return:  0.9848734682465095\n"
     ]
    },
    {
     "name": "stderr",
     "output_type": "stream",
     "text": [
      "/Users/atulkrishnan/Desktop/TradingAlgos/Stock_Picker_Algo/Trade_Functions.py:117: RuntimeWarning: divide by zero encountered in scalar divide\n",
      "  return d/c\n",
      "/Users/atulkrishnan/Desktop/TradingAlgos/Stock_Picker_Algo/Trade_Functions.py:117: RuntimeWarning: divide by zero encountered in scalar divide\n",
      "  return d/c\n"
     ]
    },
    {
     "name": "stdout",
     "output_type": "stream",
     "text": [
      "2023-11-24\n",
      "Total Return:  1.0050462536735887\n",
      "2023-11-27\n",
      "Total Return:  0.9989164818720947\n",
      "2023-11-28\n",
      "Total Return:  1.0141797718922652\n"
     ]
    },
    {
     "name": "stderr",
     "output_type": "stream",
     "text": [
      "/Users/atulkrishnan/Desktop/TradingAlgos/Stock_Picker_Algo/Trade_Functions.py:117: RuntimeWarning: divide by zero encountered in scalar divide\n",
      "  return d/c\n"
     ]
    },
    {
     "name": "stdout",
     "output_type": "stream",
     "text": [
      "2023-11-29\n",
      "Total Return:  1.0347572708914101\n",
      "2023-11-30\n",
      "Total Return:  1.0639497362387087\n",
      "2023-12-01\n",
      "Total Return:  1.0726244120532769\n"
     ]
    },
    {
     "name": "stderr",
     "output_type": "stream",
     "text": [
      "/Users/atulkrishnan/Desktop/TradingAlgos/Stock_Picker_Algo/Trade_Functions.py:117: RuntimeWarning: divide by zero encountered in scalar divide\n",
      "  return d/c\n"
     ]
    },
    {
     "name": "stdout",
     "output_type": "stream",
     "text": [
      "2023-12-04\n",
      "Total Return:  1.091186974879428\n",
      "2023-12-05\n",
      "Total Return:  1.0992113077841439\n",
      "2023-12-06\n",
      "Total Return:  1.1003500465411549\n",
      "2023-12-07\n",
      "Total Return:  1.1254285734824512\n",
      "2023-12-08\n",
      "Total Return:  1.1296636540958567\n",
      "2023-12-11\n",
      "Total Return:  1.1307080334962634\n"
     ]
    },
    {
     "name": "stderr",
     "output_type": "stream",
     "text": [
      "/Users/atulkrishnan/Desktop/TradingAlgos/Stock_Picker_Algo/Trade_Functions.py:117: RuntimeWarning: divide by zero encountered in scalar divide\n",
      "  return d/c\n"
     ]
    },
    {
     "name": "stdout",
     "output_type": "stream",
     "text": [
      "2023-12-12\n",
      "Total Return:  1.162709162220119\n",
      "2023-12-13\n",
      "Total Return:  1.172485516705625\n",
      "2023-12-14\n",
      "Total Return:  1.1775197303780527\n"
     ]
    },
    {
     "name": "stderr",
     "output_type": "stream",
     "text": [
      "/Users/atulkrishnan/Desktop/TradingAlgos/Stock_Picker_Algo/Trade_Functions.py:117: RuntimeWarning: divide by zero encountered in scalar divide\n",
      "  return d/c\n",
      "/Users/atulkrishnan/Desktop/TradingAlgos/Stock_Picker_Algo/Trade_Functions.py:117: RuntimeWarning: divide by zero encountered in scalar divide\n",
      "  return d/c\n"
     ]
    },
    {
     "name": "stdout",
     "output_type": "stream",
     "text": [
      "2023-12-15\n",
      "Total Return:  1.1915532605475807\n",
      "2023-12-18\n",
      "Total Return:  1.1938595582659943\n",
      "2023-12-19\n",
      "Total Return:  1.205014960068384\n"
     ]
    },
    {
     "name": "stderr",
     "output_type": "stream",
     "text": [
      "/Users/atulkrishnan/Desktop/TradingAlgos/Stock_Picker_Algo/Trade_Functions.py:117: RuntimeWarning: divide by zero encountered in scalar divide\n",
      "  return d/c\n",
      "/Users/atulkrishnan/Desktop/TradingAlgos/Stock_Picker_Algo/Trade_Functions.py:117: RuntimeWarning: divide by zero encountered in scalar divide\n",
      "  return d/c\n"
     ]
    },
    {
     "name": "stdout",
     "output_type": "stream",
     "text": [
      "2023-12-20\n",
      "Total Return:  1.1896559556004802\n",
      "2023-12-21\n",
      "Total Return:  1.208444360251683\n",
      "2023-12-22\n",
      "Total Return:  1.1964490732129511\n",
      "2023-12-26\n",
      "Total Return:  1.2030796005463822\n",
      "2023-12-27\n",
      "Total Return:  1.2103849527086652\n",
      "2023-12-28\n",
      "Total Return:  1.1988449643872214\n"
     ]
    },
    {
     "name": "stderr",
     "output_type": "stream",
     "text": [
      "/Users/atulkrishnan/Desktop/TradingAlgos/Stock_Picker_Algo/Trade_Functions.py:117: RuntimeWarning: divide by zero encountered in scalar divide\n",
      "  return d/c\n"
     ]
    },
    {
     "name": "stdout",
     "output_type": "stream",
     "text": [
      "2023-12-29\n",
      "Total Return:  1.1892966142111376\n",
      "2024-01-02\n",
      "Total Return:  1.2216975641281265\n",
      "2024-01-03\n",
      "Total Return:  1.2105481358213361\n"
     ]
    },
    {
     "name": "stderr",
     "output_type": "stream",
     "text": [
      "/Users/atulkrishnan/Desktop/TradingAlgos/Stock_Picker_Algo/Trade_Functions.py:117: RuntimeWarning: divide by zero encountered in scalar divide\n",
      "  return d/c\n",
      "/Users/atulkrishnan/Desktop/TradingAlgos/Stock_Picker_Algo/Trade_Functions.py:117: RuntimeWarning: divide by zero encountered in scalar divide\n",
      "  return d/c\n"
     ]
    },
    {
     "name": "stdout",
     "output_type": "stream",
     "text": [
      "2024-01-04\n",
      "Total Return:  1.2090211057922795\n",
      "2024-01-05\n",
      "Total Return:  1.2178824853584869\n",
      "2024-01-08\n",
      "Total Return:  1.2508873529308944\n"
     ]
    },
    {
     "name": "stderr",
     "output_type": "stream",
     "text": [
      "/Users/atulkrishnan/Desktop/TradingAlgos/Stock_Picker_Algo/Trade_Functions.py:117: RuntimeWarning: divide by zero encountered in scalar divide\n",
      "  return d/c\n",
      "/Users/atulkrishnan/Desktop/TradingAlgos/Stock_Picker_Algo/Trade_Functions.py:117: RuntimeWarning: divide by zero encountered in scalar divide\n",
      "  return d/c\n"
     ]
    },
    {
     "name": "stdout",
     "output_type": "stream",
     "text": [
      "2024-01-09\n",
      "Total Return:  1.2695813724340144\n",
      "2024-01-10\n",
      "Total Return:  1.2807794307825646\n",
      "2024-01-11\n",
      "Total Return:  1.2782929404676695\n",
      "2024-01-12\n",
      "Total Return:  1.266214007120879\n",
      "2024-01-16\n",
      "Total Return:  1.2638100628789748\n",
      "2024-01-17\n",
      "Total Return:  1.2588345502017153\n"
     ]
    },
    {
     "name": "stderr",
     "output_type": "stream",
     "text": [
      "/Users/atulkrishnan/Desktop/TradingAlgos/Stock_Picker_Algo/Trade_Functions.py:117: RuntimeWarning: divide by zero encountered in scalar divide\n",
      "  return d/c\n",
      "/Users/atulkrishnan/Desktop/TradingAlgos/Stock_Picker_Algo/Trade_Functions.py:117: RuntimeWarning: divide by zero encountered in scalar divide\n",
      "  return d/c\n",
      "/Users/atulkrishnan/Desktop/TradingAlgos/Stock_Picker_Algo/Trade_Functions.py:117: RuntimeWarning: divide by zero encountered in scalar divide\n",
      "  return d/c\n"
     ]
    },
    {
     "name": "stdout",
     "output_type": "stream",
     "text": [
      "2024-01-18\n",
      "Total Return:  1.2514495374847303\n",
      "2024-01-19\n",
      "Total Return:  1.2855056275097727\n",
      "2024-01-22\n",
      "Total Return:  1.2433479201786144\n",
      "2024-01-23\n",
      "Total Return:  1.2666963549583095\n",
      "2024-01-24\n",
      "Total Return:  1.238722328811219\n",
      "2024-01-25\n",
      "Total Return:  1.2218617363868982\n"
     ]
    },
    {
     "name": "stderr",
     "output_type": "stream",
     "text": [
      "/Users/atulkrishnan/Desktop/TradingAlgos/Stock_Picker_Algo/Trade_Functions.py:117: RuntimeWarning: divide by zero encountered in scalar divide\n",
      "  return d/c\n"
     ]
    },
    {
     "name": "stdout",
     "output_type": "stream",
     "text": [
      "2024-01-26\n",
      "Total Return:  1.2362317531843985\n",
      "2024-01-29\n",
      "Total Return:  1.2639038035979495\n",
      "2024-01-30\n",
      "Total Return:  1.2312415995283614\n",
      "2024-01-31\n",
      "Total Return:  1.2576701797015808\n",
      "2024-02-01\n",
      "Total Return:  1.310697348686118\n",
      "2024-02-02\n",
      "Total Return:  1.309873021495616\n"
     ]
    },
    {
     "name": "stderr",
     "output_type": "stream",
     "text": [
      "/Users/atulkrishnan/Desktop/TradingAlgos/Stock_Picker_Algo/Trade_Functions.py:117: RuntimeWarning: invalid value encountered in scalar divide\n",
      "  return d/c\n",
      "/Users/atulkrishnan/Desktop/TradingAlgos/Stock_Picker_Algo/Trade_Functions.py:117: RuntimeWarning: divide by zero encountered in scalar divide\n",
      "  return d/c\n"
     ]
    },
    {
     "name": "stdout",
     "output_type": "stream",
     "text": [
      "2024-02-05\n",
      "Total Return:  1.3534293802649557\n",
      "2024-02-06\n",
      "Total Return:  1.3410486032471447\n",
      "2024-02-07\n",
      "Total Return:  1.356911734352424\n"
     ]
    },
    {
     "name": "stderr",
     "output_type": "stream",
     "text": [
      "/Users/atulkrishnan/Desktop/TradingAlgos/Stock_Picker_Algo/Trade_Functions.py:117: RuntimeWarning: divide by zero encountered in scalar divide\n",
      "  return d/c\n"
     ]
    },
    {
     "name": "stdout",
     "output_type": "stream",
     "text": [
      "2024-02-08\n",
      "Total Return:  1.3939634665444969\n",
      "2024-02-09\n",
      "Total Return:  1.4494173017172551\n",
      "2024-02-12\n",
      "Total Return:  1.5610477007482955\n",
      "2024-02-13\n",
      "Total Return:  1.5565207457244918\n",
      "2024-02-14\n",
      "Total Return:  1.5705122783135868\n",
      "2024-02-15\n",
      "Total Return:  1.6382740860672318\n",
      "2024-02-16\n",
      "Total Return:  1.5068552133622028\n",
      "2024-02-20\n",
      "Total Return:  1.4765803571036473\n",
      "2024-02-21\n",
      "Total Return:  1.4805216631888172\n"
     ]
    },
    {
     "name": "stderr",
     "output_type": "stream",
     "text": [
      "/Users/atulkrishnan/Desktop/TradingAlgos/Stock_Picker_Algo/Trade_Functions.py:117: RuntimeWarning: divide by zero encountered in scalar divide\n",
      "  return d/c\n",
      "/Users/atulkrishnan/Desktop/TradingAlgos/Stock_Picker_Algo/Trade_Functions.py:117: RuntimeWarning: divide by zero encountered in scalar divide\n",
      "  return d/c\n"
     ]
    },
    {
     "name": "stdout",
     "output_type": "stream",
     "text": [
      "2024-02-22\n",
      "Total Return:  1.4786651014657282\n",
      "2024-02-23\n",
      "Total Return:  1.4075021831589112\n",
      "2024-02-26\n",
      "Total Return:  1.4095979969963737\n"
     ]
    },
    {
     "name": "stderr",
     "output_type": "stream",
     "text": [
      "/Users/atulkrishnan/Desktop/TradingAlgos/Stock_Picker_Algo/Trade_Functions.py:117: RuntimeWarning: divide by zero encountered in scalar divide\n",
      "  return d/c\n",
      "/Users/atulkrishnan/Desktop/TradingAlgos/Stock_Picker_Algo/Trade_Functions.py:117: RuntimeWarning: divide by zero encountered in scalar divide\n",
      "  return d/c\n",
      "/Users/atulkrishnan/Desktop/TradingAlgos/Stock_Picker_Algo/Trade_Functions.py:117: RuntimeWarning: divide by zero encountered in scalar divide\n",
      "  return d/c\n"
     ]
    },
    {
     "name": "stdout",
     "output_type": "stream",
     "text": [
      "2024-02-27\n",
      "Total Return:  1.3803999492965207\n",
      "2024-02-28\n",
      "Total Return:  1.4126971065927019\n",
      "2024-02-29\n",
      "Total Return:  1.3974951906897357\n",
      "2024-03-01\n",
      "Total Return:  1.3925308520589899\n",
      "2024-03-04\n",
      "Total Return:  1.404711018222891\n",
      "2024-03-05\n",
      "Total Return:  1.4391448062688084\n",
      "2024-03-06\n",
      "Total Return:  1.424219358666655\n",
      "2024-03-07\n",
      "Total Return:  1.455751096238646\n",
      "2024-03-08\n",
      "Total Return:  1.3549643495322796\n",
      "2024-03-11\n",
      "Total Return:  1.3786301913696366\n",
      "2024-03-12\n",
      "Total Return:  1.3648765100937679\n",
      "2024-03-13\n",
      "Total Return:  1.317567707589304\n",
      "2024-03-14\n",
      "Total Return:  1.3102021738260283\n",
      "2024-03-15\n",
      "Total Return:  1.304124506267676\n",
      "2024-03-18\n",
      "Total Return:  1.3203065315978888\n"
     ]
    },
    {
     "name": "stderr",
     "output_type": "stream",
     "text": [
      "/Users/atulkrishnan/Desktop/TradingAlgos/Stock_Picker_Algo/Trade_Functions.py:117: RuntimeWarning: divide by zero encountered in scalar divide\n",
      "  return d/c\n"
     ]
    },
    {
     "name": "stdout",
     "output_type": "stream",
     "text": [
      "2024-03-19\n",
      "Total Return:  1.3048427511653644\n",
      "2024-03-20\n",
      "Total Return:  1.2687573114793576\n",
      "2024-03-21\n",
      "Total Return:  1.2407664552873896\n",
      "2024-03-22\n",
      "Total Return:  1.234646926827689\n",
      "2024-03-25\n",
      "Total Return:  1.274719369154329\n",
      "2024-03-26\n",
      "Total Return:  1.2593717313803972\n"
     ]
    },
    {
     "name": "stderr",
     "output_type": "stream",
     "text": [
      "/Users/atulkrishnan/Desktop/TradingAlgos/Stock_Picker_Algo/Trade_Functions.py:117: RuntimeWarning: divide by zero encountered in scalar divide\n",
      "  return d/c\n",
      "/Users/atulkrishnan/Desktop/TradingAlgos/Stock_Picker_Algo/Trade_Functions.py:117: RuntimeWarning: divide by zero encountered in scalar divide\n",
      "  return d/c\n",
      "/Users/atulkrishnan/Desktop/TradingAlgos/Stock_Picker_Algo/Trade_Functions.py:117: RuntimeWarning: divide by zero encountered in scalar divide\n",
      "  return d/c\n"
     ]
    },
    {
     "name": "stdout",
     "output_type": "stream",
     "text": [
      "2024-03-27\n",
      "Total Return:  1.2479366071154716\n",
      "2024-03-28\n",
      "Total Return:  1.236649058830566\n",
      "2024-04-01\n",
      "Total Return:  1.2610736423947284\n"
     ]
    },
    {
     "name": "stderr",
     "output_type": "stream",
     "text": [
      "/Users/atulkrishnan/Desktop/TradingAlgos/Stock_Picker_Algo/Trade_Functions.py:117: RuntimeWarning: divide by zero encountered in scalar divide\n",
      "  return d/c\n"
     ]
    },
    {
     "name": "stdout",
     "output_type": "stream",
     "text": [
      "2024-04-02\n",
      "Total Return:  1.2669358880974289\n",
      "2024-04-03\n",
      "Total Return:  1.2653284170753722\n",
      "2024-04-04\n",
      "Total Return:  1.2080630148377227\n",
      "2024-04-05\n",
      "Total Return:  1.2202707348770372\n",
      "2024-04-08\n",
      "Total Return:  1.1882051931430302\n",
      "2024-04-09\n",
      "Total Return:  1.1710541453128847\n",
      "2024-04-10\n",
      "Total Return:  1.1584277088294026\n",
      "2024-04-11\n",
      "Total Return:  1.159704632738005\n",
      "2024-04-12\n",
      "Total Return:  1.1406139327588019\n",
      "2024-04-15\n",
      "Total Return:  1.0978496577516548\n",
      "2024-04-16\n",
      "Total Return:  1.0989314430400976\n",
      "2024-04-17\n",
      "Total Return:  1.0587003392579273\n"
     ]
    },
    {
     "name": "stderr",
     "output_type": "stream",
     "text": [
      "/Users/atulkrishnan/Desktop/TradingAlgos/Stock_Picker_Algo/Trade_Functions.py:117: RuntimeWarning: divide by zero encountered in scalar divide\n",
      "  return d/c\n"
     ]
    },
    {
     "name": "stdout",
     "output_type": "stream",
     "text": [
      "2024-04-18\n",
      "Total Return:  1.0476966068971876\n",
      "2024-04-19\n",
      "Total Return:  1.0493276840885153\n",
      "2024-04-22\n",
      "Total Return:  1.0593442247010096\n",
      "2024-04-23\n",
      "Total Return:  1.0621926590839952\n",
      "2024-04-24\n",
      "Total Return:  1.063925514341796\n",
      "2024-04-25\n",
      "Total Return:  1.0638255806743129\n"
     ]
    },
    {
     "name": "stderr",
     "output_type": "stream",
     "text": [
      "/Users/atulkrishnan/Desktop/TradingAlgos/Stock_Picker_Algo/Trade_Functions.py:117: RuntimeWarning: divide by zero encountered in scalar divide\n",
      "  return d/c\n",
      "/Users/atulkrishnan/Desktop/TradingAlgos/Stock_Picker_Algo/Trade_Functions.py:117: RuntimeWarning: divide by zero encountered in scalar divide\n",
      "  return d/c\n"
     ]
    },
    {
     "name": "stdout",
     "output_type": "stream",
     "text": [
      "2024-04-26\n",
      "Total Return:  1.0633161754105405\n",
      "2024-04-29\n",
      "Total Return:  1.0807607140158362\n",
      "2024-04-30\n",
      "Total Return:  1.0673819239471514\n"
     ]
    },
    {
     "name": "stderr",
     "output_type": "stream",
     "text": [
      "/Users/atulkrishnan/Desktop/TradingAlgos/Stock_Picker_Algo/Trade_Functions.py:117: RuntimeWarning: divide by zero encountered in scalar divide\n",
      "  return d/c\n",
      "/Users/atulkrishnan/Desktop/TradingAlgos/Stock_Picker_Algo/Trade_Functions.py:117: RuntimeWarning: divide by zero encountered in scalar divide\n",
      "  return d/c\n"
     ]
    },
    {
     "name": "stdout",
     "output_type": "stream",
     "text": [
      "2024-05-01\n",
      "Total Return:  1.058050627186752\n",
      "2024-05-02\n",
      "Total Return:  1.0431782576645776\n",
      "2024-05-03\n",
      "Total Return:  1.0404839441058114\n",
      "2024-05-06\n",
      "Total Return:  1.022260880211733\n",
      "2024-05-07\n",
      "Total Return:  1.028496251689994\n",
      "2024-05-08\n",
      "Total Return:  1.0401153659357512\n"
     ]
    },
    {
     "name": "stderr",
     "output_type": "stream",
     "text": [
      "/Users/atulkrishnan/Desktop/TradingAlgos/Stock_Picker_Algo/Trade_Functions.py:117: RuntimeWarning: divide by zero encountered in scalar divide\n",
      "  return d/c\n"
     ]
    },
    {
     "name": "stdout",
     "output_type": "stream",
     "text": [
      "2024-05-09\n",
      "Total Return:  1.0421195885581827\n",
      "2024-05-10\n",
      "Total Return:  1.0290397927856179\n",
      "2024-05-13\n",
      "Total Return:  1.0283369251939762\n",
      "2024-05-14\n",
      "Total Return:  1.0354740320360798\n",
      "2024-05-15\n",
      "Total Return:  1.007193144277727\n",
      "2024-05-16\n",
      "Total Return:  0.993854711026227\n"
     ]
    },
    {
     "name": "stderr",
     "output_type": "stream",
     "text": [
      "/Users/atulkrishnan/Desktop/TradingAlgos/Stock_Picker_Algo/Trade_Functions.py:117: RuntimeWarning: divide by zero encountered in scalar divide\n",
      "  return d/c\n"
     ]
    },
    {
     "name": "stdout",
     "output_type": "stream",
     "text": [
      "2024-05-17\n",
      "Total Return:  0.9575264403481059\n",
      "2024-05-20\n",
      "Total Return:  0.9876885845481473\n",
      "2024-05-21\n",
      "Total Return:  0.9967529968783921\n",
      "2024-05-22\n",
      "Total Return:  1.0293438862371032\n",
      "2024-05-23\n",
      "Total Return:  1.0212732219122922\n",
      "2024-05-24\n",
      "Total Return:  1.0284587694914844\n"
     ]
    },
    {
     "name": "stderr",
     "output_type": "stream",
     "text": [
      "/Users/atulkrishnan/Desktop/TradingAlgos/Stock_Picker_Algo/Trade_Functions.py:117: RuntimeWarning: divide by zero encountered in scalar divide\n",
      "  return d/c\n"
     ]
    },
    {
     "name": "stdout",
     "output_type": "stream",
     "text": [
      "2024-05-28\n",
      "Total Return:  1.0263934908149224\n",
      "2024-05-29\n",
      "Total Return:  1.0185853369691673\n",
      "2024-05-30\n",
      "Total Return:  1.0084678804659764\n"
     ]
    },
    {
     "name": "stderr",
     "output_type": "stream",
     "text": [
      "/Users/atulkrishnan/Desktop/TradingAlgos/Stock_Picker_Algo/Trade_Functions.py:117: RuntimeWarning: divide by zero encountered in scalar divide\n",
      "  return d/c\n"
     ]
    },
    {
     "name": "stdout",
     "output_type": "stream",
     "text": [
      "2024-05-31\n",
      "Total Return:  1.00104443175475\n",
      "2024-06-03\n",
      "Total Return:  1.0003796901303026\n",
      "2024-06-04\n",
      "Total Return:  0.9977784796054445\n",
      "2024-06-05\n",
      "Total Return:  0.9855520679111633\n",
      "2024-06-06\n",
      "Total Return:  0.9876568652871436\n",
      "2024-06-07\n",
      "Total Return:  0.9876622174520088\n"
     ]
    },
    {
     "name": "stderr",
     "output_type": "stream",
     "text": [
      "/Users/atulkrishnan/Desktop/TradingAlgos/Stock_Picker_Algo/Trade_Functions.py:117: RuntimeWarning: divide by zero encountered in scalar divide\n",
      "  return d/c\n"
     ]
    },
    {
     "name": "stdout",
     "output_type": "stream",
     "text": [
      "2024-06-10\n",
      "Total Return:  1.010763354780057\n",
      "2024-06-11\n",
      "Total Return:  1.0384720457774115\n",
      "2024-06-12\n",
      "Total Return:  1.0559988764183648\n"
     ]
    },
    {
     "name": "stderr",
     "output_type": "stream",
     "text": [
      "/Users/atulkrishnan/Desktop/TradingAlgos/Stock_Picker_Algo/Trade_Functions.py:117: RuntimeWarning: divide by zero encountered in scalar divide\n",
      "  return d/c\n",
      "/Users/atulkrishnan/Desktop/TradingAlgos/Stock_Picker_Algo/Trade_Functions.py:117: RuntimeWarning: divide by zero encountered in scalar divide\n",
      "  return d/c\n",
      "/Users/atulkrishnan/Desktop/TradingAlgos/Stock_Picker_Algo/Trade_Functions.py:117: RuntimeWarning: divide by zero encountered in scalar divide\n",
      "  return d/c\n"
     ]
    },
    {
     "name": "stdout",
     "output_type": "stream",
     "text": [
      "2024-06-13\n",
      "Total Return:  1.0522047733261688\n",
      "2024-06-14\n",
      "Total Return:  1.0609674363988097\n",
      "2024-06-17\n",
      "Total Return:  1.0623485562003054\n",
      "2024-06-18\n",
      "Total Return:  1.091600772520049\n",
      "2024-06-20\n",
      "Total Return:  1.0352001285483445\n",
      "2024-06-21\n",
      "Total Return:  1.0316793674859475\n"
     ]
    },
    {
     "name": "stderr",
     "output_type": "stream",
     "text": [
      "/Users/atulkrishnan/Desktop/TradingAlgos/Stock_Picker_Algo/Trade_Functions.py:117: RuntimeWarning: divide by zero encountered in scalar divide\n",
      "  return d/c\n"
     ]
    },
    {
     "name": "stdout",
     "output_type": "stream",
     "text": [
      "2024-06-24\n",
      "Total Return:  1.0243191040896766\n",
      "2024-06-25\n",
      "Total Return:  1.0148980110751182\n",
      "2024-06-26\n",
      "Total Return:  1.020397476697391\n"
     ]
    },
    {
     "name": "stderr",
     "output_type": "stream",
     "text": [
      "/Users/atulkrishnan/Desktop/TradingAlgos/Stock_Picker_Algo/Trade_Functions.py:117: RuntimeWarning: divide by zero encountered in scalar divide\n",
      "  return d/c\n",
      "/Users/atulkrishnan/Desktop/TradingAlgos/Stock_Picker_Algo/Trade_Functions.py:117: RuntimeWarning: divide by zero encountered in scalar divide\n",
      "  return d/c\n"
     ]
    },
    {
     "name": "stdout",
     "output_type": "stream",
     "text": [
      "2024-06-27\n",
      "Total Return:  1.0298868759862256\n",
      "2024-06-28\n",
      "Total Return:  1.0436002675000986\n",
      "2024-07-01\n",
      "Total Return:  1.0646814279471437\n",
      "2024-07-02\n",
      "Total Return:  1.0824091084263823\n",
      "2024-07-03\n",
      "Total Return:  1.1090265292657961\n",
      "2024-07-05\n",
      "Total Return:  1.122208526831004\n"
     ]
    },
    {
     "name": "stderr",
     "output_type": "stream",
     "text": [
      "/Users/atulkrishnan/Desktop/TradingAlgos/Stock_Picker_Algo/Trade_Functions.py:117: RuntimeWarning: divide by zero encountered in scalar divide\n",
      "  return d/c\n"
     ]
    },
    {
     "name": "stdout",
     "output_type": "stream",
     "text": [
      "2024-07-08\n",
      "Total Return:  1.1293717710579951\n",
      "2024-07-09\n",
      "Total Return:  1.136797132417542\n",
      "2024-07-10\n",
      "Total Return:  1.1521619200945241\n"
     ]
    },
    {
     "name": "stderr",
     "output_type": "stream",
     "text": [
      "/Users/atulkrishnan/Desktop/TradingAlgos/Stock_Picker_Algo/Trade_Functions.py:117: RuntimeWarning: divide by zero encountered in scalar divide\n",
      "  return d/c\n",
      "/Users/atulkrishnan/Desktop/TradingAlgos/Stock_Picker_Algo/Trade_Functions.py:117: RuntimeWarning: divide by zero encountered in scalar divide\n",
      "  return d/c\n"
     ]
    },
    {
     "name": "stdout",
     "output_type": "stream",
     "text": [
      "2024-07-11\n",
      "Total Return:  1.0748463886772386\n",
      "2024-07-12\n",
      "Total Return:  1.0775059037263448\n",
      "2024-07-15\n",
      "Total Return:  1.0602434810162369\n"
     ]
    },
    {
     "name": "stderr",
     "output_type": "stream",
     "text": [
      "/Users/atulkrishnan/Desktop/TradingAlgos/Stock_Picker_Algo/Trade_Functions.py:117: RuntimeWarning: divide by zero encountered in scalar divide\n",
      "  return d/c\n"
     ]
    },
    {
     "name": "stdout",
     "output_type": "stream",
     "text": [
      "2024-07-16\n",
      "Total Return:  1.0926431725904289\n",
      "2024-07-17\n",
      "Total Return:  1.0732743333206274\n",
      "2024-07-18\n",
      "Total Return:  1.0501838413207085\n",
      "2024-07-19\n",
      "Total Return:  1.0390579492905516\n",
      "2024-07-22\n",
      "Total Return:  1.0300875008130679\n",
      "2024-07-23\n",
      "Total Return:  1.0249769429429372\n"
     ]
    },
    {
     "name": "stderr",
     "output_type": "stream",
     "text": [
      "/Users/atulkrishnan/Desktop/TradingAlgos/Stock_Picker_Algo/Trade_Functions.py:117: RuntimeWarning: divide by zero encountered in scalar divide\n",
      "  return d/c\n"
     ]
    },
    {
     "name": "stdout",
     "output_type": "stream",
     "text": [
      "2024-07-24\n",
      "Total Return:  1.0158905229100386\n",
      "2024-07-25\n",
      "Total Return:  0.9955204001457797\n",
      "2024-07-26\n",
      "Total Return:  1.007298045937137\n",
      "2024-07-29\n",
      "Total Return:  1.0194255037291358\n",
      "2024-07-30\n",
      "Total Return:  1.0245027270823384\n",
      "2024-07-31\n",
      "Total Return:  1.0075224123771553\n"
     ]
    },
    {
     "name": "stderr",
     "output_type": "stream",
     "text": [
      "/Users/atulkrishnan/Desktop/TradingAlgos/Stock_Picker_Algo/Trade_Functions.py:117: RuntimeWarning: divide by zero encountered in scalar divide\n",
      "  return d/c\n"
     ]
    },
    {
     "name": "stdout",
     "output_type": "stream",
     "text": [
      "2024-08-01\n",
      "Total Return:  0.9821644366419693\n",
      "2024-08-02\n",
      "Total Return:  0.9676288312360453\n",
      "2024-08-05\n",
      "Total Return:  1.020247604495529\n",
      "2024-08-06\n",
      "Total Return:  1.0357122981595048\n",
      "2024-08-07\n",
      "Total Return:  1.035240451569197\n",
      "2024-08-08\n",
      "Total Return:  1.0356361373312184\n",
      "2024-08-09\n",
      "Total Return:  1.0392325088730818\n",
      "2024-08-12\n",
      "Total Return:  1.027935305074335\n",
      "2024-08-13\n",
      "Total Return:  1.0347377634178223\n",
      "2024-08-14\n",
      "Total Return:  1.0355237082839657\n",
      "2024-08-15\n",
      "Total Return:  1.0520363902075884\n",
      "2024-08-16\n",
      "Total Return:  1.0677669260141442\n",
      "2024-08-19\n",
      "Total Return:  1.0773419602554999\n",
      "2024-08-20\n",
      "Total Return:  1.073900445280799\n",
      "2024-08-21\n",
      "Total Return:  1.0794769578896133\n"
     ]
    },
    {
     "name": "stderr",
     "output_type": "stream",
     "text": [
      "/Users/atulkrishnan/Desktop/TradingAlgos/Stock_Picker_Algo/Trade_Functions.py:117: RuntimeWarning: divide by zero encountered in scalar divide\n",
      "  return d/c\n"
     ]
    },
    {
     "name": "stdout",
     "output_type": "stream",
     "text": [
      "2024-08-22\n",
      "Total Return:  1.0453980496415114\n",
      "2024-08-23\n",
      "Total Return:  1.045970911188781\n",
      "2024-08-26\n",
      "Total Return:  1.053021934759995\n",
      "2024-08-27\n",
      "Total Return:  1.056516623390042\n",
      "2024-08-28\n",
      "Total Return:  1.0388471751800834\n",
      "2024-08-29\n",
      "Total Return:  1.038936106517053\n"
     ]
    },
    {
     "name": "stderr",
     "output_type": "stream",
     "text": [
      "/Users/atulkrishnan/Desktop/TradingAlgos/Stock_Picker_Algo/Trade_Functions.py:117: RuntimeWarning: divide by zero encountered in scalar divide\n",
      "  return d/c\n"
     ]
    },
    {
     "name": "stdout",
     "output_type": "stream",
     "text": [
      "2024-08-30\n",
      "Total Return:  1.033468837383208\n",
      "2024-09-03\n",
      "Total Return:  0.9803843137021859\n",
      "2024-09-04\n",
      "Total Return:  0.9915692279602522\n",
      "2024-09-05\n",
      "Total Return:  0.9987332963541986\n",
      "2024-09-06\n",
      "Total Return:  0.9532180667012655\n",
      "2024-09-09\n",
      "Total Return:  0.9735254149855384\n",
      "2024-09-10\n",
      "Total Return:  0.9682640098618194\n",
      "2024-09-11\n",
      "Total Return:  0.9723005750964324\n",
      "2024-09-12\n",
      "Total Return:  0.9940253994707674\n"
     ]
    },
    {
     "name": "stderr",
     "output_type": "stream",
     "text": [
      "/Users/atulkrishnan/Desktop/TradingAlgos/Stock_Picker_Algo/Trade_Functions.py:117: RuntimeWarning: divide by zero encountered in scalar divide\n",
      "  return d/c\n"
     ]
    },
    {
     "name": "stdout",
     "output_type": "stream",
     "text": [
      "2024-09-13\n",
      "Total Return:  1.0047395585781842\n",
      "2024-09-16\n",
      "Total Return:  0.993047029386124\n",
      "2024-09-17\n",
      "Total Return:  0.9806426241388126\n"
     ]
    },
    {
     "name": "stderr",
     "output_type": "stream",
     "text": [
      "/Users/atulkrishnan/Desktop/TradingAlgos/Stock_Picker_Algo/Trade_Functions.py:117: RuntimeWarning: divide by zero encountered in scalar divide\n",
      "  return d/c\n",
      "/Users/atulkrishnan/Desktop/TradingAlgos/Stock_Picker_Algo/Trade_Functions.py:117: RuntimeWarning: divide by zero encountered in scalar divide\n",
      "  return d/c\n"
     ]
    },
    {
     "name": "stdout",
     "output_type": "stream",
     "text": [
      "2024-09-18\n",
      "Total Return:  0.9793034514028249\n",
      "2024-09-19\n",
      "Total Return:  0.9633032085236098\n",
      "2024-09-20\n",
      "Total Return:  0.9914210633579724\n"
     ]
    },
    {
     "name": "stderr",
     "output_type": "stream",
     "text": [
      "/Users/atulkrishnan/Desktop/TradingAlgos/Stock_Picker_Algo/Trade_Functions.py:117: RuntimeWarning: invalid value encountered in scalar divide\n",
      "  return d/c\n",
      "/Users/atulkrishnan/Desktop/TradingAlgos/Stock_Picker_Algo/Trade_Functions.py:117: RuntimeWarning: divide by zero encountered in scalar divide\n",
      "  return d/c\n"
     ]
    },
    {
     "name": "stdout",
     "output_type": "stream",
     "text": [
      "2024-09-23\n",
      "Total Return:  0.9769576402593658\n",
      "2024-09-24\n",
      "Total Return:  0.9786894593415494\n",
      "2024-09-25\n",
      "Total Return:  1.0041545774731389\n"
     ]
    },
    {
     "name": "stderr",
     "output_type": "stream",
     "text": [
      "/Users/atulkrishnan/Desktop/TradingAlgos/Stock_Picker_Algo/Trade_Functions.py:117: RuntimeWarning: divide by zero encountered in scalar divide\n",
      "  return d/c\n",
      "/Users/atulkrishnan/Desktop/TradingAlgos/Stock_Picker_Algo/Trade_Functions.py:117: RuntimeWarning: divide by zero encountered in scalar divide\n",
      "  return d/c\n"
     ]
    },
    {
     "name": "stdout",
     "output_type": "stream",
     "text": [
      "2024-09-26\n",
      "Total Return:  0.9950629168383252\n",
      "2024-09-27\n",
      "Total Return:  0.9889667230168554\n",
      "2024-09-30\n",
      "Total Return:  0.9612424045486792\n"
     ]
    },
    {
     "name": "stderr",
     "output_type": "stream",
     "text": [
      "/Users/atulkrishnan/Desktop/TradingAlgos/Stock_Picker_Algo/Trade_Functions.py:117: RuntimeWarning: divide by zero encountered in scalar divide\n",
      "  return d/c\n",
      "/Users/atulkrishnan/Desktop/TradingAlgos/Stock_Picker_Algo/Trade_Functions.py:117: RuntimeWarning: divide by zero encountered in scalar divide\n",
      "  return d/c\n"
     ]
    },
    {
     "name": "stdout",
     "output_type": "stream",
     "text": [
      "2024-10-01\n",
      "Total Return:  0.9697150903510513\n",
      "2024-10-02\n",
      "Total Return:  0.9687273658392646\n",
      "2024-10-03\n",
      "Total Return:  0.9753659916033732\n",
      "2024-10-04\n",
      "Total Return:  0.9911188479370994\n",
      "2024-10-07\n",
      "Total Return:  0.9866662325634759\n",
      "2024-10-08\n",
      "Total Return:  0.9533602610864826\n"
     ]
    },
    {
     "name": "stderr",
     "output_type": "stream",
     "text": [
      "/Users/atulkrishnan/Desktop/TradingAlgos/Stock_Picker_Algo/Trade_Functions.py:117: RuntimeWarning: divide by zero encountered in scalar divide\n",
      "  return d/c\n",
      "/Users/atulkrishnan/Desktop/TradingAlgos/Stock_Picker_Algo/Trade_Functions.py:117: RuntimeWarning: divide by zero encountered in scalar divide\n",
      "  return d/c\n"
     ]
    },
    {
     "name": "stdout",
     "output_type": "stream",
     "text": [
      "2024-10-09\n",
      "Total Return:  0.9621443562152918\n",
      "2024-10-10\n",
      "Total Return:  0.9870798428376029\n",
      "2024-10-11\n",
      "Total Return:  0.9959775534620503\n"
     ]
    },
    {
     "name": "stderr",
     "output_type": "stream",
     "text": [
      "/Users/atulkrishnan/Desktop/TradingAlgos/Stock_Picker_Algo/Trade_Functions.py:117: RuntimeWarning: divide by zero encountered in scalar divide\n",
      "  return d/c\n"
     ]
    },
    {
     "name": "stdout",
     "output_type": "stream",
     "text": [
      "2024-10-14\n",
      "Total Return:  0.979404585181159\n",
      "2024-10-15\n",
      "Total Return:  0.9547700759585587\n",
      "2024-10-16\n",
      "Total Return:  0.9373724403699804\n",
      "2024-10-17\n",
      "Total Return:  0.9191837283387951\n",
      "2024-10-18\n",
      "Total Return:  0.915295997628522\n",
      "2024-10-21\n",
      "Total Return:  0.9217083007500185\n",
      "2024-10-22\n",
      "Total Return:  0.9309211601176568\n",
      "2024-10-23\n",
      "Total Return:  0.9207033673393522\n",
      "2024-10-24\n",
      "Total Return:  0.9215774414093453\n"
     ]
    },
    {
     "name": "stderr",
     "output_type": "stream",
     "text": [
      "/Users/atulkrishnan/Desktop/TradingAlgos/Stock_Picker_Algo/Trade_Functions.py:117: RuntimeWarning: divide by zero encountered in scalar divide\n",
      "  return d/c\n",
      "/Users/atulkrishnan/Desktop/TradingAlgos/Stock_Picker_Algo/Trade_Functions.py:117: RuntimeWarning: divide by zero encountered in scalar divide\n",
      "  return d/c\n"
     ]
    },
    {
     "name": "stdout",
     "output_type": "stream",
     "text": [
      "2024-10-25\n",
      "Total Return:  0.9351555285901476\n",
      "2024-10-28\n",
      "Total Return:  0.9211292968635727\n",
      "2024-10-29\n",
      "Total Return:  0.9319318055944218\n",
      "2024-10-30\n",
      "Total Return:  0.9417784321872538\n",
      "2024-10-31\n",
      "Total Return:  0.9086758915597594\n",
      "2024-11-01\n",
      "Total Return:  0.928100232593628\n"
     ]
    },
    {
     "name": "stderr",
     "output_type": "stream",
     "text": [
      "[I 2024-11-14 10:49:51,966] Trial 2 finished with values: [0.9600786401382162, 0.9330543933054394] and parameters: {'TimeInput': 6, 'NumStocks': 3, 'holdTime': 0}.\n"
     ]
    },
    {
     "name": "stdout",
     "output_type": "stream",
     "text": [
      "2024-11-04\n",
      "Total Return:  0.9369295334492955\n",
      "2024-11-05\n",
      "Total Return:  0.9472288814597225\n",
      "2024-11-06\n",
      "Total Return:  0.9600786401382162\n",
      "UNABLE TO FIND:--- ARM ----\n"
     ]
    },
    {
     "name": "stderr",
     "output_type": "stream",
     "text": [
      "/Users/atulkrishnan/Desktop/TradingAlgos/Stock_Picker_Algo/Trade_Functions.py:117: RuntimeWarning: divide by zero encountered in scalar divide\n",
      "  return d/c\n"
     ]
    },
    {
     "name": "stdout",
     "output_type": "stream",
     "text": [
      "2023-01-05\n",
      "Total Return:  0.9971539299868356\n",
      "UNABLE TO FIND:--- ARM ----\n",
      "2023-01-06\n",
      "Total Return:  1.1511262543493705\n",
      "UNABLE TO FIND:--- ARM ----\n",
      "2023-01-09\n",
      "Total Return:  1.273414469423154\n",
      "UNABLE TO FIND:--- ARM ----\n",
      "2023-01-10\n",
      "Total Return:  1.4191016539384105\n",
      "UNABLE TO FIND:--- ARM ----\n",
      "2023-01-11\n",
      "Total Return:  1.4477481408601691\n",
      "UNABLE TO FIND:--- ARM ----\n",
      "2023-01-12\n",
      "Total Return:  1.498725167531794\n",
      "UNABLE TO FIND:--- ARM ----\n",
      "2023-01-13\n",
      "Total Return:  1.5490298625315286\n",
      "UNABLE TO FIND:--- ARM ----\n",
      "2023-01-17\n",
      "Total Return:  1.5368097233706774\n",
      "UNABLE TO FIND:--- ARM ----\n",
      "2023-01-18\n",
      "Total Return:  1.5616575965168962\n",
      "UNABLE TO FIND:--- ARM ----\n"
     ]
    },
    {
     "name": "stderr",
     "output_type": "stream",
     "text": [
      "/Users/atulkrishnan/Desktop/TradingAlgos/Stock_Picker_Algo/Trade_Functions.py:117: RuntimeWarning: divide by zero encountered in scalar divide\n",
      "  return d/c\n",
      "/Users/atulkrishnan/Desktop/TradingAlgos/Stock_Picker_Algo/Trade_Functions.py:117: RuntimeWarning: divide by zero encountered in scalar divide\n",
      "  return d/c\n"
     ]
    },
    {
     "name": "stdout",
     "output_type": "stream",
     "text": [
      "2023-01-19\n",
      "Total Return:  1.6357988809448334\n",
      "UNABLE TO FIND:--- ARM ----\n",
      "2023-01-20\n",
      "Total Return:  1.6863321884459712\n",
      "UNABLE TO FIND:--- ARM ----\n",
      "2023-01-23\n",
      "Total Return:  1.7178498043057326\n",
      "UNABLE TO FIND:--- ARM ----\n",
      "2023-01-24\n",
      "Total Return:  1.925313255073608\n",
      "UNABLE TO FIND:--- ARM ----\n",
      "2023-01-25\n",
      "Total Return:  1.926381084869917\n",
      "UNABLE TO FIND:--- ARM ----\n",
      "2023-01-26\n",
      "Total Return:  1.881885850432642\n",
      "UNABLE TO FIND:--- ARM ----\n"
     ]
    },
    {
     "name": "stderr",
     "output_type": "stream",
     "text": [
      "/Users/atulkrishnan/Desktop/TradingAlgos/Stock_Picker_Algo/Trade_Functions.py:117: RuntimeWarning: divide by zero encountered in scalar divide\n",
      "  return d/c\n",
      "/Users/atulkrishnan/Desktop/TradingAlgos/Stock_Picker_Algo/Trade_Functions.py:117: RuntimeWarning: divide by zero encountered in scalar divide\n",
      "  return d/c\n"
     ]
    },
    {
     "name": "stdout",
     "output_type": "stream",
     "text": [
      "2023-01-27\n",
      "Total Return:  2.006897026461362\n",
      "UNABLE TO FIND:--- ARM ----\n",
      "2023-01-30\n",
      "Total Return:  2.0447693944380294\n",
      "UNABLE TO FIND:--- ARM ----\n",
      "2023-01-31\n",
      "Total Return:  2.3392399920638014\n",
      "UNABLE TO FIND:--- ARM ----\n",
      "2023-02-01\n",
      "Total Return:  2.5556892590593963\n",
      "UNABLE TO FIND:--- ARM ----\n",
      "2023-02-02\n",
      "Total Return:  2.6570545091035895\n",
      "UNABLE TO FIND:--- ARM ----\n",
      "2023-02-03\n",
      "Total Return:  2.7750845842534275\n",
      "UNABLE TO FIND:--- ARM ----\n"
     ]
    },
    {
     "name": "stderr",
     "output_type": "stream",
     "text": [
      "/Users/atulkrishnan/Desktop/TradingAlgos/Stock_Picker_Algo/Trade_Functions.py:117: RuntimeWarning: divide by zero encountered in scalar divide\n",
      "  return d/c\n"
     ]
    },
    {
     "name": "stdout",
     "output_type": "stream",
     "text": [
      "2023-02-06\n",
      "Total Return:  2.7289645005925864\n",
      "UNABLE TO FIND:--- ARM ----\n",
      "2023-02-07\n",
      "Total Return:  2.6163237103023924\n",
      "UNABLE TO FIND:--- ARM ----\n",
      "2023-02-08\n",
      "Total Return:  2.398067148317837\n",
      "UNABLE TO FIND:--- ARM ----\n",
      "2023-02-09\n",
      "Total Return:  2.3117453369735244\n",
      "UNABLE TO FIND:--- ARM ----\n",
      "2023-02-10\n",
      "Total Return:  2.391992889192534\n",
      "UNABLE TO FIND:--- ARM ----\n",
      "2023-02-13\n",
      "Total Return:  2.514074311828575\n",
      "UNABLE TO FIND:--- ARM ----\n"
     ]
    },
    {
     "name": "stderr",
     "output_type": "stream",
     "text": [
      "/Users/atulkrishnan/Desktop/TradingAlgos/Stock_Picker_Algo/Trade_Functions.py:117: RuntimeWarning: divide by zero encountered in scalar divide\n",
      "  return d/c\n",
      "/Users/atulkrishnan/Desktop/TradingAlgos/Stock_Picker_Algo/Trade_Functions.py:117: RuntimeWarning: divide by zero encountered in scalar divide\n",
      "  return d/c\n"
     ]
    },
    {
     "name": "stdout",
     "output_type": "stream",
     "text": [
      "2023-02-14\n",
      "Total Return:  2.56590218708946\n",
      "UNABLE TO FIND:--- ARM ----\n",
      "2023-02-15\n",
      "Total Return:  2.4928538998616943\n",
      "UNABLE TO FIND:--- ARM ----\n",
      "2023-02-16\n",
      "Total Return:  2.179806710185363\n",
      "UNABLE TO FIND:--- ARM ----\n"
     ]
    },
    {
     "name": "stderr",
     "output_type": "stream",
     "text": [
      "/Users/atulkrishnan/Desktop/TradingAlgos/Stock_Picker_Algo/Trade_Functions.py:117: RuntimeWarning: divide by zero encountered in scalar divide\n",
      "  return d/c\n",
      "/Users/atulkrishnan/Desktop/TradingAlgos/Stock_Picker_Algo/Trade_Functions.py:117: RuntimeWarning: divide by zero encountered in scalar divide\n",
      "  return d/c\n"
     ]
    },
    {
     "name": "stdout",
     "output_type": "stream",
     "text": [
      "2023-02-17\n",
      "Total Return:  1.9794413764200856\n",
      "UNABLE TO FIND:--- ARM ----\n",
      "2023-02-21\n",
      "Total Return:  1.9065680567540726\n",
      "UNABLE TO FIND:--- ARM ----\n",
      "2023-02-22\n",
      "Total Return:  1.845141722092542\n",
      "UNABLE TO FIND:--- ARM ----\n",
      "2023-02-23\n",
      "Total Return:  1.7823642338742725\n",
      "UNABLE TO FIND:--- ARM ----\n",
      "2023-02-24\n",
      "Total Return:  1.814832119091602\n",
      "UNABLE TO FIND:--- ARM ----\n",
      "2023-02-27\n",
      "Total Return:  1.8056560853468069\n",
      "UNABLE TO FIND:--- ARM ----\n"
     ]
    },
    {
     "name": "stderr",
     "output_type": "stream",
     "text": [
      "/Users/atulkrishnan/Desktop/TradingAlgos/Stock_Picker_Algo/Trade_Functions.py:117: RuntimeWarning: divide by zero encountered in scalar divide\n",
      "  return d/c\n"
     ]
    },
    {
     "name": "stdout",
     "output_type": "stream",
     "text": [
      "2023-02-28\n",
      "Total Return:  1.8184914795672031\n",
      "UNABLE TO FIND:--- ARM ----\n",
      "2023-03-01\n",
      "Total Return:  1.8661106591312575\n",
      "UNABLE TO FIND:--- ARM ----\n",
      "2023-03-02\n",
      "Total Return:  1.8332868712911092\n",
      "UNABLE TO FIND:--- ARM ----\n",
      "2023-03-03\n",
      "Total Return:  1.809144344602106\n",
      "UNABLE TO FIND:--- ARM ----\n",
      "2023-03-06\n",
      "Total Return:  1.7787433025199892\n",
      "UNABLE TO FIND:--- ARM ----\n",
      "2023-03-07\n",
      "Total Return:  1.6721062654811032\n",
      "UNABLE TO FIND:--- ARM ----\n",
      "2023-03-08\n",
      "Total Return:  1.6356060797861909\n",
      "UNABLE TO FIND:--- ARM ----\n",
      "2023-03-09\n",
      "Total Return:  1.463651193823829\n",
      "UNABLE TO FIND:--- ARM ----\n",
      "2023-03-10\n",
      "Total Return:  1.4433869049991095\n",
      "UNABLE TO FIND:--- ARM ----\n",
      "2023-03-13\n",
      "Total Return:  1.533531118241539\n",
      "UNABLE TO FIND:--- ARM ----\n",
      "2023-03-14\n",
      "Total Return:  1.4998600480638533\n",
      "UNABLE TO FIND:--- ARM ----\n",
      "2023-03-15\n",
      "Total Return:  1.6123630713975128\n",
      "UNABLE TO FIND:--- ARM ----\n",
      "2023-03-16\n",
      "Total Return:  1.5552537574353757\n",
      "UNABLE TO FIND:--- ARM ----\n",
      "2023-03-17\n",
      "Total Return:  1.5435080464815445\n",
      "UNABLE TO FIND:--- ARM ----\n",
      "2023-03-20\n",
      "Total Return:  1.564024021068476\n",
      "UNABLE TO FIND:--- ARM ----\n",
      "2023-03-21\n",
      "Total Return:  1.6169105868405955\n",
      "UNABLE TO FIND:--- ARM ----\n",
      "2023-03-22\n",
      "Total Return:  1.6463224578048858\n",
      "UNABLE TO FIND:--- ARM ----\n",
      "2023-03-23\n",
      "Total Return:  1.6015541157201285\n",
      "UNABLE TO FIND:--- ARM ----\n"
     ]
    },
    {
     "name": "stderr",
     "output_type": "stream",
     "text": [
      "/Users/atulkrishnan/Desktop/TradingAlgos/Stock_Picker_Algo/Trade_Functions.py:117: RuntimeWarning: divide by zero encountered in scalar divide\n",
      "  return d/c\n"
     ]
    },
    {
     "name": "stdout",
     "output_type": "stream",
     "text": [
      "2023-03-24\n",
      "Total Return:  1.4590297471167348\n",
      "UNABLE TO FIND:--- ARM ----\n",
      "2023-03-27\n",
      "Total Return:  1.3769226517426085\n",
      "UNABLE TO FIND:--- ARM ----\n",
      "2023-03-28\n",
      "Total Return:  1.2887526226708337\n",
      "UNABLE TO FIND:--- ARM ----\n"
     ]
    },
    {
     "name": "stderr",
     "output_type": "stream",
     "text": [
      "/Users/atulkrishnan/Desktop/TradingAlgos/Stock_Picker_Algo/Trade_Functions.py:117: RuntimeWarning: divide by zero encountered in scalar divide\n",
      "  return d/c\n"
     ]
    },
    {
     "name": "stdout",
     "output_type": "stream",
     "text": [
      "2023-03-29\n",
      "Total Return:  1.275818488488389\n",
      "UNABLE TO FIND:--- ARM ----\n",
      "2023-03-30\n",
      "Total Return:  1.2842074106401535\n",
      "UNABLE TO FIND:--- ARM ----\n",
      "2023-03-31\n",
      "Total Return:  1.3082829565801952\n",
      "UNABLE TO FIND:--- ARM ----\n",
      "2023-04-03\n",
      "Total Return:  1.3105101705057336\n",
      "UNABLE TO FIND:--- ARM ----\n",
      "2023-04-04\n",
      "Total Return:  1.3024309380856434\n",
      "UNABLE TO FIND:--- ARM ----\n",
      "2023-04-05\n",
      "Total Return:  1.2873036251650187\n",
      "UNABLE TO FIND:--- ARM ----\n",
      "2023-04-06\n",
      "Total Return:  1.3139131724792599\n",
      "UNABLE TO FIND:--- ARM ----\n",
      "2023-04-10\n",
      "Total Return:  1.2873633150005572\n",
      "UNABLE TO FIND:--- ARM ----\n",
      "2023-04-11\n",
      "Total Return:  1.2456951505454612\n",
      "UNABLE TO FIND:--- ARM ----\n"
     ]
    },
    {
     "name": "stderr",
     "output_type": "stream",
     "text": [
      "/Users/atulkrishnan/Desktop/TradingAlgos/Stock_Picker_Algo/Trade_Functions.py:117: RuntimeWarning: divide by zero encountered in scalar divide\n",
      "  return d/c\n"
     ]
    },
    {
     "name": "stdout",
     "output_type": "stream",
     "text": [
      "2023-04-12\n",
      "Total Return:  1.2122108121400472\n",
      "UNABLE TO FIND:--- ARM ----\n",
      "2023-04-13\n",
      "Total Return:  1.2325096304629684\n",
      "UNABLE TO FIND:--- ARM ----\n",
      "2023-04-14\n",
      "Total Return:  1.208124745520945\n",
      "UNABLE TO FIND:--- ARM ----\n"
     ]
    },
    {
     "name": "stderr",
     "output_type": "stream",
     "text": [
      "/Users/atulkrishnan/Desktop/TradingAlgos/Stock_Picker_Algo/Trade_Functions.py:117: RuntimeWarning: divide by zero encountered in scalar divide\n",
      "  return d/c\n",
      "/Users/atulkrishnan/Desktop/TradingAlgos/Stock_Picker_Algo/Trade_Functions.py:117: RuntimeWarning: invalid value encountered in scalar divide\n",
      "  return d/c\n",
      "/Users/atulkrishnan/Desktop/TradingAlgos/Stock_Picker_Algo/Trade_Functions.py:117: RuntimeWarning: divide by zero encountered in scalar divide\n",
      "  return d/c\n"
     ]
    },
    {
     "name": "stdout",
     "output_type": "stream",
     "text": [
      "2023-04-17\n",
      "Total Return:  1.2155406711565908\n",
      "UNABLE TO FIND:--- ARM ----\n",
      "2023-04-18\n",
      "Total Return:  1.135466188920925\n",
      "UNABLE TO FIND:--- ARM ----\n",
      "2023-04-19\n",
      "Total Return:  1.0736408042671544\n",
      "UNABLE TO FIND:--- ARM ----\n"
     ]
    },
    {
     "name": "stderr",
     "output_type": "stream",
     "text": [
      "/Users/atulkrishnan/Desktop/TradingAlgos/Stock_Picker_Algo/Trade_Functions.py:117: RuntimeWarning: divide by zero encountered in scalar divide\n",
      "  return d/c\n",
      "/Users/atulkrishnan/Desktop/TradingAlgos/Stock_Picker_Algo/Trade_Functions.py:117: RuntimeWarning: divide by zero encountered in scalar divide\n",
      "  return d/c\n"
     ]
    },
    {
     "name": "stdout",
     "output_type": "stream",
     "text": [
      "2023-04-20\n",
      "Total Return:  1.0790276829547085\n",
      "UNABLE TO FIND:--- ARM ----\n",
      "2023-04-21\n",
      "Total Return:  1.0685225171239734\n",
      "UNABLE TO FIND:--- ARM ----\n",
      "2023-04-24\n",
      "Total Return:  1.0536973285930435\n",
      "UNABLE TO FIND:--- ARM ----\n"
     ]
    },
    {
     "name": "stderr",
     "output_type": "stream",
     "text": [
      "/Users/atulkrishnan/Desktop/TradingAlgos/Stock_Picker_Algo/Trade_Functions.py:117: RuntimeWarning: divide by zero encountered in scalar divide\n",
      "  return d/c\n"
     ]
    },
    {
     "name": "stdout",
     "output_type": "stream",
     "text": [
      "2023-04-25\n",
      "Total Return:  1.0399564472877305\n",
      "UNABLE TO FIND:--- ARM ----\n",
      "2023-04-26\n",
      "Total Return:  1.0690225697930158\n",
      "UNABLE TO FIND:--- ARM ----\n",
      "2023-04-27\n",
      "Total Return:  1.080198281467913\n",
      "UNABLE TO FIND:--- ARM ----\n",
      "2023-04-28\n",
      "Total Return:  1.0812378090101105\n",
      "UNABLE TO FIND:--- ARM ----\n",
      "2023-05-01\n",
      "Total Return:  1.0740331983660165\n",
      "UNABLE TO FIND:--- ARM ----\n",
      "2023-05-02\n",
      "Total Return:  1.031368717103245\n",
      "UNABLE TO FIND:--- ARM ----\n",
      "2023-05-03\n",
      "Total Return:  1.0025556749675346\n",
      "UNABLE TO FIND:--- ARM ----\n",
      "2023-05-04\n",
      "Total Return:  1.031314464617858\n",
      "UNABLE TO FIND:--- ARM ----\n",
      "2023-05-05\n",
      "Total Return:  0.9869127705621052\n",
      "UNABLE TO FIND:--- ARM ----\n",
      "2023-05-08\n",
      "Total Return:  0.9747896187608904\n",
      "UNABLE TO FIND:--- ARM ----\n",
      "2023-05-09\n",
      "Total Return:  0.9722241774309219\n",
      "UNABLE TO FIND:--- ARM ----\n",
      "2023-05-10\n",
      "Total Return:  0.9872718092860058\n",
      "UNABLE TO FIND:--- ARM ----\n"
     ]
    },
    {
     "name": "stderr",
     "output_type": "stream",
     "text": [
      "/Users/atulkrishnan/Desktop/TradingAlgos/Stock_Picker_Algo/Trade_Functions.py:117: RuntimeWarning: divide by zero encountered in scalar divide\n",
      "  return d/c\n",
      "/Users/atulkrishnan/Desktop/TradingAlgos/Stock_Picker_Algo/Trade_Functions.py:117: RuntimeWarning: divide by zero encountered in scalar divide\n",
      "  return d/c\n"
     ]
    },
    {
     "name": "stdout",
     "output_type": "stream",
     "text": [
      "2023-05-11\n",
      "Total Return:  1.014737995069682\n",
      "UNABLE TO FIND:--- ARM ----\n",
      "2023-05-12\n",
      "Total Return:  1.0450247309574225\n",
      "UNABLE TO FIND:--- ARM ----\n",
      "2023-05-15\n",
      "Total Return:  1.0830504837725858\n",
      "UNABLE TO FIND:--- ARM ----\n"
     ]
    },
    {
     "name": "stderr",
     "output_type": "stream",
     "text": [
      "/Users/atulkrishnan/Desktop/TradingAlgos/Stock_Picker_Algo/Trade_Functions.py:117: RuntimeWarning: divide by zero encountered in scalar divide\n",
      "  return d/c\n",
      "/Users/atulkrishnan/Desktop/TradingAlgos/Stock_Picker_Algo/Trade_Functions.py:117: RuntimeWarning: divide by zero encountered in scalar divide\n",
      "  return d/c\n"
     ]
    },
    {
     "name": "stdout",
     "output_type": "stream",
     "text": [
      "2023-05-16\n",
      "Total Return:  1.1651296873867418\n",
      "UNABLE TO FIND:--- ARM ----\n",
      "2023-05-17\n",
      "Total Return:  1.1958140806179665\n",
      "UNABLE TO FIND:--- ARM ----\n",
      "2023-05-18\n",
      "Total Return:  1.2678168441615805\n",
      "UNABLE TO FIND:--- ARM ----\n",
      "2023-05-19\n",
      "Total Return:  1.2261647129009035\n",
      "UNABLE TO FIND:--- ARM ----\n",
      "2023-05-22\n",
      "Total Return:  1.2517035173988786\n",
      "UNABLE TO FIND:--- ARM ----\n",
      "2023-05-23\n",
      "Total Return:  1.5893891971170222\n",
      "UNABLE TO FIND:--- ARM ----\n"
     ]
    },
    {
     "name": "stderr",
     "output_type": "stream",
     "text": [
      "/Users/atulkrishnan/Desktop/TradingAlgos/Stock_Picker_Algo/Trade_Functions.py:117: RuntimeWarning: divide by zero encountered in scalar divide\n",
      "  return d/c\n"
     ]
    },
    {
     "name": "stdout",
     "output_type": "stream",
     "text": [
      "2023-05-24\n",
      "Total Return:  1.6821262256190592\n",
      "UNABLE TO FIND:--- ARM ----\n",
      "2023-05-25\n",
      "Total Return:  1.7467835965629819\n",
      "UNABLE TO FIND:--- ARM ----\n",
      "2023-05-26\n",
      "Total Return:  1.8632635332664476\n",
      "UNABLE TO FIND:--- ARM ----\n"
     ]
    },
    {
     "name": "stderr",
     "output_type": "stream",
     "text": [
      "/Users/atulkrishnan/Desktop/TradingAlgos/Stock_Picker_Algo/Trade_Functions.py:117: RuntimeWarning: divide by zero encountered in scalar divide\n",
      "  return d/c\n",
      "/Users/atulkrishnan/Desktop/TradingAlgos/Stock_Picker_Algo/Trade_Functions.py:117: RuntimeWarning: divide by zero encountered in scalar divide\n",
      "  return d/c\n"
     ]
    },
    {
     "name": "stdout",
     "output_type": "stream",
     "text": [
      "2023-05-30\n",
      "Total Return:  1.6868484611492445\n",
      "UNABLE TO FIND:--- ARM ----\n",
      "2023-05-31\n",
      "Total Return:  1.6540564580450092\n",
      "UNABLE TO FIND:--- ARM ----\n",
      "2023-06-01\n",
      "Total Return:  1.6323798825880893\n",
      "UNABLE TO FIND:--- ARM ----\n",
      "2023-06-02\n",
      "Total Return:  1.6230516781181517\n",
      "UNABLE TO FIND:--- ARM ----\n",
      "2023-06-05\n",
      "Total Return:  1.577427141498674\n",
      "UNABLE TO FIND:--- ARM ----\n",
      "2023-06-06\n",
      "Total Return:  1.5350630718571738\n",
      "UNABLE TO FIND:--- ARM ----\n"
     ]
    },
    {
     "name": "stderr",
     "output_type": "stream",
     "text": [
      "/Users/atulkrishnan/Desktop/TradingAlgos/Stock_Picker_Algo/Trade_Functions.py:117: RuntimeWarning: divide by zero encountered in scalar divide\n",
      "  return d/c\n",
      "/Users/atulkrishnan/Desktop/TradingAlgos/Stock_Picker_Algo/Trade_Functions.py:117: RuntimeWarning: divide by zero encountered in scalar divide\n",
      "  return d/c\n"
     ]
    },
    {
     "name": "stdout",
     "output_type": "stream",
     "text": [
      "2023-06-07\n",
      "Total Return:  1.4822268543917598\n",
      "UNABLE TO FIND:--- ARM ----\n",
      "2023-06-08\n",
      "Total Return:  1.530409227945265\n",
      "UNABLE TO FIND:--- ARM ----\n",
      "2023-06-09\n",
      "Total Return:  1.5599760691286209\n",
      "UNABLE TO FIND:--- ARM ----\n",
      "2023-06-12\n",
      "Total Return:  1.4602013122000073\n",
      "UNABLE TO FIND:--- ARM ----\n",
      "2023-06-13\n",
      "Total Return:  1.357821781280683\n",
      "UNABLE TO FIND:--- ARM ----\n",
      "2023-06-14\n",
      "Total Return:  1.3597527779488452\n",
      "UNABLE TO FIND:--- ARM ----\n"
     ]
    },
    {
     "name": "stderr",
     "output_type": "stream",
     "text": [
      "/Users/atulkrishnan/Desktop/TradingAlgos/Stock_Picker_Algo/Trade_Functions.py:117: RuntimeWarning: divide by zero encountered in scalar divide\n",
      "  return d/c\n"
     ]
    },
    {
     "name": "stdout",
     "output_type": "stream",
     "text": [
      "2023-06-15\n",
      "Total Return:  1.3982452984923655\n",
      "UNABLE TO FIND:--- ARM ----\n",
      "2023-06-16\n",
      "Total Return:  1.2651889901469129\n",
      "UNABLE TO FIND:--- ARM ----\n",
      "2023-06-20\n",
      "Total Return:  1.1254917104754198\n",
      "UNABLE TO FIND:--- ARM ----\n"
     ]
    },
    {
     "name": "stderr",
     "output_type": "stream",
     "text": [
      "/Users/atulkrishnan/Desktop/TradingAlgos/Stock_Picker_Algo/Trade_Functions.py:117: RuntimeWarning: divide by zero encountered in scalar divide\n",
      "  return d/c\n"
     ]
    },
    {
     "name": "stdout",
     "output_type": "stream",
     "text": [
      "2023-06-21\n",
      "Total Return:  1.092064085772243\n",
      "UNABLE TO FIND:--- ARM ----\n",
      "2023-06-22\n",
      "Total Return:  1.0745963289725775\n",
      "UNABLE TO FIND:--- ARM ----\n",
      "2023-06-23\n",
      "Total Return:  1.0557074465426581\n",
      "UNABLE TO FIND:--- ARM ----\n"
     ]
    },
    {
     "name": "stderr",
     "output_type": "stream",
     "text": [
      "/Users/atulkrishnan/Desktop/TradingAlgos/Stock_Picker_Algo/Trade_Functions.py:117: RuntimeWarning: divide by zero encountered in scalar divide\n",
      "  return d/c\n"
     ]
    },
    {
     "name": "stdout",
     "output_type": "stream",
     "text": [
      "2023-06-26\n",
      "Total Return:  1.069288318893588\n",
      "UNABLE TO FIND:--- ARM ----\n",
      "2023-06-27\n",
      "Total Return:  1.0745258707852405\n",
      "UNABLE TO FIND:--- ARM ----\n",
      "2023-06-28\n",
      "Total Return:  1.1025556653069988\n",
      "UNABLE TO FIND:--- ARM ----\n",
      "2023-06-29\n",
      "Total Return:  1.0918117792541857\n",
      "UNABLE TO FIND:--- ARM ----\n",
      "2023-06-30\n",
      "Total Return:  1.0647676818138614\n",
      "UNABLE TO FIND:--- ARM ----\n",
      "2023-07-03\n",
      "Total Return:  1.0465543513271338\n",
      "UNABLE TO FIND:--- ARM ----\n"
     ]
    },
    {
     "name": "stderr",
     "output_type": "stream",
     "text": [
      "/Users/atulkrishnan/Desktop/TradingAlgos/Stock_Picker_Algo/Trade_Functions.py:117: RuntimeWarning: divide by zero encountered in scalar divide\n",
      "  return d/c\n",
      "/Users/atulkrishnan/Desktop/TradingAlgos/Stock_Picker_Algo/Trade_Functions.py:117: RuntimeWarning: divide by zero encountered in scalar divide\n",
      "  return d/c\n"
     ]
    },
    {
     "name": "stdout",
     "output_type": "stream",
     "text": [
      "2023-07-05\n",
      "Total Return:  1.0300763769636598\n",
      "UNABLE TO FIND:--- ARM ----\n",
      "2023-07-06\n",
      "Total Return:  0.9986654700326695\n",
      "UNABLE TO FIND:--- ARM ----\n",
      "2023-07-07\n",
      "Total Return:  0.967675799235361\n",
      "UNABLE TO FIND:--- ARM ----\n",
      "2023-07-10\n",
      "Total Return:  1.0217474084852807\n",
      "UNABLE TO FIND:--- ARM ----\n",
      "2023-07-11\n",
      "Total Return:  1.0918516928263835\n",
      "UNABLE TO FIND:--- ARM ----\n",
      "2023-07-12\n",
      "Total Return:  1.1811431993727068\n",
      "UNABLE TO FIND:--- ARM ----\n",
      "2023-07-13\n",
      "Total Return:  1.2228068664453924\n",
      "UNABLE TO FIND:--- ARM ----\n",
      "2023-07-14\n",
      "Total Return:  1.158214971233132\n",
      "UNABLE TO FIND:--- ARM ----\n",
      "2023-07-17\n",
      "Total Return:  1.1657392725349027\n",
      "UNABLE TO FIND:--- ARM ----\n",
      "2023-07-18\n",
      "Total Return:  1.0883671982301573\n",
      "UNABLE TO FIND:--- ARM ----\n",
      "2023-07-19\n",
      "Total Return:  1.0183287235108547\n",
      "UNABLE TO FIND:--- ARM ----\n",
      "2023-07-20\n",
      "Total Return:  0.9546751375148891\n",
      "UNABLE TO FIND:--- ARM ----\n"
     ]
    },
    {
     "name": "stderr",
     "output_type": "stream",
     "text": [
      "/Users/atulkrishnan/Desktop/TradingAlgos/Stock_Picker_Algo/Trade_Functions.py:117: RuntimeWarning: divide by zero encountered in scalar divide\n",
      "  return d/c\n"
     ]
    },
    {
     "name": "stdout",
     "output_type": "stream",
     "text": [
      "2023-07-21\n",
      "Total Return:  0.9529878493141882\n",
      "UNABLE TO FIND:--- ARM ----\n",
      "2023-07-24\n",
      "Total Return:  0.9180223684025758\n",
      "UNABLE TO FIND:--- ARM ----\n",
      "2023-07-25\n",
      "Total Return:  0.9178316248820886\n",
      "UNABLE TO FIND:--- ARM ----\n",
      "2023-07-26\n",
      "Total Return:  0.9969396079871374\n",
      "UNABLE TO FIND:--- ARM ----\n",
      "2023-07-27\n",
      "Total Return:  1.05124577323724\n",
      "UNABLE TO FIND:--- ARM ----\n",
      "2023-07-28\n",
      "Total Return:  1.0595486599507793\n",
      "UNABLE TO FIND:--- ARM ----\n"
     ]
    },
    {
     "name": "stderr",
     "output_type": "stream",
     "text": [
      "/Users/atulkrishnan/Desktop/TradingAlgos/Stock_Picker_Algo/Trade_Functions.py:117: RuntimeWarning: divide by zero encountered in scalar divide\n",
      "  return d/c\n"
     ]
    },
    {
     "name": "stdout",
     "output_type": "stream",
     "text": [
      "2023-07-31\n",
      "Total Return:  0.9987958083778106\n",
      "UNABLE TO FIND:--- ARM ----\n",
      "2023-08-01\n",
      "Total Return:  1.0084476378675356\n",
      "UNABLE TO FIND:--- ARM ----\n",
      "2023-08-02\n",
      "Total Return:  0.9921997501926355\n",
      "UNABLE TO FIND:--- ARM ----\n",
      "2023-08-03\n",
      "Total Return:  1.010496621576947\n",
      "UNABLE TO FIND:--- ARM ----\n",
      "2023-08-04\n",
      "Total Return:  1.0158805830530495\n",
      "UNABLE TO FIND:--- ARM ----\n",
      "2023-08-07\n",
      "Total Return:  0.9892388790890708\n",
      "UNABLE TO FIND:--- ARM ----\n"
     ]
    },
    {
     "name": "stderr",
     "output_type": "stream",
     "text": [
      "/Users/atulkrishnan/Desktop/TradingAlgos/Stock_Picker_Algo/Trade_Functions.py:117: RuntimeWarning: divide by zero encountered in scalar divide\n",
      "  return d/c\n",
      "/Users/atulkrishnan/Desktop/TradingAlgos/Stock_Picker_Algo/Trade_Functions.py:117: RuntimeWarning: divide by zero encountered in scalar divide\n",
      "  return d/c\n"
     ]
    },
    {
     "name": "stdout",
     "output_type": "stream",
     "text": [
      "2023-08-08\n",
      "Total Return:  0.9767869002252418\n",
      "UNABLE TO FIND:--- ARM ----\n",
      "2023-08-09\n",
      "Total Return:  0.9865201810954596\n",
      "UNABLE TO FIND:--- ARM ----\n",
      "2023-08-10\n",
      "Total Return:  1.0153233103865977\n",
      "UNABLE TO FIND:--- ARM ----\n"
     ]
    },
    {
     "name": "stderr",
     "output_type": "stream",
     "text": [
      "/Users/atulkrishnan/Desktop/TradingAlgos/Stock_Picker_Algo/Trade_Functions.py:117: RuntimeWarning: divide by zero encountered in scalar divide\n",
      "  return d/c\n",
      "/Users/atulkrishnan/Desktop/TradingAlgos/Stock_Picker_Algo/Trade_Functions.py:117: RuntimeWarning: divide by zero encountered in scalar divide\n",
      "  return d/c\n"
     ]
    },
    {
     "name": "stdout",
     "output_type": "stream",
     "text": [
      "2023-08-11\n",
      "Total Return:  1.00219458357585\n",
      "UNABLE TO FIND:--- ARM ----\n",
      "2023-08-14\n",
      "Total Return:  1.0128960273525582\n",
      "UNABLE TO FIND:--- ARM ----\n",
      "2023-08-15\n",
      "Total Return:  1.0032130593896629\n",
      "UNABLE TO FIND:--- ARM ----\n",
      "2023-08-16\n",
      "Total Return:  0.926425909112766\n",
      "UNABLE TO FIND:--- ARM ----\n",
      "2023-08-17\n",
      "Total Return:  0.9741617837064296\n",
      "UNABLE TO FIND:--- ARM ----\n",
      "2023-08-18\n",
      "Total Return:  1.0692782060945443\n",
      "UNABLE TO FIND:--- ARM ----\n",
      "2023-08-21\n",
      "Total Return:  1.1322900560335598\n",
      "UNABLE TO FIND:--- ARM ----\n",
      "2023-08-22\n",
      "Total Return:  1.133799791465938\n",
      "UNABLE TO FIND:--- ARM ----\n",
      "2023-08-23\n",
      "Total Return:  1.0815256090459837\n",
      "UNABLE TO FIND:--- ARM ----\n",
      "2023-08-24\n",
      "Total Return:  1.071174295059083\n",
      "UNABLE TO FIND:--- ARM ----\n",
      "2023-08-25\n",
      "Total Return:  1.0907112427582952\n",
      "UNABLE TO FIND:--- ARM ----\n",
      "2023-08-28\n",
      "Total Return:  1.1550981510940104\n",
      "UNABLE TO FIND:--- ARM ----\n"
     ]
    },
    {
     "name": "stderr",
     "output_type": "stream",
     "text": [
      "/Users/atulkrishnan/Desktop/TradingAlgos/Stock_Picker_Algo/Trade_Functions.py:117: RuntimeWarning: divide by zero encountered in scalar divide\n",
      "  return d/c\n"
     ]
    },
    {
     "name": "stdout",
     "output_type": "stream",
     "text": [
      "2023-08-29\n",
      "Total Return:  1.1813939468841865\n",
      "UNABLE TO FIND:--- ARM ----\n",
      "2023-08-30\n",
      "Total Return:  1.290053775024676\n",
      "UNABLE TO FIND:--- ARM ----\n",
      "2023-08-31\n",
      "Total Return:  1.3303350138209022\n",
      "UNABLE TO FIND:--- ARM ----\n",
      "2023-09-01\n",
      "Total Return:  1.3514872918223315\n",
      "UNABLE TO FIND:--- ARM ----\n",
      "2023-09-05\n",
      "Total Return:  1.3144788652064345\n",
      "UNABLE TO FIND:--- ARM ----\n",
      "2023-09-06\n",
      "Total Return:  1.2532241019501609\n",
      "UNABLE TO FIND:--- ARM ----\n",
      "2023-09-07\n",
      "Total Return:  1.313369708802832\n",
      "UNABLE TO FIND:--- ARM ----\n",
      "2023-09-08\n",
      "Total Return:  1.338654779394847\n",
      "UNABLE TO FIND:--- ARM ----\n",
      "2023-09-11\n",
      "Total Return:  1.3248763498874596\n",
      "UNABLE TO FIND:--- ARM ----\n",
      "2023-09-12\n",
      "Total Return:  1.350712312577003\n",
      "UNABLE TO FIND:--- ARM ----\n",
      "2023-09-13\n",
      "Total Return:  1.3074895597950076\n",
      "UNABLE TO FIND:--- ARM ----\n",
      "2023-09-14\n",
      "Total Return:  1.2783827932449057\n",
      "UNABLE TO FIND:--- ARM ----\n"
     ]
    },
    {
     "name": "stderr",
     "output_type": "stream",
     "text": [
      "/Users/atulkrishnan/Desktop/TradingAlgos/Stock_Picker_Algo/Trade_Functions.py:117: RuntimeWarning: divide by zero encountered in scalar divide\n",
      "  return d/c\n",
      "/Users/atulkrishnan/Desktop/TradingAlgos/Stock_Picker_Algo/Trade_Functions.py:117: RuntimeWarning: divide by zero encountered in scalar divide\n",
      "  return d/c\n",
      "/Users/atulkrishnan/Desktop/TradingAlgos/Stock_Picker_Algo/Trade_Functions.py:117: RuntimeWarning: divide by zero encountered in scalar divide\n",
      "  return d/c\n"
     ]
    },
    {
     "name": "stdout",
     "output_type": "stream",
     "text": [
      "2023-09-15\n",
      "Total Return:  1.2274870451584943\n",
      "UNABLE TO FIND:--- ARM ----\n",
      "2023-09-18\n",
      "Total Return:  1.1886923378811618\n",
      "UNABLE TO FIND:--- ARM ----\n",
      "2023-09-19\n",
      "Total Return:  1.1802660109603522\n",
      "UNABLE TO FIND:--- ARM ----\n",
      "2023-09-20\n",
      "Total Return:  1.1504458618011548\n",
      "UNABLE TO FIND:--- ARM ----\n",
      "2023-09-21\n",
      "Total Return:  1.128415325332676\n",
      "2023-09-22\n",
      "Total Return:  1.1341908078608403\n",
      "2023-09-25\n",
      "Total Return:  1.0955099709745169\n",
      "2023-09-26\n",
      "Total Return:  1.0710452612780523\n",
      "2023-09-27\n",
      "Total Return:  1.0565358308671853\n",
      "2023-09-28\n",
      "Total Return:  1.190338692793456\n",
      "2023-09-29\n",
      "Total Return:  1.1727883826205954\n",
      "2023-10-02\n",
      "Total Return:  1.1958177208145937\n"
     ]
    },
    {
     "name": "stderr",
     "output_type": "stream",
     "text": [
      "/Users/atulkrishnan/Desktop/TradingAlgos/Stock_Picker_Algo/Trade_Functions.py:117: RuntimeWarning: invalid value encountered in scalar divide\n",
      "  return d/c\n",
      "/Users/atulkrishnan/Desktop/TradingAlgos/Stock_Picker_Algo/Trade_Functions.py:117: RuntimeWarning: divide by zero encountered in scalar divide\n",
      "  return d/c\n"
     ]
    },
    {
     "name": "stdout",
     "output_type": "stream",
     "text": [
      "2023-10-03\n",
      "Total Return:  1.2001576549243473\n",
      "2023-10-04\n",
      "Total Return:  1.2690259198348803\n",
      "2023-10-05\n",
      "Total Return:  1.3159932585162486\n",
      "2023-10-06\n",
      "Total Return:  1.4357846774611596\n",
      "2023-10-09\n",
      "Total Return:  1.4851688146897142\n",
      "2023-10-10\n",
      "Total Return:  1.4627297710156297\n"
     ]
    },
    {
     "name": "stderr",
     "output_type": "stream",
     "text": [
      "/Users/atulkrishnan/Desktop/TradingAlgos/Stock_Picker_Algo/Trade_Functions.py:117: RuntimeWarning: divide by zero encountered in scalar divide\n",
      "  return d/c\n",
      "/Users/atulkrishnan/Desktop/TradingAlgos/Stock_Picker_Algo/Trade_Functions.py:117: RuntimeWarning: divide by zero encountered in scalar divide\n",
      "  return d/c\n"
     ]
    },
    {
     "name": "stdout",
     "output_type": "stream",
     "text": [
      "2023-10-11\n",
      "Total Return:  1.3409531636289762\n",
      "2023-10-12\n",
      "Total Return:  1.3370347260161988\n",
      "2023-10-13\n",
      "Total Return:  1.3340407393236597\n"
     ]
    },
    {
     "name": "stderr",
     "output_type": "stream",
     "text": [
      "/Users/atulkrishnan/Desktop/TradingAlgos/Stock_Picker_Algo/Trade_Functions.py:117: RuntimeWarning: divide by zero encountered in scalar divide\n",
      "  return d/c\n",
      "/Users/atulkrishnan/Desktop/TradingAlgos/Stock_Picker_Algo/Trade_Functions.py:117: RuntimeWarning: divide by zero encountered in scalar divide\n",
      "  return d/c\n"
     ]
    },
    {
     "name": "stdout",
     "output_type": "stream",
     "text": [
      "2023-10-16\n",
      "Total Return:  1.3499297430619932\n",
      "2023-10-17\n",
      "Total Return:  1.2887437787938747\n",
      "2023-10-18\n",
      "Total Return:  1.2380723886294411\n"
     ]
    },
    {
     "name": "stderr",
     "output_type": "stream",
     "text": [
      "/Users/atulkrishnan/Desktop/TradingAlgos/Stock_Picker_Algo/Trade_Functions.py:117: RuntimeWarning: divide by zero encountered in scalar divide\n",
      "  return d/c\n"
     ]
    },
    {
     "name": "stdout",
     "output_type": "stream",
     "text": [
      "2023-10-19\n",
      "Total Return:  1.2242318149263758\n",
      "2023-10-20\n",
      "Total Return:  1.2289283826586146\n",
      "2023-10-23\n",
      "Total Return:  1.2088642239307084\n"
     ]
    },
    {
     "name": "stderr",
     "output_type": "stream",
     "text": [
      "/Users/atulkrishnan/Desktop/TradingAlgos/Stock_Picker_Algo/Trade_Functions.py:117: RuntimeWarning: divide by zero encountered in scalar divide\n",
      "  return d/c\n",
      "/Users/atulkrishnan/Desktop/TradingAlgos/Stock_Picker_Algo/Trade_Functions.py:117: RuntimeWarning: divide by zero encountered in scalar divide\n",
      "  return d/c\n"
     ]
    },
    {
     "name": "stdout",
     "output_type": "stream",
     "text": [
      "2023-10-24\n",
      "Total Return:  1.1907466509859828\n",
      "2023-10-25\n",
      "Total Return:  1.138797117265514\n",
      "2023-10-26\n",
      "Total Return:  1.135087966834663\n",
      "2023-10-27\n",
      "Total Return:  1.172189886406336\n",
      "2023-10-30\n",
      "Total Return:  1.1008531664716856\n",
      "2023-10-31\n",
      "Total Return:  1.126030139320994\n",
      "2023-11-01\n",
      "Total Return:  1.1476132800701822\n",
      "2023-11-02\n",
      "Total Return:  1.1589122600370179\n",
      "2023-11-03\n",
      "Total Return:  1.1702315697068868\n",
      "2023-11-06\n",
      "Total Return:  1.1046915110171185\n",
      "2023-11-07\n",
      "Total Return:  1.0433471740533704\n",
      "2023-11-08\n",
      "Total Return:  1.0633524034193442\n",
      "2023-11-09\n",
      "Total Return:  1.1031395204799175\n",
      "2023-11-10\n",
      "Total Return:  1.2044493606149058\n",
      "2023-11-13\n",
      "Total Return:  1.273697397692112\n",
      "2023-11-14\n",
      "Total Return:  1.3039297148851758\n",
      "2023-11-15\n",
      "Total Return:  1.2758130393708542\n",
      "2023-11-16\n",
      "Total Return:  1.3000219924501373\n",
      "2023-11-17\n",
      "Total Return:  1.3221384096666475\n",
      "2023-11-20\n",
      "Total Return:  1.3188164353384675\n",
      "2023-11-21\n",
      "Total Return:  1.260021031585379\n"
     ]
    },
    {
     "name": "stderr",
     "output_type": "stream",
     "text": [
      "/Users/atulkrishnan/Desktop/TradingAlgos/Stock_Picker_Algo/Trade_Functions.py:117: RuntimeWarning: divide by zero encountered in scalar divide\n",
      "  return d/c\n",
      "/Users/atulkrishnan/Desktop/TradingAlgos/Stock_Picker_Algo/Trade_Functions.py:117: RuntimeWarning: divide by zero encountered in scalar divide\n",
      "  return d/c\n"
     ]
    },
    {
     "name": "stdout",
     "output_type": "stream",
     "text": [
      "2023-11-22\n",
      "Total Return:  1.2614519854487691\n",
      "2023-11-24\n",
      "Total Return:  1.2700667419382148\n",
      "2023-11-27\n",
      "Total Return:  1.2531459446355273\n",
      "2023-11-28\n",
      "Total Return:  1.266740226853973\n",
      "2023-11-29\n",
      "Total Return:  1.3265524549297003\n",
      "2023-11-30\n",
      "Total Return:  1.3301845430993986\n"
     ]
    },
    {
     "name": "stderr",
     "output_type": "stream",
     "text": [
      "/Users/atulkrishnan/Desktop/TradingAlgos/Stock_Picker_Algo/Trade_Functions.py:117: RuntimeWarning: divide by zero encountered in scalar divide\n",
      "  return d/c\n"
     ]
    },
    {
     "name": "stdout",
     "output_type": "stream",
     "text": [
      "2023-12-01\n",
      "Total Return:  1.3314839082587404\n",
      "2023-12-04\n",
      "Total Return:  1.3375125524173281\n",
      "2023-12-05\n",
      "Total Return:  1.3532354106667335\n"
     ]
    },
    {
     "name": "stderr",
     "output_type": "stream",
     "text": [
      "/Users/atulkrishnan/Desktop/TradingAlgos/Stock_Picker_Algo/Trade_Functions.py:117: RuntimeWarning: divide by zero encountered in scalar divide\n",
      "  return d/c\n"
     ]
    },
    {
     "name": "stdout",
     "output_type": "stream",
     "text": [
      "2023-12-06\n",
      "Total Return:  1.3485785294186652\n",
      "2023-12-07\n",
      "Total Return:  1.40097830253705\n",
      "2023-12-08\n",
      "Total Return:  1.4180957677947654\n"
     ]
    },
    {
     "name": "stderr",
     "output_type": "stream",
     "text": [
      "/Users/atulkrishnan/Desktop/TradingAlgos/Stock_Picker_Algo/Trade_Functions.py:117: RuntimeWarning: divide by zero encountered in scalar divide\n",
      "  return d/c\n"
     ]
    },
    {
     "name": "stdout",
     "output_type": "stream",
     "text": [
      "2023-12-11\n",
      "Total Return:  1.4873745421948512\n",
      "2023-12-12\n",
      "Total Return:  1.552043000551149\n",
      "2023-12-13\n",
      "Total Return:  1.6417649758270545\n"
     ]
    },
    {
     "name": "stderr",
     "output_type": "stream",
     "text": [
      "/Users/atulkrishnan/Desktop/TradingAlgos/Stock_Picker_Algo/Trade_Functions.py:117: RuntimeWarning: divide by zero encountered in scalar divide\n",
      "  return d/c\n",
      "/Users/atulkrishnan/Desktop/TradingAlgos/Stock_Picker_Algo/Trade_Functions.py:117: RuntimeWarning: divide by zero encountered in scalar divide\n",
      "  return d/c\n"
     ]
    },
    {
     "name": "stdout",
     "output_type": "stream",
     "text": [
      "2023-12-14\n",
      "Total Return:  1.7241703173301457\n",
      "2023-12-15\n",
      "Total Return:  1.7940048177001042\n",
      "2023-12-18\n",
      "Total Return:  1.7773260823234827\n"
     ]
    },
    {
     "name": "stderr",
     "output_type": "stream",
     "text": [
      "/Users/atulkrishnan/Desktop/TradingAlgos/Stock_Picker_Algo/Trade_Functions.py:117: RuntimeWarning: divide by zero encountered in scalar divide\n",
      "  return d/c\n",
      "/Users/atulkrishnan/Desktop/TradingAlgos/Stock_Picker_Algo/Trade_Functions.py:117: RuntimeWarning: divide by zero encountered in scalar divide\n",
      "  return d/c\n"
     ]
    },
    {
     "name": "stdout",
     "output_type": "stream",
     "text": [
      "2023-12-19\n",
      "Total Return:  1.7162763006464505\n",
      "2023-12-20\n",
      "Total Return:  1.5759866962688047\n",
      "2023-12-21\n",
      "Total Return:  1.5014571979270224\n",
      "2023-12-22\n",
      "Total Return:  1.4748199125611972\n",
      "2023-12-26\n",
      "Total Return:  1.4895149159278767\n",
      "2023-12-27\n",
      "Total Return:  1.4950355899484638\n"
     ]
    },
    {
     "name": "stderr",
     "output_type": "stream",
     "text": [
      "/Users/atulkrishnan/Desktop/TradingAlgos/Stock_Picker_Algo/Trade_Functions.py:117: RuntimeWarning: divide by zero encountered in scalar divide\n",
      "  return d/c\n"
     ]
    },
    {
     "name": "stdout",
     "output_type": "stream",
     "text": [
      "2023-12-28\n",
      "Total Return:  1.46910766670854\n",
      "2023-12-29\n",
      "Total Return:  1.4014874002775293\n",
      "2024-01-02\n",
      "Total Return:  1.344303024587134\n"
     ]
    },
    {
     "name": "stderr",
     "output_type": "stream",
     "text": [
      "/Users/atulkrishnan/Desktop/TradingAlgos/Stock_Picker_Algo/Trade_Functions.py:117: RuntimeWarning: divide by zero encountered in scalar divide\n",
      "  return d/c\n",
      "/Users/atulkrishnan/Desktop/TradingAlgos/Stock_Picker_Algo/Trade_Functions.py:117: RuntimeWarning: divide by zero encountered in scalar divide\n",
      "  return d/c\n"
     ]
    },
    {
     "name": "stdout",
     "output_type": "stream",
     "text": [
      "2024-01-03\n",
      "Total Return:  1.3276948977699632\n",
      "2024-01-04\n",
      "Total Return:  1.4060095334047038\n",
      "2024-01-05\n",
      "Total Return:  1.4374513839198215\n"
     ]
    },
    {
     "name": "stderr",
     "output_type": "stream",
     "text": [
      "/Users/atulkrishnan/Desktop/TradingAlgos/Stock_Picker_Algo/Trade_Functions.py:117: RuntimeWarning: divide by zero encountered in scalar divide\n",
      "  return d/c\n",
      "/Users/atulkrishnan/Desktop/TradingAlgos/Stock_Picker_Algo/Trade_Functions.py:117: RuntimeWarning: divide by zero encountered in scalar divide\n",
      "  return d/c\n"
     ]
    },
    {
     "name": "stdout",
     "output_type": "stream",
     "text": [
      "2024-01-08\n",
      "Total Return:  1.4115315819931515\n",
      "2024-01-09\n",
      "Total Return:  1.3237137017040337\n",
      "2024-01-10\n",
      "Total Return:  1.2953320796385228\n",
      "2024-01-11\n",
      "Total Return:  1.225727303713743\n",
      "2024-01-12\n",
      "Total Return:  1.128883695923262\n",
      "2024-01-16\n",
      "Total Return:  1.032387387886535\n"
     ]
    },
    {
     "name": "stderr",
     "output_type": "stream",
     "text": [
      "/Users/atulkrishnan/Desktop/TradingAlgos/Stock_Picker_Algo/Trade_Functions.py:117: RuntimeWarning: divide by zero encountered in scalar divide\n",
      "  return d/c\n",
      "/Users/atulkrishnan/Desktop/TradingAlgos/Stock_Picker_Algo/Trade_Functions.py:117: RuntimeWarning: divide by zero encountered in scalar divide\n",
      "  return d/c\n",
      "/Users/atulkrishnan/Desktop/TradingAlgos/Stock_Picker_Algo/Trade_Functions.py:117: RuntimeWarning: divide by zero encountered in scalar divide\n",
      "  return d/c\n"
     ]
    },
    {
     "name": "stdout",
     "output_type": "stream",
     "text": [
      "2024-01-17\n",
      "Total Return:  1.0548753472773729\n",
      "2024-01-18\n",
      "Total Return:  1.0838490335566782\n",
      "2024-01-19\n",
      "Total Return:  1.1009761694035964\n",
      "2024-01-22\n",
      "Total Return:  1.134366199670316\n",
      "2024-01-23\n",
      "Total Return:  1.2373437635036888\n",
      "2024-01-24\n",
      "Total Return:  1.2448525041033256\n"
     ]
    },
    {
     "name": "stderr",
     "output_type": "stream",
     "text": [
      "/Users/atulkrishnan/Desktop/TradingAlgos/Stock_Picker_Algo/Trade_Functions.py:117: RuntimeWarning: divide by zero encountered in scalar divide\n",
      "  return d/c\n"
     ]
    },
    {
     "name": "stdout",
     "output_type": "stream",
     "text": [
      "2024-01-25\n",
      "Total Return:  1.2959947420416116\n",
      "2024-01-26\n",
      "Total Return:  1.4232636423145653\n",
      "2024-01-29\n",
      "Total Return:  1.4052284356783333\n",
      "2024-01-30\n",
      "Total Return:  1.405699063948208\n",
      "2024-01-31\n",
      "Total Return:  1.4101696268756871\n",
      "2024-02-01\n",
      "Total Return:  1.7322889056990713\n",
      "2024-02-02\n",
      "Total Return:  1.9926935089426878\n",
      "2024-02-05\n",
      "Total Return:  2.309292260861225\n",
      "2024-02-06\n",
      "Total Return:  2.395075773348039\n"
     ]
    },
    {
     "name": "stderr",
     "output_type": "stream",
     "text": [
      "/Users/atulkrishnan/Desktop/TradingAlgos/Stock_Picker_Algo/Trade_Functions.py:117: RuntimeWarning: invalid value encountered in scalar divide\n",
      "  return d/c\n",
      "/Users/atulkrishnan/Desktop/TradingAlgos/Stock_Picker_Algo/Trade_Functions.py:117: RuntimeWarning: divide by zero encountered in scalar divide\n",
      "  return d/c\n"
     ]
    },
    {
     "name": "stdout",
     "output_type": "stream",
     "text": [
      "2024-02-07\n",
      "Total Return:  2.6267416713653318\n",
      "2024-02-08\n",
      "Total Return:  3.0271598695883175\n",
      "2024-02-09\n",
      "Total Return:  3.426725715968081\n"
     ]
    },
    {
     "name": "stderr",
     "output_type": "stream",
     "text": [
      "/Users/atulkrishnan/Desktop/TradingAlgos/Stock_Picker_Algo/Trade_Functions.py:117: RuntimeWarning: divide by zero encountered in scalar divide\n",
      "  return d/c\n"
     ]
    },
    {
     "name": "stdout",
     "output_type": "stream",
     "text": [
      "2024-02-12\n",
      "Total Return:  3.6046781168975404\n",
      "2024-02-13\n",
      "Total Return:  3.761109605293515\n",
      "2024-02-14\n",
      "Total Return:  3.607359702389997\n",
      "2024-02-15\n",
      "Total Return:  3.3531922049646026\n",
      "2024-02-16\n",
      "Total Return:  2.3546753162314644\n",
      "2024-02-20\n",
      "Total Return:  2.2966404334022803\n"
     ]
    },
    {
     "name": "stderr",
     "output_type": "stream",
     "text": [
      "/Users/atulkrishnan/Desktop/TradingAlgos/Stock_Picker_Algo/Trade_Functions.py:117: RuntimeWarning: divide by zero encountered in scalar divide\n",
      "  return d/c\n",
      "/Users/atulkrishnan/Desktop/TradingAlgos/Stock_Picker_Algo/Trade_Functions.py:117: RuntimeWarning: divide by zero encountered in scalar divide\n",
      "  return d/c\n"
     ]
    },
    {
     "name": "stdout",
     "output_type": "stream",
     "text": [
      "2024-02-21\n",
      "Total Return:  2.302861360406353\n",
      "2024-02-22\n",
      "Total Return:  2.2637505017621646\n",
      "2024-02-23\n",
      "Total Return:  2.186473842343336\n",
      "2024-02-26\n",
      "Total Return:  2.1305913290322174\n",
      "2024-02-27\n",
      "Total Return:  2.0737627360936157\n",
      "2024-02-28\n",
      "Total Return:  2.224374989926981\n"
     ]
    },
    {
     "name": "stderr",
     "output_type": "stream",
     "text": [
      "/Users/atulkrishnan/Desktop/TradingAlgos/Stock_Picker_Algo/Trade_Functions.py:117: RuntimeWarning: divide by zero encountered in scalar divide\n",
      "  return d/c\n",
      "/Users/atulkrishnan/Desktop/TradingAlgos/Stock_Picker_Algo/Trade_Functions.py:117: RuntimeWarning: divide by zero encountered in scalar divide\n",
      "  return d/c\n",
      "/Users/atulkrishnan/Desktop/TradingAlgos/Stock_Picker_Algo/Trade_Functions.py:117: RuntimeWarning: divide by zero encountered in scalar divide\n",
      "  return d/c\n"
     ]
    },
    {
     "name": "stdout",
     "output_type": "stream",
     "text": [
      "2024-02-29\n",
      "Total Return:  2.286878043262654\n",
      "2024-03-01\n",
      "Total Return:  2.420087749798157\n",
      "2024-03-04\n",
      "Total Return:  2.5183127079170036\n",
      "2024-03-05\n",
      "Total Return:  2.5494030230279945\n",
      "2024-03-06\n",
      "Total Return:  2.5097969340975226\n",
      "2024-03-07\n",
      "Total Return:  2.3928798329943244\n",
      "2024-03-08\n",
      "Total Return:  2.296138109628606\n",
      "2024-03-11\n",
      "Total Return:  2.479411722658276\n",
      "2024-03-12\n",
      "Total Return:  2.2903565585380004\n",
      "2024-03-13\n",
      "Total Return:  2.153885035335063\n",
      "2024-03-14\n",
      "Total Return:  2.11573449855446\n",
      "2024-03-15\n",
      "Total Return:  2.1295915407703716\n"
     ]
    },
    {
     "name": "stderr",
     "output_type": "stream",
     "text": [
      "/Users/atulkrishnan/Desktop/TradingAlgos/Stock_Picker_Algo/Trade_Functions.py:117: RuntimeWarning: divide by zero encountered in scalar divide\n",
      "  return d/c\n"
     ]
    },
    {
     "name": "stdout",
     "output_type": "stream",
     "text": [
      "2024-03-18\n",
      "Total Return:  2.233873889239853\n",
      "2024-03-19\n",
      "Total Return:  2.131067004483436\n",
      "2024-03-20\n",
      "Total Return:  1.7819017802331005\n",
      "2024-03-21\n",
      "Total Return:  1.755519476536585\n",
      "2024-03-22\n",
      "Total Return:  1.907929044259413\n",
      "2024-03-25\n",
      "Total Return:  2.063865592678044\n"
     ]
    },
    {
     "name": "stderr",
     "output_type": "stream",
     "text": [
      "/Users/atulkrishnan/Desktop/TradingAlgos/Stock_Picker_Algo/Trade_Functions.py:117: RuntimeWarning: divide by zero encountered in scalar divide\n",
      "  return d/c\n",
      "/Users/atulkrishnan/Desktop/TradingAlgos/Stock_Picker_Algo/Trade_Functions.py:117: RuntimeWarning: divide by zero encountered in scalar divide\n",
      "  return d/c\n",
      "/Users/atulkrishnan/Desktop/TradingAlgos/Stock_Picker_Algo/Trade_Functions.py:117: RuntimeWarning: divide by zero encountered in scalar divide\n",
      "  return d/c\n"
     ]
    },
    {
     "name": "stdout",
     "output_type": "stream",
     "text": [
      "2024-03-26\n",
      "Total Return:  2.0446143988330334\n",
      "2024-03-27\n",
      "Total Return:  2.13030653406064\n",
      "2024-03-28\n",
      "Total Return:  2.189342948014635\n"
     ]
    },
    {
     "name": "stderr",
     "output_type": "stream",
     "text": [
      "/Users/atulkrishnan/Desktop/TradingAlgos/Stock_Picker_Algo/Trade_Functions.py:117: RuntimeWarning: divide by zero encountered in scalar divide\n",
      "  return d/c\n"
     ]
    },
    {
     "name": "stdout",
     "output_type": "stream",
     "text": [
      "2024-04-01\n",
      "Total Return:  2.351155922181979\n",
      "2024-04-02\n",
      "Total Return:  2.377597033250157\n",
      "2024-04-03\n",
      "Total Return:  2.3610226824388434\n",
      "2024-04-04\n",
      "Total Return:  2.229895129304241\n",
      "2024-04-05\n",
      "Total Return:  2.19816744556151\n",
      "2024-04-08\n",
      "Total Return:  2.1589203399768717\n",
      "2024-04-09\n",
      "Total Return:  2.1627649681653405\n",
      "2024-04-10\n",
      "Total Return:  2.1123372430068375\n",
      "2024-04-11\n",
      "Total Return:  2.039674157006617\n",
      "2024-04-12\n",
      "Total Return:  1.8925262949615351\n",
      "2024-04-15\n",
      "Total Return:  1.7844891217425438\n",
      "2024-04-16\n",
      "Total Return:  1.7355519703933133\n"
     ]
    },
    {
     "name": "stderr",
     "output_type": "stream",
     "text": [
      "/Users/atulkrishnan/Desktop/TradingAlgos/Stock_Picker_Algo/Trade_Functions.py:117: RuntimeWarning: divide by zero encountered in scalar divide\n",
      "  return d/c\n"
     ]
    },
    {
     "name": "stdout",
     "output_type": "stream",
     "text": [
      "2024-04-17\n",
      "Total Return:  1.2485526068861243\n",
      "2024-04-18\n",
      "Total Return:  0.930716098347995\n",
      "2024-04-19\n",
      "Total Return:  0.9249896251707074\n",
      "2024-04-22\n",
      "Total Return:  0.9408452342639458\n",
      "2024-04-23\n",
      "Total Return:  0.9439218812569005\n",
      "2024-04-24\n",
      "Total Return:  0.9510560982055826\n"
     ]
    },
    {
     "name": "stderr",
     "output_type": "stream",
     "text": [
      "/Users/atulkrishnan/Desktop/TradingAlgos/Stock_Picker_Algo/Trade_Functions.py:117: RuntimeWarning: divide by zero encountered in scalar divide\n",
      "  return d/c\n",
      "/Users/atulkrishnan/Desktop/TradingAlgos/Stock_Picker_Algo/Trade_Functions.py:117: RuntimeWarning: divide by zero encountered in scalar divide\n",
      "  return d/c\n"
     ]
    },
    {
     "name": "stdout",
     "output_type": "stream",
     "text": [
      "2024-04-25\n",
      "Total Return:  0.965676001686854\n",
      "2024-04-26\n",
      "Total Return:  1.0482030797313533\n",
      "2024-04-29\n",
      "Total Return:  0.9223937293018097\n",
      "2024-04-30\n",
      "Total Return:  0.8880099151713893\n",
      "2024-05-01\n",
      "Total Return:  0.88405779504339\n",
      "2024-05-02\n",
      "Total Return:  0.8932435350035526\n"
     ]
    },
    {
     "name": "stderr",
     "output_type": "stream",
     "text": [
      "/Users/atulkrishnan/Desktop/TradingAlgos/Stock_Picker_Algo/Trade_Functions.py:117: RuntimeWarning: divide by zero encountered in scalar divide\n",
      "  return d/c\n",
      "/Users/atulkrishnan/Desktop/TradingAlgos/Stock_Picker_Algo/Trade_Functions.py:117: RuntimeWarning: divide by zero encountered in scalar divide\n",
      "  return d/c\n"
     ]
    },
    {
     "name": "stdout",
     "output_type": "stream",
     "text": [
      "2024-05-03\n",
      "Total Return:  0.8651599560822706\n",
      "2024-05-06\n",
      "Total Return:  0.9044454546491034\n",
      "2024-05-07\n",
      "Total Return:  0.9276785002779531\n",
      "2024-05-08\n",
      "Total Return:  0.9438195326953531\n",
      "2024-05-09\n",
      "Total Return:  0.9214820853968375\n",
      "2024-05-10\n",
      "Total Return:  0.9098653657210024\n"
     ]
    },
    {
     "name": "stderr",
     "output_type": "stream",
     "text": [
      "/Users/atulkrishnan/Desktop/TradingAlgos/Stock_Picker_Algo/Trade_Functions.py:117: RuntimeWarning: divide by zero encountered in scalar divide\n",
      "  return d/c\n"
     ]
    },
    {
     "name": "stdout",
     "output_type": "stream",
     "text": [
      "2024-05-13\n",
      "Total Return:  0.9363227308654656\n",
      "2024-05-14\n",
      "Total Return:  0.9237920531405844\n",
      "2024-05-15\n",
      "Total Return:  0.8557567966709895\n"
     ]
    },
    {
     "name": "stderr",
     "output_type": "stream",
     "text": [
      "/Users/atulkrishnan/Desktop/TradingAlgos/Stock_Picker_Algo/Trade_Functions.py:117: RuntimeWarning: divide by zero encountered in scalar divide\n",
      "  return d/c\n"
     ]
    },
    {
     "name": "stdout",
     "output_type": "stream",
     "text": [
      "2024-05-16\n",
      "Total Return:  0.8371783138334112\n",
      "2024-05-17\n",
      "Total Return:  0.8134256857146401\n",
      "2024-05-20\n",
      "Total Return:  0.9990737178951912\n",
      "2024-05-21\n",
      "Total Return:  0.9523004073933752\n",
      "2024-05-22\n",
      "Total Return:  1.1103063557300243\n",
      "2024-05-23\n",
      "Total Return:  1.0631183144340852\n"
     ]
    },
    {
     "name": "stderr",
     "output_type": "stream",
     "text": [
      "/Users/atulkrishnan/Desktop/TradingAlgos/Stock_Picker_Algo/Trade_Functions.py:117: RuntimeWarning: divide by zero encountered in scalar divide\n",
      "  return d/c\n"
     ]
    },
    {
     "name": "stdout",
     "output_type": "stream",
     "text": [
      "2024-05-24\n",
      "Total Return:  0.9607848247586956\n",
      "2024-05-28\n",
      "Total Return:  0.900453470242741\n",
      "2024-05-29\n",
      "Total Return:  0.8732367585233012\n"
     ]
    },
    {
     "name": "stderr",
     "output_type": "stream",
     "text": [
      "/Users/atulkrishnan/Desktop/TradingAlgos/Stock_Picker_Algo/Trade_Functions.py:117: RuntimeWarning: divide by zero encountered in scalar divide\n",
      "  return d/c\n"
     ]
    },
    {
     "name": "stdout",
     "output_type": "stream",
     "text": [
      "2024-05-30\n",
      "Total Return:  0.8759025372320839\n",
      "2024-05-31\n",
      "Total Return:  0.9063940958911104\n",
      "2024-06-03\n",
      "Total Return:  0.9910150354062472\n",
      "2024-06-04\n",
      "Total Return:  1.0710773338331558\n",
      "2024-06-05\n",
      "Total Return:  1.0298697319859955\n",
      "2024-06-06\n",
      "Total Return:  1.068989429117214\n",
      "2024-06-07\n",
      "Total Return:  1.1237863296876835\n",
      "2024-06-10\n",
      "Total Return:  1.2972504816560082\n",
      "2024-06-11\n",
      "Total Return:  1.33186845793438\n"
     ]
    },
    {
     "name": "stderr",
     "output_type": "stream",
     "text": [
      "/Users/atulkrishnan/Desktop/TradingAlgos/Stock_Picker_Algo/Trade_Functions.py:117: RuntimeWarning: divide by zero encountered in scalar divide\n",
      "  return d/c\n"
     ]
    },
    {
     "name": "stdout",
     "output_type": "stream",
     "text": [
      "2024-06-12\n",
      "Total Return:  1.3154355306401173\n",
      "2024-06-13\n",
      "Total Return:  1.3401413758992833\n",
      "2024-06-14\n",
      "Total Return:  1.4320284740497973\n"
     ]
    },
    {
     "name": "stderr",
     "output_type": "stream",
     "text": [
      "/Users/atulkrishnan/Desktop/TradingAlgos/Stock_Picker_Algo/Trade_Functions.py:117: RuntimeWarning: divide by zero encountered in scalar divide\n",
      "  return d/c\n",
      "/Users/atulkrishnan/Desktop/TradingAlgos/Stock_Picker_Algo/Trade_Functions.py:117: RuntimeWarning: divide by zero encountered in scalar divide\n",
      "  return d/c\n",
      "/Users/atulkrishnan/Desktop/TradingAlgos/Stock_Picker_Algo/Trade_Functions.py:117: RuntimeWarning: divide by zero encountered in scalar divide\n",
      "  return d/c\n"
     ]
    },
    {
     "name": "stdout",
     "output_type": "stream",
     "text": [
      "2024-06-17\n",
      "Total Return:  1.3799662328042064\n",
      "2024-06-18\n",
      "Total Return:  1.2442193577031182\n",
      "2024-06-20\n",
      "Total Return:  1.0984765358742001\n"
     ]
    },
    {
     "name": "stderr",
     "output_type": "stream",
     "text": [
      "/Users/atulkrishnan/Desktop/TradingAlgos/Stock_Picker_Algo/Trade_Functions.py:117: RuntimeWarning: divide by zero encountered in scalar divide\n",
      "  return d/c\n"
     ]
    },
    {
     "name": "stdout",
     "output_type": "stream",
     "text": [
      "2024-06-21\n",
      "Total Return:  1.028938424685325\n",
      "2024-06-24\n",
      "Total Return:  1.0222863839873781\n",
      "2024-06-25\n",
      "Total Return:  1.022880636749747\n"
     ]
    },
    {
     "name": "stderr",
     "output_type": "stream",
     "text": [
      "/Users/atulkrishnan/Desktop/TradingAlgos/Stock_Picker_Algo/Trade_Functions.py:117: RuntimeWarning: divide by zero encountered in scalar divide\n",
      "  return d/c\n",
      "/Users/atulkrishnan/Desktop/TradingAlgos/Stock_Picker_Algo/Trade_Functions.py:117: RuntimeWarning: divide by zero encountered in scalar divide\n",
      "  return d/c\n"
     ]
    },
    {
     "name": "stdout",
     "output_type": "stream",
     "text": [
      "2024-06-26\n",
      "Total Return:  1.0325691723300994\n",
      "2024-06-27\n",
      "Total Return:  1.072209315165399\n",
      "2024-06-28\n",
      "Total Return:  1.139422443603924\n",
      "2024-07-01\n",
      "Total Return:  1.1611442895976796\n",
      "2024-07-02\n",
      "Total Return:  1.334236454360205\n",
      "2024-07-03\n",
      "Total Return:  1.4387865600952676\n"
     ]
    },
    {
     "name": "stderr",
     "output_type": "stream",
     "text": [
      "/Users/atulkrishnan/Desktop/TradingAlgos/Stock_Picker_Algo/Trade_Functions.py:117: RuntimeWarning: divide by zero encountered in scalar divide\n",
      "  return d/c\n"
     ]
    },
    {
     "name": "stdout",
     "output_type": "stream",
     "text": [
      "2024-07-05\n",
      "Total Return:  1.5108957314713505\n",
      "2024-07-08\n",
      "Total Return:  1.6057422560302315\n",
      "2024-07-09\n",
      "Total Return:  1.5419603745451478\n"
     ]
    },
    {
     "name": "stderr",
     "output_type": "stream",
     "text": [
      "/Users/atulkrishnan/Desktop/TradingAlgos/Stock_Picker_Algo/Trade_Functions.py:117: RuntimeWarning: divide by zero encountered in scalar divide\n",
      "  return d/c\n",
      "/Users/atulkrishnan/Desktop/TradingAlgos/Stock_Picker_Algo/Trade_Functions.py:117: RuntimeWarning: divide by zero encountered in scalar divide\n",
      "  return d/c\n"
     ]
    },
    {
     "name": "stdout",
     "output_type": "stream",
     "text": [
      "2024-07-10\n",
      "Total Return:  1.4564719747510482\n",
      "2024-07-11\n",
      "Total Return:  1.3838978429009792\n",
      "2024-07-12\n",
      "Total Return:  1.4629877836531158\n"
     ]
    },
    {
     "name": "stderr",
     "output_type": "stream",
     "text": [
      "/Users/atulkrishnan/Desktop/TradingAlgos/Stock_Picker_Algo/Trade_Functions.py:117: RuntimeWarning: divide by zero encountered in scalar divide\n",
      "  return d/c\n"
     ]
    },
    {
     "name": "stdout",
     "output_type": "stream",
     "text": [
      "2024-07-15\n",
      "Total Return:  1.452869065614695\n",
      "2024-07-16\n",
      "Total Return:  1.4396201051781874\n",
      "2024-07-17\n",
      "Total Return:  1.3267495638145388\n",
      "2024-07-18\n",
      "Total Return:  1.294943918639562\n",
      "2024-07-19\n",
      "Total Return:  1.3132254624092297\n",
      "2024-07-22\n",
      "Total Return:  1.2858983246019062\n"
     ]
    },
    {
     "name": "stderr",
     "output_type": "stream",
     "text": [
      "/Users/atulkrishnan/Desktop/TradingAlgos/Stock_Picker_Algo/Trade_Functions.py:117: RuntimeWarning: divide by zero encountered in scalar divide\n",
      "  return d/c\n"
     ]
    },
    {
     "name": "stdout",
     "output_type": "stream",
     "text": [
      "2024-07-23\n",
      "Total Return:  1.2101681503222579\n",
      "2024-07-24\n",
      "Total Return:  1.1680021182330351\n",
      "2024-07-25\n",
      "Total Return:  1.1433648617821606\n",
      "2024-07-26\n",
      "Total Return:  1.1921196541556163\n",
      "2024-07-29\n",
      "Total Return:  1.2350531760883288\n",
      "2024-07-30\n",
      "Total Return:  1.232176762675772\n"
     ]
    },
    {
     "name": "stderr",
     "output_type": "stream",
     "text": [
      "/Users/atulkrishnan/Desktop/TradingAlgos/Stock_Picker_Algo/Trade_Functions.py:117: RuntimeWarning: divide by zero encountered in scalar divide\n",
      "  return d/c\n"
     ]
    },
    {
     "name": "stdout",
     "output_type": "stream",
     "text": [
      "2024-07-31\n",
      "Total Return:  1.2013353634431934\n",
      "2024-08-01\n",
      "Total Return:  1.1457348686266862\n",
      "2024-08-02\n",
      "Total Return:  1.0833075979149251\n",
      "2024-08-05\n",
      "Total Return:  1.0858137417653946\n",
      "2024-08-06\n",
      "Total Return:  1.1059362160562793\n",
      "2024-08-07\n",
      "Total Return:  1.1059362160562793\n",
      "2024-08-08\n",
      "Total Return:  1.1160882311290494\n",
      "2024-08-09\n",
      "Total Return:  1.1566938831235214\n",
      "2024-08-12\n",
      "Total Return:  1.206242766910963\n",
      "2024-08-13\n",
      "Total Return:  1.2590759572822037\n",
      "2024-08-14\n",
      "Total Return:  1.3137572442847427\n",
      "2024-08-15\n",
      "Total Return:  1.2883531036781046\n",
      "2024-08-16\n",
      "Total Return:  1.2835231806118175\n",
      "2024-08-19\n",
      "Total Return:  1.262165141031\n",
      "2024-08-20\n",
      "Total Return:  1.2640797834367532\n"
     ]
    },
    {
     "name": "stderr",
     "output_type": "stream",
     "text": [
      "/Users/atulkrishnan/Desktop/TradingAlgos/Stock_Picker_Algo/Trade_Functions.py:117: RuntimeWarning: divide by zero encountered in scalar divide\n",
      "  return d/c\n"
     ]
    },
    {
     "name": "stdout",
     "output_type": "stream",
     "text": [
      "2024-08-21\n",
      "Total Return:  1.2020210742946074\n",
      "2024-08-22\n",
      "Total Return:  1.1348344752157806\n",
      "2024-08-23\n",
      "Total Return:  1.1389431274386754\n",
      "2024-08-26\n",
      "Total Return:  1.1402572391122034\n",
      "2024-08-27\n",
      "Total Return:  1.1506072021172724\n",
      "2024-08-28\n",
      "Total Return:  1.1471637992697425\n",
      "2024-08-29\n",
      "Total Return:  1.1380704861821989\n",
      "2024-08-30\n",
      "Total Return:  1.1215465514489595\n",
      "2024-09-03\n",
      "Total Return:  1.1180367628074868\n"
     ]
    },
    {
     "name": "stderr",
     "output_type": "stream",
     "text": [
      "/Users/atulkrishnan/Desktop/TradingAlgos/Stock_Picker_Algo/Trade_Functions.py:117: RuntimeWarning: divide by zero encountered in scalar divide\n",
      "  return d/c\n"
     ]
    },
    {
     "name": "stdout",
     "output_type": "stream",
     "text": [
      "2024-09-04\n",
      "Total Return:  1.119426737917188\n",
      "2024-09-05\n",
      "Total Return:  1.100532759934624\n",
      "2024-09-06\n",
      "Total Return:  1.0881021486888784\n",
      "2024-09-09\n",
      "Total Return:  1.141182128864462\n",
      "2024-09-10\n",
      "Total Return:  1.1205272049134\n",
      "2024-09-11\n",
      "Total Return:  0.9678632919667493\n"
     ]
    },
    {
     "name": "stderr",
     "output_type": "stream",
     "text": [
      "/Users/atulkrishnan/Desktop/TradingAlgos/Stock_Picker_Algo/Trade_Functions.py:117: RuntimeWarning: divide by zero encountered in scalar divide\n",
      "  return d/c\n"
     ]
    },
    {
     "name": "stdout",
     "output_type": "stream",
     "text": [
      "2024-09-12\n",
      "Total Return:  0.9826310629681962\n",
      "2024-09-13\n",
      "Total Return:  0.9469241623807433\n",
      "2024-09-16\n",
      "Total Return:  0.9161987949996943\n"
     ]
    },
    {
     "name": "stderr",
     "output_type": "stream",
     "text": [
      "/Users/atulkrishnan/Desktop/TradingAlgos/Stock_Picker_Algo/Trade_Functions.py:117: RuntimeWarning: divide by zero encountered in scalar divide\n",
      "  return d/c\n",
      "/Users/atulkrishnan/Desktop/TradingAlgos/Stock_Picker_Algo/Trade_Functions.py:117: RuntimeWarning: divide by zero encountered in scalar divide\n",
      "  return d/c\n"
     ]
    },
    {
     "name": "stdout",
     "output_type": "stream",
     "text": [
      "2024-09-17\n",
      "Total Return:  0.8876666044719425\n",
      "2024-09-18\n",
      "Total Return:  0.8615280111738701\n",
      "2024-09-19\n",
      "Total Return:  0.8155531940896397\n"
     ]
    },
    {
     "name": "stderr",
     "output_type": "stream",
     "text": [
      "/Users/atulkrishnan/Desktop/TradingAlgos/Stock_Picker_Algo/Trade_Functions.py:117: RuntimeWarning: invalid value encountered in scalar divide\n",
      "  return d/c\n",
      "/Users/atulkrishnan/Desktop/TradingAlgos/Stock_Picker_Algo/Trade_Functions.py:117: RuntimeWarning: divide by zero encountered in scalar divide\n",
      "  return d/c\n"
     ]
    },
    {
     "name": "stdout",
     "output_type": "stream",
     "text": [
      "2024-09-20\n",
      "Total Return:  0.8264187848397538\n",
      "2024-09-23\n",
      "Total Return:  0.8369256885518161\n",
      "2024-09-24\n",
      "Total Return:  0.8457863598316613\n"
     ]
    },
    {
     "name": "stderr",
     "output_type": "stream",
     "text": [
      "/Users/atulkrishnan/Desktop/TradingAlgos/Stock_Picker_Algo/Trade_Functions.py:117: RuntimeWarning: divide by zero encountered in scalar divide\n",
      "  return d/c\n",
      "/Users/atulkrishnan/Desktop/TradingAlgos/Stock_Picker_Algo/Trade_Functions.py:117: RuntimeWarning: divide by zero encountered in scalar divide\n",
      "  return d/c\n"
     ]
    },
    {
     "name": "stdout",
     "output_type": "stream",
     "text": [
      "2024-09-25\n",
      "Total Return:  0.8542960713372629\n",
      "2024-09-26\n",
      "Total Return:  0.8419590887660279\n",
      "2024-09-27\n",
      "Total Return:  0.9143458401008191\n",
      "2024-09-30\n",
      "Total Return:  0.9840011655141585\n",
      "2024-10-01\n",
      "Total Return:  1.1188962279111723\n",
      "2024-10-02\n",
      "Total Return:  1.1239963380080868\n"
     ]
    },
    {
     "name": "stderr",
     "output_type": "stream",
     "text": [
      "/Users/atulkrishnan/Desktop/TradingAlgos/Stock_Picker_Algo/Trade_Functions.py:117: RuntimeWarning: divide by zero encountered in scalar divide\n",
      "  return d/c\n",
      "/Users/atulkrishnan/Desktop/TradingAlgos/Stock_Picker_Algo/Trade_Functions.py:117: RuntimeWarning: divide by zero encountered in scalar divide\n",
      "  return d/c\n"
     ]
    },
    {
     "name": "stdout",
     "output_type": "stream",
     "text": [
      "2024-10-03\n",
      "Total Return:  1.1705618725813638\n",
      "2024-10-04\n",
      "Total Return:  1.1048188578113503\n",
      "2024-10-07\n",
      "Total Return:  1.0924146824941778\n"
     ]
    },
    {
     "name": "stderr",
     "output_type": "stream",
     "text": [
      "/Users/atulkrishnan/Desktop/TradingAlgos/Stock_Picker_Algo/Trade_Functions.py:117: RuntimeWarning: divide by zero encountered in scalar divide\n",
      "  return d/c\n",
      "/Users/atulkrishnan/Desktop/TradingAlgos/Stock_Picker_Algo/Trade_Functions.py:117: RuntimeWarning: divide by zero encountered in scalar divide\n",
      "  return d/c\n"
     ]
    },
    {
     "name": "stdout",
     "output_type": "stream",
     "text": [
      "2024-10-08\n",
      "Total Return:  1.0809402197420994\n",
      "2024-10-09\n",
      "Total Return:  1.0865017094687552\n",
      "2024-10-10\n",
      "Total Return:  1.1242208778665668\n"
     ]
    },
    {
     "name": "stderr",
     "output_type": "stream",
     "text": [
      "/Users/atulkrishnan/Desktop/TradingAlgos/Stock_Picker_Algo/Trade_Functions.py:117: RuntimeWarning: divide by zero encountered in scalar divide\n",
      "  return d/c\n"
     ]
    },
    {
     "name": "stdout",
     "output_type": "stream",
     "text": [
      "2024-10-11\n",
      "Total Return:  1.0967125860113829\n",
      "2024-10-14\n",
      "Total Return:  1.1096873854172935\n",
      "2024-10-15\n",
      "Total Return:  1.083813845342797\n",
      "2024-10-16\n",
      "Total Return:  1.082684301473983\n",
      "2024-10-17\n",
      "Total Return:  1.0530852402764197\n",
      "2024-10-18\n",
      "Total Return:  1.0350987853075866\n",
      "2024-10-21\n",
      "Total Return:  1.0486831622805748\n",
      "2024-10-22\n",
      "Total Return:  1.0339930313514487\n",
      "2024-10-23\n",
      "Total Return:  1.0304257408521869\n"
     ]
    },
    {
     "name": "stderr",
     "output_type": "stream",
     "text": [
      "/Users/atulkrishnan/Desktop/TradingAlgos/Stock_Picker_Algo/Trade_Functions.py:117: RuntimeWarning: divide by zero encountered in scalar divide\n",
      "  return d/c\n",
      "/Users/atulkrishnan/Desktop/TradingAlgos/Stock_Picker_Algo/Trade_Functions.py:117: RuntimeWarning: divide by zero encountered in scalar divide\n",
      "  return d/c\n"
     ]
    },
    {
     "name": "stdout",
     "output_type": "stream",
     "text": [
      "2024-10-24\n",
      "Total Return:  1.0306072920603029\n",
      "2024-10-25\n",
      "Total Return:  1.0447372481949446\n",
      "2024-10-28\n",
      "Total Return:  0.9965632056276583\n",
      "2024-10-29\n",
      "Total Return:  0.9413304367166817\n",
      "2024-10-30\n",
      "Total Return:  0.9082794929109618\n",
      "2024-10-31\n",
      "Total Return:  0.8549424283163156\n",
      "2024-11-01\n",
      "Total Return:  0.9020571639296304\n",
      "2024-11-04\n",
      "Total Return:  0.9391970773453715\n",
      "2024-11-05\n",
      "Total Return:  1.0064331639194495\n"
     ]
    },
    {
     "name": "stderr",
     "output_type": "stream",
     "text": [
      "[I 2024-11-14 10:50:31,712] Trial 3 finished with values: [0.0, 1.0131004366812226] and parameters: {'TimeInput': 6, 'NumStocks': 1, 'holdTime': 2}.\n"
     ]
    },
    {
     "name": "stdout",
     "output_type": "stream",
     "text": [
      "UNABLE TO FIND:--- CHTR ----\n",
      "2024-11-06\n",
      "Total Return:  0\n",
      "UNABLE TO FIND:--- ARM ----\n",
      "2023-01-05\n",
      "Total Return:  1.0589947634801677\n",
      "UNABLE TO FIND:--- ARM ----\n",
      "2023-01-06\n",
      "Total Return:  1.1243504636428652\n",
      "UNABLE TO FIND:--- ARM ----\n"
     ]
    },
    {
     "name": "stderr",
     "output_type": "stream",
     "text": [
      "/Users/atulkrishnan/Desktop/TradingAlgos/Stock_Picker_Algo/Trade_Functions.py:117: RuntimeWarning: divide by zero encountered in scalar divide\n",
      "  return d/c\n"
     ]
    },
    {
     "name": "stdout",
     "output_type": "stream",
     "text": [
      "2023-01-09\n",
      "Total Return:  1.1694512271337003\n",
      "UNABLE TO FIND:--- ARM ----\n",
      "2023-01-10\n",
      "Total Return:  1.2249988223164279\n",
      "UNABLE TO FIND:--- ARM ----\n",
      "2023-01-11\n",
      "Total Return:  1.2985301252717814\n",
      "UNABLE TO FIND:--- ARM ----\n",
      "2023-01-12\n",
      "Total Return:  1.3128529521231043\n",
      "UNABLE TO FIND:--- ARM ----\n",
      "2023-01-13\n",
      "Total Return:  1.368747063724415\n",
      "UNABLE TO FIND:--- ARM ----\n",
      "2023-01-17\n",
      "Total Return:  1.306540317754219\n",
      "UNABLE TO FIND:--- ARM ----\n"
     ]
    },
    {
     "name": "stderr",
     "output_type": "stream",
     "text": [
      "/Users/atulkrishnan/Desktop/TradingAlgos/Stock_Picker_Algo/Trade_Functions.py:117: RuntimeWarning: divide by zero encountered in scalar divide\n",
      "  return d/c\n",
      "/Users/atulkrishnan/Desktop/TradingAlgos/Stock_Picker_Algo/Trade_Functions.py:117: RuntimeWarning: divide by zero encountered in scalar divide\n",
      "  return d/c\n"
     ]
    },
    {
     "name": "stdout",
     "output_type": "stream",
     "text": [
      "2023-01-18\n",
      "Total Return:  1.3039430774703478\n",
      "UNABLE TO FIND:--- ARM ----\n",
      "2023-01-19\n",
      "Total Return:  1.4617250811417644\n",
      "UNABLE TO FIND:--- ARM ----\n",
      "2023-01-20\n",
      "Total Return:  1.534565659990763\n",
      "UNABLE TO FIND:--- ARM ----\n",
      "2023-01-23\n",
      "Total Return:  1.5182538097797478\n",
      "UNABLE TO FIND:--- ARM ----\n",
      "2023-01-24\n",
      "Total Return:  1.6159718356418358\n",
      "UNABLE TO FIND:--- ARM ----\n",
      "2023-01-25\n",
      "Total Return:  1.6363992695666996\n",
      "UNABLE TO FIND:--- ARM ----\n",
      "2023-01-26\n",
      "Total Return:  1.558647590682285\n",
      "UNABLE TO FIND:--- ARM ----\n",
      "2023-01-27\n",
      "Total Return:  1.5570246367845821\n",
      "UNABLE TO FIND:--- ARM ----\n",
      "2023-01-30\n",
      "Total Return:  1.5839192647196239\n",
      "UNABLE TO FIND:--- ARM ----\n"
     ]
    },
    {
     "name": "stderr",
     "output_type": "stream",
     "text": [
      "/Users/atulkrishnan/Desktop/TradingAlgos/Stock_Picker_Algo/Trade_Functions.py:117: RuntimeWarning: divide by zero encountered in scalar divide\n",
      "  return d/c\n",
      "/Users/atulkrishnan/Desktop/TradingAlgos/Stock_Picker_Algo/Trade_Functions.py:117: RuntimeWarning: divide by zero encountered in scalar divide\n",
      "  return d/c\n"
     ]
    },
    {
     "name": "stdout",
     "output_type": "stream",
     "text": [
      "2023-01-31\n",
      "Total Return:  1.6498571259630102\n",
      "UNABLE TO FIND:--- ARM ----\n",
      "2023-02-01\n",
      "Total Return:  1.7147477952068666\n",
      "UNABLE TO FIND:--- ARM ----\n",
      "2023-02-02\n",
      "Total Return:  1.640821988690226\n",
      "UNABLE TO FIND:--- ARM ----\n"
     ]
    },
    {
     "name": "stderr",
     "output_type": "stream",
     "text": [
      "/Users/atulkrishnan/Desktop/TradingAlgos/Stock_Picker_Algo/Trade_Functions.py:117: RuntimeWarning: divide by zero encountered in scalar divide\n",
      "  return d/c\n"
     ]
    },
    {
     "name": "stdout",
     "output_type": "stream",
     "text": [
      "2023-02-03\n",
      "Total Return:  1.6557257877497125\n",
      "UNABLE TO FIND:--- ARM ----\n",
      "2023-02-06\n",
      "Total Return:  1.6555707293140691\n",
      "UNABLE TO FIND:--- ARM ----\n",
      "2023-02-07\n",
      "Total Return:  1.6642762691680675\n",
      "UNABLE TO FIND:--- ARM ----\n",
      "2023-02-08\n",
      "Total Return:  1.6226734117546942\n",
      "UNABLE TO FIND:--- ARM ----\n",
      "2023-02-09\n",
      "Total Return:  1.5967133554922168\n",
      "UNABLE TO FIND:--- ARM ----\n",
      "2023-02-10\n",
      "Total Return:  1.692712825441635\n",
      "UNABLE TO FIND:--- ARM ----\n"
     ]
    },
    {
     "name": "stderr",
     "output_type": "stream",
     "text": [
      "/Users/atulkrishnan/Desktop/TradingAlgos/Stock_Picker_Algo/Trade_Functions.py:117: RuntimeWarning: divide by zero encountered in scalar divide\n",
      "  return d/c\n",
      "/Users/atulkrishnan/Desktop/TradingAlgos/Stock_Picker_Algo/Trade_Functions.py:117: RuntimeWarning: divide by zero encountered in scalar divide\n",
      "  return d/c\n"
     ]
    },
    {
     "name": "stdout",
     "output_type": "stream",
     "text": [
      "2023-02-13\n",
      "Total Return:  1.7269193378300216\n",
      "UNABLE TO FIND:--- ARM ----\n",
      "2023-02-14\n",
      "Total Return:  1.7024082151194224\n",
      "UNABLE TO FIND:--- ARM ----\n",
      "2023-02-15\n",
      "Total Return:  1.6484332160851713\n",
      "UNABLE TO FIND:--- ARM ----\n"
     ]
    },
    {
     "name": "stderr",
     "output_type": "stream",
     "text": [
      "/Users/atulkrishnan/Desktop/TradingAlgos/Stock_Picker_Algo/Trade_Functions.py:117: RuntimeWarning: divide by zero encountered in scalar divide\n",
      "  return d/c\n",
      "/Users/atulkrishnan/Desktop/TradingAlgos/Stock_Picker_Algo/Trade_Functions.py:117: RuntimeWarning: divide by zero encountered in scalar divide\n",
      "  return d/c\n"
     ]
    },
    {
     "name": "stdout",
     "output_type": "stream",
     "text": [
      "2023-02-16\n",
      "Total Return:  1.4793527574724985\n",
      "UNABLE TO FIND:--- ARM ----\n",
      "2023-02-17\n",
      "Total Return:  1.3133149835811868\n",
      "UNABLE TO FIND:--- ARM ----\n",
      "2023-02-21\n",
      "Total Return:  1.292546050397318\n",
      "UNABLE TO FIND:--- ARM ----\n",
      "2023-02-22\n",
      "Total Return:  1.2768628775948014\n",
      "UNABLE TO FIND:--- ARM ----\n",
      "2023-02-23\n",
      "Total Return:  1.298699900226136\n",
      "UNABLE TO FIND:--- ARM ----\n",
      "2023-02-24\n",
      "Total Return:  1.3270784227964278\n",
      "UNABLE TO FIND:--- ARM ----\n"
     ]
    },
    {
     "name": "stderr",
     "output_type": "stream",
     "text": [
      "/Users/atulkrishnan/Desktop/TradingAlgos/Stock_Picker_Algo/Trade_Functions.py:117: RuntimeWarning: divide by zero encountered in scalar divide\n",
      "  return d/c\n"
     ]
    },
    {
     "name": "stdout",
     "output_type": "stream",
     "text": [
      "2023-02-27\n",
      "Total Return:  1.3297943199727407\n",
      "UNABLE TO FIND:--- ARM ----\n",
      "2023-02-28\n",
      "Total Return:  1.3401050778950858\n",
      "UNABLE TO FIND:--- ARM ----\n",
      "2023-03-01\n",
      "Total Return:  1.338677401662176\n",
      "UNABLE TO FIND:--- ARM ----\n",
      "2023-03-02\n",
      "Total Return:  1.371604022173308\n",
      "UNABLE TO FIND:--- ARM ----\n",
      "2023-03-03\n",
      "Total Return:  1.3456205694008494\n",
      "UNABLE TO FIND:--- ARM ----\n",
      "2023-03-06\n",
      "Total Return:  1.3135355818547962\n",
      "UNABLE TO FIND:--- ARM ----\n",
      "2023-03-07\n",
      "Total Return:  1.2589067353327874\n",
      "UNABLE TO FIND:--- ARM ----\n",
      "2023-03-08\n",
      "Total Return:  1.1600836707302327\n",
      "UNABLE TO FIND:--- ARM ----\n",
      "2023-03-09\n",
      "Total Return:  1.0714032913893174\n",
      "UNABLE TO FIND:--- ARM ----\n",
      "2023-03-10\n",
      "Total Return:  1.0986970555514584\n",
      "UNABLE TO FIND:--- ARM ----\n",
      "2023-03-13\n",
      "Total Return:  1.1345811857230481\n",
      "UNABLE TO FIND:--- ARM ----\n",
      "2023-03-14\n",
      "Total Return:  1.1434491038530161\n",
      "UNABLE TO FIND:--- ARM ----\n",
      "2023-03-15\n",
      "Total Return:  1.1566050628469124\n",
      "UNABLE TO FIND:--- ARM ----\n",
      "2023-03-16\n",
      "Total Return:  1.1926726073827134\n",
      "UNABLE TO FIND:--- ARM ----\n",
      "2023-03-17\n",
      "Total Return:  1.1669516108763023\n",
      "UNABLE TO FIND:--- ARM ----\n",
      "2023-03-20\n",
      "Total Return:  1.1793126769318047\n",
      "UNABLE TO FIND:--- ARM ----\n",
      "2023-03-21\n",
      "Total Return:  1.164797010284845\n",
      "UNABLE TO FIND:--- ARM ----\n",
      "2023-03-22\n",
      "Total Return:  1.1507960605573313\n",
      "UNABLE TO FIND:--- ARM ----\n"
     ]
    },
    {
     "name": "stderr",
     "output_type": "stream",
     "text": [
      "/Users/atulkrishnan/Desktop/TradingAlgos/Stock_Picker_Algo/Trade_Functions.py:117: RuntimeWarning: divide by zero encountered in scalar divide\n",
      "  return d/c\n"
     ]
    },
    {
     "name": "stdout",
     "output_type": "stream",
     "text": [
      "2023-03-23\n",
      "Total Return:  1.1447113982512924\n",
      "UNABLE TO FIND:--- ARM ----\n",
      "2023-03-24\n",
      "Total Return:  1.1245836574890997\n",
      "UNABLE TO FIND:--- ARM ----\n",
      "2023-03-27\n",
      "Total Return:  1.118958196351966\n",
      "UNABLE TO FIND:--- ARM ----\n"
     ]
    },
    {
     "name": "stderr",
     "output_type": "stream",
     "text": [
      "/Users/atulkrishnan/Desktop/TradingAlgos/Stock_Picker_Algo/Trade_Functions.py:117: RuntimeWarning: divide by zero encountered in scalar divide\n",
      "  return d/c\n"
     ]
    },
    {
     "name": "stdout",
     "output_type": "stream",
     "text": [
      "2023-03-28\n",
      "Total Return:  1.1328292777527054\n",
      "UNABLE TO FIND:--- ARM ----\n",
      "2023-03-29\n",
      "Total Return:  1.1723860877442172\n",
      "UNABLE TO FIND:--- ARM ----\n",
      "2023-03-30\n",
      "Total Return:  1.1658453322060316\n",
      "UNABLE TO FIND:--- ARM ----\n",
      "2023-03-31\n",
      "Total Return:  1.1718199928132866\n",
      "UNABLE TO FIND:--- ARM ----\n",
      "2023-04-03\n",
      "Total Return:  1.100857125514128\n",
      "UNABLE TO FIND:--- ARM ----\n",
      "2023-04-04\n",
      "Total Return:  1.0433565992671054\n",
      "UNABLE TO FIND:--- ARM ----\n",
      "2023-04-05\n",
      "Total Return:  1.0559261426307278\n",
      "UNABLE TO FIND:--- ARM ----\n",
      "2023-04-06\n",
      "Total Return:  1.0490359872155959\n",
      "UNABLE TO FIND:--- ARM ----\n",
      "2023-04-10\n",
      "Total Return:  1.0493287758447845\n",
      "UNABLE TO FIND:--- ARM ----\n"
     ]
    },
    {
     "name": "stderr",
     "output_type": "stream",
     "text": [
      "/Users/atulkrishnan/Desktop/TradingAlgos/Stock_Picker_Algo/Trade_Functions.py:117: RuntimeWarning: divide by zero encountered in scalar divide\n",
      "  return d/c\n"
     ]
    },
    {
     "name": "stdout",
     "output_type": "stream",
     "text": [
      "2023-04-11\n",
      "Total Return:  1.011954428455272\n",
      "UNABLE TO FIND:--- ARM ----\n",
      "2023-04-12\n",
      "Total Return:  0.998227145388128\n",
      "UNABLE TO FIND:--- ARM ----\n",
      "2023-04-13\n",
      "Total Return:  0.9966084727827342\n",
      "UNABLE TO FIND:--- ARM ----\n"
     ]
    },
    {
     "name": "stderr",
     "output_type": "stream",
     "text": [
      "/Users/atulkrishnan/Desktop/TradingAlgos/Stock_Picker_Algo/Trade_Functions.py:117: RuntimeWarning: divide by zero encountered in scalar divide\n",
      "  return d/c\n",
      "/Users/atulkrishnan/Desktop/TradingAlgos/Stock_Picker_Algo/Trade_Functions.py:117: RuntimeWarning: invalid value encountered in scalar divide\n",
      "  return d/c\n",
      "/Users/atulkrishnan/Desktop/TradingAlgos/Stock_Picker_Algo/Trade_Functions.py:117: RuntimeWarning: divide by zero encountered in scalar divide\n",
      "  return d/c\n"
     ]
    },
    {
     "name": "stdout",
     "output_type": "stream",
     "text": [
      "2023-04-14\n",
      "Total Return:  1.026112208493433\n",
      "UNABLE TO FIND:--- ARM ----\n",
      "2023-04-17\n",
      "Total Return:  1.0156059287048835\n",
      "UNABLE TO FIND:--- ARM ----\n",
      "2023-04-18\n",
      "Total Return:  0.986332357443767\n",
      "UNABLE TO FIND:--- ARM ----\n"
     ]
    },
    {
     "name": "stderr",
     "output_type": "stream",
     "text": [
      "/Users/atulkrishnan/Desktop/TradingAlgos/Stock_Picker_Algo/Trade_Functions.py:117: RuntimeWarning: divide by zero encountered in scalar divide\n",
      "  return d/c\n",
      "/Users/atulkrishnan/Desktop/TradingAlgos/Stock_Picker_Algo/Trade_Functions.py:117: RuntimeWarning: divide by zero encountered in scalar divide\n",
      "  return d/c\n"
     ]
    },
    {
     "name": "stdout",
     "output_type": "stream",
     "text": [
      "2023-04-19\n",
      "Total Return:  0.9401137975128145\n",
      "UNABLE TO FIND:--- ARM ----\n",
      "2023-04-20\n",
      "Total Return:  0.9422946556267539\n",
      "UNABLE TO FIND:--- ARM ----\n",
      "2023-04-21\n",
      "Total Return:  0.9166572690623556\n",
      "UNABLE TO FIND:--- ARM ----\n"
     ]
    },
    {
     "name": "stderr",
     "output_type": "stream",
     "text": [
      "/Users/atulkrishnan/Desktop/TradingAlgos/Stock_Picker_Algo/Trade_Functions.py:117: RuntimeWarning: divide by zero encountered in scalar divide\n",
      "  return d/c\n"
     ]
    },
    {
     "name": "stdout",
     "output_type": "stream",
     "text": [
      "2023-04-24\n",
      "Total Return:  0.877351031152292\n",
      "UNABLE TO FIND:--- ARM ----\n",
      "2023-04-25\n",
      "Total Return:  0.8608377088961918\n",
      "UNABLE TO FIND:--- ARM ----\n",
      "2023-04-26\n",
      "Total Return:  0.8693325017006268\n",
      "UNABLE TO FIND:--- ARM ----\n",
      "2023-04-27\n",
      "Total Return:  0.8351964729533466\n",
      "UNABLE TO FIND:--- ARM ----\n",
      "2023-04-28\n",
      "Total Return:  0.8025649098828174\n",
      "UNABLE TO FIND:--- ARM ----\n",
      "2023-05-01\n",
      "Total Return:  0.7851923950802177\n",
      "UNABLE TO FIND:--- ARM ----\n",
      "2023-05-02\n",
      "Total Return:  0.8485168521566211\n",
      "UNABLE TO FIND:--- ARM ----\n",
      "2023-05-03\n",
      "Total Return:  0.8425621947143694\n",
      "UNABLE TO FIND:--- ARM ----\n",
      "2023-05-04\n",
      "Total Return:  0.8514313618981808\n",
      "UNABLE TO FIND:--- ARM ----\n",
      "2023-05-05\n",
      "Total Return:  0.8602669469918369\n",
      "UNABLE TO FIND:--- ARM ----\n",
      "2023-05-08\n",
      "Total Return:  0.9372238948882314\n",
      "UNABLE TO FIND:--- ARM ----\n",
      "2023-05-09\n",
      "Total Return:  0.9629255481862052\n",
      "UNABLE TO FIND:--- ARM ----\n"
     ]
    },
    {
     "name": "stderr",
     "output_type": "stream",
     "text": [
      "/Users/atulkrishnan/Desktop/TradingAlgos/Stock_Picker_Algo/Trade_Functions.py:117: RuntimeWarning: divide by zero encountered in scalar divide\n",
      "  return d/c\n",
      "/Users/atulkrishnan/Desktop/TradingAlgos/Stock_Picker_Algo/Trade_Functions.py:117: RuntimeWarning: divide by zero encountered in scalar divide\n",
      "  return d/c\n"
     ]
    },
    {
     "name": "stdout",
     "output_type": "stream",
     "text": [
      "2023-05-10\n",
      "Total Return:  0.9632809924670498\n",
      "UNABLE TO FIND:--- ARM ----\n",
      "2023-05-11\n",
      "Total Return:  0.9744038239511952\n",
      "UNABLE TO FIND:--- ARM ----\n",
      "2023-05-12\n",
      "Total Return:  0.9987550026918396\n",
      "UNABLE TO FIND:--- ARM ----\n",
      "2023-05-15\n",
      "Total Return:  1.0329608027654649\n",
      "UNABLE TO FIND:--- ARM ----\n",
      "2023-05-16\n",
      "Total Return:  1.0825623107982236\n",
      "UNABLE TO FIND:--- ARM ----\n",
      "2023-05-17\n",
      "Total Return:  1.1546122143110464\n",
      "UNABLE TO FIND:--- ARM ----\n"
     ]
    },
    {
     "name": "stderr",
     "output_type": "stream",
     "text": [
      "/Users/atulkrishnan/Desktop/TradingAlgos/Stock_Picker_Algo/Trade_Functions.py:117: RuntimeWarning: divide by zero encountered in scalar divide\n",
      "  return d/c\n",
      "/Users/atulkrishnan/Desktop/TradingAlgos/Stock_Picker_Algo/Trade_Functions.py:117: RuntimeWarning: divide by zero encountered in scalar divide\n",
      "  return d/c\n"
     ]
    },
    {
     "name": "stdout",
     "output_type": "stream",
     "text": [
      "2023-05-18\n",
      "Total Return:  1.1862528650892683\n",
      "UNABLE TO FIND:--- ARM ----\n",
      "2023-05-19\n",
      "Total Return:  1.1459675310852264\n",
      "UNABLE TO FIND:--- ARM ----\n",
      "2023-05-22\n",
      "Total Return:  1.1225592497803472\n",
      "UNABLE TO FIND:--- ARM ----\n"
     ]
    },
    {
     "name": "stderr",
     "output_type": "stream",
     "text": [
      "/Users/atulkrishnan/Desktop/TradingAlgos/Stock_Picker_Algo/Trade_Functions.py:117: RuntimeWarning: divide by zero encountered in scalar divide\n",
      "  return d/c\n"
     ]
    },
    {
     "name": "stdout",
     "output_type": "stream",
     "text": [
      "2023-05-23\n",
      "Total Return:  1.120008035166184\n",
      "UNABLE TO FIND:--- ARM ----\n",
      "2023-05-24\n",
      "Total Return:  1.1246732086457576\n",
      "UNABLE TO FIND:--- ARM ----\n",
      "2023-05-25\n",
      "Total Return:  1.1020250365691815\n",
      "UNABLE TO FIND:--- ARM ----\n"
     ]
    },
    {
     "name": "stderr",
     "output_type": "stream",
     "text": [
      "/Users/atulkrishnan/Desktop/TradingAlgos/Stock_Picker_Algo/Trade_Functions.py:117: RuntimeWarning: divide by zero encountered in scalar divide\n",
      "  return d/c\n",
      "/Users/atulkrishnan/Desktop/TradingAlgos/Stock_Picker_Algo/Trade_Functions.py:117: RuntimeWarning: divide by zero encountered in scalar divide\n",
      "  return d/c\n"
     ]
    },
    {
     "name": "stdout",
     "output_type": "stream",
     "text": [
      "2023-05-26\n",
      "Total Return:  1.1132287213532979\n",
      "UNABLE TO FIND:--- ARM ----\n",
      "2023-05-30\n",
      "Total Return:  1.075468823602017\n",
      "UNABLE TO FIND:--- ARM ----\n",
      "2023-05-31\n",
      "Total Return:  1.0794787061040096\n",
      "UNABLE TO FIND:--- ARM ----\n",
      "2023-06-01\n",
      "Total Return:  1.1030046861012297\n",
      "UNABLE TO FIND:--- ARM ----\n",
      "2023-06-02\n",
      "Total Return:  1.128531277699542\n",
      "UNABLE TO FIND:--- ARM ----\n",
      "2023-06-05\n",
      "Total Return:  1.1165826614913876\n",
      "UNABLE TO FIND:--- ARM ----\n"
     ]
    },
    {
     "name": "stderr",
     "output_type": "stream",
     "text": [
      "/Users/atulkrishnan/Desktop/TradingAlgos/Stock_Picker_Algo/Trade_Functions.py:117: RuntimeWarning: divide by zero encountered in scalar divide\n",
      "  return d/c\n",
      "/Users/atulkrishnan/Desktop/TradingAlgos/Stock_Picker_Algo/Trade_Functions.py:117: RuntimeWarning: divide by zero encountered in scalar divide\n",
      "  return d/c\n"
     ]
    },
    {
     "name": "stdout",
     "output_type": "stream",
     "text": [
      "2023-06-06\n",
      "Total Return:  1.1057583411216618\n",
      "UNABLE TO FIND:--- ARM ----\n",
      "2023-06-07\n",
      "Total Return:  1.1253477892636856\n",
      "UNABLE TO FIND:--- ARM ----\n",
      "2023-06-08\n",
      "Total Return:  1.1858288797444863\n",
      "UNABLE TO FIND:--- ARM ----\n",
      "2023-06-09\n",
      "Total Return:  1.1639678098114732\n",
      "UNABLE TO FIND:--- ARM ----\n",
      "2023-06-12\n",
      "Total Return:  1.1662379939044873\n",
      "UNABLE TO FIND:--- ARM ----\n",
      "2023-06-13\n",
      "Total Return:  1.1535599784539974\n",
      "UNABLE TO FIND:--- ARM ----\n"
     ]
    },
    {
     "name": "stderr",
     "output_type": "stream",
     "text": [
      "/Users/atulkrishnan/Desktop/TradingAlgos/Stock_Picker_Algo/Trade_Functions.py:117: RuntimeWarning: divide by zero encountered in scalar divide\n",
      "  return d/c\n"
     ]
    },
    {
     "name": "stdout",
     "output_type": "stream",
     "text": [
      "2023-06-14\n",
      "Total Return:  1.1851961615787117\n",
      "UNABLE TO FIND:--- ARM ----\n",
      "2023-06-15\n",
      "Total Return:  1.1934786601456335\n",
      "UNABLE TO FIND:--- ARM ----\n",
      "2023-06-16\n",
      "Total Return:  1.1374309803611664\n",
      "UNABLE TO FIND:--- ARM ----\n"
     ]
    },
    {
     "name": "stderr",
     "output_type": "stream",
     "text": [
      "/Users/atulkrishnan/Desktop/TradingAlgos/Stock_Picker_Algo/Trade_Functions.py:117: RuntimeWarning: divide by zero encountered in scalar divide\n",
      "  return d/c\n"
     ]
    },
    {
     "name": "stdout",
     "output_type": "stream",
     "text": [
      "2023-06-20\n",
      "Total Return:  1.1545389636945405\n",
      "UNABLE TO FIND:--- ARM ----\n",
      "2023-06-21\n",
      "Total Return:  1.1059977010194135\n",
      "UNABLE TO FIND:--- ARM ----\n",
      "2023-06-22\n",
      "Total Return:  1.1016057798939616\n",
      "UNABLE TO FIND:--- ARM ----\n",
      "2023-06-23\n",
      "Total Return:  1.0907831277813778\n",
      "UNABLE TO FIND:--- ARM ----\n",
      "2023-06-26\n",
      "Total Return:  1.094582871921535\n",
      "UNABLE TO FIND:--- ARM ----\n",
      "2023-06-27\n",
      "Total Return:  1.1192168164853409\n",
      "UNABLE TO FIND:--- ARM ----\n"
     ]
    },
    {
     "name": "stderr",
     "output_type": "stream",
     "text": [
      "/Users/atulkrishnan/Desktop/TradingAlgos/Stock_Picker_Algo/Trade_Functions.py:117: RuntimeWarning: divide by zero encountered in scalar divide\n",
      "  return d/c\n"
     ]
    },
    {
     "name": "stdout",
     "output_type": "stream",
     "text": [
      "2023-06-28\n",
      "Total Return:  1.1570030045784265\n",
      "UNABLE TO FIND:--- ARM ----\n",
      "2023-06-29\n",
      "Total Return:  1.176581798995889\n",
      "UNABLE TO FIND:--- ARM ----\n",
      "2023-06-30\n",
      "Total Return:  1.1947694555207917\n",
      "UNABLE TO FIND:--- ARM ----\n"
     ]
    },
    {
     "name": "stderr",
     "output_type": "stream",
     "text": [
      "/Users/atulkrishnan/Desktop/TradingAlgos/Stock_Picker_Algo/Trade_Functions.py:117: RuntimeWarning: divide by zero encountered in scalar divide\n",
      "  return d/c\n",
      "/Users/atulkrishnan/Desktop/TradingAlgos/Stock_Picker_Algo/Trade_Functions.py:117: RuntimeWarning: divide by zero encountered in scalar divide\n",
      "  return d/c\n"
     ]
    },
    {
     "name": "stdout",
     "output_type": "stream",
     "text": [
      "2023-07-03\n",
      "Total Return:  1.1599829839833864\n",
      "UNABLE TO FIND:--- ARM ----\n",
      "2023-07-05\n",
      "Total Return:  1.1681476736157252\n",
      "UNABLE TO FIND:--- ARM ----\n",
      "2023-07-06\n",
      "Total Return:  1.1131989979954442\n",
      "UNABLE TO FIND:--- ARM ----\n",
      "2023-07-07\n",
      "Total Return:  1.1141502352052275\n",
      "UNABLE TO FIND:--- ARM ----\n",
      "2023-07-10\n",
      "Total Return:  1.1589820854241757\n",
      "UNABLE TO FIND:--- ARM ----\n",
      "2023-07-11\n",
      "Total Return:  1.1689290853108945\n",
      "UNABLE TO FIND:--- ARM ----\n",
      "2023-07-12\n",
      "Total Return:  1.188365164444233\n",
      "UNABLE TO FIND:--- ARM ----\n",
      "2023-07-13\n",
      "Total Return:  1.2035180283116393\n",
      "UNABLE TO FIND:--- ARM ----\n",
      "2023-07-14\n",
      "Total Return:  1.2176353898349133\n",
      "UNABLE TO FIND:--- ARM ----\n",
      "2023-07-17\n",
      "Total Return:  1.2575583730063633\n",
      "UNABLE TO FIND:--- ARM ----\n",
      "2023-07-18\n",
      "Total Return:  1.1943219535422083\n",
      "UNABLE TO FIND:--- ARM ----\n",
      "2023-07-19\n",
      "Total Return:  1.1091718933506467\n",
      "UNABLE TO FIND:--- ARM ----\n"
     ]
    },
    {
     "name": "stderr",
     "output_type": "stream",
     "text": [
      "/Users/atulkrishnan/Desktop/TradingAlgos/Stock_Picker_Algo/Trade_Functions.py:117: RuntimeWarning: divide by zero encountered in scalar divide\n",
      "  return d/c\n"
     ]
    },
    {
     "name": "stdout",
     "output_type": "stream",
     "text": [
      "2023-07-20\n",
      "Total Return:  1.055199926440454\n",
      "UNABLE TO FIND:--- ARM ----\n",
      "2023-07-21\n",
      "Total Return:  1.036127928504731\n",
      "UNABLE TO FIND:--- ARM ----\n",
      "2023-07-24\n",
      "Total Return:  1.032903677065402\n",
      "UNABLE TO FIND:--- ARM ----\n",
      "2023-07-25\n",
      "Total Return:  1.06739704582421\n",
      "UNABLE TO FIND:--- ARM ----\n",
      "2023-07-26\n",
      "Total Return:  1.1232071158372854\n",
      "UNABLE TO FIND:--- ARM ----\n",
      "2023-07-27\n",
      "Total Return:  1.1429480029891517\n",
      "UNABLE TO FIND:--- ARM ----\n",
      "2023-07-28\n",
      "Total Return:  1.1438357742173944\n",
      "UNABLE TO FIND:--- ARM ----\n",
      "2023-07-31\n",
      "Total Return:  1.104224666897428\n",
      "UNABLE TO FIND:--- ARM ----\n",
      "2023-08-01\n",
      "Total Return:  1.0377010809701006\n",
      "UNABLE TO FIND:--- ARM ----\n"
     ]
    },
    {
     "name": "stderr",
     "output_type": "stream",
     "text": [
      "/Users/atulkrishnan/Desktop/TradingAlgos/Stock_Picker_Algo/Trade_Functions.py:117: RuntimeWarning: divide by zero encountered in scalar divide\n",
      "  return d/c\n"
     ]
    },
    {
     "name": "stdout",
     "output_type": "stream",
     "text": [
      "2023-08-02\n",
      "Total Return:  1.0467882889143474\n",
      "UNABLE TO FIND:--- ARM ----\n",
      "2023-08-03\n",
      "Total Return:  1.050562953732014\n",
      "UNABLE TO FIND:--- ARM ----\n",
      "2023-08-04\n",
      "Total Return:  1.056606980535481\n",
      "UNABLE TO FIND:--- ARM ----\n"
     ]
    },
    {
     "name": "stderr",
     "output_type": "stream",
     "text": [
      "/Users/atulkrishnan/Desktop/TradingAlgos/Stock_Picker_Algo/Trade_Functions.py:117: RuntimeWarning: divide by zero encountered in scalar divide\n",
      "  return d/c\n",
      "/Users/atulkrishnan/Desktop/TradingAlgos/Stock_Picker_Algo/Trade_Functions.py:117: RuntimeWarning: divide by zero encountered in scalar divide\n",
      "  return d/c\n"
     ]
    },
    {
     "name": "stdout",
     "output_type": "stream",
     "text": [
      "2023-08-07\n",
      "Total Return:  1.0471473706547871\n",
      "UNABLE TO FIND:--- ARM ----\n",
      "2023-08-08\n",
      "Total Return:  1.0617032292752713\n",
      "UNABLE TO FIND:--- ARM ----\n",
      "2023-08-09\n",
      "Total Return:  1.0636211593986376\n",
      "UNABLE TO FIND:--- ARM ----\n",
      "2023-08-10\n",
      "Total Return:  1.0449499878882533\n",
      "UNABLE TO FIND:--- ARM ----\n",
      "2023-08-11\n",
      "Total Return:  1.0208511326493663\n",
      "UNABLE TO FIND:--- ARM ----\n",
      "2023-08-14\n",
      "Total Return:  1.0109394631773148\n",
      "UNABLE TO FIND:--- ARM ----\n"
     ]
    },
    {
     "name": "stderr",
     "output_type": "stream",
     "text": [
      "/Users/atulkrishnan/Desktop/TradingAlgos/Stock_Picker_Algo/Trade_Functions.py:117: RuntimeWarning: divide by zero encountered in scalar divide\n",
      "  return d/c\n",
      "/Users/atulkrishnan/Desktop/TradingAlgos/Stock_Picker_Algo/Trade_Functions.py:117: RuntimeWarning: divide by zero encountered in scalar divide\n",
      "  return d/c\n"
     ]
    },
    {
     "name": "stdout",
     "output_type": "stream",
     "text": [
      "2023-08-15\n",
      "Total Return:  0.9679054253562622\n",
      "UNABLE TO FIND:--- ARM ----\n",
      "2023-08-16\n",
      "Total Return:  0.9269677515708405\n",
      "UNABLE TO FIND:--- ARM ----\n",
      "2023-08-17\n",
      "Total Return:  0.926004259703463\n",
      "UNABLE TO FIND:--- ARM ----\n",
      "2023-08-18\n",
      "Total Return:  0.9756439260743336\n",
      "UNABLE TO FIND:--- ARM ----\n",
      "2023-08-21\n",
      "Total Return:  0.9924933944281765\n",
      "UNABLE TO FIND:--- ARM ----\n",
      "2023-08-22\n",
      "Total Return:  0.948290313584921\n",
      "UNABLE TO FIND:--- ARM ----\n",
      "2023-08-23\n",
      "Total Return:  0.9400903943048704\n",
      "UNABLE TO FIND:--- ARM ----\n",
      "2023-08-24\n",
      "Total Return:  0.8816173003444401\n",
      "UNABLE TO FIND:--- ARM ----\n",
      "2023-08-25\n",
      "Total Return:  0.9311894401393201\n",
      "UNABLE TO FIND:--- ARM ----\n"
     ]
    },
    {
     "name": "stderr",
     "output_type": "stream",
     "text": [
      "/Users/atulkrishnan/Desktop/TradingAlgos/Stock_Picker_Algo/Trade_Functions.py:117: RuntimeWarning: divide by zero encountered in scalar divide\n",
      "  return d/c\n"
     ]
    },
    {
     "name": "stdout",
     "output_type": "stream",
     "text": [
      "2023-08-28\n",
      "Total Return:  0.9578360915123834\n",
      "UNABLE TO FIND:--- ARM ----\n",
      "2023-08-29\n",
      "Total Return:  0.9847196802697968\n",
      "UNABLE TO FIND:--- ARM ----\n",
      "2023-08-30\n",
      "Total Return:  0.982101541971355\n",
      "UNABLE TO FIND:--- ARM ----\n",
      "2023-08-31\n",
      "Total Return:  1.0161679487214181\n",
      "UNABLE TO FIND:--- ARM ----\n",
      "2023-09-01\n",
      "Total Return:  1.0282792142883106\n",
      "UNABLE TO FIND:--- ARM ----\n",
      "2023-09-05\n",
      "Total Return:  1.0435785162802138\n",
      "UNABLE TO FIND:--- ARM ----\n",
      "2023-09-06\n",
      "Total Return:  1.0381916707464738\n",
      "UNABLE TO FIND:--- ARM ----\n",
      "2023-09-07\n",
      "Total Return:  1.0797204313292226\n",
      "UNABLE TO FIND:--- ARM ----\n",
      "2023-09-08\n",
      "Total Return:  1.093122730337207\n",
      "UNABLE TO FIND:--- ARM ----\n",
      "2023-09-11\n",
      "Total Return:  1.087087176389453\n",
      "UNABLE TO FIND:--- ARM ----\n",
      "2023-09-12\n",
      "Total Return:  1.0857227311928281\n",
      "UNABLE TO FIND:--- ARM ----\n",
      "2023-09-13\n",
      "Total Return:  1.1020757324559842\n",
      "UNABLE TO FIND:--- ARM ----\n"
     ]
    },
    {
     "name": "stderr",
     "output_type": "stream",
     "text": [
      "/Users/atulkrishnan/Desktop/TradingAlgos/Stock_Picker_Algo/Trade_Functions.py:117: RuntimeWarning: divide by zero encountered in scalar divide\n",
      "  return d/c\n",
      "/Users/atulkrishnan/Desktop/TradingAlgos/Stock_Picker_Algo/Trade_Functions.py:117: RuntimeWarning: divide by zero encountered in scalar divide\n",
      "  return d/c\n",
      "/Users/atulkrishnan/Desktop/TradingAlgos/Stock_Picker_Algo/Trade_Functions.py:117: RuntimeWarning: divide by zero encountered in scalar divide\n",
      "  return d/c\n"
     ]
    },
    {
     "name": "stdout",
     "output_type": "stream",
     "text": [
      "2023-09-14\n",
      "Total Return:  1.0885934015803824\n",
      "UNABLE TO FIND:--- ARM ----\n",
      "2023-09-15\n",
      "Total Return:  1.059538094115332\n",
      "UNABLE TO FIND:--- ARM ----\n",
      "2023-09-18\n",
      "Total Return:  1.010617504043589\n",
      "2023-09-19\n",
      "Total Return:  0.979384547010996\n",
      "2023-09-20\n",
      "Total Return:  0.9456447784072091\n",
      "2023-09-21\n",
      "Total Return:  0.932325262596917\n",
      "2023-09-22\n",
      "Total Return:  0.9283288375915448\n",
      "2023-09-25\n",
      "Total Return:  0.9340506917531918\n",
      "2023-09-26\n",
      "Total Return:  0.9720406369677475\n",
      "2023-09-27\n",
      "Total Return:  1.0022392982676736\n",
      "2023-09-28\n",
      "Total Return:  1.0635672110293963\n",
      "2023-09-29\n",
      "Total Return:  1.019317317893828\n"
     ]
    },
    {
     "name": "stderr",
     "output_type": "stream",
     "text": [
      "/Users/atulkrishnan/Desktop/TradingAlgos/Stock_Picker_Algo/Trade_Functions.py:117: RuntimeWarning: invalid value encountered in scalar divide\n",
      "  return d/c\n",
      "/Users/atulkrishnan/Desktop/TradingAlgos/Stock_Picker_Algo/Trade_Functions.py:117: RuntimeWarning: divide by zero encountered in scalar divide\n",
      "  return d/c\n"
     ]
    },
    {
     "name": "stdout",
     "output_type": "stream",
     "text": [
      "2023-10-02\n",
      "Total Return:  1.0257815783180368\n",
      "2023-10-03\n",
      "Total Return:  1.0183421452588168\n",
      "2023-10-04\n",
      "Total Return:  1.0561604303634835\n",
      "2023-10-05\n",
      "Total Return:  1.064340731297444\n",
      "2023-10-06\n",
      "Total Return:  1.1253069202694028\n",
      "2023-10-09\n",
      "Total Return:  1.1638727197774728\n"
     ]
    },
    {
     "name": "stderr",
     "output_type": "stream",
     "text": [
      "/Users/atulkrishnan/Desktop/TradingAlgos/Stock_Picker_Algo/Trade_Functions.py:117: RuntimeWarning: divide by zero encountered in scalar divide\n",
      "  return d/c\n",
      "/Users/atulkrishnan/Desktop/TradingAlgos/Stock_Picker_Algo/Trade_Functions.py:117: RuntimeWarning: divide by zero encountered in scalar divide\n",
      "  return d/c\n"
     ]
    },
    {
     "name": "stdout",
     "output_type": "stream",
     "text": [
      "2023-10-10\n",
      "Total Return:  1.1786451818097627\n",
      "2023-10-11\n",
      "Total Return:  1.1046584656072236\n",
      "2023-10-12\n",
      "Total Return:  1.0455800449887525\n"
     ]
    },
    {
     "name": "stderr",
     "output_type": "stream",
     "text": [
      "/Users/atulkrishnan/Desktop/TradingAlgos/Stock_Picker_Algo/Trade_Functions.py:117: RuntimeWarning: divide by zero encountered in scalar divide\n",
      "  return d/c\n",
      "/Users/atulkrishnan/Desktop/TradingAlgos/Stock_Picker_Algo/Trade_Functions.py:117: RuntimeWarning: divide by zero encountered in scalar divide\n",
      "  return d/c\n"
     ]
    },
    {
     "name": "stdout",
     "output_type": "stream",
     "text": [
      "2023-10-13\n",
      "Total Return:  1.0221507338571318\n",
      "2023-10-16\n",
      "Total Return:  1.0131072626967255\n",
      "2023-10-17\n",
      "Total Return:  0.9828077643535809\n",
      "2023-10-18\n",
      "Total Return:  0.9755872703286033\n",
      "2023-10-19\n",
      "Total Return:  0.9705462646745802\n",
      "2023-10-20\n",
      "Total Return:  0.9760009937984271\n"
     ]
    },
    {
     "name": "stderr",
     "output_type": "stream",
     "text": [
      "/Users/atulkrishnan/Desktop/TradingAlgos/Stock_Picker_Algo/Trade_Functions.py:117: RuntimeWarning: divide by zero encountered in scalar divide\n",
      "  return d/c\n"
     ]
    },
    {
     "name": "stdout",
     "output_type": "stream",
     "text": [
      "2023-10-23\n",
      "Total Return:  0.9773285089159467\n",
      "2023-10-24\n",
      "Total Return:  0.9239151460005883\n",
      "2023-10-25\n",
      "Total Return:  0.8588533219162514\n"
     ]
    },
    {
     "name": "stderr",
     "output_type": "stream",
     "text": [
      "/Users/atulkrishnan/Desktop/TradingAlgos/Stock_Picker_Algo/Trade_Functions.py:117: RuntimeWarning: divide by zero encountered in scalar divide\n",
      "  return d/c\n",
      "/Users/atulkrishnan/Desktop/TradingAlgos/Stock_Picker_Algo/Trade_Functions.py:117: RuntimeWarning: divide by zero encountered in scalar divide\n",
      "  return d/c\n"
     ]
    },
    {
     "name": "stdout",
     "output_type": "stream",
     "text": [
      "2023-10-26\n",
      "Total Return:  0.8393984092806648\n",
      "2023-10-27\n",
      "Total Return:  0.8344010857498173\n",
      "2023-10-30\n",
      "Total Return:  0.8671622668284801\n",
      "2023-10-31\n",
      "Total Return:  0.9024868015105547\n",
      "2023-11-01\n",
      "Total Return:  1.0206019548051857\n",
      "2023-11-02\n",
      "Total Return:  1.0398279248800455\n",
      "2023-11-03\n",
      "Total Return:  1.063583364979154\n",
      "2023-11-06\n",
      "Total Return:  0.9811704843336068\n",
      "2023-11-07\n",
      "Total Return:  0.9704037906744134\n",
      "2023-11-08\n",
      "Total Return:  0.9850391444122835\n",
      "2023-11-09\n",
      "Total Return:  1.0053717445997865\n",
      "2023-11-10\n",
      "Total Return:  1.0769142487707963\n",
      "2023-11-13\n",
      "Total Return:  1.1271602983025204\n",
      "2023-11-14\n",
      "Total Return:  1.1573508694759211\n",
      "2023-11-15\n",
      "Total Return:  1.1546484614589352\n",
      "2023-11-16\n",
      "Total Return:  1.2039126142405405\n",
      "2023-11-17\n",
      "Total Return:  1.224793857410714\n",
      "2023-11-20\n",
      "Total Return:  1.2444612495216891\n",
      "2023-11-21\n",
      "Total Return:  1.3011390925084032\n",
      "2023-11-22\n",
      "Total Return:  1.338227672965379\n",
      "2023-11-24\n",
      "Total Return:  1.3649716583555196\n"
     ]
    },
    {
     "name": "stderr",
     "output_type": "stream",
     "text": [
      "/Users/atulkrishnan/Desktop/TradingAlgos/Stock_Picker_Algo/Trade_Functions.py:117: RuntimeWarning: divide by zero encountered in scalar divide\n",
      "  return d/c\n",
      "/Users/atulkrishnan/Desktop/TradingAlgos/Stock_Picker_Algo/Trade_Functions.py:117: RuntimeWarning: divide by zero encountered in scalar divide\n",
      "  return d/c\n"
     ]
    },
    {
     "name": "stdout",
     "output_type": "stream",
     "text": [
      "2023-11-27\n",
      "Total Return:  1.3933788085628556\n",
      "2023-11-28\n",
      "Total Return:  1.420380892512306\n",
      "2023-11-29\n",
      "Total Return:  1.426373401425117\n"
     ]
    },
    {
     "name": "stderr",
     "output_type": "stream",
     "text": [
      "/Users/atulkrishnan/Desktop/TradingAlgos/Stock_Picker_Algo/Trade_Functions.py:117: RuntimeWarning: divide by zero encountered in scalar divide\n",
      "  return d/c\n"
     ]
    },
    {
     "name": "stdout",
     "output_type": "stream",
     "text": [
      "2023-11-30\n",
      "Total Return:  1.449349950418871\n",
      "2023-12-01\n",
      "Total Return:  1.4703163622305575\n",
      "2023-12-04\n",
      "Total Return:  1.4955182347362337\n"
     ]
    },
    {
     "name": "stderr",
     "output_type": "stream",
     "text": [
      "/Users/atulkrishnan/Desktop/TradingAlgos/Stock_Picker_Algo/Trade_Functions.py:117: RuntimeWarning: divide by zero encountered in scalar divide\n",
      "  return d/c\n"
     ]
    },
    {
     "name": "stdout",
     "output_type": "stream",
     "text": [
      "2023-12-05\n",
      "Total Return:  1.5064440025522379\n",
      "2023-12-06\n",
      "Total Return:  1.5233694768873793\n",
      "2023-12-07\n",
      "Total Return:  1.5405052410605995\n",
      "2023-12-08\n",
      "Total Return:  1.5979311859549536\n",
      "2023-12-11\n",
      "Total Return:  1.6368090726297329\n",
      "2023-12-12\n",
      "Total Return:  1.7261776236763235\n"
     ]
    },
    {
     "name": "stderr",
     "output_type": "stream",
     "text": [
      "/Users/atulkrishnan/Desktop/TradingAlgos/Stock_Picker_Algo/Trade_Functions.py:117: RuntimeWarning: divide by zero encountered in scalar divide\n",
      "  return d/c\n"
     ]
    },
    {
     "name": "stdout",
     "output_type": "stream",
     "text": [
      "2023-12-13\n",
      "Total Return:  1.7872753866276256\n",
      "2023-12-14\n",
      "Total Return:  1.8092094196521682\n",
      "2023-12-15\n",
      "Total Return:  1.819859898042691\n"
     ]
    },
    {
     "name": "stderr",
     "output_type": "stream",
     "text": [
      "/Users/atulkrishnan/Desktop/TradingAlgos/Stock_Picker_Algo/Trade_Functions.py:117: RuntimeWarning: divide by zero encountered in scalar divide\n",
      "  return d/c\n",
      "/Users/atulkrishnan/Desktop/TradingAlgos/Stock_Picker_Algo/Trade_Functions.py:117: RuntimeWarning: divide by zero encountered in scalar divide\n",
      "  return d/c\n"
     ]
    },
    {
     "name": "stdout",
     "output_type": "stream",
     "text": [
      "2023-12-18\n",
      "Total Return:  1.8039309154524426\n",
      "2023-12-19\n",
      "Total Return:  1.7723296690085442\n",
      "2023-12-20\n",
      "Total Return:  1.7219973814840377\n"
     ]
    },
    {
     "name": "stderr",
     "output_type": "stream",
     "text": [
      "/Users/atulkrishnan/Desktop/TradingAlgos/Stock_Picker_Algo/Trade_Functions.py:117: RuntimeWarning: divide by zero encountered in scalar divide\n",
      "  return d/c\n",
      "/Users/atulkrishnan/Desktop/TradingAlgos/Stock_Picker_Algo/Trade_Functions.py:117: RuntimeWarning: divide by zero encountered in scalar divide\n",
      "  return d/c\n"
     ]
    },
    {
     "name": "stdout",
     "output_type": "stream",
     "text": [
      "2023-12-21\n",
      "Total Return:  1.7591017982259625\n",
      "2023-12-22\n",
      "Total Return:  1.766082943429629\n",
      "2023-12-26\n",
      "Total Return:  1.7818534826278307\n"
     ]
    },
    {
     "name": "stderr",
     "output_type": "stream",
     "text": [
      "/Users/atulkrishnan/Desktop/TradingAlgos/Stock_Picker_Algo/Trade_Functions.py:117: RuntimeWarning: divide by zero encountered in scalar divide\n",
      "  return d/c\n"
     ]
    },
    {
     "name": "stdout",
     "output_type": "stream",
     "text": [
      "2023-12-27\n",
      "Total Return:  1.7855081417528975\n",
      "2023-12-28\n",
      "Total Return:  1.7807756977560627\n",
      "2023-12-29\n",
      "Total Return:  1.6721221708299099\n",
      "2024-01-02\n",
      "Total Return:  1.6981334475115173\n",
      "2024-01-03\n",
      "Total Return:  1.692191326044442\n",
      "2024-01-04\n",
      "Total Return:  1.7338540294945606\n"
     ]
    },
    {
     "name": "stderr",
     "output_type": "stream",
     "text": [
      "/Users/atulkrishnan/Desktop/TradingAlgos/Stock_Picker_Algo/Trade_Functions.py:117: RuntimeWarning: divide by zero encountered in scalar divide\n",
      "  return d/c\n",
      "/Users/atulkrishnan/Desktop/TradingAlgos/Stock_Picker_Algo/Trade_Functions.py:117: RuntimeWarning: divide by zero encountered in scalar divide\n",
      "  return d/c\n"
     ]
    },
    {
     "name": "stdout",
     "output_type": "stream",
     "text": [
      "2024-01-05\n",
      "Total Return:  1.7681548189337228\n",
      "2024-01-08\n",
      "Total Return:  1.9543552873466146\n",
      "2024-01-09\n",
      "Total Return:  2.0640640766049576\n"
     ]
    },
    {
     "name": "stderr",
     "output_type": "stream",
     "text": [
      "/Users/atulkrishnan/Desktop/TradingAlgos/Stock_Picker_Algo/Trade_Functions.py:117: RuntimeWarning: divide by zero encountered in scalar divide\n",
      "  return d/c\n",
      "/Users/atulkrishnan/Desktop/TradingAlgos/Stock_Picker_Algo/Trade_Functions.py:117: RuntimeWarning: divide by zero encountered in scalar divide\n",
      "  return d/c\n"
     ]
    },
    {
     "name": "stdout",
     "output_type": "stream",
     "text": [
      "2024-01-10\n",
      "Total Return:  2.072925308866659\n",
      "2024-01-11\n",
      "Total Return:  2.099311433598293\n",
      "2024-01-12\n",
      "Total Return:  2.077088319431348\n"
     ]
    },
    {
     "name": "stderr",
     "output_type": "stream",
     "text": [
      "/Users/atulkrishnan/Desktop/TradingAlgos/Stock_Picker_Algo/Trade_Functions.py:117: RuntimeWarning: divide by zero encountered in scalar divide\n",
      "  return d/c\n",
      "/Users/atulkrishnan/Desktop/TradingAlgos/Stock_Picker_Algo/Trade_Functions.py:117: RuntimeWarning: divide by zero encountered in scalar divide\n",
      "  return d/c\n",
      "/Users/atulkrishnan/Desktop/TradingAlgos/Stock_Picker_Algo/Trade_Functions.py:117: RuntimeWarning: divide by zero encountered in scalar divide\n",
      "  return d/c\n"
     ]
    },
    {
     "name": "stdout",
     "output_type": "stream",
     "text": [
      "2024-01-16\n",
      "Total Return:  2.0885531440310077\n",
      "2024-01-17\n",
      "Total Return:  2.2100396367514397\n",
      "2024-01-18\n",
      "Total Return:  2.299141707019839\n",
      "2024-01-19\n",
      "Total Return:  2.3499599347421993\n",
      "2024-01-22\n",
      "Total Return:  2.287804300216535\n",
      "2024-01-23\n",
      "Total Return:  2.350131502239673\n"
     ]
    },
    {
     "name": "stderr",
     "output_type": "stream",
     "text": [
      "/Users/atulkrishnan/Desktop/TradingAlgos/Stock_Picker_Algo/Trade_Functions.py:117: RuntimeWarning: divide by zero encountered in scalar divide\n",
      "  return d/c\n"
     ]
    },
    {
     "name": "stdout",
     "output_type": "stream",
     "text": [
      "2024-01-24\n",
      "Total Return:  2.3331222042771906\n",
      "2024-01-25\n",
      "Total Return:  2.4108528202418826\n",
      "2024-01-26\n",
      "Total Return:  2.4017016024196276\n",
      "2024-01-29\n",
      "Total Return:  2.384434208328029\n",
      "2024-01-30\n",
      "Total Return:  2.34289116554583\n",
      "2024-01-31\n",
      "Total Return:  2.500591608260068\n",
      "2024-02-01\n",
      "Total Return:  2.6688022745909508\n",
      "2024-02-02\n",
      "Total Return:  2.8048114686462204\n",
      "2024-02-05\n",
      "Total Return:  2.9545898147584753\n"
     ]
    },
    {
     "name": "stderr",
     "output_type": "stream",
     "text": [
      "/Users/atulkrishnan/Desktop/TradingAlgos/Stock_Picker_Algo/Trade_Functions.py:117: RuntimeWarning: invalid value encountered in scalar divide\n",
      "  return d/c\n",
      "/Users/atulkrishnan/Desktop/TradingAlgos/Stock_Picker_Algo/Trade_Functions.py:117: RuntimeWarning: divide by zero encountered in scalar divide\n",
      "  return d/c\n"
     ]
    },
    {
     "name": "stdout",
     "output_type": "stream",
     "text": [
      "2024-02-06\n",
      "Total Return:  3.050960394371313\n",
      "2024-02-07\n",
      "Total Return:  3.1902868528518886\n",
      "2024-02-08\n",
      "Total Return:  3.2401099435896015\n"
     ]
    },
    {
     "name": "stderr",
     "output_type": "stream",
     "text": [
      "/Users/atulkrishnan/Desktop/TradingAlgos/Stock_Picker_Algo/Trade_Functions.py:117: RuntimeWarning: divide by zero encountered in scalar divide\n",
      "  return d/c\n"
     ]
    },
    {
     "name": "stdout",
     "output_type": "stream",
     "text": [
      "2024-02-09\n",
      "Total Return:  3.336424842641394\n",
      "2024-02-12\n",
      "Total Return:  3.3696745358590174\n",
      "2024-02-13\n",
      "Total Return:  3.8740753896905176\n",
      "2024-02-14\n",
      "Total Return:  3.880098208438569\n",
      "2024-02-15\n",
      "Total Return:  3.5919223314477273\n",
      "2024-02-16\n",
      "Total Return:  3.1144506667003347\n"
     ]
    },
    {
     "name": "stderr",
     "output_type": "stream",
     "text": [
      "/Users/atulkrishnan/Desktop/TradingAlgos/Stock_Picker_Algo/Trade_Functions.py:117: RuntimeWarning: divide by zero encountered in scalar divide\n",
      "  return d/c\n",
      "/Users/atulkrishnan/Desktop/TradingAlgos/Stock_Picker_Algo/Trade_Functions.py:117: RuntimeWarning: divide by zero encountered in scalar divide\n",
      "  return d/c\n"
     ]
    },
    {
     "name": "stdout",
     "output_type": "stream",
     "text": [
      "2024-02-20\n",
      "Total Return:  3.1176132256738973\n",
      "2024-02-21\n",
      "Total Return:  3.1409920637414963\n",
      "2024-02-22\n",
      "Total Return:  3.121046446392108\n",
      "2024-02-23\n",
      "Total Return:  2.9621000750794853\n",
      "2024-02-26\n",
      "Total Return:  2.901083106138528\n",
      "2024-02-27\n",
      "Total Return:  2.846374507025732\n"
     ]
    },
    {
     "name": "stderr",
     "output_type": "stream",
     "text": [
      "/Users/atulkrishnan/Desktop/TradingAlgos/Stock_Picker_Algo/Trade_Functions.py:117: RuntimeWarning: divide by zero encountered in scalar divide\n",
      "  return d/c\n",
      "/Users/atulkrishnan/Desktop/TradingAlgos/Stock_Picker_Algo/Trade_Functions.py:117: RuntimeWarning: divide by zero encountered in scalar divide\n",
      "  return d/c\n",
      "/Users/atulkrishnan/Desktop/TradingAlgos/Stock_Picker_Algo/Trade_Functions.py:117: RuntimeWarning: divide by zero encountered in scalar divide\n",
      "  return d/c\n"
     ]
    },
    {
     "name": "stdout",
     "output_type": "stream",
     "text": [
      "2024-02-28\n",
      "Total Return:  2.9374075270558233\n",
      "2024-02-29\n",
      "Total Return:  2.9062634377682497\n",
      "2024-03-01\n",
      "Total Return:  2.9830417208496787\n",
      "2024-03-04\n",
      "Total Return:  3.124782345571141\n",
      "2024-03-05\n",
      "Total Return:  3.3496292399988317\n",
      "2024-03-06\n",
      "Total Return:  3.2868554978859916\n",
      "2024-03-07\n",
      "Total Return:  3.173999073470386\n",
      "2024-03-08\n",
      "Total Return:  3.166411468275557\n",
      "2024-03-11\n",
      "Total Return:  3.1590896790401057\n",
      "2024-03-12\n",
      "Total Return:  3.009254601310295\n",
      "2024-03-13\n",
      "Total Return:  2.926343985637679\n",
      "2024-03-14\n",
      "Total Return:  2.812706262532889\n"
     ]
    },
    {
     "name": "stderr",
     "output_type": "stream",
     "text": [
      "/Users/atulkrishnan/Desktop/TradingAlgos/Stock_Picker_Algo/Trade_Functions.py:117: RuntimeWarning: divide by zero encountered in scalar divide\n",
      "  return d/c\n"
     ]
    },
    {
     "name": "stdout",
     "output_type": "stream",
     "text": [
      "2024-03-15\n",
      "Total Return:  2.8705062846381773\n",
      "2024-03-18\n",
      "Total Return:  2.86798809440908\n",
      "2024-03-19\n",
      "Total Return:  2.8401347899224123\n",
      "2024-03-20\n",
      "Total Return:  2.787988680159258\n",
      "2024-03-21\n",
      "Total Return:  2.7916051578025947\n",
      "2024-03-22\n",
      "Total Return:  2.818951321801201\n"
     ]
    },
    {
     "name": "stderr",
     "output_type": "stream",
     "text": [
      "/Users/atulkrishnan/Desktop/TradingAlgos/Stock_Picker_Algo/Trade_Functions.py:117: RuntimeWarning: divide by zero encountered in scalar divide\n",
      "  return d/c\n",
      "/Users/atulkrishnan/Desktop/TradingAlgos/Stock_Picker_Algo/Trade_Functions.py:117: RuntimeWarning: divide by zero encountered in scalar divide\n",
      "  return d/c\n",
      "/Users/atulkrishnan/Desktop/TradingAlgos/Stock_Picker_Algo/Trade_Functions.py:117: RuntimeWarning: divide by zero encountered in scalar divide\n",
      "  return d/c\n"
     ]
    },
    {
     "name": "stdout",
     "output_type": "stream",
     "text": [
      "2024-03-25\n",
      "Total Return:  2.9261965309949516\n",
      "2024-03-26\n",
      "Total Return:  2.8220920435299353\n",
      "2024-03-27\n",
      "Total Return:  2.8330404883129425\n"
     ]
    },
    {
     "name": "stderr",
     "output_type": "stream",
     "text": [
      "/Users/atulkrishnan/Desktop/TradingAlgos/Stock_Picker_Algo/Trade_Functions.py:117: RuntimeWarning: divide by zero encountered in scalar divide\n",
      "  return d/c\n"
     ]
    },
    {
     "name": "stdout",
     "output_type": "stream",
     "text": [
      "2024-03-28\n",
      "Total Return:  2.852655288826227\n",
      "2024-04-01\n",
      "Total Return:  2.7483787000179465\n",
      "2024-04-02\n",
      "Total Return:  2.7243204543669983\n",
      "2024-04-03\n",
      "Total Return:  2.779954598087012\n",
      "2024-04-04\n",
      "Total Return:  2.6867400530724765\n",
      "2024-04-05\n",
      "Total Return:  2.7153817427478284\n",
      "2024-04-08\n",
      "Total Return:  2.678511913700693\n",
      "2024-04-09\n",
      "Total Return:  2.6340860286310233\n",
      "2024-04-10\n",
      "Total Return:  2.5679796002086546\n",
      "2024-04-11\n",
      "Total Return:  2.42963627256527\n",
      "2024-04-12\n",
      "Total Return:  2.3371616392890666\n",
      "2024-04-15\n",
      "Total Return:  2.2064280489825414\n",
      "2024-04-16\n",
      "Total Return:  2.15555261092018\n",
      "2024-04-17\n",
      "Total Return:  1.9159690293331506\n",
      "2024-04-18\n",
      "Total Return:  1.7737007563702032\n"
     ]
    },
    {
     "name": "stderr",
     "output_type": "stream",
     "text": [
      "/Users/atulkrishnan/Desktop/TradingAlgos/Stock_Picker_Algo/Trade_Functions.py:117: RuntimeWarning: divide by zero encountered in scalar divide\n",
      "  return d/c\n"
     ]
    },
    {
     "name": "stdout",
     "output_type": "stream",
     "text": [
      "2024-04-19\n",
      "Total Return:  1.8021784479406726\n",
      "2024-04-22\n",
      "Total Return:  1.8177498568439323\n",
      "2024-04-23\n",
      "Total Return:  1.8327757951874823\n",
      "2024-04-24\n",
      "Total Return:  1.8624591105532198\n",
      "2024-04-25\n",
      "Total Return:  2.0261573673692106\n",
      "2024-04-26\n",
      "Total Return:  2.127900650495536\n"
     ]
    },
    {
     "name": "stderr",
     "output_type": "stream",
     "text": [
      "/Users/atulkrishnan/Desktop/TradingAlgos/Stock_Picker_Algo/Trade_Functions.py:117: RuntimeWarning: divide by zero encountered in scalar divide\n",
      "  return d/c\n",
      "/Users/atulkrishnan/Desktop/TradingAlgos/Stock_Picker_Algo/Trade_Functions.py:117: RuntimeWarning: divide by zero encountered in scalar divide\n",
      "  return d/c\n"
     ]
    },
    {
     "name": "stdout",
     "output_type": "stream",
     "text": [
      "2024-04-29\n",
      "Total Return:  1.9840748504099688\n",
      "2024-04-30\n",
      "Total Return:  1.873841496790702\n",
      "2024-05-01\n",
      "Total Return:  1.9616983595685653\n"
     ]
    },
    {
     "name": "stderr",
     "output_type": "stream",
     "text": [
      "/Users/atulkrishnan/Desktop/TradingAlgos/Stock_Picker_Algo/Trade_Functions.py:117: RuntimeWarning: divide by zero encountered in scalar divide\n",
      "  return d/c\n",
      "/Users/atulkrishnan/Desktop/TradingAlgos/Stock_Picker_Algo/Trade_Functions.py:117: RuntimeWarning: divide by zero encountered in scalar divide\n",
      "  return d/c\n"
     ]
    },
    {
     "name": "stdout",
     "output_type": "stream",
     "text": [
      "2024-05-02\n",
      "Total Return:  2.0293000402431987\n",
      "2024-05-03\n",
      "Total Return:  2.0008163200061384\n",
      "2024-05-06\n",
      "Total Return:  1.9648402891189383\n",
      "2024-05-07\n",
      "Total Return:  1.9383232204305239\n",
      "2024-05-08\n",
      "Total Return:  1.9151315140898957\n",
      "2024-05-09\n",
      "Total Return:  1.958966155650095\n"
     ]
    },
    {
     "name": "stderr",
     "output_type": "stream",
     "text": [
      "/Users/atulkrishnan/Desktop/TradingAlgos/Stock_Picker_Algo/Trade_Functions.py:117: RuntimeWarning: divide by zero encountered in scalar divide\n",
      "  return d/c\n"
     ]
    },
    {
     "name": "stdout",
     "output_type": "stream",
     "text": [
      "2024-05-10\n",
      "Total Return:  1.9516793906996215\n",
      "2024-05-13\n",
      "Total Return:  1.9868278547163265\n",
      "2024-05-14\n",
      "Total Return:  2.002986708556366\n",
      "2024-05-15\n",
      "Total Return:  1.9767700355172257\n",
      "2024-05-16\n",
      "Total Return:  1.9557305860605236\n",
      "2024-05-17\n",
      "Total Return:  1.9477404475469744\n"
     ]
    },
    {
     "name": "stderr",
     "output_type": "stream",
     "text": [
      "/Users/atulkrishnan/Desktop/TradingAlgos/Stock_Picker_Algo/Trade_Functions.py:117: RuntimeWarning: divide by zero encountered in scalar divide\n",
      "  return d/c\n"
     ]
    },
    {
     "name": "stdout",
     "output_type": "stream",
     "text": [
      "2024-05-20\n",
      "Total Return:  1.9509326564644898\n",
      "2024-05-21\n",
      "Total Return:  2.0341407777519143\n",
      "2024-05-22\n",
      "Total Return:  2.1327950774722355\n"
     ]
    },
    {
     "name": "stderr",
     "output_type": "stream",
     "text": [
      "/Users/atulkrishnan/Desktop/TradingAlgos/Stock_Picker_Algo/Trade_Functions.py:117: RuntimeWarning: divide by zero encountered in scalar divide\n",
      "  return d/c\n"
     ]
    },
    {
     "name": "stdout",
     "output_type": "stream",
     "text": [
      "2024-05-23\n",
      "Total Return:  2.062674316879168\n",
      "2024-05-24\n",
      "Total Return:  2.0409954982428355\n",
      "2024-05-28\n",
      "Total Return:  2.0061450953946753\n",
      "2024-05-29\n",
      "Total Return:  1.966505621186347\n",
      "2024-05-30\n",
      "Total Return:  2.013394034443456\n",
      "2024-05-31\n",
      "Total Return:  2.048366485495884\n"
     ]
    },
    {
     "name": "stderr",
     "output_type": "stream",
     "text": [
      "/Users/atulkrishnan/Desktop/TradingAlgos/Stock_Picker_Algo/Trade_Functions.py:117: RuntimeWarning: divide by zero encountered in scalar divide\n",
      "  return d/c\n"
     ]
    },
    {
     "name": "stdout",
     "output_type": "stream",
     "text": [
      "2024-06-03\n",
      "Total Return:  1.9990238690914737\n",
      "2024-06-04\n",
      "Total Return:  2.0728750860190686\n",
      "2024-06-05\n",
      "Total Return:  2.1482610138204237\n",
      "2024-06-06\n",
      "Total Return:  2.2372326178092656\n",
      "2024-06-07\n",
      "Total Return:  2.309075974076774\n",
      "2024-06-10\n",
      "Total Return:  2.284741894335654\n"
     ]
    },
    {
     "name": "stderr",
     "output_type": "stream",
     "text": [
      "/Users/atulkrishnan/Desktop/TradingAlgos/Stock_Picker_Algo/Trade_Functions.py:117: RuntimeWarning: divide by zero encountered in scalar divide\n",
      "  return d/c\n"
     ]
    },
    {
     "name": "stdout",
     "output_type": "stream",
     "text": [
      "2024-06-11\n",
      "Total Return:  2.3637855420392024\n",
      "2024-06-12\n",
      "Total Return:  2.395548277208235\n",
      "2024-06-13\n",
      "Total Return:  2.3880683940901712\n"
     ]
    },
    {
     "name": "stderr",
     "output_type": "stream",
     "text": [
      "/Users/atulkrishnan/Desktop/TradingAlgos/Stock_Picker_Algo/Trade_Functions.py:117: RuntimeWarning: divide by zero encountered in scalar divide\n",
      "  return d/c\n",
      "/Users/atulkrishnan/Desktop/TradingAlgos/Stock_Picker_Algo/Trade_Functions.py:117: RuntimeWarning: divide by zero encountered in scalar divide\n",
      "  return d/c\n",
      "/Users/atulkrishnan/Desktop/TradingAlgos/Stock_Picker_Algo/Trade_Functions.py:117: RuntimeWarning: divide by zero encountered in scalar divide\n",
      "  return d/c\n"
     ]
    },
    {
     "name": "stdout",
     "output_type": "stream",
     "text": [
      "2024-06-14\n",
      "Total Return:  2.582175788404817\n",
      "2024-06-17\n",
      "Total Return:  2.60716428159681\n",
      "2024-06-18\n",
      "Total Return:  2.5598040865385108\n",
      "2024-06-20\n",
      "Total Return:  2.2340437833378597\n",
      "2024-06-21\n",
      "Total Return:  2.216644406613479\n",
      "2024-06-24\n",
      "Total Return:  2.2379988046991777\n"
     ]
    },
    {
     "name": "stderr",
     "output_type": "stream",
     "text": [
      "/Users/atulkrishnan/Desktop/TradingAlgos/Stock_Picker_Algo/Trade_Functions.py:117: RuntimeWarning: divide by zero encountered in scalar divide\n",
      "  return d/c\n"
     ]
    },
    {
     "name": "stdout",
     "output_type": "stream",
     "text": [
      "2024-06-25\n",
      "Total Return:  2.303636217448741\n",
      "2024-06-26\n",
      "Total Return:  2.284613442726757\n",
      "2024-06-27\n",
      "Total Return:  2.3257045381832557\n"
     ]
    },
    {
     "name": "stderr",
     "output_type": "stream",
     "text": [
      "/Users/atulkrishnan/Desktop/TradingAlgos/Stock_Picker_Algo/Trade_Functions.py:117: RuntimeWarning: divide by zero encountered in scalar divide\n",
      "  return d/c\n",
      "/Users/atulkrishnan/Desktop/TradingAlgos/Stock_Picker_Algo/Trade_Functions.py:117: RuntimeWarning: divide by zero encountered in scalar divide\n",
      "  return d/c\n"
     ]
    },
    {
     "name": "stdout",
     "output_type": "stream",
     "text": [
      "2024-06-28\n",
      "Total Return:  2.394302519949516\n",
      "2024-07-01\n",
      "Total Return:  2.4590315454357685\n",
      "2024-07-02\n",
      "Total Return:  2.603403108711058\n"
     ]
    },
    {
     "name": "stderr",
     "output_type": "stream",
     "text": [
      "/Users/atulkrishnan/Desktop/TradingAlgos/Stock_Picker_Algo/Trade_Functions.py:117: RuntimeWarning: divide by zero encountered in scalar divide\n",
      "  return d/c\n"
     ]
    },
    {
     "name": "stdout",
     "output_type": "stream",
     "text": [
      "2024-07-03\n",
      "Total Return:  2.7217684215726443\n",
      "2024-07-05\n",
      "Total Return:  2.8099640862748334\n",
      "2024-07-08\n",
      "Total Return:  2.8835753744622457\n"
     ]
    },
    {
     "name": "stderr",
     "output_type": "stream",
     "text": [
      "/Users/atulkrishnan/Desktop/TradingAlgos/Stock_Picker_Algo/Trade_Functions.py:117: RuntimeWarning: divide by zero encountered in scalar divide\n",
      "  return d/c\n",
      "/Users/atulkrishnan/Desktop/TradingAlgos/Stock_Picker_Algo/Trade_Functions.py:117: RuntimeWarning: divide by zero encountered in scalar divide\n",
      "  return d/c\n"
     ]
    },
    {
     "name": "stdout",
     "output_type": "stream",
     "text": [
      "2024-07-09\n",
      "Total Return:  2.7966183064105556\n",
      "2024-07-10\n",
      "Total Return:  2.7869571533167705\n",
      "2024-07-11\n",
      "Total Return:  2.6984157708310823\n"
     ]
    },
    {
     "name": "stderr",
     "output_type": "stream",
     "text": [
      "/Users/atulkrishnan/Desktop/TradingAlgos/Stock_Picker_Algo/Trade_Functions.py:117: RuntimeWarning: divide by zero encountered in scalar divide\n",
      "  return d/c\n"
     ]
    },
    {
     "name": "stdout",
     "output_type": "stream",
     "text": [
      "2024-07-12\n",
      "Total Return:  2.778073067228818\n",
      "2024-07-15\n",
      "Total Return:  2.88236811887061\n",
      "2024-07-16\n",
      "Total Return:  2.8600281977112476\n",
      "2024-07-17\n",
      "Total Return:  2.8431535462745505\n",
      "2024-07-18\n",
      "Total Return:  2.7508303866101245\n",
      "2024-07-19\n",
      "Total Return:  2.698639344159356\n"
     ]
    },
    {
     "name": "stderr",
     "output_type": "stream",
     "text": [
      "/Users/atulkrishnan/Desktop/TradingAlgos/Stock_Picker_Algo/Trade_Functions.py:117: RuntimeWarning: divide by zero encountered in scalar divide\n",
      "  return d/c\n"
     ]
    },
    {
     "name": "stdout",
     "output_type": "stream",
     "text": [
      "2024-07-22\n",
      "Total Return:  2.626948427563126\n",
      "2024-07-23\n",
      "Total Return:  2.4346710044547013\n",
      "2024-07-24\n",
      "Total Return:  2.294259889077315\n",
      "2024-07-25\n",
      "Total Return:  2.3402307876772857\n",
      "2024-07-26\n",
      "Total Return:  2.4138388545224547\n",
      "2024-07-29\n",
      "Total Return:  2.4586654631813554\n",
      "2024-07-30\n",
      "Total Return:  2.376303242478797\n",
      "2024-07-31\n",
      "Total Return:  2.3189915596463124\n",
      "2024-08-01\n",
      "Total Return:  2.095259939096124\n"
     ]
    },
    {
     "name": "stderr",
     "output_type": "stream",
     "text": [
      "/Users/atulkrishnan/Desktop/TradingAlgos/Stock_Picker_Algo/Trade_Functions.py:117: RuntimeWarning: divide by zero encountered in scalar divide\n",
      "  return d/c\n"
     ]
    },
    {
     "name": "stdout",
     "output_type": "stream",
     "text": [
      "2024-08-02\n",
      "Total Return:  2.109006013418068\n",
      "2024-08-05\n",
      "Total Return:  2.292787311970295\n",
      "2024-08-06\n",
      "Total Return:  2.3266828629585836\n",
      "2024-08-07\n",
      "Total Return:  2.334016872807235\n",
      "2024-08-08\n",
      "Total Return:  2.4029926086421094\n",
      "2024-08-09\n",
      "Total Return:  2.393101454854924\n",
      "2024-08-12\n",
      "Total Return:  2.463390329544303\n",
      "2024-08-13\n",
      "Total Return:  2.569996289445826\n",
      "2024-08-14\n",
      "Total Return:  2.6740407120445644\n",
      "2024-08-15\n",
      "Total Return:  2.758682406156618\n",
      "2024-08-16\n",
      "Total Return:  2.766776603953517\n",
      "2024-08-19\n",
      "Total Return:  2.8227384059482543\n",
      "2024-08-20\n",
      "Total Return:  2.7275063580514978\n",
      "2024-08-21\n",
      "Total Return:  2.6824224406073442\n",
      "2024-08-22\n",
      "Total Return:  2.6564987520110552\n"
     ]
    },
    {
     "name": "stderr",
     "output_type": "stream",
     "text": [
      "/Users/atulkrishnan/Desktop/TradingAlgos/Stock_Picker_Algo/Trade_Functions.py:117: RuntimeWarning: divide by zero encountered in scalar divide\n",
      "  return d/c\n"
     ]
    },
    {
     "name": "stdout",
     "output_type": "stream",
     "text": [
      "2024-08-23\n",
      "Total Return:  2.6094515004790866\n",
      "2024-08-26\n",
      "Total Return:  2.537097398100777\n",
      "2024-08-27\n",
      "Total Return:  2.5136177369773796\n",
      "2024-08-28\n",
      "Total Return:  2.4371117978738663\n",
      "2024-08-29\n",
      "Total Return:  2.419443235985087\n",
      "2024-08-30\n",
      "Total Return:  2.39027035812894\n"
     ]
    },
    {
     "name": "stderr",
     "output_type": "stream",
     "text": [
      "/Users/atulkrishnan/Desktop/TradingAlgos/Stock_Picker_Algo/Trade_Functions.py:117: RuntimeWarning: divide by zero encountered in scalar divide\n",
      "  return d/c\n"
     ]
    },
    {
     "name": "stdout",
     "output_type": "stream",
     "text": [
      "2024-09-03\n",
      "Total Return:  2.258514636909608\n",
      "2024-09-04\n",
      "Total Return:  2.193640737514878\n",
      "2024-09-05\n",
      "Total Return:  2.176630832962856\n",
      "2024-09-06\n",
      "Total Return:  2.141732161814793\n",
      "2024-09-09\n",
      "Total Return:  2.14988835210336\n",
      "2024-09-10\n",
      "Total Return:  2.0920224091909647\n",
      "2024-09-11\n",
      "Total Return:  2.185782965771425\n",
      "2024-09-12\n",
      "Total Return:  2.223807762093154\n",
      "2024-09-13\n",
      "Total Return:  2.156163321716783\n"
     ]
    },
    {
     "name": "stderr",
     "output_type": "stream",
     "text": [
      "/Users/atulkrishnan/Desktop/TradingAlgos/Stock_Picker_Algo/Trade_Functions.py:117: RuntimeWarning: divide by zero encountered in scalar divide\n",
      "  return d/c\n"
     ]
    },
    {
     "name": "stdout",
     "output_type": "stream",
     "text": [
      "2024-09-16\n",
      "Total Return:  2.127826711107413\n",
      "2024-09-17\n",
      "Total Return:  2.1011158649270847\n",
      "2024-09-18\n",
      "Total Return:  2.0384180521536175\n"
     ]
    },
    {
     "name": "stderr",
     "output_type": "stream",
     "text": [
      "/Users/atulkrishnan/Desktop/TradingAlgos/Stock_Picker_Algo/Trade_Functions.py:117: RuntimeWarning: divide by zero encountered in scalar divide\n",
      "  return d/c\n",
      "/Users/atulkrishnan/Desktop/TradingAlgos/Stock_Picker_Algo/Trade_Functions.py:117: RuntimeWarning: divide by zero encountered in scalar divide\n",
      "  return d/c\n"
     ]
    },
    {
     "name": "stdout",
     "output_type": "stream",
     "text": [
      "2024-09-19\n",
      "Total Return:  1.993451708689036\n",
      "2024-09-20\n",
      "Total Return:  2.0582812661366106\n",
      "2024-09-23\n",
      "Total Return:  2.0368238013804385\n"
     ]
    },
    {
     "name": "stderr",
     "output_type": "stream",
     "text": [
      "/Users/atulkrishnan/Desktop/TradingAlgos/Stock_Picker_Algo/Trade_Functions.py:117: RuntimeWarning: invalid value encountered in scalar divide\n",
      "  return d/c\n",
      "/Users/atulkrishnan/Desktop/TradingAlgos/Stock_Picker_Algo/Trade_Functions.py:117: RuntimeWarning: divide by zero encountered in scalar divide\n",
      "  return d/c\n"
     ]
    },
    {
     "name": "stdout",
     "output_type": "stream",
     "text": [
      "2024-09-24\n",
      "Total Return:  1.9944221388517374\n",
      "2024-09-25\n",
      "Total Return:  2.194239941222476\n",
      "2024-09-26\n",
      "Total Return:  2.1801909434971507\n"
     ]
    },
    {
     "name": "stderr",
     "output_type": "stream",
     "text": [
      "/Users/atulkrishnan/Desktop/TradingAlgos/Stock_Picker_Algo/Trade_Functions.py:117: RuntimeWarning: divide by zero encountered in scalar divide\n",
      "  return d/c\n",
      "/Users/atulkrishnan/Desktop/TradingAlgos/Stock_Picker_Algo/Trade_Functions.py:117: RuntimeWarning: divide by zero encountered in scalar divide\n",
      "  return d/c\n"
     ]
    },
    {
     "name": "stdout",
     "output_type": "stream",
     "text": [
      "2024-09-27\n",
      "Total Return:  2.1276229137159883\n",
      "2024-09-30\n",
      "Total Return:  2.0954316100773376\n",
      "2024-10-01\n",
      "Total Return:  2.1608450819621923\n"
     ]
    },
    {
     "name": "stderr",
     "output_type": "stream",
     "text": [
      "/Users/atulkrishnan/Desktop/TradingAlgos/Stock_Picker_Algo/Trade_Functions.py:117: RuntimeWarning: divide by zero encountered in scalar divide\n",
      "  return d/c\n",
      "/Users/atulkrishnan/Desktop/TradingAlgos/Stock_Picker_Algo/Trade_Functions.py:117: RuntimeWarning: divide by zero encountered in scalar divide\n",
      "  return d/c\n"
     ]
    },
    {
     "name": "stdout",
     "output_type": "stream",
     "text": [
      "2024-10-02\n",
      "Total Return:  2.2076461731591777\n",
      "2024-10-03\n",
      "Total Return:  2.3225118975091945\n",
      "2024-10-04\n",
      "Total Return:  2.3858941250074452\n"
     ]
    },
    {
     "name": "stderr",
     "output_type": "stream",
     "text": [
      "/Users/atulkrishnan/Desktop/TradingAlgos/Stock_Picker_Algo/Trade_Functions.py:117: RuntimeWarning: divide by zero encountered in scalar divide\n",
      "  return d/c\n",
      "/Users/atulkrishnan/Desktop/TradingAlgos/Stock_Picker_Algo/Trade_Functions.py:117: RuntimeWarning: divide by zero encountered in scalar divide\n",
      "  return d/c\n"
     ]
    },
    {
     "name": "stdout",
     "output_type": "stream",
     "text": [
      "2024-10-07\n",
      "Total Return:  2.3132855293843972\n",
      "2024-10-08\n",
      "Total Return:  2.2154725784071863\n",
      "2024-10-09\n",
      "Total Return:  2.2828678898402415\n"
     ]
    },
    {
     "name": "stderr",
     "output_type": "stream",
     "text": [
      "/Users/atulkrishnan/Desktop/TradingAlgos/Stock_Picker_Algo/Trade_Functions.py:117: RuntimeWarning: divide by zero encountered in scalar divide\n",
      "  return d/c\n"
     ]
    },
    {
     "name": "stdout",
     "output_type": "stream",
     "text": [
      "2024-10-10\n",
      "Total Return:  2.3861070271090425\n",
      "2024-10-11\n",
      "Total Return:  2.389063832835423\n",
      "2024-10-14\n",
      "Total Return:  2.328761723245291\n",
      "2024-10-15\n",
      "Total Return:  2.3024801050216235\n",
      "2024-10-16\n",
      "Total Return:  2.329458520057066\n",
      "2024-10-17\n",
      "Total Return:  2.272054218126534\n",
      "2024-10-18\n",
      "Total Return:  2.274841489750404\n",
      "2024-10-21\n",
      "Total Return:  2.232986555566037\n",
      "2024-10-22\n",
      "Total Return:  2.2046682847142334\n"
     ]
    },
    {
     "name": "stderr",
     "output_type": "stream",
     "text": [
      "/Users/atulkrishnan/Desktop/TradingAlgos/Stock_Picker_Algo/Trade_Functions.py:117: RuntimeWarning: divide by zero encountered in scalar divide\n",
      "  return d/c\n",
      "/Users/atulkrishnan/Desktop/TradingAlgos/Stock_Picker_Algo/Trade_Functions.py:117: RuntimeWarning: divide by zero encountered in scalar divide\n",
      "  return d/c\n"
     ]
    },
    {
     "name": "stdout",
     "output_type": "stream",
     "text": [
      "2024-10-23\n",
      "Total Return:  2.151932240460358\n",
      "2024-10-24\n",
      "Total Return:  2.186778845945888\n",
      "2024-10-25\n",
      "Total Return:  2.186495917432263\n",
      "2024-10-28\n",
      "Total Return:  2.129277974730459\n",
      "2024-10-29\n",
      "Total Return:  2.043793132432163\n",
      "2024-10-30\n",
      "Total Return:  1.9487806615227927\n",
      "2024-10-31\n",
      "Total Return:  1.9477245427037382\n",
      "2024-11-01\n",
      "Total Return:  1.9824058557620239\n",
      "2024-11-04\n",
      "Total Return:  2.0957226933933164\n"
     ]
    },
    {
     "name": "stderr",
     "output_type": "stream",
     "text": [
      "[I 2024-11-14 10:51:11,089] Trial 4 finished with values: [0.0, 0.8934426229508197] and parameters: {'TimeInput': 3, 'NumStocks': 3, 'holdTime': 2}.\n"
     ]
    },
    {
     "name": "stdout",
     "output_type": "stream",
     "text": [
      "2024-11-05\n",
      "Total Return:  2.1708593641112763\n",
      "UNABLE TO FIND:--- GFS ----\n",
      "UNABLE TO FIND:--- SMCI ----\n",
      "UNABLE TO FIND:--- VRTX ----\n",
      "2024-11-06\n",
      "Total Return:  0\n",
      "UNABLE TO FIND:--- ARM ----\n",
      "2023-01-05\n",
      "Total Return:  1.0095989424338911\n",
      "UNABLE TO FIND:--- ARM ----\n"
     ]
    },
    {
     "name": "stderr",
     "output_type": "stream",
     "text": [
      "/Users/atulkrishnan/Desktop/TradingAlgos/Stock_Picker_Algo/Trade_Functions.py:117: RuntimeWarning: divide by zero encountered in scalar divide\n",
      "  return d/c\n"
     ]
    },
    {
     "name": "stdout",
     "output_type": "stream",
     "text": [
      "2023-01-06\n",
      "Total Return:  1.0393359378589573\n",
      "UNABLE TO FIND:--- ARM ----\n",
      "2023-01-09\n",
      "Total Return:  1.0382354704683463\n",
      "UNABLE TO FIND:--- ARM ----\n",
      "2023-01-10\n",
      "Total Return:  1.0421741694953468\n",
      "UNABLE TO FIND:--- ARM ----\n",
      "2023-01-11\n",
      "Total Return:  1.0203049344795203\n",
      "UNABLE TO FIND:--- ARM ----\n",
      "2023-01-12\n",
      "Total Return:  1.0075718248713343\n",
      "UNABLE TO FIND:--- ARM ----\n",
      "2023-01-13\n",
      "Total Return:  1.0494681529447127\n",
      "UNABLE TO FIND:--- ARM ----\n",
      "2023-01-17\n",
      "Total Return:  1.0590600278344158\n",
      "UNABLE TO FIND:--- ARM ----\n",
      "2023-01-18\n",
      "Total Return:  1.0179719628334991\n",
      "UNABLE TO FIND:--- ARM ----\n",
      "2023-01-19\n",
      "Total Return:  1.0083082525101297\n",
      "UNABLE TO FIND:--- ARM ----\n"
     ]
    },
    {
     "name": "stderr",
     "output_type": "stream",
     "text": [
      "/Users/atulkrishnan/Desktop/TradingAlgos/Stock_Picker_Algo/Trade_Functions.py:117: RuntimeWarning: divide by zero encountered in scalar divide\n",
      "  return d/c\n",
      "/Users/atulkrishnan/Desktop/TradingAlgos/Stock_Picker_Algo/Trade_Functions.py:117: RuntimeWarning: divide by zero encountered in scalar divide\n",
      "  return d/c\n"
     ]
    },
    {
     "name": "stdout",
     "output_type": "stream",
     "text": [
      "2023-01-20\n",
      "Total Return:  1.043368435258507\n",
      "UNABLE TO FIND:--- ARM ----\n",
      "2023-01-23\n",
      "Total Return:  1.09994205021837\n",
      "UNABLE TO FIND:--- ARM ----\n",
      "2023-01-24\n",
      "Total Return:  1.1122505070421784\n",
      "UNABLE TO FIND:--- ARM ----\n",
      "2023-01-25\n",
      "Total Return:  1.1132374334288415\n",
      "UNABLE TO FIND:--- ARM ----\n",
      "2023-01-26\n",
      "Total Return:  1.1362491538696622\n",
      "UNABLE TO FIND:--- ARM ----\n",
      "2023-01-27\n",
      "Total Return:  1.1902494226335176\n",
      "UNABLE TO FIND:--- ARM ----\n"
     ]
    },
    {
     "name": "stderr",
     "output_type": "stream",
     "text": [
      "/Users/atulkrishnan/Desktop/TradingAlgos/Stock_Picker_Algo/Trade_Functions.py:117: RuntimeWarning: divide by zero encountered in scalar divide\n",
      "  return d/c\n",
      "/Users/atulkrishnan/Desktop/TradingAlgos/Stock_Picker_Algo/Trade_Functions.py:117: RuntimeWarning: divide by zero encountered in scalar divide\n",
      "  return d/c\n"
     ]
    },
    {
     "name": "stdout",
     "output_type": "stream",
     "text": [
      "2023-01-30\n",
      "Total Return:  1.1246115166873898\n",
      "UNABLE TO FIND:--- ARM ----\n",
      "2023-01-31\n",
      "Total Return:  1.1097774969098564\n",
      "UNABLE TO FIND:--- ARM ----\n",
      "2023-02-01\n",
      "Total Return:  1.1690080320187364\n",
      "UNABLE TO FIND:--- ARM ----\n"
     ]
    },
    {
     "name": "stderr",
     "output_type": "stream",
     "text": [
      "/Users/atulkrishnan/Desktop/TradingAlgos/Stock_Picker_Algo/Trade_Functions.py:117: RuntimeWarning: divide by zero encountered in scalar divide\n",
      "  return d/c\n"
     ]
    },
    {
     "name": "stdout",
     "output_type": "stream",
     "text": [
      "2023-02-02\n",
      "Total Return:  1.1987723415286893\n",
      "UNABLE TO FIND:--- ARM ----\n",
      "2023-02-03\n",
      "Total Return:  1.1959551768040322\n",
      "UNABLE TO FIND:--- ARM ----\n",
      "2023-02-06\n",
      "Total Return:  1.2061308150874286\n",
      "UNABLE TO FIND:--- ARM ----\n",
      "2023-02-07\n",
      "Total Return:  1.2034674188100665\n",
      "UNABLE TO FIND:--- ARM ----\n",
      "2023-02-08\n",
      "Total Return:  1.186460712387345\n",
      "UNABLE TO FIND:--- ARM ----\n",
      "2023-02-09\n",
      "Total Return:  1.1511528287441215\n",
      "UNABLE TO FIND:--- ARM ----\n"
     ]
    },
    {
     "name": "stderr",
     "output_type": "stream",
     "text": [
      "/Users/atulkrishnan/Desktop/TradingAlgos/Stock_Picker_Algo/Trade_Functions.py:117: RuntimeWarning: divide by zero encountered in scalar divide\n",
      "  return d/c\n",
      "/Users/atulkrishnan/Desktop/TradingAlgos/Stock_Picker_Algo/Trade_Functions.py:117: RuntimeWarning: divide by zero encountered in scalar divide\n",
      "  return d/c\n"
     ]
    },
    {
     "name": "stdout",
     "output_type": "stream",
     "text": [
      "2023-02-10\n",
      "Total Return:  1.1568625995942283\n",
      "UNABLE TO FIND:--- ARM ----\n",
      "2023-02-13\n",
      "Total Return:  1.1512606357911088\n",
      "UNABLE TO FIND:--- ARM ----\n",
      "2023-02-14\n",
      "Total Return:  1.1712930741643413\n",
      "UNABLE TO FIND:--- ARM ----\n"
     ]
    },
    {
     "name": "stderr",
     "output_type": "stream",
     "text": [
      "/Users/atulkrishnan/Desktop/TradingAlgos/Stock_Picker_Algo/Trade_Functions.py:117: RuntimeWarning: divide by zero encountered in scalar divide\n",
      "  return d/c\n",
      "/Users/atulkrishnan/Desktop/TradingAlgos/Stock_Picker_Algo/Trade_Functions.py:117: RuntimeWarning: divide by zero encountered in scalar divide\n",
      "  return d/c\n"
     ]
    },
    {
     "name": "stdout",
     "output_type": "stream",
     "text": [
      "2023-02-15\n",
      "Total Return:  1.1848615840638035\n",
      "UNABLE TO FIND:--- ARM ----\n",
      "2023-02-16\n",
      "Total Return:  1.1846215848681583\n",
      "UNABLE TO FIND:--- ARM ----\n",
      "2023-02-17\n",
      "Total Return:  1.1588477781414823\n",
      "UNABLE TO FIND:--- ARM ----\n",
      "2023-02-21\n",
      "Total Return:  1.1361122495774811\n",
      "UNABLE TO FIND:--- ARM ----\n",
      "2023-02-22\n",
      "Total Return:  1.1397901368196923\n",
      "UNABLE TO FIND:--- ARM ----\n",
      "2023-02-23\n",
      "Total Return:  1.132540041771815\n",
      "UNABLE TO FIND:--- ARM ----\n",
      "2023-02-24\n",
      "Total Return:  1.1370757623100707\n",
      "UNABLE TO FIND:--- ARM ----\n",
      "2023-02-27\n",
      "Total Return:  1.1472241107005403\n",
      "UNABLE TO FIND:--- ARM ----\n",
      "2023-02-28\n",
      "Total Return:  1.1171645313827956\n",
      "UNABLE TO FIND:--- ARM ----\n"
     ]
    },
    {
     "name": "stderr",
     "output_type": "stream",
     "text": [
      "/Users/atulkrishnan/Desktop/TradingAlgos/Stock_Picker_Algo/Trade_Functions.py:117: RuntimeWarning: divide by zero encountered in scalar divide\n",
      "  return d/c\n"
     ]
    },
    {
     "name": "stdout",
     "output_type": "stream",
     "text": [
      "2023-03-01\n",
      "Total Return:  1.111333112296498\n",
      "UNABLE TO FIND:--- ARM ----\n",
      "2023-03-02\n",
      "Total Return:  1.1331418315312436\n",
      "UNABLE TO FIND:--- ARM ----\n",
      "2023-03-03\n",
      "Total Return:  1.1488291060790905\n",
      "UNABLE TO FIND:--- ARM ----\n",
      "2023-03-06\n",
      "Total Return:  1.128745073541447\n",
      "UNABLE TO FIND:--- ARM ----\n",
      "2023-03-07\n",
      "Total Return:  1.1260648746403485\n",
      "UNABLE TO FIND:--- ARM ----\n",
      "2023-03-08\n",
      "Total Return:  1.1471064569374894\n",
      "UNABLE TO FIND:--- ARM ----\n",
      "2023-03-09\n",
      "Total Return:  1.1096915610169265\n",
      "UNABLE TO FIND:--- ARM ----\n",
      "2023-03-10\n",
      "Total Return:  1.1122026439184238\n",
      "UNABLE TO FIND:--- ARM ----\n",
      "2023-03-13\n",
      "Total Return:  1.1213809338472354\n",
      "UNABLE TO FIND:--- ARM ----\n",
      "2023-03-14\n",
      "Total Return:  1.1199933887587823\n",
      "UNABLE TO FIND:--- ARM ----\n",
      "2023-03-15\n",
      "Total Return:  1.15270498389715\n",
      "UNABLE TO FIND:--- ARM ----\n",
      "2023-03-16\n",
      "Total Return:  1.1866208128586044\n",
      "UNABLE TO FIND:--- ARM ----\n",
      "2023-03-17\n",
      "Total Return:  1.1900293011652021\n",
      "UNABLE TO FIND:--- ARM ----\n",
      "2023-03-20\n",
      "Total Return:  1.2039202479692048\n",
      "UNABLE TO FIND:--- ARM ----\n",
      "2023-03-21\n",
      "Total Return:  1.2540355784965773\n",
      "UNABLE TO FIND:--- ARM ----\n",
      "2023-03-22\n",
      "Total Return:  1.2496506189809449\n",
      "UNABLE TO FIND:--- ARM ----\n",
      "2023-03-23\n",
      "Total Return:  1.2510869722768736\n",
      "UNABLE TO FIND:--- ARM ----\n",
      "2023-03-24\n",
      "Total Return:  1.277843138813952\n",
      "UNABLE TO FIND:--- ARM ----\n"
     ]
    },
    {
     "name": "stderr",
     "output_type": "stream",
     "text": [
      "/Users/atulkrishnan/Desktop/TradingAlgos/Stock_Picker_Algo/Trade_Functions.py:117: RuntimeWarning: divide by zero encountered in scalar divide\n",
      "  return d/c\n"
     ]
    },
    {
     "name": "stdout",
     "output_type": "stream",
     "text": [
      "2023-03-27\n",
      "Total Return:  1.2592284606602235\n",
      "UNABLE TO FIND:--- ARM ----\n",
      "2023-03-28\n",
      "Total Return:  1.276148454685241\n",
      "UNABLE TO FIND:--- ARM ----\n",
      "2023-03-29\n",
      "Total Return:  1.273345451271151\n",
      "UNABLE TO FIND:--- ARM ----\n"
     ]
    },
    {
     "name": "stderr",
     "output_type": "stream",
     "text": [
      "/Users/atulkrishnan/Desktop/TradingAlgos/Stock_Picker_Algo/Trade_Functions.py:117: RuntimeWarning: divide by zero encountered in scalar divide\n",
      "  return d/c\n"
     ]
    },
    {
     "name": "stdout",
     "output_type": "stream",
     "text": [
      "2023-03-30\n",
      "Total Return:  1.2660898000667544\n",
      "UNABLE TO FIND:--- ARM ----\n",
      "2023-03-31\n",
      "Total Return:  1.2718223280381693\n",
      "UNABLE TO FIND:--- ARM ----\n",
      "2023-04-03\n",
      "Total Return:  1.243150439625103\n",
      "UNABLE TO FIND:--- ARM ----\n",
      "2023-04-04\n",
      "Total Return:  1.2019989283547488\n",
      "UNABLE TO FIND:--- ARM ----\n",
      "2023-04-05\n",
      "Total Return:  1.203842943351802\n",
      "UNABLE TO FIND:--- ARM ----\n",
      "2023-04-06\n",
      "Total Return:  1.198039573220265\n",
      "UNABLE TO FIND:--- ARM ----\n"
     ]
    },
    {
     "name": "stderr",
     "output_type": "stream",
     "text": [
      "/Users/atulkrishnan/Desktop/TradingAlgos/Stock_Picker_Algo/Trade_Functions.py:117: RuntimeWarning: divide by zero encountered in scalar divide\n",
      "  return d/c\n"
     ]
    },
    {
     "name": "stdout",
     "output_type": "stream",
     "text": [
      "2023-04-10\n",
      "Total Return:  1.2118333159458805\n",
      "UNABLE TO FIND:--- ARM ----\n",
      "2023-04-11\n",
      "Total Return:  1.1959864810641623\n",
      "UNABLE TO FIND:--- ARM ----\n",
      "2023-04-12\n",
      "Total Return:  1.1396724987981728\n",
      "UNABLE TO FIND:--- ARM ----\n"
     ]
    },
    {
     "name": "stderr",
     "output_type": "stream",
     "text": [
      "/Users/atulkrishnan/Desktop/TradingAlgos/Stock_Picker_Algo/Trade_Functions.py:117: RuntimeWarning: divide by zero encountered in scalar divide\n",
      "  return d/c\n",
      "/Users/atulkrishnan/Desktop/TradingAlgos/Stock_Picker_Algo/Trade_Functions.py:117: RuntimeWarning: invalid value encountered in scalar divide\n",
      "  return d/c\n",
      "/Users/atulkrishnan/Desktop/TradingAlgos/Stock_Picker_Algo/Trade_Functions.py:117: RuntimeWarning: divide by zero encountered in scalar divide\n",
      "  return d/c\n"
     ]
    },
    {
     "name": "stdout",
     "output_type": "stream",
     "text": [
      "2023-04-13\n",
      "Total Return:  1.1216515275311445\n",
      "UNABLE TO FIND:--- ARM ----\n",
      "2023-04-14\n",
      "Total Return:  1.1232909718309396\n",
      "UNABLE TO FIND:--- ARM ----\n",
      "2023-04-17\n",
      "Total Return:  1.1217020226015944\n",
      "UNABLE TO FIND:--- ARM ----\n",
      "2023-04-18\n",
      "Total Return:  1.1029853936475842\n",
      "UNABLE TO FIND:--- ARM ----\n",
      "2023-04-19\n",
      "Total Return:  1.0785959099455358\n",
      "UNABLE TO FIND:--- ARM ----\n",
      "2023-04-20\n",
      "Total Return:  1.069690845395392\n",
      "UNABLE TO FIND:--- ARM ----\n"
     ]
    },
    {
     "name": "stderr",
     "output_type": "stream",
     "text": [
      "/Users/atulkrishnan/Desktop/TradingAlgos/Stock_Picker_Algo/Trade_Functions.py:117: RuntimeWarning: divide by zero encountered in scalar divide\n",
      "  return d/c\n",
      "/Users/atulkrishnan/Desktop/TradingAlgos/Stock_Picker_Algo/Trade_Functions.py:117: RuntimeWarning: divide by zero encountered in scalar divide\n",
      "  return d/c\n"
     ]
    },
    {
     "name": "stdout",
     "output_type": "stream",
     "text": [
      "2023-04-21\n",
      "Total Return:  1.058566774132998\n",
      "UNABLE TO FIND:--- ARM ----\n",
      "2023-04-24\n",
      "Total Return:  1.0444476538165546\n",
      "UNABLE TO FIND:--- ARM ----\n",
      "2023-04-25\n",
      "Total Return:  1.0339859704924688\n",
      "UNABLE TO FIND:--- ARM ----\n"
     ]
    },
    {
     "name": "stderr",
     "output_type": "stream",
     "text": [
      "/Users/atulkrishnan/Desktop/TradingAlgos/Stock_Picker_Algo/Trade_Functions.py:117: RuntimeWarning: divide by zero encountered in scalar divide\n",
      "  return d/c\n"
     ]
    },
    {
     "name": "stdout",
     "output_type": "stream",
     "text": [
      "2023-04-26\n",
      "Total Return:  1.0376470360942136\n",
      "UNABLE TO FIND:--- ARM ----\n",
      "2023-04-27\n",
      "Total Return:  1.0272556300928533\n",
      "UNABLE TO FIND:--- ARM ----\n",
      "2023-04-28\n",
      "Total Return:  1.0471318600292063\n",
      "UNABLE TO FIND:--- ARM ----\n",
      "2023-05-01\n",
      "Total Return:  1.0424680660272587\n",
      "UNABLE TO FIND:--- ARM ----\n",
      "2023-05-02\n",
      "Total Return:  1.032547283035747\n",
      "UNABLE TO FIND:--- ARM ----\n",
      "2023-05-03\n",
      "Total Return:  1.015127373035781\n",
      "UNABLE TO FIND:--- ARM ----\n",
      "2023-05-04\n",
      "Total Return:  1.0211071291006573\n",
      "UNABLE TO FIND:--- ARM ----\n",
      "2023-05-05\n",
      "Total Return:  1.027136935280859\n",
      "UNABLE TO FIND:--- ARM ----\n",
      "2023-05-08\n",
      "Total Return:  1.024087402834098\n",
      "UNABLE TO FIND:--- ARM ----\n",
      "2023-05-09\n",
      "Total Return:  1.020442559287048\n",
      "UNABLE TO FIND:--- ARM ----\n",
      "2023-05-10\n",
      "Total Return:  1.0357335046147988\n",
      "UNABLE TO FIND:--- ARM ----\n",
      "2023-05-11\n",
      "Total Return:  1.0365339587630373\n",
      "UNABLE TO FIND:--- ARM ----\n"
     ]
    },
    {
     "name": "stderr",
     "output_type": "stream",
     "text": [
      "/Users/atulkrishnan/Desktop/TradingAlgos/Stock_Picker_Algo/Trade_Functions.py:117: RuntimeWarning: divide by zero encountered in scalar divide\n",
      "  return d/c\n",
      "/Users/atulkrishnan/Desktop/TradingAlgos/Stock_Picker_Algo/Trade_Functions.py:117: RuntimeWarning: divide by zero encountered in scalar divide\n",
      "  return d/c\n"
     ]
    },
    {
     "name": "stdout",
     "output_type": "stream",
     "text": [
      "2023-05-12\n",
      "Total Return:  1.035999168323672\n",
      "UNABLE TO FIND:--- ARM ----\n",
      "2023-05-15\n",
      "Total Return:  1.0462317868368722\n",
      "UNABLE TO FIND:--- ARM ----\n",
      "2023-05-16\n",
      "Total Return:  1.0216605723732446\n",
      "UNABLE TO FIND:--- ARM ----\n"
     ]
    },
    {
     "name": "stderr",
     "output_type": "stream",
     "text": [
      "/Users/atulkrishnan/Desktop/TradingAlgos/Stock_Picker_Algo/Trade_Functions.py:117: RuntimeWarning: divide by zero encountered in scalar divide\n",
      "  return d/c\n",
      "/Users/atulkrishnan/Desktop/TradingAlgos/Stock_Picker_Algo/Trade_Functions.py:117: RuntimeWarning: divide by zero encountered in scalar divide\n",
      "  return d/c\n"
     ]
    },
    {
     "name": "stdout",
     "output_type": "stream",
     "text": [
      "2023-05-17\n",
      "Total Return:  1.0568992845651377\n",
      "UNABLE TO FIND:--- ARM ----\n",
      "2023-05-18\n",
      "Total Return:  1.102682641380922\n",
      "UNABLE TO FIND:--- ARM ----\n",
      "2023-05-19\n",
      "Total Return:  1.085081463105285\n",
      "UNABLE TO FIND:--- ARM ----\n"
     ]
    },
    {
     "name": "stderr",
     "output_type": "stream",
     "text": [
      "/Users/atulkrishnan/Desktop/TradingAlgos/Stock_Picker_Algo/Trade_Functions.py:117: RuntimeWarning: divide by zero encountered in scalar divide\n",
      "  return d/c\n"
     ]
    },
    {
     "name": "stdout",
     "output_type": "stream",
     "text": [
      "2023-05-22\n",
      "Total Return:  1.0844615072945185\n",
      "UNABLE TO FIND:--- ARM ----\n",
      "2023-05-23\n",
      "Total Return:  1.0898197951062611\n",
      "UNABLE TO FIND:--- ARM ----\n",
      "2023-05-24\n",
      "Total Return:  1.0512421742144151\n",
      "UNABLE TO FIND:--- ARM ----\n"
     ]
    },
    {
     "name": "stderr",
     "output_type": "stream",
     "text": [
      "/Users/atulkrishnan/Desktop/TradingAlgos/Stock_Picker_Algo/Trade_Functions.py:117: RuntimeWarning: divide by zero encountered in scalar divide\n",
      "  return d/c\n",
      "/Users/atulkrishnan/Desktop/TradingAlgos/Stock_Picker_Algo/Trade_Functions.py:117: RuntimeWarning: divide by zero encountered in scalar divide\n",
      "  return d/c\n"
     ]
    },
    {
     "name": "stdout",
     "output_type": "stream",
     "text": [
      "2023-05-25\n",
      "Total Return:  1.0100778765220566\n",
      "UNABLE TO FIND:--- ARM ----\n",
      "2023-05-26\n",
      "Total Return:  1.0463562962126822\n",
      "UNABLE TO FIND:--- ARM ----\n",
      "2023-05-30\n",
      "Total Return:  0.9867490109546444\n",
      "UNABLE TO FIND:--- ARM ----\n",
      "2023-05-31\n",
      "Total Return:  0.9808876314310546\n",
      "UNABLE TO FIND:--- ARM ----\n",
      "2023-06-01\n",
      "Total Return:  0.9792554741941821\n",
      "UNABLE TO FIND:--- ARM ----\n",
      "2023-06-02\n",
      "Total Return:  0.9610510261639208\n",
      "UNABLE TO FIND:--- ARM ----\n",
      "2023-06-05\n",
      "Total Return:  0.96421493587308\n",
      "UNABLE TO FIND:--- ARM ----\n",
      "2023-06-06\n",
      "Total Return:  0.9506370810731553\n",
      "UNABLE TO FIND:--- ARM ----\n",
      "2023-06-07\n",
      "Total Return:  0.9323144286774614\n",
      "UNABLE TO FIND:--- ARM ----\n"
     ]
    },
    {
     "name": "stderr",
     "output_type": "stream",
     "text": [
      "/Users/atulkrishnan/Desktop/TradingAlgos/Stock_Picker_Algo/Trade_Functions.py:117: RuntimeWarning: divide by zero encountered in scalar divide\n",
      "  return d/c\n",
      "/Users/atulkrishnan/Desktop/TradingAlgos/Stock_Picker_Algo/Trade_Functions.py:117: RuntimeWarning: divide by zero encountered in scalar divide\n",
      "  return d/c\n"
     ]
    },
    {
     "name": "stdout",
     "output_type": "stream",
     "text": [
      "2023-06-08\n",
      "Total Return:  0.9618796585267173\n",
      "UNABLE TO FIND:--- ARM ----\n",
      "2023-06-09\n",
      "Total Return:  0.9502263207522536\n",
      "UNABLE TO FIND:--- ARM ----\n",
      "2023-06-12\n",
      "Total Return:  0.9650365671132834\n",
      "UNABLE TO FIND:--- ARM ----\n"
     ]
    },
    {
     "name": "stderr",
     "output_type": "stream",
     "text": [
      "/Users/atulkrishnan/Desktop/TradingAlgos/Stock_Picker_Algo/Trade_Functions.py:117: RuntimeWarning: divide by zero encountered in scalar divide\n",
      "  return d/c\n"
     ]
    },
    {
     "name": "stdout",
     "output_type": "stream",
     "text": [
      "2023-06-13\n",
      "Total Return:  0.9605506011373088\n",
      "UNABLE TO FIND:--- ARM ----\n",
      "2023-06-14\n",
      "Total Return:  0.985502151134195\n",
      "UNABLE TO FIND:--- ARM ----\n",
      "2023-06-15\n",
      "Total Return:  0.9936341428524906\n",
      "UNABLE TO FIND:--- ARM ----\n",
      "2023-06-16\n",
      "Total Return:  0.9497765117764114\n",
      "UNABLE TO FIND:--- ARM ----\n",
      "2023-06-20\n",
      "Total Return:  0.9791551325331423\n",
      "UNABLE TO FIND:--- ARM ----\n",
      "2023-06-21\n",
      "Total Return:  0.945910044820645\n",
      "UNABLE TO FIND:--- ARM ----\n"
     ]
    },
    {
     "name": "stderr",
     "output_type": "stream",
     "text": [
      "/Users/atulkrishnan/Desktop/TradingAlgos/Stock_Picker_Algo/Trade_Functions.py:117: RuntimeWarning: divide by zero encountered in scalar divide\n",
      "  return d/c\n"
     ]
    },
    {
     "name": "stdout",
     "output_type": "stream",
     "text": [
      "2023-06-22\n",
      "Total Return:  0.942380389754163\n",
      "UNABLE TO FIND:--- ARM ----\n",
      "2023-06-23\n",
      "Total Return:  0.9376475228110398\n",
      "UNABLE TO FIND:--- ARM ----\n",
      "2023-06-26\n",
      "Total Return:  0.9176376696786754\n",
      "UNABLE TO FIND:--- ARM ----\n"
     ]
    },
    {
     "name": "stderr",
     "output_type": "stream",
     "text": [
      "/Users/atulkrishnan/Desktop/TradingAlgos/Stock_Picker_Algo/Trade_Functions.py:117: RuntimeWarning: divide by zero encountered in scalar divide\n",
      "  return d/c\n"
     ]
    },
    {
     "name": "stdout",
     "output_type": "stream",
     "text": [
      "2023-06-27\n",
      "Total Return:  0.9576957650774931\n",
      "UNABLE TO FIND:--- ARM ----\n",
      "2023-06-28\n",
      "Total Return:  0.9781954006790137\n",
      "UNABLE TO FIND:--- ARM ----\n",
      "2023-06-29\n",
      "Total Return:  0.9522522276473179\n",
      "UNABLE TO FIND:--- ARM ----\n"
     ]
    },
    {
     "name": "stderr",
     "output_type": "stream",
     "text": [
      "/Users/atulkrishnan/Desktop/TradingAlgos/Stock_Picker_Algo/Trade_Functions.py:117: RuntimeWarning: divide by zero encountered in scalar divide\n",
      "  return d/c\n",
      "/Users/atulkrishnan/Desktop/TradingAlgos/Stock_Picker_Algo/Trade_Functions.py:117: RuntimeWarning: divide by zero encountered in scalar divide\n",
      "  return d/c\n"
     ]
    },
    {
     "name": "stdout",
     "output_type": "stream",
     "text": [
      "2023-06-30\n",
      "Total Return:  0.9565403117133235\n",
      "UNABLE TO FIND:--- ARM ----\n",
      "2023-07-03\n",
      "Total Return:  0.9442142058457621\n",
      "UNABLE TO FIND:--- ARM ----\n",
      "2023-07-05\n",
      "Total Return:  0.9489441341036029\n",
      "UNABLE TO FIND:--- ARM ----\n",
      "2023-07-06\n",
      "Total Return:  0.9160461880393477\n",
      "UNABLE TO FIND:--- ARM ----\n",
      "2023-07-07\n",
      "Total Return:  0.9157720176387232\n",
      "UNABLE TO FIND:--- ARM ----\n",
      "2023-07-10\n",
      "Total Return:  0.9238990649685764\n",
      "UNABLE TO FIND:--- ARM ----\n",
      "2023-07-11\n",
      "Total Return:  0.8948910300007584\n",
      "UNABLE TO FIND:--- ARM ----\n",
      "2023-07-12\n",
      "Total Return:  0.8911869717954799\n",
      "UNABLE TO FIND:--- ARM ----\n",
      "2023-07-13\n",
      "Total Return:  0.8978134866227974\n",
      "UNABLE TO FIND:--- ARM ----\n",
      "2023-07-14\n",
      "Total Return:  0.8916191028478404\n",
      "UNABLE TO FIND:--- ARM ----\n",
      "2023-07-17\n",
      "Total Return:  0.8948749698827015\n",
      "UNABLE TO FIND:--- ARM ----\n",
      "2023-07-18\n",
      "Total Return:  0.9072512663686535\n",
      "UNABLE TO FIND:--- ARM ----\n",
      "2023-07-19\n",
      "Total Return:  0.8794820882576022\n",
      "UNABLE TO FIND:--- ARM ----\n",
      "2023-07-20\n",
      "Total Return:  0.849128924158928\n",
      "UNABLE TO FIND:--- ARM ----\n",
      "2023-07-21\n",
      "Total Return:  0.8472218680082526\n",
      "UNABLE TO FIND:--- ARM ----\n"
     ]
    },
    {
     "name": "stderr",
     "output_type": "stream",
     "text": [
      "/Users/atulkrishnan/Desktop/TradingAlgos/Stock_Picker_Algo/Trade_Functions.py:117: RuntimeWarning: divide by zero encountered in scalar divide\n",
      "  return d/c\n"
     ]
    },
    {
     "name": "stdout",
     "output_type": "stream",
     "text": [
      "2023-07-24\n",
      "Total Return:  0.8385327781375717\n",
      "UNABLE TO FIND:--- ARM ----\n",
      "2023-07-25\n",
      "Total Return:  0.8326658150233159\n",
      "UNABLE TO FIND:--- ARM ----\n",
      "2023-07-26\n",
      "Total Return:  0.8499937262287259\n",
      "UNABLE TO FIND:--- ARM ----\n",
      "2023-07-27\n",
      "Total Return:  0.8303308566038857\n",
      "UNABLE TO FIND:--- ARM ----\n",
      "2023-07-28\n",
      "Total Return:  0.831039507815471\n",
      "UNABLE TO FIND:--- ARM ----\n",
      "2023-07-31\n",
      "Total Return:  0.8202170797029813\n",
      "UNABLE TO FIND:--- ARM ----\n"
     ]
    },
    {
     "name": "stderr",
     "output_type": "stream",
     "text": [
      "/Users/atulkrishnan/Desktop/TradingAlgos/Stock_Picker_Algo/Trade_Functions.py:117: RuntimeWarning: divide by zero encountered in scalar divide\n",
      "  return d/c\n"
     ]
    },
    {
     "name": "stdout",
     "output_type": "stream",
     "text": [
      "2023-08-01\n",
      "Total Return:  0.8269722167906322\n",
      "UNABLE TO FIND:--- ARM ----\n",
      "2023-08-02\n",
      "Total Return:  0.7745184842429957\n",
      "UNABLE TO FIND:--- ARM ----\n",
      "2023-08-03\n",
      "Total Return:  0.7739653114049824\n",
      "UNABLE TO FIND:--- ARM ----\n"
     ]
    },
    {
     "name": "stderr",
     "output_type": "stream",
     "text": [
      "/Users/atulkrishnan/Desktop/TradingAlgos/Stock_Picker_Algo/Trade_Functions.py:117: RuntimeWarning: divide by zero encountered in scalar divide\n",
      "  return d/c\n",
      "/Users/atulkrishnan/Desktop/TradingAlgos/Stock_Picker_Algo/Trade_Functions.py:117: RuntimeWarning: divide by zero encountered in scalar divide\n",
      "  return d/c\n"
     ]
    },
    {
     "name": "stdout",
     "output_type": "stream",
     "text": [
      "2023-08-04\n",
      "Total Return:  0.7675253737030151\n",
      "UNABLE TO FIND:--- ARM ----\n",
      "2023-08-07\n",
      "Total Return:  0.7701036358657907\n",
      "UNABLE TO FIND:--- ARM ----\n",
      "2023-08-08\n",
      "Total Return:  0.7673430183950424\n",
      "UNABLE TO FIND:--- ARM ----\n",
      "2023-08-09\n",
      "Total Return:  0.7631171542542268\n",
      "UNABLE TO FIND:--- ARM ----\n",
      "2023-08-10\n",
      "Total Return:  0.7497311421799531\n",
      "UNABLE TO FIND:--- ARM ----\n",
      "2023-08-11\n",
      "Total Return:  0.7442676753484504\n",
      "UNABLE TO FIND:--- ARM ----\n"
     ]
    },
    {
     "name": "stderr",
     "output_type": "stream",
     "text": [
      "/Users/atulkrishnan/Desktop/TradingAlgos/Stock_Picker_Algo/Trade_Functions.py:117: RuntimeWarning: divide by zero encountered in scalar divide\n",
      "  return d/c\n",
      "/Users/atulkrishnan/Desktop/TradingAlgos/Stock_Picker_Algo/Trade_Functions.py:117: RuntimeWarning: divide by zero encountered in scalar divide\n",
      "  return d/c\n"
     ]
    },
    {
     "name": "stdout",
     "output_type": "stream",
     "text": [
      "2023-08-14\n",
      "Total Return:  0.7451208458559855\n",
      "UNABLE TO FIND:--- ARM ----\n",
      "2023-08-15\n",
      "Total Return:  0.7274798472662156\n",
      "UNABLE TO FIND:--- ARM ----\n",
      "2023-08-16\n",
      "Total Return:  0.7235407412664491\n",
      "UNABLE TO FIND:--- ARM ----\n",
      "2023-08-17\n",
      "Total Return:  0.7510008796310212\n",
      "UNABLE TO FIND:--- ARM ----\n",
      "2023-08-18\n",
      "Total Return:  0.7386429937070217\n",
      "UNABLE TO FIND:--- ARM ----\n",
      "2023-08-21\n",
      "Total Return:  0.7391578945728\n",
      "UNABLE TO FIND:--- ARM ----\n",
      "2023-08-22\n",
      "Total Return:  0.7406009101728029\n",
      "UNABLE TO FIND:--- ARM ----\n",
      "2023-08-23\n",
      "Total Return:  0.7379617624089476\n",
      "UNABLE TO FIND:--- ARM ----\n",
      "2023-08-24\n",
      "Total Return:  0.6765513886687735\n",
      "UNABLE TO FIND:--- ARM ----\n",
      "2023-08-25\n",
      "Total Return:  0.6861552791581161\n",
      "UNABLE TO FIND:--- ARM ----\n",
      "2023-08-28\n",
      "Total Return:  0.6849624824294329\n",
      "UNABLE TO FIND:--- ARM ----\n",
      "2023-08-29\n",
      "Total Return:  0.7033078486755076\n",
      "UNABLE TO FIND:--- ARM ----\n"
     ]
    },
    {
     "name": "stderr",
     "output_type": "stream",
     "text": [
      "/Users/atulkrishnan/Desktop/TradingAlgos/Stock_Picker_Algo/Trade_Functions.py:117: RuntimeWarning: divide by zero encountered in scalar divide\n",
      "  return d/c\n"
     ]
    },
    {
     "name": "stdout",
     "output_type": "stream",
     "text": [
      "2023-08-30\n",
      "Total Return:  0.7202406792972573\n",
      "UNABLE TO FIND:--- ARM ----\n",
      "2023-08-31\n",
      "Total Return:  0.7324715042213792\n",
      "UNABLE TO FIND:--- ARM ----\n",
      "2023-09-01\n",
      "Total Return:  0.7285868603628421\n",
      "UNABLE TO FIND:--- ARM ----\n",
      "2023-09-05\n",
      "Total Return:  0.7365800565357968\n",
      "UNABLE TO FIND:--- ARM ----\n",
      "2023-09-06\n",
      "Total Return:  0.7345219638727987\n",
      "UNABLE TO FIND:--- ARM ----\n",
      "2023-09-07\n",
      "Total Return:  0.7259941982391822\n",
      "UNABLE TO FIND:--- ARM ----\n",
      "2023-09-08\n",
      "Total Return:  0.724262280432821\n",
      "UNABLE TO FIND:--- ARM ----\n",
      "2023-09-11\n",
      "Total Return:  0.7091624433646999\n",
      "UNABLE TO FIND:--- ARM ----\n",
      "2023-09-12\n",
      "Total Return:  0.6928851491867272\n",
      "UNABLE TO FIND:--- ARM ----\n"
     ]
    },
    {
     "name": "stderr",
     "output_type": "stream",
     "text": [
      "/Users/atulkrishnan/Desktop/TradingAlgos/Stock_Picker_Algo/Trade_Functions.py:117: RuntimeWarning: divide by zero encountered in scalar divide\n",
      "  return d/c\n",
      "/Users/atulkrishnan/Desktop/TradingAlgos/Stock_Picker_Algo/Trade_Functions.py:117: RuntimeWarning: divide by zero encountered in scalar divide\n",
      "  return d/c\n",
      "/Users/atulkrishnan/Desktop/TradingAlgos/Stock_Picker_Algo/Trade_Functions.py:117: RuntimeWarning: divide by zero encountered in scalar divide\n",
      "  return d/c\n",
      "[W 2024-11-14 10:51:25,915] Trial 5 failed with parameters: {'TimeInput': 2, 'NumStocks': 2, 'holdTime': 0} because of the following error: ValueError('All arrays must be of the same length').\n",
      "Traceback (most recent call last):\n",
      "  File \"/Library/Frameworks/Python.framework/Versions/3.12/lib/python3.12/site-packages/optuna/study/_optimize.py\", line 197, in _run_trial\n",
      "    value_or_values = func(trial)\n",
      "                      ^^^^^^^^^^^\n",
      "  File \"/var/folders/5h/lv_gm99s337dww6tj437kv080000gn/T/ipykernel_1103/1244801105.py\", line 20, in objective\n",
      "    Money = pick_trade(RunDate=day,NumStocks=NumStocks,Money=Money,cal=cal,TimeInput=TimeInput,holdTime=holdTime,debug=False)\n",
      "            ^^^^^^^^^^^^^^^^^^^^^^^^^^^^^^^^^^^^^^^^^^^^^^^^^^^^^^^^^^^^^^^^^^^^^^^^^^^^^^^^^^^^^^^^^^^^^^^^^^^^^^^^^^^^^^^^^\n",
      "  File \"/Users/atulkrishnan/Desktop/TradingAlgos/Stock_Picker_Algo/Trade_Functions.py\", line 276, in pick_trade\n",
      "    PctChange = get_SortedPctChange(RunDate,TimeInput,NDXfile,debug=debug)\n",
      "                ^^^^^^^^^^^^^^^^^^^^^^^^^^^^^^^^^^^^^^^^^^^^^^^^^^^^^^^^^^\n",
      "  File \"/Users/atulkrishnan/Desktop/TradingAlgos/Stock_Picker_Algo/Trade_Functions.py\", line 151, in get_SortedPctChange\n",
      "    dfChange = (pd.DataFrame(PctChangeList).sort_values('PctChange',ascending=False)).reset_index(drop=True)\n",
      "                ^^^^^^^^^^^^^^^^^^^^^^^^^^^\n",
      "  File \"/Library/Frameworks/Python.framework/Versions/3.12/lib/python3.12/site-packages/pandas/core/frame.py\", line 767, in __init__\n",
      "    mgr = dict_to_mgr(data, index, columns, dtype=dtype, copy=copy, typ=manager)\n",
      "          ^^^^^^^^^^^^^^^^^^^^^^^^^^^^^^^^^^^^^^^^^^^^^^^^^^^^^^^^^^^^^^^^^^^^^^\n",
      "  File \"/Library/Frameworks/Python.framework/Versions/3.12/lib/python3.12/site-packages/pandas/core/internals/construction.py\", line 503, in dict_to_mgr\n",
      "    return arrays_to_mgr(arrays, columns, index, dtype=dtype, typ=typ, consolidate=copy)\n",
      "           ^^^^^^^^^^^^^^^^^^^^^^^^^^^^^^^^^^^^^^^^^^^^^^^^^^^^^^^^^^^^^^^^^^^^^^^^^^^^^\n",
      "  File \"/Library/Frameworks/Python.framework/Versions/3.12/lib/python3.12/site-packages/pandas/core/internals/construction.py\", line 114, in arrays_to_mgr\n",
      "    index = _extract_index(arrays)\n",
      "            ^^^^^^^^^^^^^^^^^^^^^^\n",
      "  File \"/Library/Frameworks/Python.framework/Versions/3.12/lib/python3.12/site-packages/pandas/core/internals/construction.py\", line 677, in _extract_index\n",
      "    raise ValueError(\"All arrays must be of the same length\")\n",
      "ValueError: All arrays must be of the same length\n",
      "[W 2024-11-14 10:51:25,919] Trial 5 failed with value None.\n"
     ]
    },
    {
     "name": "stdout",
     "output_type": "stream",
     "text": [
      "2023-09-13\n",
      "Total Return:  0.6925529479341077\n",
      "UNABLE TO FIND:--- ARM ----\n",
      "2023-09-14\n",
      "Total Return:  0.7036269889748643\n",
      "UNABLE TO FIND:--- ARM ----\n",
      "2023-09-15\n",
      "Total Return:  0.7059457679662693\n",
      "UNABLE TO FIND:--- ARM ----\n"
     ]
    },
    {
     "ename": "ValueError",
     "evalue": "All arrays must be of the same length",
     "output_type": "error",
     "traceback": [
      "\u001b[0;31m---------------------------------------------------------------------------\u001b[0m",
      "\u001b[0;31mValueError\u001b[0m                                Traceback (most recent call last)",
      "Cell \u001b[0;32mIn[5], line 2\u001b[0m\n\u001b[1;32m      1\u001b[0m study \u001b[38;5;241m=\u001b[39m optuna\u001b[38;5;241m.\u001b[39mcreate_study(directions\u001b[38;5;241m=\u001b[39m[\u001b[38;5;124m'\u001b[39m\u001b[38;5;124mmaximize\u001b[39m\u001b[38;5;124m'\u001b[39m,\u001b[38;5;124m'\u001b[39m\u001b[38;5;124mminimize\u001b[39m\u001b[38;5;124m'\u001b[39m])\n\u001b[0;32m----> 2\u001b[0m \u001b[43mstudy\u001b[49m\u001b[38;5;241;43m.\u001b[39;49m\u001b[43moptimize\u001b[49m\u001b[43m(\u001b[49m\u001b[43mobjective\u001b[49m\u001b[43m,\u001b[49m\u001b[43m \u001b[49m\u001b[43mn_trials\u001b[49m\u001b[38;5;241;43m=\u001b[39;49m\u001b[38;5;241;43m100\u001b[39;49m\u001b[43m)\u001b[49m\n",
      "File \u001b[0;32m/Library/Frameworks/Python.framework/Versions/3.12/lib/python3.12/site-packages/optuna/study/study.py:475\u001b[0m, in \u001b[0;36mStudy.optimize\u001b[0;34m(self, func, n_trials, timeout, n_jobs, catch, callbacks, gc_after_trial, show_progress_bar)\u001b[0m\n\u001b[1;32m    373\u001b[0m \u001b[38;5;28;01mdef\u001b[39;00m \u001b[38;5;21moptimize\u001b[39m(\n\u001b[1;32m    374\u001b[0m     \u001b[38;5;28mself\u001b[39m,\n\u001b[1;32m    375\u001b[0m     func: ObjectiveFuncType,\n\u001b[0;32m   (...)\u001b[0m\n\u001b[1;32m    382\u001b[0m     show_progress_bar: \u001b[38;5;28mbool\u001b[39m \u001b[38;5;241m=\u001b[39m \u001b[38;5;28;01mFalse\u001b[39;00m,\n\u001b[1;32m    383\u001b[0m ) \u001b[38;5;241m-\u001b[39m\u001b[38;5;241m>\u001b[39m \u001b[38;5;28;01mNone\u001b[39;00m:\n\u001b[1;32m    384\u001b[0m \u001b[38;5;250m    \u001b[39m\u001b[38;5;124;03m\"\"\"Optimize an objective function.\u001b[39;00m\n\u001b[1;32m    385\u001b[0m \n\u001b[1;32m    386\u001b[0m \u001b[38;5;124;03m    Optimization is done by choosing a suitable set of hyperparameter values from a given\u001b[39;00m\n\u001b[0;32m   (...)\u001b[0m\n\u001b[1;32m    473\u001b[0m \u001b[38;5;124;03m            If nested invocation of this method occurs.\u001b[39;00m\n\u001b[1;32m    474\u001b[0m \u001b[38;5;124;03m    \"\"\"\u001b[39;00m\n\u001b[0;32m--> 475\u001b[0m     \u001b[43m_optimize\u001b[49m\u001b[43m(\u001b[49m\n\u001b[1;32m    476\u001b[0m \u001b[43m        \u001b[49m\u001b[43mstudy\u001b[49m\u001b[38;5;241;43m=\u001b[39;49m\u001b[38;5;28;43mself\u001b[39;49m\u001b[43m,\u001b[49m\n\u001b[1;32m    477\u001b[0m \u001b[43m        \u001b[49m\u001b[43mfunc\u001b[49m\u001b[38;5;241;43m=\u001b[39;49m\u001b[43mfunc\u001b[49m\u001b[43m,\u001b[49m\n\u001b[1;32m    478\u001b[0m \u001b[43m        \u001b[49m\u001b[43mn_trials\u001b[49m\u001b[38;5;241;43m=\u001b[39;49m\u001b[43mn_trials\u001b[49m\u001b[43m,\u001b[49m\n\u001b[1;32m    479\u001b[0m \u001b[43m        \u001b[49m\u001b[43mtimeout\u001b[49m\u001b[38;5;241;43m=\u001b[39;49m\u001b[43mtimeout\u001b[49m\u001b[43m,\u001b[49m\n\u001b[1;32m    480\u001b[0m \u001b[43m        \u001b[49m\u001b[43mn_jobs\u001b[49m\u001b[38;5;241;43m=\u001b[39;49m\u001b[43mn_jobs\u001b[49m\u001b[43m,\u001b[49m\n\u001b[1;32m    481\u001b[0m \u001b[43m        \u001b[49m\u001b[43mcatch\u001b[49m\u001b[38;5;241;43m=\u001b[39;49m\u001b[38;5;28;43mtuple\u001b[39;49m\u001b[43m(\u001b[49m\u001b[43mcatch\u001b[49m\u001b[43m)\u001b[49m\u001b[43m \u001b[49m\u001b[38;5;28;43;01mif\u001b[39;49;00m\u001b[43m \u001b[49m\u001b[38;5;28;43misinstance\u001b[39;49m\u001b[43m(\u001b[49m\u001b[43mcatch\u001b[49m\u001b[43m,\u001b[49m\u001b[43m \u001b[49m\u001b[43mIterable\u001b[49m\u001b[43m)\u001b[49m\u001b[43m \u001b[49m\u001b[38;5;28;43;01melse\u001b[39;49;00m\u001b[43m \u001b[49m\u001b[43m(\u001b[49m\u001b[43mcatch\u001b[49m\u001b[43m,\u001b[49m\u001b[43m)\u001b[49m\u001b[43m,\u001b[49m\n\u001b[1;32m    482\u001b[0m \u001b[43m        \u001b[49m\u001b[43mcallbacks\u001b[49m\u001b[38;5;241;43m=\u001b[39;49m\u001b[43mcallbacks\u001b[49m\u001b[43m,\u001b[49m\n\u001b[1;32m    483\u001b[0m \u001b[43m        \u001b[49m\u001b[43mgc_after_trial\u001b[49m\u001b[38;5;241;43m=\u001b[39;49m\u001b[43mgc_after_trial\u001b[49m\u001b[43m,\u001b[49m\n\u001b[1;32m    484\u001b[0m \u001b[43m        \u001b[49m\u001b[43mshow_progress_bar\u001b[49m\u001b[38;5;241;43m=\u001b[39;49m\u001b[43mshow_progress_bar\u001b[49m\u001b[43m,\u001b[49m\n\u001b[1;32m    485\u001b[0m \u001b[43m    \u001b[49m\u001b[43m)\u001b[49m\n",
      "File \u001b[0;32m/Library/Frameworks/Python.framework/Versions/3.12/lib/python3.12/site-packages/optuna/study/_optimize.py:63\u001b[0m, in \u001b[0;36m_optimize\u001b[0;34m(study, func, n_trials, timeout, n_jobs, catch, callbacks, gc_after_trial, show_progress_bar)\u001b[0m\n\u001b[1;32m     61\u001b[0m \u001b[38;5;28;01mtry\u001b[39;00m:\n\u001b[1;32m     62\u001b[0m     \u001b[38;5;28;01mif\u001b[39;00m n_jobs \u001b[38;5;241m==\u001b[39m \u001b[38;5;241m1\u001b[39m:\n\u001b[0;32m---> 63\u001b[0m         \u001b[43m_optimize_sequential\u001b[49m\u001b[43m(\u001b[49m\n\u001b[1;32m     64\u001b[0m \u001b[43m            \u001b[49m\u001b[43mstudy\u001b[49m\u001b[43m,\u001b[49m\n\u001b[1;32m     65\u001b[0m \u001b[43m            \u001b[49m\u001b[43mfunc\u001b[49m\u001b[43m,\u001b[49m\n\u001b[1;32m     66\u001b[0m \u001b[43m            \u001b[49m\u001b[43mn_trials\u001b[49m\u001b[43m,\u001b[49m\n\u001b[1;32m     67\u001b[0m \u001b[43m            \u001b[49m\u001b[43mtimeout\u001b[49m\u001b[43m,\u001b[49m\n\u001b[1;32m     68\u001b[0m \u001b[43m            \u001b[49m\u001b[43mcatch\u001b[49m\u001b[43m,\u001b[49m\n\u001b[1;32m     69\u001b[0m \u001b[43m            \u001b[49m\u001b[43mcallbacks\u001b[49m\u001b[43m,\u001b[49m\n\u001b[1;32m     70\u001b[0m \u001b[43m            \u001b[49m\u001b[43mgc_after_trial\u001b[49m\u001b[43m,\u001b[49m\n\u001b[1;32m     71\u001b[0m \u001b[43m            \u001b[49m\u001b[43mreseed_sampler_rng\u001b[49m\u001b[38;5;241;43m=\u001b[39;49m\u001b[38;5;28;43;01mFalse\u001b[39;49;00m\u001b[43m,\u001b[49m\n\u001b[1;32m     72\u001b[0m \u001b[43m            \u001b[49m\u001b[43mtime_start\u001b[49m\u001b[38;5;241;43m=\u001b[39;49m\u001b[38;5;28;43;01mNone\u001b[39;49;00m\u001b[43m,\u001b[49m\n\u001b[1;32m     73\u001b[0m \u001b[43m            \u001b[49m\u001b[43mprogress_bar\u001b[49m\u001b[38;5;241;43m=\u001b[39;49m\u001b[43mprogress_bar\u001b[49m\u001b[43m,\u001b[49m\n\u001b[1;32m     74\u001b[0m \u001b[43m        \u001b[49m\u001b[43m)\u001b[49m\n\u001b[1;32m     75\u001b[0m     \u001b[38;5;28;01melse\u001b[39;00m:\n\u001b[1;32m     76\u001b[0m         \u001b[38;5;28;01mif\u001b[39;00m n_jobs \u001b[38;5;241m==\u001b[39m \u001b[38;5;241m-\u001b[39m\u001b[38;5;241m1\u001b[39m:\n",
      "File \u001b[0;32m/Library/Frameworks/Python.framework/Versions/3.12/lib/python3.12/site-packages/optuna/study/_optimize.py:160\u001b[0m, in \u001b[0;36m_optimize_sequential\u001b[0;34m(study, func, n_trials, timeout, catch, callbacks, gc_after_trial, reseed_sampler_rng, time_start, progress_bar)\u001b[0m\n\u001b[1;32m    157\u001b[0m         \u001b[38;5;28;01mbreak\u001b[39;00m\n\u001b[1;32m    159\u001b[0m \u001b[38;5;28;01mtry\u001b[39;00m:\n\u001b[0;32m--> 160\u001b[0m     frozen_trial \u001b[38;5;241m=\u001b[39m \u001b[43m_run_trial\u001b[49m\u001b[43m(\u001b[49m\u001b[43mstudy\u001b[49m\u001b[43m,\u001b[49m\u001b[43m \u001b[49m\u001b[43mfunc\u001b[49m\u001b[43m,\u001b[49m\u001b[43m \u001b[49m\u001b[43mcatch\u001b[49m\u001b[43m)\u001b[49m\n\u001b[1;32m    161\u001b[0m \u001b[38;5;28;01mfinally\u001b[39;00m:\n\u001b[1;32m    162\u001b[0m     \u001b[38;5;66;03m# The following line mitigates memory problems that can be occurred in some\u001b[39;00m\n\u001b[1;32m    163\u001b[0m     \u001b[38;5;66;03m# environments (e.g., services that use computing containers such as GitHub Actions).\u001b[39;00m\n\u001b[1;32m    164\u001b[0m     \u001b[38;5;66;03m# Please refer to the following PR for further details:\u001b[39;00m\n\u001b[1;32m    165\u001b[0m     \u001b[38;5;66;03m# https://github.com/optuna/optuna/pull/325.\u001b[39;00m\n\u001b[1;32m    166\u001b[0m     \u001b[38;5;28;01mif\u001b[39;00m gc_after_trial:\n",
      "File \u001b[0;32m/Library/Frameworks/Python.framework/Versions/3.12/lib/python3.12/site-packages/optuna/study/_optimize.py:248\u001b[0m, in \u001b[0;36m_run_trial\u001b[0;34m(study, func, catch)\u001b[0m\n\u001b[1;32m    241\u001b[0m         \u001b[38;5;28;01massert\u001b[39;00m \u001b[38;5;28;01mFalse\u001b[39;00m, \u001b[38;5;124m\"\u001b[39m\u001b[38;5;124mShould not reach.\u001b[39m\u001b[38;5;124m\"\u001b[39m\n\u001b[1;32m    243\u001b[0m \u001b[38;5;28;01mif\u001b[39;00m (\n\u001b[1;32m    244\u001b[0m     frozen_trial\u001b[38;5;241m.\u001b[39mstate \u001b[38;5;241m==\u001b[39m TrialState\u001b[38;5;241m.\u001b[39mFAIL\n\u001b[1;32m    245\u001b[0m     \u001b[38;5;129;01mand\u001b[39;00m func_err \u001b[38;5;129;01mis\u001b[39;00m \u001b[38;5;129;01mnot\u001b[39;00m \u001b[38;5;28;01mNone\u001b[39;00m\n\u001b[1;32m    246\u001b[0m     \u001b[38;5;129;01mand\u001b[39;00m \u001b[38;5;129;01mnot\u001b[39;00m \u001b[38;5;28misinstance\u001b[39m(func_err, catch)\n\u001b[1;32m    247\u001b[0m ):\n\u001b[0;32m--> 248\u001b[0m     \u001b[38;5;28;01mraise\u001b[39;00m func_err\n\u001b[1;32m    249\u001b[0m \u001b[38;5;28;01mreturn\u001b[39;00m frozen_trial\n",
      "File \u001b[0;32m/Library/Frameworks/Python.framework/Versions/3.12/lib/python3.12/site-packages/optuna/study/_optimize.py:197\u001b[0m, in \u001b[0;36m_run_trial\u001b[0;34m(study, func, catch)\u001b[0m\n\u001b[1;32m    195\u001b[0m \u001b[38;5;28;01mwith\u001b[39;00m get_heartbeat_thread(trial\u001b[38;5;241m.\u001b[39m_trial_id, study\u001b[38;5;241m.\u001b[39m_storage):\n\u001b[1;32m    196\u001b[0m     \u001b[38;5;28;01mtry\u001b[39;00m:\n\u001b[0;32m--> 197\u001b[0m         value_or_values \u001b[38;5;241m=\u001b[39m \u001b[43mfunc\u001b[49m\u001b[43m(\u001b[49m\u001b[43mtrial\u001b[49m\u001b[43m)\u001b[49m\n\u001b[1;32m    198\u001b[0m     \u001b[38;5;28;01mexcept\u001b[39;00m exceptions\u001b[38;5;241m.\u001b[39mTrialPruned \u001b[38;5;28;01mas\u001b[39;00m e:\n\u001b[1;32m    199\u001b[0m         \u001b[38;5;66;03m# TODO(mamu): Handle multi-objective cases.\u001b[39;00m\n\u001b[1;32m    200\u001b[0m         state \u001b[38;5;241m=\u001b[39m TrialState\u001b[38;5;241m.\u001b[39mPRUNED\n",
      "Cell \u001b[0;32mIn[4], line 20\u001b[0m, in \u001b[0;36mobjective\u001b[0;34m(trial)\u001b[0m\n\u001b[1;32m     18\u001b[0m DateRange\u001b[38;5;241m=\u001b[39m[cal\u001b[38;5;241m.\u001b[39mindex(DateRange[\u001b[38;5;241m0\u001b[39m]),cal\u001b[38;5;241m.\u001b[39mindex(DateRange[\u001b[38;5;241m1\u001b[39m])]\n\u001b[1;32m     19\u001b[0m \u001b[38;5;28;01mfor\u001b[39;00m day \u001b[38;5;129;01min\u001b[39;00m cal[DateRange[\u001b[38;5;241m0\u001b[39m]:DateRange[\u001b[38;5;241m1\u001b[39m]]:\n\u001b[0;32m---> 20\u001b[0m     Money \u001b[38;5;241m=\u001b[39m \u001b[43mpick_trade\u001b[49m\u001b[43m(\u001b[49m\u001b[43mRunDate\u001b[49m\u001b[38;5;241;43m=\u001b[39;49m\u001b[43mday\u001b[49m\u001b[43m,\u001b[49m\u001b[43mNumStocks\u001b[49m\u001b[38;5;241;43m=\u001b[39;49m\u001b[43mNumStocks\u001b[49m\u001b[43m,\u001b[49m\u001b[43mMoney\u001b[49m\u001b[38;5;241;43m=\u001b[39;49m\u001b[43mMoney\u001b[49m\u001b[43m,\u001b[49m\u001b[43mcal\u001b[49m\u001b[38;5;241;43m=\u001b[39;49m\u001b[43mcal\u001b[49m\u001b[43m,\u001b[49m\u001b[43mTimeInput\u001b[49m\u001b[38;5;241;43m=\u001b[39;49m\u001b[43mTimeInput\u001b[49m\u001b[43m,\u001b[49m\u001b[43mholdTime\u001b[49m\u001b[38;5;241;43m=\u001b[39;49m\u001b[43mholdTime\u001b[49m\u001b[43m,\u001b[49m\u001b[43mdebug\u001b[49m\u001b[38;5;241;43m=\u001b[39;49m\u001b[38;5;28;43;01mFalse\u001b[39;49;00m\u001b[43m)\u001b[49m\n\u001b[1;32m     21\u001b[0m     TotalReturnList\u001b[38;5;241m.\u001b[39mappend(Money)\n\u001b[1;32m     23\u001b[0m PrctReturnList\u001b[38;5;241m=\u001b[39m\u001b[38;5;28mlist\u001b[39m()\n",
      "File \u001b[0;32m~/Desktop/TradingAlgos/Stock_Picker_Algo/Trade_Functions.py:276\u001b[0m, in \u001b[0;36mpick_trade\u001b[0;34m(RunDate, NumStocks, Money, cal, holdTime, TimeInput, NDXfile, debug)\u001b[0m\n\u001b[1;32m    274\u001b[0m NDXfile \u001b[38;5;241m=\u001b[39m \u001b[38;5;124mf\u001b[39m\u001b[38;5;124m\"\u001b[39m\u001b[38;5;124mNasdaq100MembersJan\u001b[39m\u001b[38;5;132;01m{\u001b[39;00myear\u001b[38;5;132;01m}\u001b[39;00m\u001b[38;5;124m.csv\u001b[39m\u001b[38;5;124m\"\u001b[39m\n\u001b[1;32m    275\u001b[0m LongStockList \u001b[38;5;241m=\u001b[39m \u001b[38;5;28mlist\u001b[39m()\n\u001b[0;32m--> 276\u001b[0m PctChange \u001b[38;5;241m=\u001b[39m \u001b[43mget_SortedPctChange\u001b[49m\u001b[43m(\u001b[49m\u001b[43mRunDate\u001b[49m\u001b[43m,\u001b[49m\u001b[43mTimeInput\u001b[49m\u001b[43m,\u001b[49m\u001b[43mNDXfile\u001b[49m\u001b[43m,\u001b[49m\u001b[43mdebug\u001b[49m\u001b[38;5;241;43m=\u001b[39;49m\u001b[43mdebug\u001b[49m\u001b[43m)\u001b[49m\n\u001b[1;32m    277\u001b[0m LongStockList \u001b[38;5;241m=\u001b[39m PctChange[\u001b[38;5;124m\"\u001b[39m\u001b[38;5;124mTicker\u001b[39m\u001b[38;5;124m\"\u001b[39m]\u001b[38;5;241m.\u001b[39miloc[:NumStocks]\n\u001b[1;32m    278\u001b[0m LongReturns \u001b[38;5;241m=\u001b[39m getLongReturns(RunDate,LongStockList,holdTime,debug\u001b[38;5;241m=\u001b[39mdebug)\n",
      "File \u001b[0;32m~/Desktop/TradingAlgos/Stock_Picker_Algo/Trade_Functions.py:151\u001b[0m, in \u001b[0;36mget_SortedPctChange\u001b[0;34m(InputDate, TimeInput, NDXfile, debug)\u001b[0m\n\u001b[1;32m    148\u001b[0m         \u001b[38;5;28mprint\u001b[39m(\u001b[38;5;124m\"\u001b[39m\u001b[38;5;124mUNABLE TO FIND:---\u001b[39m\u001b[38;5;124m\"\u001b[39m,ticker,\u001b[38;5;124m\"\u001b[39m\u001b[38;5;124m----\u001b[39m\u001b[38;5;124m\"\u001b[39m)\n\u001b[1;32m    150\u001b[0m \u001b[38;5;66;03m#Convert to dataframe and sort it \u001b[39;00m\n\u001b[0;32m--> 151\u001b[0m dfChange \u001b[38;5;241m=\u001b[39m (\u001b[43mpd\u001b[49m\u001b[38;5;241;43m.\u001b[39;49m\u001b[43mDataFrame\u001b[49m\u001b[43m(\u001b[49m\u001b[43mPctChangeList\u001b[49m\u001b[43m)\u001b[49m\u001b[38;5;241m.\u001b[39msort_values(\u001b[38;5;124m'\u001b[39m\u001b[38;5;124mPctChange\u001b[39m\u001b[38;5;124m'\u001b[39m,ascending\u001b[38;5;241m=\u001b[39m\u001b[38;5;28;01mFalse\u001b[39;00m))\u001b[38;5;241m.\u001b[39mreset_index(drop\u001b[38;5;241m=\u001b[39m\u001b[38;5;28;01mTrue\u001b[39;00m)\n\u001b[1;32m    153\u001b[0m \u001b[38;5;28;01mreturn\u001b[39;00m dfChange\n",
      "File \u001b[0;32m/Library/Frameworks/Python.framework/Versions/3.12/lib/python3.12/site-packages/pandas/core/frame.py:767\u001b[0m, in \u001b[0;36mDataFrame.__init__\u001b[0;34m(self, data, index, columns, dtype, copy)\u001b[0m\n\u001b[1;32m    761\u001b[0m     mgr \u001b[38;5;241m=\u001b[39m \u001b[38;5;28mself\u001b[39m\u001b[38;5;241m.\u001b[39m_init_mgr(\n\u001b[1;32m    762\u001b[0m         data, axes\u001b[38;5;241m=\u001b[39m{\u001b[38;5;124m\"\u001b[39m\u001b[38;5;124mindex\u001b[39m\u001b[38;5;124m\"\u001b[39m: index, \u001b[38;5;124m\"\u001b[39m\u001b[38;5;124mcolumns\u001b[39m\u001b[38;5;124m\"\u001b[39m: columns}, dtype\u001b[38;5;241m=\u001b[39mdtype, copy\u001b[38;5;241m=\u001b[39mcopy\n\u001b[1;32m    763\u001b[0m     )\n\u001b[1;32m    765\u001b[0m \u001b[38;5;28;01melif\u001b[39;00m \u001b[38;5;28misinstance\u001b[39m(data, \u001b[38;5;28mdict\u001b[39m):\n\u001b[1;32m    766\u001b[0m     \u001b[38;5;66;03m# GH#38939 de facto copy defaults to False only in non-dict cases\u001b[39;00m\n\u001b[0;32m--> 767\u001b[0m     mgr \u001b[38;5;241m=\u001b[39m \u001b[43mdict_to_mgr\u001b[49m\u001b[43m(\u001b[49m\u001b[43mdata\u001b[49m\u001b[43m,\u001b[49m\u001b[43m \u001b[49m\u001b[43mindex\u001b[49m\u001b[43m,\u001b[49m\u001b[43m \u001b[49m\u001b[43mcolumns\u001b[49m\u001b[43m,\u001b[49m\u001b[43m \u001b[49m\u001b[43mdtype\u001b[49m\u001b[38;5;241;43m=\u001b[39;49m\u001b[43mdtype\u001b[49m\u001b[43m,\u001b[49m\u001b[43m \u001b[49m\u001b[43mcopy\u001b[49m\u001b[38;5;241;43m=\u001b[39;49m\u001b[43mcopy\u001b[49m\u001b[43m,\u001b[49m\u001b[43m \u001b[49m\u001b[43mtyp\u001b[49m\u001b[38;5;241;43m=\u001b[39;49m\u001b[43mmanager\u001b[49m\u001b[43m)\u001b[49m\n\u001b[1;32m    768\u001b[0m \u001b[38;5;28;01melif\u001b[39;00m \u001b[38;5;28misinstance\u001b[39m(data, ma\u001b[38;5;241m.\u001b[39mMaskedArray):\n\u001b[1;32m    769\u001b[0m     \u001b[38;5;28;01mfrom\u001b[39;00m \u001b[38;5;21;01mnumpy\u001b[39;00m\u001b[38;5;21;01m.\u001b[39;00m\u001b[38;5;21;01mma\u001b[39;00m \u001b[38;5;28;01mimport\u001b[39;00m mrecords\n",
      "File \u001b[0;32m/Library/Frameworks/Python.framework/Versions/3.12/lib/python3.12/site-packages/pandas/core/internals/construction.py:503\u001b[0m, in \u001b[0;36mdict_to_mgr\u001b[0;34m(data, index, columns, dtype, typ, copy)\u001b[0m\n\u001b[1;32m    499\u001b[0m     \u001b[38;5;28;01melse\u001b[39;00m:\n\u001b[1;32m    500\u001b[0m         \u001b[38;5;66;03m# dtype check to exclude e.g. range objects, scalars\u001b[39;00m\n\u001b[1;32m    501\u001b[0m         arrays \u001b[38;5;241m=\u001b[39m [x\u001b[38;5;241m.\u001b[39mcopy() \u001b[38;5;28;01mif\u001b[39;00m \u001b[38;5;28mhasattr\u001b[39m(x, \u001b[38;5;124m\"\u001b[39m\u001b[38;5;124mdtype\u001b[39m\u001b[38;5;124m\"\u001b[39m) \u001b[38;5;28;01melse\u001b[39;00m x \u001b[38;5;28;01mfor\u001b[39;00m x \u001b[38;5;129;01min\u001b[39;00m arrays]\n\u001b[0;32m--> 503\u001b[0m \u001b[38;5;28;01mreturn\u001b[39;00m \u001b[43marrays_to_mgr\u001b[49m\u001b[43m(\u001b[49m\u001b[43marrays\u001b[49m\u001b[43m,\u001b[49m\u001b[43m \u001b[49m\u001b[43mcolumns\u001b[49m\u001b[43m,\u001b[49m\u001b[43m \u001b[49m\u001b[43mindex\u001b[49m\u001b[43m,\u001b[49m\u001b[43m \u001b[49m\u001b[43mdtype\u001b[49m\u001b[38;5;241;43m=\u001b[39;49m\u001b[43mdtype\u001b[49m\u001b[43m,\u001b[49m\u001b[43m \u001b[49m\u001b[43mtyp\u001b[49m\u001b[38;5;241;43m=\u001b[39;49m\u001b[43mtyp\u001b[49m\u001b[43m,\u001b[49m\u001b[43m \u001b[49m\u001b[43mconsolidate\u001b[49m\u001b[38;5;241;43m=\u001b[39;49m\u001b[43mcopy\u001b[49m\u001b[43m)\u001b[49m\n",
      "File \u001b[0;32m/Library/Frameworks/Python.framework/Versions/3.12/lib/python3.12/site-packages/pandas/core/internals/construction.py:114\u001b[0m, in \u001b[0;36marrays_to_mgr\u001b[0;34m(arrays, columns, index, dtype, verify_integrity, typ, consolidate)\u001b[0m\n\u001b[1;32m    111\u001b[0m \u001b[38;5;28;01mif\u001b[39;00m verify_integrity:\n\u001b[1;32m    112\u001b[0m     \u001b[38;5;66;03m# figure out the index, if necessary\u001b[39;00m\n\u001b[1;32m    113\u001b[0m     \u001b[38;5;28;01mif\u001b[39;00m index \u001b[38;5;129;01mis\u001b[39;00m \u001b[38;5;28;01mNone\u001b[39;00m:\n\u001b[0;32m--> 114\u001b[0m         index \u001b[38;5;241m=\u001b[39m \u001b[43m_extract_index\u001b[49m\u001b[43m(\u001b[49m\u001b[43marrays\u001b[49m\u001b[43m)\u001b[49m\n\u001b[1;32m    115\u001b[0m     \u001b[38;5;28;01melse\u001b[39;00m:\n\u001b[1;32m    116\u001b[0m         index \u001b[38;5;241m=\u001b[39m ensure_index(index)\n",
      "File \u001b[0;32m/Library/Frameworks/Python.framework/Versions/3.12/lib/python3.12/site-packages/pandas/core/internals/construction.py:677\u001b[0m, in \u001b[0;36m_extract_index\u001b[0;34m(data)\u001b[0m\n\u001b[1;32m    675\u001b[0m lengths \u001b[38;5;241m=\u001b[39m \u001b[38;5;28mlist\u001b[39m(\u001b[38;5;28mset\u001b[39m(raw_lengths))\n\u001b[1;32m    676\u001b[0m \u001b[38;5;28;01mif\u001b[39;00m \u001b[38;5;28mlen\u001b[39m(lengths) \u001b[38;5;241m>\u001b[39m \u001b[38;5;241m1\u001b[39m:\n\u001b[0;32m--> 677\u001b[0m     \u001b[38;5;28;01mraise\u001b[39;00m \u001b[38;5;167;01mValueError\u001b[39;00m(\u001b[38;5;124m\"\u001b[39m\u001b[38;5;124mAll arrays must be of the same length\u001b[39m\u001b[38;5;124m\"\u001b[39m)\n\u001b[1;32m    679\u001b[0m \u001b[38;5;28;01mif\u001b[39;00m have_dicts:\n\u001b[1;32m    680\u001b[0m     \u001b[38;5;28;01mraise\u001b[39;00m \u001b[38;5;167;01mValueError\u001b[39;00m(\n\u001b[1;32m    681\u001b[0m         \u001b[38;5;124m\"\u001b[39m\u001b[38;5;124mMixing dicts with non-Series may lead to ambiguous ordering.\u001b[39m\u001b[38;5;124m\"\u001b[39m\n\u001b[1;32m    682\u001b[0m     )\n",
      "\u001b[0;31mValueError\u001b[0m: All arrays must be of the same length"
     ]
    }
   ],
   "source": [
    "study = optuna.create_study(directions=['maximize','minimize'])\n",
    "study.optimize(objective, n_trials=100)"
   ]
  },
  {
   "cell_type": "code",
   "execution_count": null,
   "id": "c45b4fa4",
   "metadata": {},
   "outputs": [],
   "source": []
  }
 ],
 "metadata": {
  "kernelspec": {
   "display_name": ".env",
   "language": "python",
   "name": ".env"
  },
  "language_info": {
   "codemirror_mode": {
    "name": "ipython",
    "version": 3
   },
   "file_extension": ".py",
   "mimetype": "text/x-python",
   "name": "python",
   "nbconvert_exporter": "python",
   "pygments_lexer": "ipython3",
   "version": "3.12.0"
  }
 },
 "nbformat": 4,
 "nbformat_minor": 5
}
