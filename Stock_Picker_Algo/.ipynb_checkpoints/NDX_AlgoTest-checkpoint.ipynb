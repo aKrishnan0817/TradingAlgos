{
 "cells": [
  {
   "cell_type": "code",
   "execution_count": 39,
   "id": "d8f523df",
   "metadata": {},
   "outputs": [],
   "source": [
    "import pandas as pd\n",
    "import pandas_market_calendars as mcal\n",
    "import datetime\n",
    "from Trade_Functions import *\n"
   ]
  },
  {
   "cell_type": "code",
   "execution_count": 6,
   "id": "e96a32c2",
   "metadata": {},
   "outputs": [],
   "source": [
    "cal = get_calendar()\n",
    "NumberOfStocks = 5\n"
   ]
  },
  {
   "cell_type": "code",
   "execution_count": 40,
   "id": "1344d890",
   "metadata": {},
   "outputs": [],
   "source": [
    "def pick_trade(RunDate,NumStocks,cal=get_calendar(),holdTime=1):\n",
    "    LongStockList = list()\n",
    "    ShortStockList = list()\n",
    "    # Prior day input for the trading algo\n",
    "    InputDate = cal[cal.index(RunDate)-holdTime]\n",
    "    PctChange = get_SortedPctChange(RunDate)\n",
    "\n",
    "    # Now that we have the sorted Returns, lets trade the top and bottom performers.\n",
    "    # The idea is to play momentum. Lets go long the top x names and short the bottom x names\n",
    "    # Idea is that we put the trade on at the beginning of the day...so we get Open price and close out at\n",
    "    # the end of day at the Close price.\n",
    "    LongStockList = PctChange[\"Ticker\"].iloc[:NumStocks]\n",
    "    ShortStockList =  PctChange[\"Ticker\"].iloc[len(PctChange[\"Ticker\"])-NumStocks:]\n",
    "   \n",
    "    # Lets get the return of this Long/short portfolio over the day\n",
    "    \n",
    "    LongReturns = getLongReturns(RunDate,LongStockList,holdTime)\n",
    "    ShortReturns = getShortReturns(RunDate,ShortStockList,holdTime)\n",
    "    TotalReturn = (sum(LongReturns) + sum(ShortReturns))/NumStocks\n",
    "\n",
    "    print(\"Total Return: \", TotalRetur/NumStocks)\n",
    "    \n",
    "    return TotalReturn/NumStocks"
   ]
  },
  {
   "cell_type": "code",
   "execution_count": null,
   "id": "7e381255",
   "metadata": {},
   "outputs": [],
   "source": [
    "# This file tests the Momentum stragegy\n",
    "\n",
    "\n",
    "\n",
    "\n",
    "\n",
    "print(datetime.datetime.strftime(a[0],'%Y-%m-%d'))\n",
    "TotalReturnList = list()\n",
    "DateReturnList = list()\n",
    "for i in range(1,len(cal)):\n",
    "\n",
    "#for i in range(1,2):\n",
    "    \n",
    "\n",
    "\n",
    "DictOut = {'Date':DateReturnList,'Return':TotalReturnList}\n",
    "\n",
    "dfOut = pd.DataFrame(DictOut)\n",
    "\n",
    "dfOut.to_csv(\"ReturnData.csv\")\n",
    "\n",
    "\n",
    "\n",
    "\n",
    "\n"
   ]
  }
 ],
 "metadata": {
  "kernelspec": {
   "display_name": ".env",
   "language": "python",
   "name": ".env"
  },
  "language_info": {
   "codemirror_mode": {
    "name": "ipython",
    "version": 3
   },
   "file_extension": ".py",
   "mimetype": "text/x-python",
   "name": "python",
   "nbconvert_exporter": "python",
   "pygments_lexer": "ipython3",
   "version": "3.12.0"
  }
 },
 "nbformat": 4,
 "nbformat_minor": 5
}
