{
 "cells": [
  {
   "cell_type": "code",
   "execution_count": 1,
   "id": "e61bbb6f",
   "metadata": {},
   "outputs": [],
   "source": [
    "import pandas as pd\n",
    "import pandas_market_calendars as mcal\n",
    "import datetime\n",
    "import yfinance as yf\n",
    "import pickle\n",
    "import os"
   ]
  },
  {
   "cell_type": "code",
   "execution_count": 4,
   "id": "719f02da",
   "metadata": {},
   "outputs": [],
   "source": [
    "def get_calendar():\n",
    "    nyse = mcal.get_calendar('NYSE')\n",
    "    a = nyse.valid_days(start_date='2014-01-01', end_date='2024-11-14')\n",
    "    cal =[]\n",
    "    for x in a:\n",
    "        cal.append(datetime.datetime.strftime(x,'%Y-%m-%d'))\n",
    "    return cal"
   ]
  },
  {
   "cell_type": "code",
   "execution_count": null,
   "id": "61b944a0",
   "metadata": {},
   "outputs": [],
   "source": [
    "cal=get_calendar()"
   ]
  },
  {
   "cell_type": "code",
   "execution_count": 2,
   "id": "fafb9459",
   "metadata": {},
   "outputs": [],
   "source": [
    "data = pd.DataFrame()\n",
    "for year in range(2015,2025):\n",
    "    with open(f'Tools/NDX_data/NDXdata{year}.pkl', 'rb') as file:\n",
    "        ndxData = pickle.load(file)\n",
    "    data=pd.concat([data,ndxData])\n",
    "\n",
    "data = data.loc[~data.index.duplicated(keep='last')]"
   ]
  },
  {
   "cell_type": "code",
   "execution_count": 3,
   "id": "0c6dcc18",
   "metadata": {},
   "outputs": [],
   "source": [
    "def getDate(date):\n",
    "    #date needs to be a string like 2024-01-01\n",
    "    dateList= date.split('-')\n",
    "    return datetime.date(int(dateList[0]),int(dateList[1]),int(dateList[2]) )\n"
   ]
  },
  {
   "cell_type": "code",
   "execution_count": null,
   "id": "37b3ccb4",
   "metadata": {},
   "outputs": [],
   "source": [
    "def getPrice(date, ticker, Open_Close=\"Close\"):\n",
    "    return data.loc[date,ticker][Open_Close]"
   ]
  },
  {
   "cell_type": "code",
   "execution_count": null,
   "id": "a3248a46",
   "metadata": {},
   "outputs": [],
   "source": [
    "def getDateOffset(Date,offset=0,cal=cal):\n",
    "    try:\n",
    "        return cal[cal.index(Date)+offset]\n",
    "    except:\n",
    "        cal=get_calendar()\n",
    "        return cal[cal.index(Date)+offset]\n"
   ]
  },
  {
   "cell_type": "code",
   "execution_count": null,
   "id": "51f12b47",
   "metadata": {},
   "outputs": [],
   "source": [
    "def get_NDXmembers(year):\n",
    "    file=f\"Tools/NDX_data/Nasdaq100MembersJan{year}.csv\"\n",
    "    df = pd.read_csv(file,header = None)\n",
    "    df.columns = ['members']\n",
    "    NDX_members=[]\n",
    "    for x in df['members']:\n",
    "        ticker = x[:x.find(\" \")]\n",
    "        NDX_members.append(ticker)\n",
    "    return NDX_members"
   ]
  },
  {
   "cell_type": "code",
   "execution_count": null,
   "id": "71441711",
   "metadata": {},
   "outputs": [],
   "source": [
    "def getPctChange(ticker,startDate,endDate,startTime=\"Close\",endTime=\"Close\"):\n",
    "    startPrice = data.loc[startDate,ticker][startTime]\n",
    "    endPrice = data.loc[endDate,ticker][endTime]\n",
    "    pctChange = (endPrice-startPrice)/startPrice\n",
    "    return pctChange"
   ]
  },
  {
   "cell_type": "code",
   "execution_count": null,
   "id": "55e81e36",
   "metadata": {},
   "outputs": [],
   "source": [
    "def getMomentum(date,ticker,debug=False):\n",
    "    #a=getPctChange(ticker,getDateOffset(date,-5),getDateOffset(date,-4))\n",
    "    #b=getPctChange(ticker,getDateOffset(date,-4),getDateOffset(date,-3))\n",
    "    c=getPctChange(ticker,getDateOffset(date,-3),getDateOffset(date,-2))\n",
    "    d=getPctChange(ticker,getDateOffset(date,-2),getDateOffset(date,-1))\n",
    "\n",
    "\n",
    "   # delta_1 = (b-a)/(c-b)\n",
    "    #delta_2 = (c-b)/(d-c)\n",
    "    #momentum = delta_1/delta_2\n",
    "    if debug:\n",
    "        print(f\"A:{a}\\nB:{b}\\nC:{c}\\nD:{d}\\n\")\n",
    "        print(f\"Delta_1:{delta_1}\\nDelta_2:{delta_2}\\nMomentum:{momentum}\")\n",
    "    #return momentum\n",
    "    \n",
    "    return d/c"
   ]
  },
  {
   "cell_type": "code",
   "execution_count": null,
   "id": "4609bd19",
   "metadata": {},
   "outputs": [],
   "source": [
    "def get_SortedPctChange(InputDate, TimeInput=5,debug=False):\n",
    "    \n",
    "    NDX_members = get_NDXmembers(getDate(InputDate).year)\n",
    "    PctChangeList = {\"Ticker\":[],\"PctChange\":[]}\n",
    "    startDate = getDateOffset(InputDate,-TimeInput)\n",
    "    endDate = getDateOffset(InputDate,-1)\n",
    "    for ticker in NDX_members:\n",
    "        try:     \n",
    "            pctChange = getPctChange(ticker,startDate,endDate)\n",
    "            PctChangeList['Ticker'].append(ticker)\n",
    "            PctChangeList['PctChange'].append(pctChange)\n",
    "            \n",
    "            if debug:\n",
    "                print(\"---\",ticker,\"----\")\n",
    "                print(f\"Percent Change: {pctChange}\")\n",
    "        except:\n",
    "            print(\"UNABLE TO FIND:---\",ticker,\"----\")\n",
    "        \n",
    "    #Convert to dataframe and sort it \n",
    "    dfChange = (pd.DataFrame(PctChangeList).sort_values('PctChange',ascending=False)).reset_index(drop=True)\n",
    "    \n",
    "    return dfChange"
   ]
  },
  {
   "cell_type": "code",
   "execution_count": null,
   "id": "97b9dc3e",
   "metadata": {},
   "outputs": [],
   "source": [
    "def getShortReturns(RunDate,ShortStockList,holdTime=0,debug=False):\n",
    "    ShortReturnList = list()\n",
    "    endDate = getDateOffset(RunDate,holdTime)\n",
    "    for ticker in ShortStockList:\n",
    "        try:\n",
    "            \n",
    "\n",
    "            #Get the data based on the provided ticker, RunDate, and startDate(being runDate-Timeinput)\n",
    "            endPrice = getPrice(endDate,ticker,\"Close\")\n",
    "            startPrice = getPrice(RunDate,ticker,\"Open\")\n",
    "            \n",
    "            #Checking For Stop Loss\n",
    "            endHighPrice= getPrice(endDate,ticker,\"High\")\n",
    "            if -(endHighPrice-startPrice)/startPrice <= stopLoss: \n",
    "                LongReturnList.append(stopLoss)\n",
    "                pass\n",
    "            \n",
    "            #Calculate and Append Return\n",
    "            Return = -(endPrice-startPrice)/startPrice\n",
    "            ShortReturnList.append(Return)\n",
    "            \n",
    "            if debug:\n",
    "                print(\"---\",ticker,\"----\")\n",
    "\n",
    "                print(f\"Start Date:{RunDate} , Start Price:{startPrice} \")\n",
    "                print(f\"End Date:{endDate} , End Price:{endPrice} \")\n",
    "                print(f\"Return:{Return}\")\n",
    "                print(\"\")\n",
    "            \n",
    "        except:\n",
    "            print(\"UNABLE TO FIND:---\",ticker,\"---\")\n",
    "\n",
    "    return ShortReturnList\n"
   ]
  },
  {
   "cell_type": "code",
   "execution_count": null,
   "id": "8421f758",
   "metadata": {},
   "outputs": [],
   "source": [
    "def getLongReturns(RunDate,LongStockList,stopLoss = -0.01, holdTime=0,debug=False):\n",
    "    LongReturnList = list()\n",
    "    endDate = getDateOffset(RunDate,holdTime)\n",
    "    \n",
    "    for ticker in LongStockList:  \n",
    "        try:\n",
    "            #Get the data based on the provided ticker, RunDate, and startDate(being runDate-Timeinput)\n",
    "            endPrice = getPrice(endDate,ticker,\"Close\")\n",
    "            startPrice = getPrice(RunDate,ticker,\"Open\")\n",
    "            \n",
    "            #Checking For Stop Loss\n",
    "            endLowPrice= getPrice(endDate,ticker,\"Low\")\n",
    "            if (endLowPrice-startPrice)/startPrice <= stopLoss: \n",
    "                LongReturnList.append(stopLoss)\n",
    "                pass\n",
    "            \n",
    "            #Calculate and Append Return\n",
    "            Return = (endPrice-startPrice)/startPrice\n",
    "            LongReturnList.append(Return)\n",
    "            \n",
    "            \n",
    "            if debug:\n",
    "                print(\"---\",ticker,\"----\")\n",
    "                print(f\"Start Date:{RunDate} , Start Price:{startPrice} \")\n",
    "                print(f\"End Date:{endDate} , End Price:{endPrice} \")\n",
    "                print(f\"Return:{Return}\")\n",
    "                print(\"\")\n",
    "\n",
    "            \n",
    "        except:\n",
    "            print(\"UNABLE TO FIND:---\",ticker,\"--\")\n",
    "        \n",
    "    return LongReturnList\n"
   ]
  },
  {
   "cell_type": "code",
   "execution_count": null,
   "id": "0b97718a",
   "metadata": {},
   "outputs": [],
   "source": [
    "#PctChange = get_SortedPctChange('2024-10-09',4,debug=True)\n"
   ]
  },
  {
   "cell_type": "code",
   "execution_count": null,
   "id": "99fc968a",
   "metadata": {},
   "outputs": [],
   "source": [
    "#PctChange"
   ]
  },
  {
   "cell_type": "code",
   "execution_count": null,
   "id": "c2831d3d",
   "metadata": {},
   "outputs": [],
   "source": [
    "#LongStockList = PctChange[\"Ticker\"].iloc[:2]\n",
    "#LongReturns = getLongReturns('2024-10-09',LongStockList,debug=True)\n"
   ]
  },
  {
   "cell_type": "code",
   "execution_count": null,
   "id": "1d185569",
   "metadata": {},
   "outputs": [],
   "source": [
    "#LongReturns"
   ]
  },
  {
   "cell_type": "code",
   "execution_count": null,
   "id": "ba15e2b9",
   "metadata": {},
   "outputs": [],
   "source": []
  }
 ],
 "metadata": {
  "kernelspec": {
   "display_name": ".env",
   "language": "python",
   "name": ".env"
  },
  "language_info": {
   "codemirror_mode": {
    "name": "ipython",
    "version": 3
   },
   "file_extension": ".py",
   "mimetype": "text/x-python",
   "name": "python",
   "nbconvert_exporter": "python",
   "pygments_lexer": "ipython3",
   "version": "3.12.0"
  }
 },
 "nbformat": 4,
 "nbformat_minor": 5
}
