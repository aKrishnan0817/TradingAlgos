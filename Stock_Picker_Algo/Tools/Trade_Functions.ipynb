{
 "cells": [
  {
   "cell_type": "code",
   "execution_count": null,
   "id": "e61bbb6f",
   "metadata": {},
   "outputs": [],
   "source": [
    "import pandas as pd\n",
    "import pandas_market_calendars as mcal\n",
    "import datetime\n",
    "import yfinance as yf\n",
    "import pickle\n",
    "import os"
   ]
  },
  {
   "cell_type": "code",
   "execution_count": null,
   "id": "d6cfdab8",
   "metadata": {},
   "outputs": [],
   "source": [
    "os.chdir('../')"
   ]
  },
  {
   "cell_type": "code",
   "execution_count": null,
   "id": "719f02da",
   "metadata": {},
   "outputs": [],
   "source": [
    "def get_calendar():\n",
    "    nyse = mcal.get_calendar('NYSE')\n",
    "    a = nyse.valid_days(start_date='2014-01-01', end_date='2024-11-14')\n",
    "    cal =[]\n",
    "    for x in a:\n",
    "        cal.append(datetime.datetime.strftime(x,'%Y-%m-%d'))\n",
    "    return cal"
   ]
  },
  {
   "cell_type": "code",
   "execution_count": null,
   "id": "61b944a0",
   "metadata": {},
   "outputs": [],
   "source": [
    "cal=get_calendar()"
   ]
  },
  {
   "cell_type": "code",
   "execution_count": null,
   "id": "fafb9459",
   "metadata": {},
   "outputs": [],
   "source": [
    "data = pd.DataFrame()\n",
    "for year in range(2015,2025):\n",
    "    with open(f'Tools/NDX_data/NDXdata{year}.pkl', 'rb') as file:\n",
    "        ndxData = pickle.load(file)\n",
    "    data=pd.concat([data,ndxData])\n",
    "\n",
    "data = data.loc[~data.index.duplicated(keep='last')]"
   ]
  },
  {
   "cell_type": "code",
   "execution_count": null,
   "id": "0c6dcc18",
   "metadata": {},
   "outputs": [],
   "source": [
    "def getDate(date):\n",
    "    #date needs to be a string like 2024-01-01\n",
    "    dateList= date.split('-')\n",
    "    return datetime.date(int(dateList[0]),int(dateList[1]),int(dateList[2]) )\n"
   ]
  },
  {
   "cell_type": "code",
   "execution_count": null,
   "id": "37b3ccb4",
   "metadata": {},
   "outputs": [],
   "source": [
    "def getPrice(date, ticker, Open_Close=\"Close\"):\n",
    "    return data.loc[date,ticker][Open_Close]"
   ]
  },
  {
   "cell_type": "code",
   "execution_count": null,
   "id": "a3248a46",
   "metadata": {},
   "outputs": [],
   "source": [
    "def getDateOffset(Date,offset=0,cal=cal):\n",
    "    try:\n",
    "        return cal[cal.index(Date)+offset]\n",
    "    except:\n",
    "        cal=get_calendar()\n",
    "        return cal[cal.index(Date)+offset]\n"
   ]
  },
  {
   "cell_type": "code",
   "execution_count": null,
   "id": "51f12b47",
   "metadata": {},
   "outputs": [],
   "source": [
    "def get_NDXmembers(year):\n",
    "    file=f\"Tools/NDX_data/Nasdaq100MembersJan{year}.csv\"\n",
    "    df = pd.read_csv(file,header = None)\n",
    "    df.columns = ['members']\n",
    "    NDX_members=[]\n",
    "    for x in df['members']:\n",
    "        ticker = x[:x.find(\" \")]\n",
    "        NDX_members.append(ticker)\n",
    "    return NDX_members"
   ]
  },
  {
   "cell_type": "code",
   "execution_count": null,
   "id": "71441711",
   "metadata": {},
   "outputs": [],
   "source": [
    "def getPctChange(ticker,startDate,endDate,startTime=\"Close\",endTime=\"Close\"):\n",
    "    startPrice = data.loc[startDate,ticker][startTime]\n",
    "    endPrice = data.loc[endDate,ticker][endTime]\n",
    "    pctChange = (endPrice-startPrice)/startPrice\n",
    "    return pctChange"
   ]
  },
  {
   "cell_type": "code",
   "execution_count": null,
   "id": "55e81e36",
   "metadata": {},
   "outputs": [],
   "source": [
    "def get_deltaPctChange(date,ticker,debug=False):\n",
    "    #a=getPctChange(ticker,getDateOffset(date,-5),getDateOffset(date,-4))\n",
    "    #b=getPctChange(ticker,getDateOffset(date,-4),getDateOffset(date,-3))\n",
    "    c=getPctChange(ticker,getDateOffset(date,-3),getDateOffset(date,-2))\n",
    "    d=getPctChange(ticker,getDateOffset(date,-2),getDateOffset(date,-1))\n",
    "\n",
    "\n",
    "   # delta_1 = (b-a)/(c-b)\n",
    "    #delta_2 = (c-b)/(d-c)\n",
    "    #momentum = delta_1/delta_2\n",
    "    if debug:\n",
    "        print(f\"A:{a}\\nB:{b}\\nC:{c}\\nD:{d}\\n\")\n",
    "        print(f\"Delta_1:{delta_1}\\nDelta_2:{delta_2}\\nMomentum:{momentum}\")\n",
    "    #return momentum\n",
    "    \n",
    "    return d/c"
   ]
  },
  {
   "cell_type": "code",
   "execution_count": null,
   "id": "4609bd19",
   "metadata": {},
   "outputs": [],
   "source": [
    "def get_SortedPctChange(InputDate, TimeInput=5,debug=False):\n",
    "    \n",
    "    NDX_members = get_NDXmembers(getDate(InputDate).year)\n",
    "    PctChangeList = {\"Ticker\":[],\"PctChange\":[]}\n",
    "    startDate = getDateOffset(InputDate,-TimeInput)\n",
    "    endDate = getDateOffset(InputDate,-1)\n",
    "    for ticker in NDX_members:\n",
    "        try:     \n",
    "            pctChange = getPctChange(ticker,startDate,endDate)\n",
    "            PctChangeList['Ticker'].append(ticker)\n",
    "            PctChangeList['PctChange'].append(pctChange)\n",
    "            \n",
    "            if debug:\n",
    "                print(\"---\",ticker,\"----\")\n",
    "                print(f\"Percent Change: {pctChange}\")\n",
    "        except:\n",
    "            print(\"UNABLE TO FIND:---\",ticker,\"----\")\n",
    "        \n",
    "    #Convert to dataframe and sort it \n",
    "    dfChange = (pd.DataFrame(PctChangeList).sort_values('PctChange',ascending=False)).reset_index(drop=True)\n",
    "    \n",
    "    return dfChange"
   ]
  },
  {
   "cell_type": "code",
   "execution_count": null,
   "id": "4b230240",
   "metadata": {},
   "outputs": [],
   "source": []
  },
  {
   "cell_type": "code",
   "execution_count": null,
   "id": "821f875a",
   "metadata": {},
   "outputs": [],
   "source": [
    "prices = data.loc[\"2024-01-04\":\"2024-01-09\",\"AAPL\"]\n",
    "prices"
   ]
  },
  {
   "cell_type": "code",
   "execution_count": null,
   "id": "79b766f9",
   "metadata": {},
   "outputs": [],
   "source": [
    "prices.index[3]"
   ]
  },
  {
   "cell_type": "code",
   "execution_count": null,
   "id": "87403d96",
   "metadata": {},
   "outputs": [],
   "source": [
    "def getReturn_withStopLoss(runDate,endDate,ticker,holdTime,stopLoss,long_short):\n",
    "    s=1\n",
    "    if long_short == \"Long\": \n",
    "        K = \"Low\"\n",
    "    if long_short == \"Short\": \n",
    "        K= \"High\"\n",
    "        s=-1\n",
    "    prices = list(data.loc[runDate:endDate,ticker])\n",
    "    price = data.loc[runDate:endDate,ticker]\n",
    "    \n",
    "    for day in range(len(prices)):\n",
    "        if s*(prices[day][K] - prices[day][\"Open\"])/prices[day][\"Open\"] <= stopLoss:\n",
    "            Return = -0.0004 + stopLoss\n",
    "            return Return , price.index[day],1\n",
    "        try:\n",
    "            if s*(prices[day][\"Close\"]- prices[day+1][\"Open\"] )/prices[day][\"Close\"] <= stopLoss:\n",
    "                Return = -0.0004 + s*((prices[day+1][\"Open\"] - prices[0][\"Open\"])/prices[0][\"Open\"])\n",
    "                return Return ,price.index[day+1],1\n",
    "        except:\n",
    "            Return = -0.0004 + s*((prices[-1][\"Close\"] - prices[0][\"Open\"])/prices[0][\"Open\"])\n",
    "            return Return ,price.index[-1],0\n",
    "   "
   ]
  },
  {
   "cell_type": "code",
   "execution_count": null,
   "id": "0b97718a",
   "metadata": {},
   "outputs": [],
   "source": [
    "#PctChange = get_SortedPctChange('2024-10-09',4,debug=False)\n",
    "#getShortReturns('2024-10-09',PctChange[\"Ticker\"][:3],holdTime=5)"
   ]
  },
  {
   "cell_type": "code",
   "execution_count": null,
   "id": "8421f758",
   "metadata": {},
   "outputs": [],
   "source": [
    "def getLongReturns(RunDate,LongStockList,stopLoss = -0.01, holdTime=0,debug=False):\n",
    "    LongReturnList = list()\n",
    "    endDate = getDateOffset(RunDate,holdTime)\n",
    "    CloseDates=list()\n",
    "    stopLosses= list()\n",
    "    for ticker in LongStockList:\n",
    "        try:\n",
    "            \n",
    "            Return,closeDate,stopLossFlag= getReturn_withStopLoss(RunDate,endDate,ticker,holdTime,stopLoss,long_short=\"Long\")\n",
    "            LongReturnList.append(Return)\n",
    "            CloseDates.append(closeDate)\n",
    "            stopLosses.append(stopLossFlag)\n",
    "\n",
    "        except:\n",
    "            print(\"FAILED TO CALCULATE LONG RETURN:---\",ticker,\"--\",endDate)\n",
    "            LongReturnList.append(-0.0004)\n",
    "    x = len(LongStockList)\n",
    "    return pd.DataFrame({\"Type\":[\"Long\"]*x, \"ExecutionDate\":[RunDate]*x, \"CloseDate\":CloseDates,\"Returns\":LongReturnList,\"StopLoss\":stopLosses})\n",
    "\n",
    "\n"
   ]
  },
  {
   "cell_type": "code",
   "execution_count": null,
   "id": "97b9dc3e",
   "metadata": {},
   "outputs": [],
   "source": [
    "def getShortReturns(RunDate,ShortStockList,holdTime=0,debug=False,stopLoss=-0.01):\n",
    "    ShortReturnList = list()\n",
    "    CloseDates=list()\n",
    "    stopLosses= list()\n",
    "\n",
    "    endDate = getDateOffset(RunDate,holdTime)\n",
    "    for ticker in ShortStockList:\n",
    "        try:\n",
    "            Return,trade,stopLossFlag = getReturn_withStopLoss(RunDate,endDate,ticker,holdTime,stopLoss,long_short=\"Short\")\n",
    "            CloseDates.append(trade)\n",
    "            stopLosses.append(stopLossFlag)\n",
    "            ShortReturnList.append(Return)\n",
    "\n",
    "        except:\n",
    "            print(\"FAILED TO CALCULATE SHORT RETURN::---\",ticker,\"---\",endDate)\n",
    "            ShortReturnList.append(-0.0004)\n",
    "           \n",
    "\n",
    "    x = len(ShortStockList)\n",
    "    return pd.DataFrame({\"Type\":[\"Short\"]*x,\"ExecutionDate\":[RunDate]*len(ShortStockList), \"CloseDate\":CloseDates,\"Returns\":ShortReturnList,\"StopLoss\":stopLosses})\n"
   ]
  },
  {
   "cell_type": "code",
   "execution_count": null,
   "id": "9216fa89",
   "metadata": {},
   "outputs": [],
   "source": [
    "def calculate_mdd(return_vals):\n",
    "    # Calculate the cumulative returns (wealth index)\n",
    "    wealth_index = (1 + return_vals).cumprod()\n",
    "    \n",
    "    # Calculate the running maximum\n",
    "    running_max = wealth_index.cummax()\n",
    "    \n",
    "    # Calculate drawdowns (difference between running max and current value)\n",
    "    drawdowns = (wealth_index - running_max) / running_max\n",
    "    \n",
    "    # The maximum drawdown is the largest negative drawdown (i.e., most significant loss)\n",
    "    mdd = drawdowns.min()  # This will give the maximum drawdown (most negative value)\n",
    "    \n",
    "    return mdd\n",
    "\n",
    "def calculate_sortino_ratio(return_vals, risk_free_rate=0.05):\n",
    "    # Calculate the excess returns over the risk-free rate\n",
    "    excess_returns = return_vals - risk_free_rate / 252  # Convert annual risk-free rate to daily\n",
    "    \n",
    "    # Calculate downside deviation (negative returns only)\n",
    "    downside_returns = excess_returns[excess_returns < 0]  # Only consider negative returns\n",
    "    downside_deviation = np.std(downside_returns)  # Standard deviation of negative returns\n",
    "    \n",
    "    # Calculate the mean of excess returns\n",
    "    mean_excess_return = np.mean(excess_returns)\n",
    "    \n",
    "    # Calculate the Sortino ratio (avoid division by zero if downside deviation is zero)\n",
    "    if downside_deviation == 0:\n",
    "        sortino_ratio = np.nan  # Return NaN if no downside deviation (e.g., no negative returns)\n",
    "    else:\n",
    "        sortino_ratio = mean_excess_return / downside_deviation\n",
    "    \n",
    "    return sortino_ratio"
   ]
  },
  {
   "cell_type": "code",
   "execution_count": null,
   "id": "930e4849",
   "metadata": {},
   "outputs": [],
   "source": [
    "\n",
    "\n",
    "def yearly_plots(returnDf):\n",
    "    \"\"\"\n",
    "    Saves a plot for each year in the range start_year to end_year.\n",
    "    \n",
    "    Args:\n",
    "    - dataframe (pd.DataFrame): The DataFrame containing the data.\n",
    "    - start_year (int): The starting year (inclusive).\n",
    "    - end_year (int): The ending year (inclusive).\n",
    "    - column_to_plot (str): The column to plot (e.g., 'ReturnVals').\n",
    "    - date_column (str): The column containing dates (e.g., 'Date').\n",
    "    \n",
    "    Returns:\n",
    "    - None\n",
    "    \"\"\"\n",
    "    # Ensure the date column is in datetime format\n",
    "    \n",
    "    for year in range(2015, 2025 ):\n",
    "        # Filter data for the specific year\n",
    "        yearly_data = returnDf[returnDf[\"Date\"].dt.year == year]\n",
    "        \n",
    "        if not yearly_data.empty:  # Only create plots for years with data\n",
    "            plt.figure(figsize=(10, 5))\n",
    "            plt.plot(\n",
    "                yearly_data[\"Date\"],\n",
    "                yearly_data[\"ReturnVals\"],\n",
    "                label=f\"{year}\",\n",
    "                color=\"blue\"\n",
    "            )\n",
    "            plt.title(f\"Retruns - {year}\")\n",
    "            plt.xlabel(\"Date\")\n",
    "            plt.ylabel(\"Returns\")\n",
    "            plt.legend()\n",
    "            plt.grid(True, linestyle='--', alpha=0.6)\n",
    "            \n",
    "            # Save the plot\n",
    "            plt.savefig(f\"Visulizations/returns_{year}.png\", dpi=300, bbox_inches='tight')\n",
    "            plt.close()\n",
    "\n",
    "# Example Usage:\n",
    "# save_yearly_plots_simple(returnDf, 2015, 2024, 'ReturnVals', 'Date')"
   ]
  },
  {
   "cell_type": "code",
   "execution_count": null,
   "id": "ba15e2b9",
   "metadata": {},
   "outputs": [],
   "source": []
  }
 ],
 "metadata": {
  "kernelspec": {
   "display_name": ".env",
   "language": "python",
   "name": ".env"
  },
  "language_info": {
   "codemirror_mode": {
    "name": "ipython",
    "version": 3
   },
   "file_extension": ".py",
   "mimetype": "text/x-python",
   "name": "python",
   "nbconvert_exporter": "python",
   "pygments_lexer": "ipython3",
   "version": "3.12.0"
  }
 },
 "nbformat": 4,
 "nbformat_minor": 5
}
