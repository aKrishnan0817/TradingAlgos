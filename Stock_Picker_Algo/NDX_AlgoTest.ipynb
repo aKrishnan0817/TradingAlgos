{
 "cells": [
  {
   "cell_type": "code",
   "execution_count": null,
   "id": "87230f77",
   "metadata": {},
   "outputs": [],
   "source": [
    "import pandas as pd\n",
    "import pandas_market_calendars as mcal\n",
    "import datetime\n",
    "from Trade_Functions import *\n"
   ]
  },
  {
   "cell_type": "code",
   "execution_count": null,
   "id": "8c282784",
   "metadata": {},
   "outputs": [],
   "source": [
    "cal = get_calendar()"
   ]
  },
  {
   "cell_type": "code",
   "execution_count": null,
   "id": "1cb86951",
   "metadata": {},
   "outputs": [],
   "source": [
    "def pick_trade(RunDate,NumStocks,cal=get_calendar(),holdTime=1,TimeInput=5,NDXfile=\"Nasdaq100MembersJan2024.csv\"):\n",
    "    \"\"\" Now that we have the sorted Returns, lets trade the top and bottom performers.\n",
    "     The idea is to play momentum. Lets go long the top x names and short the bottom x names\n",
    "     Idea is that we put the trade on at the beginning of the day...so we get Open price and close out at\n",
    "     the end of day at the Close price. \"\"\"\n",
    "    \n",
    "    \n",
    "    LongStockList = list()\n",
    "    ShortStockList = list()\n",
    "    \n",
    "    PctChange = get_SortedPctChange(InputDate=RunDate,TimeInput,NDXfile)\n",
    "    \n",
    "    LongStockList = PctChange[\"Ticker\"].iloc[:NumStocks]\n",
    "    ShortStockList =  PctChange[\"Ticker\"].iloc[len(PctChange[\"Ticker\"])-NumStocks:]\n",
    "       \n",
    "    # Lets get the return of this Long/short portfolio over the day\n",
    "    \n",
    "    LongReturns = getLongReturns(RunDate,LongStockList,holdTime)\n",
    "    ShortReturns = getShortReturns(RunDate,ShortStockList,holdTime)\n",
    "    \n",
    "    print(\"Long Return:\", LongReturns)\n",
    "    print(\"Short Return:\", ShortReturns)\n",
    "\n",
    "    \n",
    "    TotalReturn = (sum(LongReturns) + sum(ShortReturns))/NumStocks\n",
    "\n",
    "    print(\"Total Return: \", TotalReturn)\n",
    "    \n",
    "    return TotalReturn"
   ]
  },
  {
   "cell_type": "code",
   "execution_count": null,
   "id": "c1dbe3d9",
   "metadata": {},
   "outputs": [],
   "source": [
    "TimeInput = 5\n",
    "NDXfile=\"Nasdaq100MembersJan2024.csv\"\n",
    "NumStocks=3"
   ]
  },
  {
   "cell_type": "code",
   "execution_count": null,
   "id": "0de3af83",
   "metadata": {
    "scrolled": false
   },
   "outputs": [],
   "source": [
    "TotalReturnList = list()\n",
    "DateReturnList = list()\n",
    "\n",
    "for day in cal[TimeInput+1:]:\n",
    "    dayReturn = pick_trade(RunDate=day,NumStocks=NumStocks,cal=Cal,TimeInput=TimeInput,NDXfile=NDXfile)\n",
    "    TotalReturnList.append(dayReturn)\n",
    "    DateReturnList.append(day)\n",
    "\n",
    "dfOut = pd.DataFrame({'Date':DateReturnList,'Return':TotalReturnList})\n",
    "\n",
    "\n",
    "\n",
    "\n",
    "\n"
   ]
  },
  {
   "cell_type": "code",
   "execution_count": null,
   "id": "5176a427",
   "metadata": {},
   "outputs": [],
   "source": [
    "dfOut"
   ]
  },
  {
   "cell_type": "code",
   "execution_count": null,
   "id": "28c3bcdd",
   "metadata": {},
   "outputs": [],
   "source": [
    "dfOut.to_csv(\"ReturnData.csv\")\n"
   ]
  },
  {
   "cell_type": "code",
   "execution_count": null,
   "id": "b9610e16",
   "metadata": {},
   "outputs": [],
   "source": []
  }
 ],
 "metadata": {
  "kernelspec": {
   "display_name": ".env",
   "language": "python",
   "name": ".env"
  },
  "language_info": {
   "codemirror_mode": {
    "name": "ipython",
    "version": 3
   },
   "file_extension": ".py",
   "mimetype": "text/x-python",
   "name": "python",
   "nbconvert_exporter": "python",
   "pygments_lexer": "ipython3",
   "version": "3.12.0"
  }
 },
 "nbformat": 4,
 "nbformat_minor": 5
}
