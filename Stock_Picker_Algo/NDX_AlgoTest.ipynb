{
 "cells": [
  {
   "cell_type": "code",
   "execution_count": 1,
   "id": "87230f77",
   "metadata": {},
   "outputs": [
    {
     "name": "stdout",
     "output_type": "stream",
     "text": [
      "/Users/atulkrishnan/Desktop/TradingAlgos/Stock_Picker_Algo\n"
     ]
    }
   ],
   "source": [
    "import pandas as pd\n",
    "import pandas_market_calendars as mcal\n",
    "import datetime\n",
    "from Tools.Trade_Functions import *\n",
    "import numpy as np\n",
    "import plotly.express as px\n"
   ]
  },
  {
   "cell_type": "code",
   "execution_count": 2,
   "id": "1cb86951",
   "metadata": {},
   "outputs": [],
   "source": [
    "def pick_trade(TradeData,RunDate,NumStocks,stopLoss=-0.01,holdTime=0,TimeInput=5,debug=False,numDaysToCheckStopLoss=5):\n",
    "    #Calculate pct change\n",
    "    \n",
    "    PctChange = get_SortedPctChange(RunDate,TimeInput,debug=False)\n",
    "    \n",
    "    #select first N stocks and caculate percent retruns\n",
    "    LongStockList = PctChange[\"Ticker\"].iloc[:NumStocks]\n",
    "    LongTradeInfo = getLongReturns(RunDate,LongStockList,stopLoss=stopLoss,holdTime=holdTime,debug=debug,numDaysToCheckStopLoss=5)\n",
    "    #select bottom N stocks and caculate percent retruns\n",
    "    ShortStockList = PctChange[\"Ticker\"].iloc[len(PctChange[\"Ticker\"])-NumStocks:]\n",
    "    ShortTradeInfo = getShortReturns(RunDate,ShortStockList,stopLoss=stopLoss,holdTime=holdTime,debug=debug,numDaysToCheckStopLoss=5)\n",
    "    TotalReturn = sum(LongTradeInfo[\"Returns\"]) / NumStocks + sum(ShortTradeInfo[\"Returns\"]) / NumStocks\n",
    "    \n",
    "    return TotalReturn, pd.concat([TradeData,LongTradeInfo,ShortTradeInfo])"
   ]
  },
  {
   "cell_type": "code",
   "execution_count": 3,
   "id": "6d114610",
   "metadata": {},
   "outputs": [],
   "source": [
    "framedCal= get_calendar()"
   ]
  },
  {
   "cell_type": "code",
   "execution_count": 8,
   "id": "0de3af83",
   "metadata": {},
   "outputs": [],
   "source": [
    "TotalReturnList = list()\n",
    "DateReturnList = list()\n",
    "TimeInput = 4\n",
    "NumStocks= 2\n",
    "holdTime=2\n",
    "#must be less than holdtime\n",
    "numDaysToCheckStopLoss= holdTime\n",
    "TradeData=pd.DataFrame()\n",
    "cal=list()\n",
    "for i in range(0,len(framedCal),holdTime+1):\n",
    "    cal.append(framedCal[i])\n",
    "\n",
    "#Anual Range\n",
    "year=2024\n",
    "yearlyDates = [date for date in cal if date.startswith(str(year))]\n",
    "DateRange = [yearlyDates[0], yearlyDates[-1]]\n",
    "\n",
    "#Set custome Range\n",
    "#DateRange=['2015-01-05','2024-11-07']\n",
    "#DateRange = [cal[51], cal[-1]]\n",
    "\n",
    "\n",
    "DateRange=[cal.index(DateRange[0]),cal.index(DateRange[1])]\n",
    "for day in cal[DateRange[0]:DateRange[1]]:\n",
    "    dailyReturn,TradeData = pick_trade(TradeData,RunDate=day,NumStocks=NumStocks,stopLoss=-0.02,TimeInput=TimeInput,holdTime=holdTime,debug=False,numDaysToCheckStopLoss=numDaysToCheckStopLoss)\n",
    "    TotalReturnList.append(dailyReturn)\n",
    "    \n",
    "TradeData=TradeData.reset_index(drop=True)\n",
    "returnDf = pd.DataFrame({'Date': pd.to_datetime(cal[DateRange[0]:DateRange[1]]),'Return':TotalReturnList})\n",
    "\n",
    "\n",
    "M = 1\n",
    "returnVal=[]\n",
    "for i in returnDf[\"Return\"]:\n",
    "    M = M*(1+i)\n",
    "    returnVal.append(M)\n",
    "returnDf=pd.concat([returnDf,pd.DataFrame({\"ReturnVals\":returnVal})],axis=1)\n",
    "\n",
    "\n",
    "\n"
   ]
  },
  {
   "cell_type": "code",
   "execution_count": 9,
   "id": "4797c0d7",
   "metadata": {},
   "outputs": [
    {
     "data": {
      "application/vnd.plotly.v1+json": {
       "config": {
        "plotlyServerURL": "https://plot.ly"
       },
       "data": [
        {
         "hovertemplate": "Date=%{x}<br>ReturnVals=%{y}<extra></extra>",
         "legendgroup": "",
         "line": {
          "color": "#636efa",
          "dash": "solid"
         },
         "marker": {
          "symbol": "circle"
         },
         "mode": "lines",
         "name": "",
         "orientation": "v",
         "showlegend": false,
         "type": "scatter",
         "x": [
          "2024-01-03T00:00:00",
          "2024-01-08T00:00:00",
          "2024-01-11T00:00:00",
          "2024-01-17T00:00:00",
          "2024-01-22T00:00:00",
          "2024-01-25T00:00:00",
          "2024-01-30T00:00:00",
          "2024-02-02T00:00:00",
          "2024-02-07T00:00:00",
          "2024-02-12T00:00:00",
          "2024-02-15T00:00:00",
          "2024-02-21T00:00:00",
          "2024-02-26T00:00:00",
          "2024-02-29T00:00:00",
          "2024-03-05T00:00:00",
          "2024-03-08T00:00:00",
          "2024-03-13T00:00:00",
          "2024-03-18T00:00:00",
          "2024-03-21T00:00:00",
          "2024-03-26T00:00:00",
          "2024-04-01T00:00:00",
          "2024-04-04T00:00:00",
          "2024-04-09T00:00:00",
          "2024-04-12T00:00:00",
          "2024-04-17T00:00:00",
          "2024-04-22T00:00:00",
          "2024-04-25T00:00:00",
          "2024-04-30T00:00:00",
          "2024-05-03T00:00:00",
          "2024-05-08T00:00:00",
          "2024-05-13T00:00:00",
          "2024-05-16T00:00:00",
          "2024-05-21T00:00:00",
          "2024-05-24T00:00:00",
          "2024-05-30T00:00:00",
          "2024-06-04T00:00:00",
          "2024-06-07T00:00:00",
          "2024-06-12T00:00:00",
          "2024-06-17T00:00:00",
          "2024-06-21T00:00:00",
          "2024-06-26T00:00:00",
          "2024-07-01T00:00:00",
          "2024-07-05T00:00:00",
          "2024-07-10T00:00:00",
          "2024-07-15T00:00:00",
          "2024-07-18T00:00:00",
          "2024-07-23T00:00:00",
          "2024-07-26T00:00:00",
          "2024-07-31T00:00:00",
          "2024-08-05T00:00:00",
          "2024-08-08T00:00:00",
          "2024-08-13T00:00:00",
          "2024-08-16T00:00:00",
          "2024-08-21T00:00:00",
          "2024-08-26T00:00:00",
          "2024-08-29T00:00:00",
          "2024-09-04T00:00:00",
          "2024-09-09T00:00:00",
          "2024-09-12T00:00:00",
          "2024-09-17T00:00:00",
          "2024-09-20T00:00:00",
          "2024-09-25T00:00:00",
          "2024-09-30T00:00:00",
          "2024-10-03T00:00:00",
          "2024-10-08T00:00:00",
          "2024-10-11T00:00:00",
          "2024-10-16T00:00:00",
          "2024-10-21T00:00:00",
          "2024-10-24T00:00:00",
          "2024-10-29T00:00:00",
          "2024-11-01T00:00:00",
          "2024-11-06T00:00:00",
          "2024-11-11T00:00:00"
         ],
         "xaxis": "x",
         "y": [
          0.986409419286442,
          1.0735147122093265,
          1.065591769253591,
          1.0526397106236536,
          1.0367057157572155,
          1.062560027204554,
          1.043925325105896,
          1.027732712866793,
          1.0156617298779715,
          1.002824892303994,
          1.0083517462300755,
          1.004858329306675,
          1.0108060990706138,
          1.0192698318522921,
          1.0518449233830582,
          1.0191866288958422,
          1.0151285287255318,
          1.0133409393879798,
          1.0295164167102329,
          1.0076385242375006,
          1.0067247236154944,
          1.0165225878240634,
          0.9795558792560102,
          0.939008967225208,
          0.9568525960808519,
          0.9408395754371791,
          0.9938779550300338,
          0.9533277344648086,
          0.9516211938278973,
          0.943440374646833,
          0.9183922732916906,
          0.9440642841906673,
          1.0661385299020458,
          1.1350248768482405,
          1.0887158618728323,
          1.0279954974896268,
          1.1045024293043784,
          1.072586058781216,
          1.0687100135886476,
          1.0320345558635684,
          1.0445159768386951,
          1.0574348172560664,
          1.0294025104126792,
          0.9874028879878419,
          1.0532854315759337,
          1.0276047307977842,
          0.9856784577812348,
          0.9894346001029118,
          1.062366726094724,
          1.1782759440621233,
          1.1302022855443887,
          1.1479811185614692,
          1.110410205953826,
          1.0903403812726093,
          1.112127919886048,
          1.0832992589170323,
          1.1101115114412266,
          1.09614773020823,
          1.1034629986853515,
          1.0891383751498678,
          1.0648133036918244,
          1.178567931290806,
          1.1304823596941411,
          1.110030150805831,
          1.0999751851683803,
          1.0656172831531106,
          1.0914050555201564,
          1.070656482629592,
          1.0491872751367974,
          1.0297654670637677,
          1.063846767139109,
          1.0860547222172563,
          1.1491982244188637
         ],
         "yaxis": "y"
        }
       ],
       "layout": {
        "legend": {
         "tracegroupgap": 0
        },
        "margin": {
         "t": 60
        },
        "template": {
         "data": {
          "bar": [
           {
            "error_x": {
             "color": "#2a3f5f"
            },
            "error_y": {
             "color": "#2a3f5f"
            },
            "marker": {
             "line": {
              "color": "#E5ECF6",
              "width": 0.5
             },
             "pattern": {
              "fillmode": "overlay",
              "size": 10,
              "solidity": 0.2
             }
            },
            "type": "bar"
           }
          ],
          "barpolar": [
           {
            "marker": {
             "line": {
              "color": "#E5ECF6",
              "width": 0.5
             },
             "pattern": {
              "fillmode": "overlay",
              "size": 10,
              "solidity": 0.2
             }
            },
            "type": "barpolar"
           }
          ],
          "carpet": [
           {
            "aaxis": {
             "endlinecolor": "#2a3f5f",
             "gridcolor": "white",
             "linecolor": "white",
             "minorgridcolor": "white",
             "startlinecolor": "#2a3f5f"
            },
            "baxis": {
             "endlinecolor": "#2a3f5f",
             "gridcolor": "white",
             "linecolor": "white",
             "minorgridcolor": "white",
             "startlinecolor": "#2a3f5f"
            },
            "type": "carpet"
           }
          ],
          "choropleth": [
           {
            "colorbar": {
             "outlinewidth": 0,
             "ticks": ""
            },
            "type": "choropleth"
           }
          ],
          "contour": [
           {
            "colorbar": {
             "outlinewidth": 0,
             "ticks": ""
            },
            "colorscale": [
             [
              0,
              "#0d0887"
             ],
             [
              0.1111111111111111,
              "#46039f"
             ],
             [
              0.2222222222222222,
              "#7201a8"
             ],
             [
              0.3333333333333333,
              "#9c179e"
             ],
             [
              0.4444444444444444,
              "#bd3786"
             ],
             [
              0.5555555555555556,
              "#d8576b"
             ],
             [
              0.6666666666666666,
              "#ed7953"
             ],
             [
              0.7777777777777778,
              "#fb9f3a"
             ],
             [
              0.8888888888888888,
              "#fdca26"
             ],
             [
              1,
              "#f0f921"
             ]
            ],
            "type": "contour"
           }
          ],
          "contourcarpet": [
           {
            "colorbar": {
             "outlinewidth": 0,
             "ticks": ""
            },
            "type": "contourcarpet"
           }
          ],
          "heatmap": [
           {
            "colorbar": {
             "outlinewidth": 0,
             "ticks": ""
            },
            "colorscale": [
             [
              0,
              "#0d0887"
             ],
             [
              0.1111111111111111,
              "#46039f"
             ],
             [
              0.2222222222222222,
              "#7201a8"
             ],
             [
              0.3333333333333333,
              "#9c179e"
             ],
             [
              0.4444444444444444,
              "#bd3786"
             ],
             [
              0.5555555555555556,
              "#d8576b"
             ],
             [
              0.6666666666666666,
              "#ed7953"
             ],
             [
              0.7777777777777778,
              "#fb9f3a"
             ],
             [
              0.8888888888888888,
              "#fdca26"
             ],
             [
              1,
              "#f0f921"
             ]
            ],
            "type": "heatmap"
           }
          ],
          "heatmapgl": [
           {
            "colorbar": {
             "outlinewidth": 0,
             "ticks": ""
            },
            "colorscale": [
             [
              0,
              "#0d0887"
             ],
             [
              0.1111111111111111,
              "#46039f"
             ],
             [
              0.2222222222222222,
              "#7201a8"
             ],
             [
              0.3333333333333333,
              "#9c179e"
             ],
             [
              0.4444444444444444,
              "#bd3786"
             ],
             [
              0.5555555555555556,
              "#d8576b"
             ],
             [
              0.6666666666666666,
              "#ed7953"
             ],
             [
              0.7777777777777778,
              "#fb9f3a"
             ],
             [
              0.8888888888888888,
              "#fdca26"
             ],
             [
              1,
              "#f0f921"
             ]
            ],
            "type": "heatmapgl"
           }
          ],
          "histogram": [
           {
            "marker": {
             "pattern": {
              "fillmode": "overlay",
              "size": 10,
              "solidity": 0.2
             }
            },
            "type": "histogram"
           }
          ],
          "histogram2d": [
           {
            "colorbar": {
             "outlinewidth": 0,
             "ticks": ""
            },
            "colorscale": [
             [
              0,
              "#0d0887"
             ],
             [
              0.1111111111111111,
              "#46039f"
             ],
             [
              0.2222222222222222,
              "#7201a8"
             ],
             [
              0.3333333333333333,
              "#9c179e"
             ],
             [
              0.4444444444444444,
              "#bd3786"
             ],
             [
              0.5555555555555556,
              "#d8576b"
             ],
             [
              0.6666666666666666,
              "#ed7953"
             ],
             [
              0.7777777777777778,
              "#fb9f3a"
             ],
             [
              0.8888888888888888,
              "#fdca26"
             ],
             [
              1,
              "#f0f921"
             ]
            ],
            "type": "histogram2d"
           }
          ],
          "histogram2dcontour": [
           {
            "colorbar": {
             "outlinewidth": 0,
             "ticks": ""
            },
            "colorscale": [
             [
              0,
              "#0d0887"
             ],
             [
              0.1111111111111111,
              "#46039f"
             ],
             [
              0.2222222222222222,
              "#7201a8"
             ],
             [
              0.3333333333333333,
              "#9c179e"
             ],
             [
              0.4444444444444444,
              "#bd3786"
             ],
             [
              0.5555555555555556,
              "#d8576b"
             ],
             [
              0.6666666666666666,
              "#ed7953"
             ],
             [
              0.7777777777777778,
              "#fb9f3a"
             ],
             [
              0.8888888888888888,
              "#fdca26"
             ],
             [
              1,
              "#f0f921"
             ]
            ],
            "type": "histogram2dcontour"
           }
          ],
          "mesh3d": [
           {
            "colorbar": {
             "outlinewidth": 0,
             "ticks": ""
            },
            "type": "mesh3d"
           }
          ],
          "parcoords": [
           {
            "line": {
             "colorbar": {
              "outlinewidth": 0,
              "ticks": ""
             }
            },
            "type": "parcoords"
           }
          ],
          "pie": [
           {
            "automargin": true,
            "type": "pie"
           }
          ],
          "scatter": [
           {
            "fillpattern": {
             "fillmode": "overlay",
             "size": 10,
             "solidity": 0.2
            },
            "type": "scatter"
           }
          ],
          "scatter3d": [
           {
            "line": {
             "colorbar": {
              "outlinewidth": 0,
              "ticks": ""
             }
            },
            "marker": {
             "colorbar": {
              "outlinewidth": 0,
              "ticks": ""
             }
            },
            "type": "scatter3d"
           }
          ],
          "scattercarpet": [
           {
            "marker": {
             "colorbar": {
              "outlinewidth": 0,
              "ticks": ""
             }
            },
            "type": "scattercarpet"
           }
          ],
          "scattergeo": [
           {
            "marker": {
             "colorbar": {
              "outlinewidth": 0,
              "ticks": ""
             }
            },
            "type": "scattergeo"
           }
          ],
          "scattergl": [
           {
            "marker": {
             "colorbar": {
              "outlinewidth": 0,
              "ticks": ""
             }
            },
            "type": "scattergl"
           }
          ],
          "scattermapbox": [
           {
            "marker": {
             "colorbar": {
              "outlinewidth": 0,
              "ticks": ""
             }
            },
            "type": "scattermapbox"
           }
          ],
          "scatterpolar": [
           {
            "marker": {
             "colorbar": {
              "outlinewidth": 0,
              "ticks": ""
             }
            },
            "type": "scatterpolar"
           }
          ],
          "scatterpolargl": [
           {
            "marker": {
             "colorbar": {
              "outlinewidth": 0,
              "ticks": ""
             }
            },
            "type": "scatterpolargl"
           }
          ],
          "scatterternary": [
           {
            "marker": {
             "colorbar": {
              "outlinewidth": 0,
              "ticks": ""
             }
            },
            "type": "scatterternary"
           }
          ],
          "surface": [
           {
            "colorbar": {
             "outlinewidth": 0,
             "ticks": ""
            },
            "colorscale": [
             [
              0,
              "#0d0887"
             ],
             [
              0.1111111111111111,
              "#46039f"
             ],
             [
              0.2222222222222222,
              "#7201a8"
             ],
             [
              0.3333333333333333,
              "#9c179e"
             ],
             [
              0.4444444444444444,
              "#bd3786"
             ],
             [
              0.5555555555555556,
              "#d8576b"
             ],
             [
              0.6666666666666666,
              "#ed7953"
             ],
             [
              0.7777777777777778,
              "#fb9f3a"
             ],
             [
              0.8888888888888888,
              "#fdca26"
             ],
             [
              1,
              "#f0f921"
             ]
            ],
            "type": "surface"
           }
          ],
          "table": [
           {
            "cells": {
             "fill": {
              "color": "#EBF0F8"
             },
             "line": {
              "color": "white"
             }
            },
            "header": {
             "fill": {
              "color": "#C8D4E3"
             },
             "line": {
              "color": "white"
             }
            },
            "type": "table"
           }
          ]
         },
         "layout": {
          "annotationdefaults": {
           "arrowcolor": "#2a3f5f",
           "arrowhead": 0,
           "arrowwidth": 1
          },
          "autotypenumbers": "strict",
          "coloraxis": {
           "colorbar": {
            "outlinewidth": 0,
            "ticks": ""
           }
          },
          "colorscale": {
           "diverging": [
            [
             0,
             "#8e0152"
            ],
            [
             0.1,
             "#c51b7d"
            ],
            [
             0.2,
             "#de77ae"
            ],
            [
             0.3,
             "#f1b6da"
            ],
            [
             0.4,
             "#fde0ef"
            ],
            [
             0.5,
             "#f7f7f7"
            ],
            [
             0.6,
             "#e6f5d0"
            ],
            [
             0.7,
             "#b8e186"
            ],
            [
             0.8,
             "#7fbc41"
            ],
            [
             0.9,
             "#4d9221"
            ],
            [
             1,
             "#276419"
            ]
           ],
           "sequential": [
            [
             0,
             "#0d0887"
            ],
            [
             0.1111111111111111,
             "#46039f"
            ],
            [
             0.2222222222222222,
             "#7201a8"
            ],
            [
             0.3333333333333333,
             "#9c179e"
            ],
            [
             0.4444444444444444,
             "#bd3786"
            ],
            [
             0.5555555555555556,
             "#d8576b"
            ],
            [
             0.6666666666666666,
             "#ed7953"
            ],
            [
             0.7777777777777778,
             "#fb9f3a"
            ],
            [
             0.8888888888888888,
             "#fdca26"
            ],
            [
             1,
             "#f0f921"
            ]
           ],
           "sequentialminus": [
            [
             0,
             "#0d0887"
            ],
            [
             0.1111111111111111,
             "#46039f"
            ],
            [
             0.2222222222222222,
             "#7201a8"
            ],
            [
             0.3333333333333333,
             "#9c179e"
            ],
            [
             0.4444444444444444,
             "#bd3786"
            ],
            [
             0.5555555555555556,
             "#d8576b"
            ],
            [
             0.6666666666666666,
             "#ed7953"
            ],
            [
             0.7777777777777778,
             "#fb9f3a"
            ],
            [
             0.8888888888888888,
             "#fdca26"
            ],
            [
             1,
             "#f0f921"
            ]
           ]
          },
          "colorway": [
           "#636efa",
           "#EF553B",
           "#00cc96",
           "#ab63fa",
           "#FFA15A",
           "#19d3f3",
           "#FF6692",
           "#B6E880",
           "#FF97FF",
           "#FECB52"
          ],
          "font": {
           "color": "#2a3f5f"
          },
          "geo": {
           "bgcolor": "white",
           "lakecolor": "white",
           "landcolor": "#E5ECF6",
           "showlakes": true,
           "showland": true,
           "subunitcolor": "white"
          },
          "hoverlabel": {
           "align": "left"
          },
          "hovermode": "closest",
          "mapbox": {
           "style": "light"
          },
          "paper_bgcolor": "white",
          "plot_bgcolor": "#E5ECF6",
          "polar": {
           "angularaxis": {
            "gridcolor": "white",
            "linecolor": "white",
            "ticks": ""
           },
           "bgcolor": "#E5ECF6",
           "radialaxis": {
            "gridcolor": "white",
            "linecolor": "white",
            "ticks": ""
           }
          },
          "scene": {
           "xaxis": {
            "backgroundcolor": "#E5ECF6",
            "gridcolor": "white",
            "gridwidth": 2,
            "linecolor": "white",
            "showbackground": true,
            "ticks": "",
            "zerolinecolor": "white"
           },
           "yaxis": {
            "backgroundcolor": "#E5ECF6",
            "gridcolor": "white",
            "gridwidth": 2,
            "linecolor": "white",
            "showbackground": true,
            "ticks": "",
            "zerolinecolor": "white"
           },
           "zaxis": {
            "backgroundcolor": "#E5ECF6",
            "gridcolor": "white",
            "gridwidth": 2,
            "linecolor": "white",
            "showbackground": true,
            "ticks": "",
            "zerolinecolor": "white"
           }
          },
          "shapedefaults": {
           "line": {
            "color": "#2a3f5f"
           }
          },
          "ternary": {
           "aaxis": {
            "gridcolor": "white",
            "linecolor": "white",
            "ticks": ""
           },
           "baxis": {
            "gridcolor": "white",
            "linecolor": "white",
            "ticks": ""
           },
           "bgcolor": "#E5ECF6",
           "caxis": {
            "gridcolor": "white",
            "linecolor": "white",
            "ticks": ""
           }
          },
          "title": {
           "x": 0.05
          },
          "xaxis": {
           "automargin": true,
           "gridcolor": "white",
           "linecolor": "white",
           "ticks": "",
           "title": {
            "standoff": 15
           },
           "zerolinecolor": "white",
           "zerolinewidth": 2
          },
          "yaxis": {
           "automargin": true,
           "gridcolor": "white",
           "linecolor": "white",
           "ticks": "",
           "title": {
            "standoff": 15
           },
           "zerolinecolor": "white",
           "zerolinewidth": 2
          }
         }
        },
        "title": {
         "text": "Returns Over Time"
        },
        "xaxis": {
         "anchor": "y",
         "domain": [
          0,
          1
         ],
         "title": {
          "text": "Date"
         }
        },
        "yaxis": {
         "anchor": "x",
         "domain": [
          0,
          1
         ],
         "title": {
          "text": "Price"
         }
        }
       }
      },
      "text/html": [
       "<div>                            <div id=\"0066d5a5-c4b0-4f0d-9de2-12183843177e\" class=\"plotly-graph-div\" style=\"height:525px; width:100%;\"></div>            <script type=\"text/javascript\">                require([\"plotly\"], function(Plotly) {                    window.PLOTLYENV=window.PLOTLYENV || {};                                    if (document.getElementById(\"0066d5a5-c4b0-4f0d-9de2-12183843177e\")) {                    Plotly.newPlot(                        \"0066d5a5-c4b0-4f0d-9de2-12183843177e\",                        [{\"hovertemplate\":\"Date=%{x}\\u003cbr\\u003eReturnVals=%{y}\\u003cextra\\u003e\\u003c\\u002fextra\\u003e\",\"legendgroup\":\"\",\"line\":{\"color\":\"#636efa\",\"dash\":\"solid\"},\"marker\":{\"symbol\":\"circle\"},\"mode\":\"lines\",\"name\":\"\",\"orientation\":\"v\",\"showlegend\":false,\"x\":[\"2024-01-03T00:00:00\",\"2024-01-08T00:00:00\",\"2024-01-11T00:00:00\",\"2024-01-17T00:00:00\",\"2024-01-22T00:00:00\",\"2024-01-25T00:00:00\",\"2024-01-30T00:00:00\",\"2024-02-02T00:00:00\",\"2024-02-07T00:00:00\",\"2024-02-12T00:00:00\",\"2024-02-15T00:00:00\",\"2024-02-21T00:00:00\",\"2024-02-26T00:00:00\",\"2024-02-29T00:00:00\",\"2024-03-05T00:00:00\",\"2024-03-08T00:00:00\",\"2024-03-13T00:00:00\",\"2024-03-18T00:00:00\",\"2024-03-21T00:00:00\",\"2024-03-26T00:00:00\",\"2024-04-01T00:00:00\",\"2024-04-04T00:00:00\",\"2024-04-09T00:00:00\",\"2024-04-12T00:00:00\",\"2024-04-17T00:00:00\",\"2024-04-22T00:00:00\",\"2024-04-25T00:00:00\",\"2024-04-30T00:00:00\",\"2024-05-03T00:00:00\",\"2024-05-08T00:00:00\",\"2024-05-13T00:00:00\",\"2024-05-16T00:00:00\",\"2024-05-21T00:00:00\",\"2024-05-24T00:00:00\",\"2024-05-30T00:00:00\",\"2024-06-04T00:00:00\",\"2024-06-07T00:00:00\",\"2024-06-12T00:00:00\",\"2024-06-17T00:00:00\",\"2024-06-21T00:00:00\",\"2024-06-26T00:00:00\",\"2024-07-01T00:00:00\",\"2024-07-05T00:00:00\",\"2024-07-10T00:00:00\",\"2024-07-15T00:00:00\",\"2024-07-18T00:00:00\",\"2024-07-23T00:00:00\",\"2024-07-26T00:00:00\",\"2024-07-31T00:00:00\",\"2024-08-05T00:00:00\",\"2024-08-08T00:00:00\",\"2024-08-13T00:00:00\",\"2024-08-16T00:00:00\",\"2024-08-21T00:00:00\",\"2024-08-26T00:00:00\",\"2024-08-29T00:00:00\",\"2024-09-04T00:00:00\",\"2024-09-09T00:00:00\",\"2024-09-12T00:00:00\",\"2024-09-17T00:00:00\",\"2024-09-20T00:00:00\",\"2024-09-25T00:00:00\",\"2024-09-30T00:00:00\",\"2024-10-03T00:00:00\",\"2024-10-08T00:00:00\",\"2024-10-11T00:00:00\",\"2024-10-16T00:00:00\",\"2024-10-21T00:00:00\",\"2024-10-24T00:00:00\",\"2024-10-29T00:00:00\",\"2024-11-01T00:00:00\",\"2024-11-06T00:00:00\",\"2024-11-11T00:00:00\"],\"xaxis\":\"x\",\"y\":[0.986409419286442,1.0735147122093265,1.065591769253591,1.0526397106236536,1.0367057157572155,1.062560027204554,1.043925325105896,1.027732712866793,1.0156617298779715,1.002824892303994,1.0083517462300755,1.004858329306675,1.0108060990706138,1.0192698318522921,1.0518449233830582,1.0191866288958422,1.0151285287255318,1.0133409393879798,1.0295164167102329,1.0076385242375006,1.0067247236154944,1.0165225878240634,0.9795558792560102,0.939008967225208,0.9568525960808519,0.9408395754371791,0.9938779550300338,0.9533277344648086,0.9516211938278973,0.943440374646833,0.9183922732916906,0.9440642841906673,1.0661385299020458,1.1350248768482405,1.0887158618728323,1.0279954974896268,1.1045024293043784,1.072586058781216,1.0687100135886476,1.0320345558635684,1.0445159768386951,1.0574348172560664,1.0294025104126792,0.9874028879878419,1.0532854315759337,1.0276047307977842,0.9856784577812348,0.9894346001029118,1.062366726094724,1.1782759440621233,1.1302022855443887,1.1479811185614692,1.110410205953826,1.0903403812726093,1.112127919886048,1.0832992589170323,1.1101115114412266,1.09614773020823,1.1034629986853515,1.0891383751498678,1.0648133036918244,1.178567931290806,1.1304823596941411,1.110030150805831,1.0999751851683803,1.0656172831531106,1.0914050555201564,1.070656482629592,1.0491872751367974,1.0297654670637677,1.063846767139109,1.0860547222172563,1.1491982244188637],\"yaxis\":\"y\",\"type\":\"scatter\"}],                        {\"template\":{\"data\":{\"histogram2dcontour\":[{\"type\":\"histogram2dcontour\",\"colorbar\":{\"outlinewidth\":0,\"ticks\":\"\"},\"colorscale\":[[0.0,\"#0d0887\"],[0.1111111111111111,\"#46039f\"],[0.2222222222222222,\"#7201a8\"],[0.3333333333333333,\"#9c179e\"],[0.4444444444444444,\"#bd3786\"],[0.5555555555555556,\"#d8576b\"],[0.6666666666666666,\"#ed7953\"],[0.7777777777777778,\"#fb9f3a\"],[0.8888888888888888,\"#fdca26\"],[1.0,\"#f0f921\"]]}],\"choropleth\":[{\"type\":\"choropleth\",\"colorbar\":{\"outlinewidth\":0,\"ticks\":\"\"}}],\"histogram2d\":[{\"type\":\"histogram2d\",\"colorbar\":{\"outlinewidth\":0,\"ticks\":\"\"},\"colorscale\":[[0.0,\"#0d0887\"],[0.1111111111111111,\"#46039f\"],[0.2222222222222222,\"#7201a8\"],[0.3333333333333333,\"#9c179e\"],[0.4444444444444444,\"#bd3786\"],[0.5555555555555556,\"#d8576b\"],[0.6666666666666666,\"#ed7953\"],[0.7777777777777778,\"#fb9f3a\"],[0.8888888888888888,\"#fdca26\"],[1.0,\"#f0f921\"]]}],\"heatmap\":[{\"type\":\"heatmap\",\"colorbar\":{\"outlinewidth\":0,\"ticks\":\"\"},\"colorscale\":[[0.0,\"#0d0887\"],[0.1111111111111111,\"#46039f\"],[0.2222222222222222,\"#7201a8\"],[0.3333333333333333,\"#9c179e\"],[0.4444444444444444,\"#bd3786\"],[0.5555555555555556,\"#d8576b\"],[0.6666666666666666,\"#ed7953\"],[0.7777777777777778,\"#fb9f3a\"],[0.8888888888888888,\"#fdca26\"],[1.0,\"#f0f921\"]]}],\"heatmapgl\":[{\"type\":\"heatmapgl\",\"colorbar\":{\"outlinewidth\":0,\"ticks\":\"\"},\"colorscale\":[[0.0,\"#0d0887\"],[0.1111111111111111,\"#46039f\"],[0.2222222222222222,\"#7201a8\"],[0.3333333333333333,\"#9c179e\"],[0.4444444444444444,\"#bd3786\"],[0.5555555555555556,\"#d8576b\"],[0.6666666666666666,\"#ed7953\"],[0.7777777777777778,\"#fb9f3a\"],[0.8888888888888888,\"#fdca26\"],[1.0,\"#f0f921\"]]}],\"contourcarpet\":[{\"type\":\"contourcarpet\",\"colorbar\":{\"outlinewidth\":0,\"ticks\":\"\"}}],\"contour\":[{\"type\":\"contour\",\"colorbar\":{\"outlinewidth\":0,\"ticks\":\"\"},\"colorscale\":[[0.0,\"#0d0887\"],[0.1111111111111111,\"#46039f\"],[0.2222222222222222,\"#7201a8\"],[0.3333333333333333,\"#9c179e\"],[0.4444444444444444,\"#bd3786\"],[0.5555555555555556,\"#d8576b\"],[0.6666666666666666,\"#ed7953\"],[0.7777777777777778,\"#fb9f3a\"],[0.8888888888888888,\"#fdca26\"],[1.0,\"#f0f921\"]]}],\"surface\":[{\"type\":\"surface\",\"colorbar\":{\"outlinewidth\":0,\"ticks\":\"\"},\"colorscale\":[[0.0,\"#0d0887\"],[0.1111111111111111,\"#46039f\"],[0.2222222222222222,\"#7201a8\"],[0.3333333333333333,\"#9c179e\"],[0.4444444444444444,\"#bd3786\"],[0.5555555555555556,\"#d8576b\"],[0.6666666666666666,\"#ed7953\"],[0.7777777777777778,\"#fb9f3a\"],[0.8888888888888888,\"#fdca26\"],[1.0,\"#f0f921\"]]}],\"mesh3d\":[{\"type\":\"mesh3d\",\"colorbar\":{\"outlinewidth\":0,\"ticks\":\"\"}}],\"scatter\":[{\"fillpattern\":{\"fillmode\":\"overlay\",\"size\":10,\"solidity\":0.2},\"type\":\"scatter\"}],\"parcoords\":[{\"type\":\"parcoords\",\"line\":{\"colorbar\":{\"outlinewidth\":0,\"ticks\":\"\"}}}],\"scatterpolargl\":[{\"type\":\"scatterpolargl\",\"marker\":{\"colorbar\":{\"outlinewidth\":0,\"ticks\":\"\"}}}],\"bar\":[{\"error_x\":{\"color\":\"#2a3f5f\"},\"error_y\":{\"color\":\"#2a3f5f\"},\"marker\":{\"line\":{\"color\":\"#E5ECF6\",\"width\":0.5},\"pattern\":{\"fillmode\":\"overlay\",\"size\":10,\"solidity\":0.2}},\"type\":\"bar\"}],\"scattergeo\":[{\"type\":\"scattergeo\",\"marker\":{\"colorbar\":{\"outlinewidth\":0,\"ticks\":\"\"}}}],\"scatterpolar\":[{\"type\":\"scatterpolar\",\"marker\":{\"colorbar\":{\"outlinewidth\":0,\"ticks\":\"\"}}}],\"histogram\":[{\"marker\":{\"pattern\":{\"fillmode\":\"overlay\",\"size\":10,\"solidity\":0.2}},\"type\":\"histogram\"}],\"scattergl\":[{\"type\":\"scattergl\",\"marker\":{\"colorbar\":{\"outlinewidth\":0,\"ticks\":\"\"}}}],\"scatter3d\":[{\"type\":\"scatter3d\",\"line\":{\"colorbar\":{\"outlinewidth\":0,\"ticks\":\"\"}},\"marker\":{\"colorbar\":{\"outlinewidth\":0,\"ticks\":\"\"}}}],\"scattermapbox\":[{\"type\":\"scattermapbox\",\"marker\":{\"colorbar\":{\"outlinewidth\":0,\"ticks\":\"\"}}}],\"scatterternary\":[{\"type\":\"scatterternary\",\"marker\":{\"colorbar\":{\"outlinewidth\":0,\"ticks\":\"\"}}}],\"scattercarpet\":[{\"type\":\"scattercarpet\",\"marker\":{\"colorbar\":{\"outlinewidth\":0,\"ticks\":\"\"}}}],\"carpet\":[{\"aaxis\":{\"endlinecolor\":\"#2a3f5f\",\"gridcolor\":\"white\",\"linecolor\":\"white\",\"minorgridcolor\":\"white\",\"startlinecolor\":\"#2a3f5f\"},\"baxis\":{\"endlinecolor\":\"#2a3f5f\",\"gridcolor\":\"white\",\"linecolor\":\"white\",\"minorgridcolor\":\"white\",\"startlinecolor\":\"#2a3f5f\"},\"type\":\"carpet\"}],\"table\":[{\"cells\":{\"fill\":{\"color\":\"#EBF0F8\"},\"line\":{\"color\":\"white\"}},\"header\":{\"fill\":{\"color\":\"#C8D4E3\"},\"line\":{\"color\":\"white\"}},\"type\":\"table\"}],\"barpolar\":[{\"marker\":{\"line\":{\"color\":\"#E5ECF6\",\"width\":0.5},\"pattern\":{\"fillmode\":\"overlay\",\"size\":10,\"solidity\":0.2}},\"type\":\"barpolar\"}],\"pie\":[{\"automargin\":true,\"type\":\"pie\"}]},\"layout\":{\"autotypenumbers\":\"strict\",\"colorway\":[\"#636efa\",\"#EF553B\",\"#00cc96\",\"#ab63fa\",\"#FFA15A\",\"#19d3f3\",\"#FF6692\",\"#B6E880\",\"#FF97FF\",\"#FECB52\"],\"font\":{\"color\":\"#2a3f5f\"},\"hovermode\":\"closest\",\"hoverlabel\":{\"align\":\"left\"},\"paper_bgcolor\":\"white\",\"plot_bgcolor\":\"#E5ECF6\",\"polar\":{\"bgcolor\":\"#E5ECF6\",\"angularaxis\":{\"gridcolor\":\"white\",\"linecolor\":\"white\",\"ticks\":\"\"},\"radialaxis\":{\"gridcolor\":\"white\",\"linecolor\":\"white\",\"ticks\":\"\"}},\"ternary\":{\"bgcolor\":\"#E5ECF6\",\"aaxis\":{\"gridcolor\":\"white\",\"linecolor\":\"white\",\"ticks\":\"\"},\"baxis\":{\"gridcolor\":\"white\",\"linecolor\":\"white\",\"ticks\":\"\"},\"caxis\":{\"gridcolor\":\"white\",\"linecolor\":\"white\",\"ticks\":\"\"}},\"coloraxis\":{\"colorbar\":{\"outlinewidth\":0,\"ticks\":\"\"}},\"colorscale\":{\"sequential\":[[0.0,\"#0d0887\"],[0.1111111111111111,\"#46039f\"],[0.2222222222222222,\"#7201a8\"],[0.3333333333333333,\"#9c179e\"],[0.4444444444444444,\"#bd3786\"],[0.5555555555555556,\"#d8576b\"],[0.6666666666666666,\"#ed7953\"],[0.7777777777777778,\"#fb9f3a\"],[0.8888888888888888,\"#fdca26\"],[1.0,\"#f0f921\"]],\"sequentialminus\":[[0.0,\"#0d0887\"],[0.1111111111111111,\"#46039f\"],[0.2222222222222222,\"#7201a8\"],[0.3333333333333333,\"#9c179e\"],[0.4444444444444444,\"#bd3786\"],[0.5555555555555556,\"#d8576b\"],[0.6666666666666666,\"#ed7953\"],[0.7777777777777778,\"#fb9f3a\"],[0.8888888888888888,\"#fdca26\"],[1.0,\"#f0f921\"]],\"diverging\":[[0,\"#8e0152\"],[0.1,\"#c51b7d\"],[0.2,\"#de77ae\"],[0.3,\"#f1b6da\"],[0.4,\"#fde0ef\"],[0.5,\"#f7f7f7\"],[0.6,\"#e6f5d0\"],[0.7,\"#b8e186\"],[0.8,\"#7fbc41\"],[0.9,\"#4d9221\"],[1,\"#276419\"]]},\"xaxis\":{\"gridcolor\":\"white\",\"linecolor\":\"white\",\"ticks\":\"\",\"title\":{\"standoff\":15},\"zerolinecolor\":\"white\",\"automargin\":true,\"zerolinewidth\":2},\"yaxis\":{\"gridcolor\":\"white\",\"linecolor\":\"white\",\"ticks\":\"\",\"title\":{\"standoff\":15},\"zerolinecolor\":\"white\",\"automargin\":true,\"zerolinewidth\":2},\"scene\":{\"xaxis\":{\"backgroundcolor\":\"#E5ECF6\",\"gridcolor\":\"white\",\"linecolor\":\"white\",\"showbackground\":true,\"ticks\":\"\",\"zerolinecolor\":\"white\",\"gridwidth\":2},\"yaxis\":{\"backgroundcolor\":\"#E5ECF6\",\"gridcolor\":\"white\",\"linecolor\":\"white\",\"showbackground\":true,\"ticks\":\"\",\"zerolinecolor\":\"white\",\"gridwidth\":2},\"zaxis\":{\"backgroundcolor\":\"#E5ECF6\",\"gridcolor\":\"white\",\"linecolor\":\"white\",\"showbackground\":true,\"ticks\":\"\",\"zerolinecolor\":\"white\",\"gridwidth\":2}},\"shapedefaults\":{\"line\":{\"color\":\"#2a3f5f\"}},\"annotationdefaults\":{\"arrowcolor\":\"#2a3f5f\",\"arrowhead\":0,\"arrowwidth\":1},\"geo\":{\"bgcolor\":\"white\",\"landcolor\":\"#E5ECF6\",\"subunitcolor\":\"white\",\"showland\":true,\"showlakes\":true,\"lakecolor\":\"white\"},\"title\":{\"x\":0.05},\"mapbox\":{\"style\":\"light\"}}},\"xaxis\":{\"anchor\":\"y\",\"domain\":[0.0,1.0],\"title\":{\"text\":\"Date\"}},\"yaxis\":{\"anchor\":\"x\",\"domain\":[0.0,1.0],\"title\":{\"text\":\"Price\"}},\"legend\":{\"tracegroupgap\":0},\"margin\":{\"t\":60},\"title\":{\"text\":\"Returns Over Time\"}},                        {\"responsive\": true}                    ).then(function(){\n",
       "                            \n",
       "var gd = document.getElementById('0066d5a5-c4b0-4f0d-9de2-12183843177e');\n",
       "var x = new MutationObserver(function (mutations, observer) {{\n",
       "        var display = window.getComputedStyle(gd).display;\n",
       "        if (!display || display === 'none') {{\n",
       "            console.log([gd, 'removed!']);\n",
       "            Plotly.purge(gd);\n",
       "            observer.disconnect();\n",
       "        }}\n",
       "}});\n",
       "\n",
       "// Listen for the removal of the full notebook cells\n",
       "var notebookContainer = gd.closest('#notebook-container');\n",
       "if (notebookContainer) {{\n",
       "    x.observe(notebookContainer, {childList: true});\n",
       "}}\n",
       "\n",
       "// Listen for the clearing of the current output cell\n",
       "var outputEl = gd.closest('.output');\n",
       "if (outputEl) {{\n",
       "    x.observe(outputEl, {childList: true});\n",
       "}}\n",
       "\n",
       "                        })                };                });            </script>        </div>"
      ]
     },
     "metadata": {},
     "output_type": "display_data"
    }
   ],
   "source": [
    "\n",
    "fig = px.line(returnDf, x='Date', y='ReturnVals')\n",
    "\n",
    "fig.update_layout(title='Returns Over Time',\n",
    "                  xaxis_title='Date',\n",
    "                  yaxis_title='Price')\n",
    "\n",
    "fig.show()"
   ]
  },
  {
   "cell_type": "code",
   "execution_count": 10,
   "id": "edeab9de",
   "metadata": {},
   "outputs": [
    {
     "data": {
      "text/html": [
       "<div>\n",
       "<style scoped>\n",
       "    .dataframe tbody tr th:only-of-type {\n",
       "        vertical-align: middle;\n",
       "    }\n",
       "\n",
       "    .dataframe tbody tr th {\n",
       "        vertical-align: top;\n",
       "    }\n",
       "\n",
       "    .dataframe thead th {\n",
       "        text-align: right;\n",
       "    }\n",
       "</style>\n",
       "<table border=\"1\" class=\"dataframe\">\n",
       "  <thead>\n",
       "    <tr style=\"text-align: right;\">\n",
       "      <th></th>\n",
       "      <th>Date</th>\n",
       "      <th>Return</th>\n",
       "      <th>ReturnVals</th>\n",
       "    </tr>\n",
       "  </thead>\n",
       "  <tbody>\n",
       "    <tr>\n",
       "      <th>0</th>\n",
       "      <td>2024-01-03</td>\n",
       "      <td>-0.013591</td>\n",
       "      <td>0.986409</td>\n",
       "    </tr>\n",
       "    <tr>\n",
       "      <th>1</th>\n",
       "      <td>2024-01-08</td>\n",
       "      <td>0.088305</td>\n",
       "      <td>1.073515</td>\n",
       "    </tr>\n",
       "    <tr>\n",
       "      <th>2</th>\n",
       "      <td>2024-01-11</td>\n",
       "      <td>-0.007380</td>\n",
       "      <td>1.065592</td>\n",
       "    </tr>\n",
       "    <tr>\n",
       "      <th>3</th>\n",
       "      <td>2024-01-17</td>\n",
       "      <td>-0.012155</td>\n",
       "      <td>1.052640</td>\n",
       "    </tr>\n",
       "    <tr>\n",
       "      <th>4</th>\n",
       "      <td>2024-01-22</td>\n",
       "      <td>-0.015137</td>\n",
       "      <td>1.036706</td>\n",
       "    </tr>\n",
       "    <tr>\n",
       "      <th>...</th>\n",
       "      <td>...</td>\n",
       "      <td>...</td>\n",
       "      <td>...</td>\n",
       "    </tr>\n",
       "    <tr>\n",
       "      <th>68</th>\n",
       "      <td>2024-10-24</td>\n",
       "      <td>-0.020052</td>\n",
       "      <td>1.049187</td>\n",
       "    </tr>\n",
       "    <tr>\n",
       "      <th>69</th>\n",
       "      <td>2024-10-29</td>\n",
       "      <td>-0.018511</td>\n",
       "      <td>1.029765</td>\n",
       "    </tr>\n",
       "    <tr>\n",
       "      <th>70</th>\n",
       "      <td>2024-11-01</td>\n",
       "      <td>0.033096</td>\n",
       "      <td>1.063847</td>\n",
       "    </tr>\n",
       "    <tr>\n",
       "      <th>71</th>\n",
       "      <td>2024-11-06</td>\n",
       "      <td>0.020875</td>\n",
       "      <td>1.086055</td>\n",
       "    </tr>\n",
       "    <tr>\n",
       "      <th>72</th>\n",
       "      <td>2024-11-11</td>\n",
       "      <td>0.058140</td>\n",
       "      <td>1.149198</td>\n",
       "    </tr>\n",
       "  </tbody>\n",
       "</table>\n",
       "<p>73 rows × 3 columns</p>\n",
       "</div>"
      ],
      "text/plain": [
       "         Date    Return  ReturnVals\n",
       "0  2024-01-03 -0.013591    0.986409\n",
       "1  2024-01-08  0.088305    1.073515\n",
       "2  2024-01-11 -0.007380    1.065592\n",
       "3  2024-01-17 -0.012155    1.052640\n",
       "4  2024-01-22 -0.015137    1.036706\n",
       "..        ...       ...         ...\n",
       "68 2024-10-24 -0.020052    1.049187\n",
       "69 2024-10-29 -0.018511    1.029765\n",
       "70 2024-11-01  0.033096    1.063847\n",
       "71 2024-11-06  0.020875    1.086055\n",
       "72 2024-11-11  0.058140    1.149198\n",
       "\n",
       "[73 rows x 3 columns]"
      ]
     },
     "execution_count": 10,
     "metadata": {},
     "output_type": "execute_result"
    }
   ],
   "source": [
    "returnDf"
   ]
  },
  {
   "cell_type": "code",
   "execution_count": 11,
   "id": "877f3261",
   "metadata": {},
   "outputs": [
    {
     "data": {
      "text/html": [
       "<div>\n",
       "<style scoped>\n",
       "    .dataframe tbody tr th:only-of-type {\n",
       "        vertical-align: middle;\n",
       "    }\n",
       "\n",
       "    .dataframe tbody tr th {\n",
       "        vertical-align: top;\n",
       "    }\n",
       "\n",
       "    .dataframe thead th {\n",
       "        text-align: right;\n",
       "    }\n",
       "</style>\n",
       "<table border=\"1\" class=\"dataframe\">\n",
       "  <thead>\n",
       "    <tr style=\"text-align: right;\">\n",
       "      <th></th>\n",
       "      <th>Stock</th>\n",
       "      <th>Type</th>\n",
       "      <th>ExecutionDate</th>\n",
       "      <th>CloseDate</th>\n",
       "      <th>Returns</th>\n",
       "      <th>StopLoss</th>\n",
       "    </tr>\n",
       "  </thead>\n",
       "  <tbody>\n",
       "    <tr>\n",
       "      <th>0</th>\n",
       "      <td>MRNA</td>\n",
       "      <td>Long</td>\n",
       "      <td>2024-01-03</td>\n",
       "      <td>2024-01-03</td>\n",
       "      <td>-0.020400</td>\n",
       "      <td>1</td>\n",
       "    </tr>\n",
       "    <tr>\n",
       "      <th>1</th>\n",
       "      <td>KHC</td>\n",
       "      <td>Long</td>\n",
       "      <td>2024-01-03</td>\n",
       "      <td>2024-01-05</td>\n",
       "      <td>-0.008375</td>\n",
       "      <td>0</td>\n",
       "    </tr>\n",
       "    <tr>\n",
       "      <th>2</th>\n",
       "      <td>ARM</td>\n",
       "      <td>Short</td>\n",
       "      <td>2024-01-03</td>\n",
       "      <td>2024-01-03</td>\n",
       "      <td>-0.020400</td>\n",
       "      <td>1</td>\n",
       "    </tr>\n",
       "    <tr>\n",
       "      <th>3</th>\n",
       "      <td>MDB</td>\n",
       "      <td>Short</td>\n",
       "      <td>2024-01-03</td>\n",
       "      <td>2024-01-05</td>\n",
       "      <td>0.021994</td>\n",
       "      <td>0</td>\n",
       "    </tr>\n",
       "    <tr>\n",
       "      <th>4</th>\n",
       "      <td>MRVL</td>\n",
       "      <td>Long</td>\n",
       "      <td>2024-01-08</td>\n",
       "      <td>2024-01-10</td>\n",
       "      <td>0.056768</td>\n",
       "      <td>0</td>\n",
       "    </tr>\n",
       "    <tr>\n",
       "      <th>5</th>\n",
       "      <td>SMCI</td>\n",
       "      <td>Long</td>\n",
       "      <td>2024-01-08</td>\n",
       "      <td>2024-01-10</td>\n",
       "      <td>0.160643</td>\n",
       "      <td>0</td>\n",
       "    </tr>\n",
       "    <tr>\n",
       "      <th>6</th>\n",
       "      <td>NXPI</td>\n",
       "      <td>Short</td>\n",
       "      <td>2024-01-08</td>\n",
       "      <td>2024-01-08</td>\n",
       "      <td>-0.020400</td>\n",
       "      <td>1</td>\n",
       "    </tr>\n",
       "    <tr>\n",
       "      <th>7</th>\n",
       "      <td>ON</td>\n",
       "      <td>Short</td>\n",
       "      <td>2024-01-08</td>\n",
       "      <td>2024-01-08</td>\n",
       "      <td>-0.020400</td>\n",
       "      <td>1</td>\n",
       "    </tr>\n",
       "    <tr>\n",
       "      <th>8</th>\n",
       "      <td>SMCI</td>\n",
       "      <td>Long</td>\n",
       "      <td>2024-01-11</td>\n",
       "      <td>2024-01-11</td>\n",
       "      <td>-0.020400</td>\n",
       "      <td>1</td>\n",
       "    </tr>\n",
       "    <tr>\n",
       "      <th>9</th>\n",
       "      <td>CRWD</td>\n",
       "      <td>Long</td>\n",
       "      <td>2024-01-11</td>\n",
       "      <td>2024-01-16</td>\n",
       "      <td>-0.020400</td>\n",
       "      <td>1</td>\n",
       "    </tr>\n",
       "    <tr>\n",
       "      <th>10</th>\n",
       "      <td>FANG</td>\n",
       "      <td>Short</td>\n",
       "      <td>2024-01-11</td>\n",
       "      <td>2024-01-16</td>\n",
       "      <td>0.005061</td>\n",
       "      <td>0</td>\n",
       "    </tr>\n",
       "    <tr>\n",
       "      <th>11</th>\n",
       "      <td>BKR</td>\n",
       "      <td>Short</td>\n",
       "      <td>2024-01-11</td>\n",
       "      <td>2024-01-16</td>\n",
       "      <td>0.020978</td>\n",
       "      <td>0</td>\n",
       "    </tr>\n",
       "    <tr>\n",
       "      <th>12</th>\n",
       "      <td>AMD</td>\n",
       "      <td>Long</td>\n",
       "      <td>2024-01-17</td>\n",
       "      <td>2024-01-17</td>\n",
       "      <td>-0.020400</td>\n",
       "      <td>1</td>\n",
       "    </tr>\n",
       "    <tr>\n",
       "      <th>13</th>\n",
       "      <td>ORLY</td>\n",
       "      <td>Long</td>\n",
       "      <td>2024-01-17</td>\n",
       "      <td>2024-01-19</td>\n",
       "      <td>0.036890</td>\n",
       "      <td>0</td>\n",
       "    </tr>\n",
       "    <tr>\n",
       "      <th>14</th>\n",
       "      <td>TTD</td>\n",
       "      <td>Short</td>\n",
       "      <td>2024-01-17</td>\n",
       "      <td>2024-01-17</td>\n",
       "      <td>-0.020400</td>\n",
       "      <td>1</td>\n",
       "    </tr>\n",
       "    <tr>\n",
       "      <th>15</th>\n",
       "      <td>ANSS</td>\n",
       "      <td>Short</td>\n",
       "      <td>2024-01-17</td>\n",
       "      <td>2024-01-19</td>\n",
       "      <td>-0.020400</td>\n",
       "      <td>1</td>\n",
       "    </tr>\n",
       "    <tr>\n",
       "      <th>16</th>\n",
       "      <td>SMCI</td>\n",
       "      <td>Long</td>\n",
       "      <td>2024-01-22</td>\n",
       "      <td>2024-01-22</td>\n",
       "      <td>-0.020400</td>\n",
       "      <td>1</td>\n",
       "    </tr>\n",
       "    <tr>\n",
       "      <th>17</th>\n",
       "      <td>ARM</td>\n",
       "      <td>Long</td>\n",
       "      <td>2024-01-22</td>\n",
       "      <td>2024-01-22</td>\n",
       "      <td>-0.020400</td>\n",
       "      <td>1</td>\n",
       "    </tr>\n",
       "    <tr>\n",
       "      <th>18</th>\n",
       "      <td>DLTR</td>\n",
       "      <td>Short</td>\n",
       "      <td>2024-01-22</td>\n",
       "      <td>2024-01-24</td>\n",
       "      <td>0.003960</td>\n",
       "      <td>0</td>\n",
       "    </tr>\n",
       "    <tr>\n",
       "      <th>19</th>\n",
       "      <td>AEP</td>\n",
       "      <td>Short</td>\n",
       "      <td>2024-01-22</td>\n",
       "      <td>2024-01-24</td>\n",
       "      <td>0.006566</td>\n",
       "      <td>0</td>\n",
       "    </tr>\n",
       "    <tr>\n",
       "      <th>20</th>\n",
       "      <td>NFLX</td>\n",
       "      <td>Long</td>\n",
       "      <td>2024-01-25</td>\n",
       "      <td>2024-01-29</td>\n",
       "      <td>0.042792</td>\n",
       "      <td>0</td>\n",
       "    </tr>\n",
       "    <tr>\n",
       "      <th>21</th>\n",
       "      <td>ASML</td>\n",
       "      <td>Long</td>\n",
       "      <td>2024-01-25</td>\n",
       "      <td>2024-01-29</td>\n",
       "      <td>0.015273</td>\n",
       "      <td>0</td>\n",
       "    </tr>\n",
       "    <tr>\n",
       "      <th>22</th>\n",
       "      <td>DDOG</td>\n",
       "      <td>Short</td>\n",
       "      <td>2024-01-25</td>\n",
       "      <td>2024-01-29</td>\n",
       "      <td>-0.020400</td>\n",
       "      <td>1</td>\n",
       "    </tr>\n",
       "    <tr>\n",
       "      <th>23</th>\n",
       "      <td>GILD</td>\n",
       "      <td>Short</td>\n",
       "      <td>2024-01-25</td>\n",
       "      <td>2024-01-29</td>\n",
       "      <td>0.012212</td>\n",
       "      <td>0</td>\n",
       "    </tr>\n",
       "    <tr>\n",
       "      <th>24</th>\n",
       "      <td>ABNB</td>\n",
       "      <td>Long</td>\n",
       "      <td>2024-01-30</td>\n",
       "      <td>2024-01-31</td>\n",
       "      <td>-0.020400</td>\n",
       "      <td>1</td>\n",
       "    </tr>\n",
       "    <tr>\n",
       "      <th>25</th>\n",
       "      <td>NFLX</td>\n",
       "      <td>Long</td>\n",
       "      <td>2024-01-30</td>\n",
       "      <td>2024-02-01</td>\n",
       "      <td>-0.000065</td>\n",
       "      <td>0</td>\n",
       "    </tr>\n",
       "    <tr>\n",
       "      <th>26</th>\n",
       "      <td>PDD</td>\n",
       "      <td>Short</td>\n",
       "      <td>2024-01-30</td>\n",
       "      <td>2024-01-30</td>\n",
       "      <td>-0.020400</td>\n",
       "      <td>1</td>\n",
       "    </tr>\n",
       "    <tr>\n",
       "      <th>27</th>\n",
       "      <td>INTC</td>\n",
       "      <td>Short</td>\n",
       "      <td>2024-01-30</td>\n",
       "      <td>2024-02-01</td>\n",
       "      <td>0.005790</td>\n",
       "      <td>0</td>\n",
       "    </tr>\n",
       "    <tr>\n",
       "      <th>28</th>\n",
       "      <td>SMCI</td>\n",
       "      <td>Long</td>\n",
       "      <td>2024-02-02</td>\n",
       "      <td>2024-02-02</td>\n",
       "      <td>-0.020400</td>\n",
       "      <td>1</td>\n",
       "    </tr>\n",
       "    <tr>\n",
       "      <th>29</th>\n",
       "      <td>CEG</td>\n",
       "      <td>Long</td>\n",
       "      <td>2024-02-02</td>\n",
       "      <td>2024-02-06</td>\n",
       "      <td>0.031094</td>\n",
       "      <td>0</td>\n",
       "    </tr>\n",
       "  </tbody>\n",
       "</table>\n",
       "</div>"
      ],
      "text/plain": [
       "   Stock   Type ExecutionDate   CloseDate   Returns  StopLoss\n",
       "0   MRNA   Long    2024-01-03  2024-01-03 -0.020400         1\n",
       "1    KHC   Long    2024-01-03  2024-01-05 -0.008375         0\n",
       "2    ARM  Short    2024-01-03  2024-01-03 -0.020400         1\n",
       "3    MDB  Short    2024-01-03  2024-01-05  0.021994         0\n",
       "4   MRVL   Long    2024-01-08  2024-01-10  0.056768         0\n",
       "5   SMCI   Long    2024-01-08  2024-01-10  0.160643         0\n",
       "6   NXPI  Short    2024-01-08  2024-01-08 -0.020400         1\n",
       "7     ON  Short    2024-01-08  2024-01-08 -0.020400         1\n",
       "8   SMCI   Long    2024-01-11  2024-01-11 -0.020400         1\n",
       "9   CRWD   Long    2024-01-11  2024-01-16 -0.020400         1\n",
       "10  FANG  Short    2024-01-11  2024-01-16  0.005061         0\n",
       "11   BKR  Short    2024-01-11  2024-01-16  0.020978         0\n",
       "12   AMD   Long    2024-01-17  2024-01-17 -0.020400         1\n",
       "13  ORLY   Long    2024-01-17  2024-01-19  0.036890         0\n",
       "14   TTD  Short    2024-01-17  2024-01-17 -0.020400         1\n",
       "15  ANSS  Short    2024-01-17  2024-01-19 -0.020400         1\n",
       "16  SMCI   Long    2024-01-22  2024-01-22 -0.020400         1\n",
       "17   ARM   Long    2024-01-22  2024-01-22 -0.020400         1\n",
       "18  DLTR  Short    2024-01-22  2024-01-24  0.003960         0\n",
       "19   AEP  Short    2024-01-22  2024-01-24  0.006566         0\n",
       "20  NFLX   Long    2024-01-25  2024-01-29  0.042792         0\n",
       "21  ASML   Long    2024-01-25  2024-01-29  0.015273         0\n",
       "22  DDOG  Short    2024-01-25  2024-01-29 -0.020400         1\n",
       "23  GILD  Short    2024-01-25  2024-01-29  0.012212         0\n",
       "24  ABNB   Long    2024-01-30  2024-01-31 -0.020400         1\n",
       "25  NFLX   Long    2024-01-30  2024-02-01 -0.000065         0\n",
       "26   PDD  Short    2024-01-30  2024-01-30 -0.020400         1\n",
       "27  INTC  Short    2024-01-30  2024-02-01  0.005790         0\n",
       "28  SMCI   Long    2024-02-02  2024-02-02 -0.020400         1\n",
       "29   CEG   Long    2024-02-02  2024-02-06  0.031094         0"
      ]
     },
     "execution_count": 11,
     "metadata": {},
     "output_type": "execute_result"
    }
   ],
   "source": [
    "TradeData.head(30)"
   ]
  },
  {
   "cell_type": "code",
   "execution_count": 11,
   "id": "24267631",
   "metadata": {},
   "outputs": [],
   "source": [
    "\n",
    "returnDf_2019 = returnDf[returnDf['Date'].dt.year == 2019]\n",
    "\n",
    "# Ensure 'Return' is numeric\n",
    "returnDf_2019['Return'] = returnDf_2019['Return'].astype(float)"
   ]
  },
  {
   "cell_type": "code",
   "execution_count": 12,
   "id": "710f4f28",
   "metadata": {},
   "outputs": [
    {
     "data": {
      "text/plain": [
       "1.0"
      ]
     },
     "execution_count": 12,
     "metadata": {},
     "output_type": "execute_result"
    }
   ],
   "source": [
    "np.prod(1 + returnDf_2019['Return'])"
   ]
  },
  {
   "cell_type": "code",
   "execution_count": 13,
   "id": "0841157a",
   "metadata": {},
   "outputs": [],
   "source": [
    "SharpeRatio = ( np.mean(returnDf[\"Return\"]) * 252 - 0.05) / (np.std(returnDf[\"Return\"]) * 252**0.5)"
   ]
  },
  {
   "cell_type": "code",
   "execution_count": 14,
   "id": "c3090738",
   "metadata": {},
   "outputs": [
    {
     "data": {
      "text/plain": [
       "-8.313978505022462"
      ]
     },
     "execution_count": 14,
     "metadata": {},
     "output_type": "execute_result"
    }
   ],
   "source": [
    "SharpeRatio"
   ]
  },
  {
   "cell_type": "code",
   "execution_count": 15,
   "id": "0b48458c",
   "metadata": {},
   "outputs": [
    {
     "name": "stdout",
     "output_type": "stream",
     "text": [
      "-0.03562498811753077\n"
     ]
    },
    {
     "data": {
      "text/plain": [
       "26"
      ]
     },
     "execution_count": 15,
     "metadata": {},
     "output_type": "execute_result"
    }
   ],
   "source": [
    "print(np.mean(returnDf[\"Return\"][returnDf[\"Return\"]<0]))\n",
    "len(returnDf[\"Return\"][returnDf[\"Return\"]<0])"
   ]
  },
  {
   "cell_type": "code",
   "execution_count": 16,
   "id": "b7496776",
   "metadata": {
    "scrolled": true
   },
   "outputs": [
    {
     "name": "stdout",
     "output_type": "stream",
     "text": [
      "0.026282768562674374\n"
     ]
    },
    {
     "data": {
      "text/plain": [
       "10"
      ]
     },
     "execution_count": 16,
     "metadata": {},
     "output_type": "execute_result"
    }
   ],
   "source": [
    "print(np.mean(returnDf[\"Return\"][returnDf[\"Return\"]>0]))\n",
    "len(returnDf[\"Return\"][returnDf[\"Return\"]>0])"
   ]
  },
  {
   "cell_type": "code",
   "execution_count": 17,
   "id": "4b662636",
   "metadata": {},
   "outputs": [
    {
     "data": {
      "text/plain": [
       "0.5645857798607229"
      ]
     },
     "execution_count": 17,
     "metadata": {},
     "output_type": "execute_result"
    }
   ],
   "source": [
    "np.std(returnDf[\"Return\"])*np.sqrt(252)"
   ]
  },
  {
   "cell_type": "code",
   "execution_count": 18,
   "id": "28c3bcdd",
   "metadata": {},
   "outputs": [],
   "source": [
    "#dfOut.to_csv(\"ReturnData.csv\")\n"
   ]
  },
  {
   "cell_type": "code",
   "execution_count": 19,
   "id": "a8728436",
   "metadata": {},
   "outputs": [
    {
     "data": {
      "image/png": "[encoded data removed]",
      "text/plain": [
       "<Figure size 1500x600 with 1 Axes>"
      ]
     },
     "metadata": {},
     "output_type": "display_data"
    }
   ],
   "source": [
    "import matplotlib.pyplot as plt\n",
    "plt.figure(figsize=(15, 6))  # Set the figure size\n",
    "plt.plot(returnDf['Date'], returnDf['ReturnVals'],  linestyle='-', color='blue', label=\"Return Vals\")\n",
    "plt.title(\"Return Values Over Time\", fontsize=16)\n",
    "plt.xlabel(\"Date\", fontsize=12)\n",
    "plt.ylabel(\"Return Vals\", fontsize=12)\n",
    "plt.grid(True, linestyle='--', alpha=0.6)\n",
    "plt.legend(fontsize=12)\n",
    "plt.savefig(\"returns.png\", dpi=300, bbox_inches='tight')\n",
    "\n",
    "# Show the plot (optional)\n",
    "plt.show()"
   ]
  },
  {
   "cell_type": "code",
   "execution_count": null,
   "id": "8dbb3388",
   "metadata": {},
   "outputs": [],
   "source": []
  }
 ],
 "metadata": {
  "kernelspec": {
   "display_name": ".env",
   "language": "python",
   "name": ".env"
  },
  "language_info": {
   "codemirror_mode": {
    "name": "ipython",
    "version": 3
   },
   "file_extension": ".py",
   "mimetype": "text/x-python",
   "name": "python",
   "nbconvert_exporter": "python",
   "pygments_lexer": "ipython3",
   "version": "3.12.0"
  }
 },
 "nbformat": 4,
 "nbformat_minor": 5
}
