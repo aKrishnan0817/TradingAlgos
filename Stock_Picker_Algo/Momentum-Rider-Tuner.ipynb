{
 "cells": [
  {
   "cell_type": "markdown",
   "id": "167c0a86",
   "metadata": {},
   "source": [
    "# Optimization Of Algo Case 1\n",
    "\n",
    "- Maximize Total Return from 2015-Now\n",
    "- Minimize Sharpe Ratio: Avg Daily Return - Risk Free Rate(0.05) / STDEV(Daily Return)\n",
    "\n",
    "- Paramters: \n",
    "    - Number of Stocks(NumStocks) int between (2,30)\n",
    "    - How long to hold the stock(holdTime) int between (0,2)\n",
    "    - Stop Loss float between (-0.01,-0.05)\n",
    "    - How long to calculate the Percent Change from int between(2,7)"
   ]
  },
  {
   "cell_type": "code",
   "execution_count": 1,
   "id": "c147e264",
   "metadata": {},
   "outputs": [
    {
     "name": "stderr",
     "output_type": "stream",
     "text": [
      "/Library/Frameworks/Python.framework/Versions/3.12/lib/python3.12/site-packages/tqdm/auto.py:21: TqdmWarning: IProgress not found. Please update jupyter and ipywidgets. See https://ipywidgets.readthedocs.io/en/stable/user_install.html\n",
      "  from .autonotebook import tqdm as notebook_tqdm\n"
     ]
    }
   ],
   "source": [
    "import matplotlib.pyplot as plt\n",
    "import pandas as pd\n",
    "import pandas_market_calendars as mcal\n",
    "import datetime\n",
    "from Tools.Trade_Functions import *\n",
    "import numpy as np\n",
    "import mlflow\n",
    "import optuna"
   ]
  },
  {
   "cell_type": "code",
   "execution_count": 2,
   "id": "e60b6518",
   "metadata": {},
   "outputs": [],
   "source": [
    "experiment_counter=0"
   ]
  },
  {
   "cell_type": "code",
   "execution_count": 3,
   "id": "f29e0bd4",
   "metadata": {},
   "outputs": [
    {
     "data": {
      "text/plain": [
       "<Experiment: artifact_location='file:///Users/atulkrishnan/Desktop/TradingAlgos/Stock_Picker_Algo/mlruns/486892596834591236', creation_time=1732514941966, experiment_id='486892596834591236', last_update_time=1732514941966, lifecycle_stage='active', name='Momentum Rider Tuning:V3', tags={}>"
      ]
     },
     "execution_count": 3,
     "metadata": {},
     "output_type": "execute_result"
    }
   ],
   "source": [
    "mlflow.set_experiment(\"Momentum Rider Tuning:V3\")"
   ]
  },
  {
   "cell_type": "code",
   "execution_count": 4,
   "id": "8df7b025",
   "metadata": {},
   "outputs": [],
   "source": [
    "def calculate_mdd(return_vals):\n",
    "    # Calculate the cumulative returns (wealth index)\n",
    "    wealth_index = (1 + return_vals).cumprod()\n",
    "    \n",
    "    # Calculate the running maximum\n",
    "    running_max = wealth_index.cummax()\n",
    "    \n",
    "    # Calculate drawdowns (difference between running max and current value)\n",
    "    drawdowns = (wealth_index - running_max) / running_max\n",
    "    \n",
    "    # The maximum drawdown is the largest negative drawdown (i.e., most significant loss)\n",
    "    mdd = drawdowns.min()  # This will give the maximum drawdown (most negative value)\n",
    "    \n",
    "    return mdd"
   ]
  },
  {
   "cell_type": "code",
   "execution_count": 5,
   "id": "1ff1f8cb",
   "metadata": {},
   "outputs": [],
   "source": [
    "def calculate_sortino_ratio(return_vals, risk_free_rate=0.05):\n",
    "    # Calculate the excess returns over the risk-free rate\n",
    "    excess_returns = return_vals - risk_free_rate / 252  # Convert annual risk-free rate to daily\n",
    "    \n",
    "    # Calculate downside deviation (negative returns only)\n",
    "    downside_returns = excess_returns[excess_returns < 0]  # Only consider negative returns\n",
    "    downside_deviation = np.std(downside_returns)  # Standard deviation of negative returns\n",
    "    \n",
    "    # Calculate the mean of excess returns\n",
    "    mean_excess_return = np.mean(excess_returns)\n",
    "    \n",
    "    # Calculate the Sortino ratio (avoid division by zero if downside deviation is zero)\n",
    "    if downside_deviation == 0:\n",
    "        sortino_ratio = np.nan  # Return NaN if no downside deviation (e.g., no negative returns)\n",
    "    else:\n",
    "        sortino_ratio = mean_excess_return / downside_deviation\n",
    "    \n",
    "    return sortino_ratio"
   ]
  },
  {
   "cell_type": "code",
   "execution_count": 6,
   "id": "823d0c54",
   "metadata": {},
   "outputs": [],
   "source": [
    "\n",
    "\n",
    "def yearly_plots(returnDf):\n",
    "    \"\"\"\n",
    "    Saves a plot for each year in the range start_year to end_year.\n",
    "    \n",
    "    Args:\n",
    "    - dataframe (pd.DataFrame): The DataFrame containing the data.\n",
    "    - start_year (int): The starting year (inclusive).\n",
    "    - end_year (int): The ending year (inclusive).\n",
    "    - column_to_plot (str): The column to plot (e.g., 'ReturnVals').\n",
    "    - date_column (str): The column containing dates (e.g., 'Date').\n",
    "    \n",
    "    Returns:\n",
    "    - None\n",
    "    \"\"\"\n",
    "    # Ensure the date column is in datetime format\n",
    "    \n",
    "    for year in range(2015, 2025 ):\n",
    "        # Filter data for the specific year\n",
    "        yearly_data = returnDf[returnDf[\"Date\"].dt.year == year]\n",
    "        \n",
    "        if not yearly_data.empty:  # Only create plots for years with data\n",
    "            plt.figure(figsize=(10, 5))\n",
    "            plt.plot(\n",
    "                yearly_data[\"Date\"],\n",
    "                yearly_data[\"ReturnVals\"],\n",
    "                label=f\"{year}\",\n",
    "                color=\"blue\"\n",
    "            )\n",
    "            plt.title(f\"Retruns - {year}\")\n",
    "            plt.xlabel(\"Date\")\n",
    "            plt.ylabel(\"Returns\")\n",
    "            plt.legend()\n",
    "            plt.grid(True, linestyle='--', alpha=0.6)\n",
    "            \n",
    "            # Save the plot\n",
    "            plt.savefig(f\"returns_{year}.png\", dpi=300, bbox_inches='tight')\n",
    "            plt.close()\n",
    "\n",
    "# Example Usage:\n",
    "# save_yearly_plots_simple(returnDf, 2015, 2024, 'ReturnVals', 'Date')\n"
   ]
  },
  {
   "cell_type": "code",
   "execution_count": 9,
   "id": "b5b7cdbf",
   "metadata": {},
   "outputs": [],
   "source": [
    "def objective(trial):\n",
    "    global experiment_counter\n",
    "    expirement_name = f\"Expirement {experiment_counter}\"\n",
    "    \n",
    "    with mlflow.start_run(run_name=expirement_name) as run:\n",
    "        #Setup Paramter Variation\n",
    "        TimeInput = trial.suggest_int('TimeInput', 2, 7)\n",
    "        NumStocks=trial.suggest_int('NumStocks', 1, 5)\n",
    "        holdTime=0\n",
    "        stopLoss=trial.suggest_float('stopLoss',-0.05, -0.01)\n",
    "\n",
    "        #Date Range\n",
    "        DateRange=['2015-01-02','2024-11-07']\n",
    "        DateRange=[cal.index(DateRange[0]),cal.index(DateRange[1])]\n",
    "        TotalReturnList = list()\n",
    "\n",
    "        \n",
    "\n",
    "        #Run Algorithim\n",
    "        for day in cal[DateRange[0]:DateRange[1]]:\n",
    "            dailyReturn = pick_trade(RunDate=day,NumStocks=NumStocks,TimeInput=TimeInput,stopLoss=stopLoss,holdTime=holdTime,debug=False)\n",
    "            TotalReturnList.append(dailyReturn)\n",
    "        returnDf = pd.DataFrame({'Date': pd.to_datetime(cal[DateRange[0]:DateRange[1]]),'Return':TotalReturnList})\n",
    "        returnDf['Date'] = pd.to_datetime(returnDf['Date'])\n",
    "\n",
    "        #Compound Retruns\n",
    "        M = 1\n",
    "        returnVal=[]\n",
    "        for i in returnDf[\"Return\"]:\n",
    "            M = M*(1+i)\n",
    "            returnVal.append(M)\n",
    "        returnDf=pd.concat([returnDf,pd.DataFrame({\"ReturnVals\":returnVal})],axis=1)\n",
    "\n",
    "        #Calculate Metrics\n",
    "        SharpeRatio =(np.mean(returnDf[\"Return\"]) * 252 - 0.05) / (np.std(returnDf[\"Return\"]) * np.sqrt(252))\n",
    "        CumulativeReturn = returnDf.loc[len(returnDf)-1,\"ReturnVals\"]\n",
    "        max_drawdown = calculate_mdd(returnDf[\"Return\"])\n",
    "        sortino_ratio = calculate_sortino_ratio(returnDf[\"Return\"])\n",
    "\n",
    "        \n",
    "        pLratio = len(returnDf[\"Return\"][returnDf[\"Return\"]>0])/ len(returnDf[\"Return\"])\n",
    "\n",
    "        avg_loss= np.mean(returnDf[\"Return\"][returnDf[\"Return\"]<0])\n",
    "        avg_prof= np.mean(returnDf[\"Return\"][returnDf[\"Return\"]>0])\n",
    "        \n",
    "\n",
    "\n",
    "        #Saving A plot\n",
    "        plt.figure(figsize=(15, 6))  # Set the figure size\n",
    "        plt.plot(returnDf['Date'], returnDf['ReturnVals'],  linestyle='-', color='blue', label=\"Return Vals\")\n",
    "        plt.title(\"Return Values Over Time\", fontsize=16)\n",
    "        plt.xlabel(\"Date\", fontsize=12)\n",
    "        plt.ylabel(\"Return Vals\", fontsize=12)\n",
    "        plt.grid(True, linestyle='--', alpha=0.6)\n",
    "        plt.legend(fontsize=12)\n",
    "        plt.savefig(\"returns.png\", dpi=300, bbox_inches='tight')\n",
    "        plt.close()\n",
    "        #LOG Paramters, Metrics and Artifacts\n",
    "\n",
    "        mlflow.log_param(\"TimeInput\", trial.params['TimeInput'])\n",
    "        mlflow.log_param(\"NumStocks\", trial.params['NumStocks'])\n",
    "        #mlflow.log_param(\"holdTime\", trial.params['holdTime'])\n",
    "        mlflow.log_param(\"stopLoss\", trial.params['stopLoss'])\n",
    "\n",
    "        mlflow.log_metric(\"CumulativeReturn\", CumulativeReturn)\n",
    "        mlflow.log_metric(\"SharpeRatio\", SharpeRatio)\n",
    "        mlflow.log_metric(\"Profit_Loss_Ratio\", pLratio)\n",
    "        mlflow.log_metric(\"avg_prof\",avg_prof)\n",
    "        mlflow.log_metric(\"avg_loss\", avg_loss)\n",
    "        \n",
    "        mlflow.log_metric(\"Max_Draw_Down\",max_drawdown)\n",
    "        mlflow.log_metric(\"sortino_ratio\",sortino_ratio)\n",
    "\n",
    "        \n",
    "        \n",
    "        yearly_plots(returnDf)\n",
    "        \n",
    "        mlflow.log_artifact(\"returns.png\", artifact_path=\"Visulizations\")\n",
    "        \n",
    "        for year in range(2015,2025):\n",
    "            returnDf_year = returnDf[returnDf['Date'].dt.year == year]\n",
    "            returnDf_year['Return'] = returnDf_year['Return'].astype(float)\n",
    "            mlflow.log_metric(str(year)+\"Returns\",np.prod(1 + returnDf_year['Return']))\n",
    "            mlflow.log_artifact(f\"returns_{year}.png\", artifact_path=\"Visulizations\")\n",
    "\n",
    "            \n",
    "        experiment_counter += 1\n",
    "        \n",
    "        return CumulativeReturn, SharpeRatio, sortino_ratio, max_drawdown"
   ]
  },
  {
   "cell_type": "code",
   "execution_count": null,
   "id": "95025da2",
   "metadata": {},
   "outputs": [],
   "source": []
  }
 ],
 "metadata": {
  "kernelspec": {
   "display_name": ".env",
   "language": "python",
   "name": ".env"
  },
  "language_info": {
   "codemirror_mode": {
    "name": "ipython",
    "version": 3
   },
   "file_extension": ".py",
   "mimetype": "text/x-python",
   "name": "python",
   "nbconvert_exporter": "python",
   "pygments_lexer": "ipython3",
   "version": "3.12.0"
  }
 },
 "nbformat": 4,
 "nbformat_minor": 5
}
