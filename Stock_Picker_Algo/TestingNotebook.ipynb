{
 "cells": [
  {
   "cell_type": "code",
   "execution_count": 1,
   "id": "4c8fdf77",
   "metadata": {},
   "outputs": [],
   "source": [
    "import pandas as pd\n",
    "import numpy as np\n",
    "import pickle\n",
    "from Trade_Functions import *"
   ]
  },
  {
   "cell_type": "code",
   "execution_count": 9,
   "id": "3e3b6936",
   "metadata": {},
   "outputs": [
    {
     "data": {
      "text/plain": [
       "58.02000045776367"
      ]
     },
     "execution_count": 9,
     "metadata": {},
     "output_type": "execute_result"
    }
   ],
   "source": [
    "getPrice('2024-01-04','PYPL','Open')"
   ]
  },
  {
   "cell_type": "code",
   "execution_count": 8,
   "id": "57985212",
   "metadata": {},
   "outputs": [
    {
     "name": "stdout",
     "output_type": "stream",
     "text": [
      "--- PDD ----\n",
      "Start Date:2024-01-04 , Start Price:148.41000366210938 \n",
      "End Date:2024-01-04 , End Price:147.74000549316406 \n",
      "Return:-0.004514508135655885\n",
      "\n",
      "--- FANG ----\n",
      "Start Date:2024-01-04 , Start Price:161.07000732421875 \n",
      "End Date:2024-01-04 , End Price:155.82000732421875 \n",
      "Return:-0.03259452263780087\n",
      "\n"
     ]
    },
    {
     "data": {
      "text/plain": [
       "[-0.004514508135655885, -0.03259452263780087]"
      ]
     },
     "execution_count": 8,
     "metadata": {},
     "output_type": "execute_result"
    }
   ],
   "source": [
    "getLongReturns('2024-01-04',['PDD','FANG'],debug=True)"
   ]
  },
  {
   "cell_type": "code",
   "execution_count": 7,
   "id": "c160fc93",
   "metadata": {},
   "outputs": [
    {
     "name": "stdout",
     "output_type": "stream",
     "text": [
      "--- ILMN ----\n",
      "Start Date:2024-01-04 , Start Price:125.25291442871094 \n",
      "End Date:2024-01-04 , End Price:127.8501968383789 \n",
      "Return:-0.020736303195134358\n",
      "\n",
      "--- PYPL ----\n",
      "Start Date:2024-01-04 , Start Price:58.02000045776367 \n",
      "End Date:2024-01-04 , End Price:58.45000076293945 \n",
      "Return:-0.007411242705673622\n",
      "\n"
     ]
    },
    {
     "data": {
      "text/plain": [
       "[-0.020736303195134358, -0.007411242705673622]"
      ]
     },
     "execution_count": 7,
     "metadata": {},
     "output_type": "execute_result"
    }
   ],
   "source": [
    "getShortReturns('2024-01-04',['ILMN','PYPL'],debug=True)"
   ]
  },
  {
   "cell_type": "code",
   "execution_count": null,
   "id": "3d0aa83c",
   "metadata": {},
   "outputs": [],
   "source": []
  }
 ],
 "metadata": {
  "kernelspec": {
   "display_name": ".env",
   "language": "python",
   "name": ".env"
  },
  "language_info": {
   "codemirror_mode": {
    "name": "ipython",
    "version": 3
   },
   "file_extension": ".py",
   "mimetype": "text/x-python",
   "name": "python",
   "nbconvert_exporter": "python",
   "pygments_lexer": "ipython3",
   "version": "3.12.0"
  }
 },
 "nbformat": 4,
 "nbformat_minor": 5
}
