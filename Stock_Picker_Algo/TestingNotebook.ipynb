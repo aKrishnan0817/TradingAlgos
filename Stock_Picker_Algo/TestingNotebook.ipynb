{
 "cells": [
  {
   "cell_type": "code",
   "execution_count": 1,
   "id": "4c8fdf77",
   "metadata": {},
   "outputs": [
    {
     "name": "stdout",
     "output_type": "stream",
     "text": [
      "/Users/atulkrishnan/Desktop/TradingAlgos/Stock_Picker_Algo\n"
     ]
    }
   ],
   "source": [
    "import pandas as pd\n",
    "import numpy as np\n",
    "import pickle\n",
    "#from Tools.Trade_Functions import *\n",
    "from Tools.Tools import *\n",
    "import mlflow"
   ]
  },
  {
   "cell_type": "code",
   "execution_count": 2,
   "id": "48f8f6b8",
   "metadata": {},
   "outputs": [],
   "source": [
    "trader = Tools(holdTime=5,numStocks=3,stopLoss=-0.1,lookback=3)"
   ]
  },
  {
   "cell_type": "code",
   "execution_count": 3,
   "id": "bcb70d3a",
   "metadata": {},
   "outputs": [
    {
     "data": {
      "text/plain": [
       "(-0.0008,\n",
       "     Stock   Type ExecutionDate   CloseDate  Returns  StopLoss\n",
       " 0    META   Long    2024-04-05  2024-04-12  -0.0004         2\n",
       " 1    TSLA   Long    2024-04-05  2024-04-12  -0.0004         2\n",
       " 2      MU   Long    2024-04-05  2024-04-12  -0.0004         2\n",
       " 98   LULU  Short    2024-04-05  2024-04-12  -0.0004         2\n",
       " 99    AMD  Short    2024-04-05  2024-04-12  -0.0004         2\n",
       " 100  INTC  Short    2024-04-05  2024-04-12  -0.0004         2)"
      ]
     },
     "execution_count": 3,
     "metadata": {},
     "output_type": "execute_result"
    }
   ],
   "source": [
    "trader.pick_trade(TradeData=pd.DataFrame(),RunDate='2024-04-05')"
   ]
  },
  {
   "cell_type": "code",
   "execution_count": 1,
   "id": "975967dd",
   "metadata": {},
   "outputs": [],
   "source": [
    "lO= [82.11, 69.32, 52.4496, 101.88, 348.46, 282.0, 125.85, 30.4676, 311.8, 5.3419, 21.72, 33.3237, 379.54, 291.11, 165.9]"
   ]
  },
  {
   "cell_type": "code",
   "execution_count": 2,
   "id": "d9976269",
   "metadata": {},
   "outputs": [],
   "source": [
    "lC=[84.9, 72.27, 54.033, 106.0, 341.82, 297.57, 128.55, 31.146, 318.33, 5.4569, 22.77, 33.9961, 397.55, 302.74, 172.7]"
   ]
  },
  {
   "cell_type": "code",
   "execution_count": 3,
   "id": "401f1ed9",
   "metadata": {},
   "outputs": [],
   "source": [
    "sO=[141.7436, 79.9353, 45.3295, 30.2336, 76.1155, 73.1549, 3.2437, 34.7369, 30.4831, 29.9556, 181.68, 19.639, 17.52, 34.504, 54.4939]"
   ]
  },
  {
   "cell_type": "code",
   "execution_count": 4,
   "id": "c85c45a3",
   "metadata": {},
   "outputs": [],
   "source": [
    "sC=[145.0577, 83.6458, 47.2257, 31.5831, 78.6293, 74.2595, 3.3776, 35.2684, 31.2252, 31.5301, 186.71, 19.55, 19.0, 35.402, 56.6946]"
   ]
  },
  {
   "cell_type": "code",
   "execution_count": 7,
   "id": "95ceaca3",
   "metadata": {},
   "outputs": [],
   "source": [
    "total=0\n",
    "for i in range(15):\n",
    "    total += (lC[i]-lO[i])/lO[i] + (sO[i]-sC[i])/sO[i]"
   ]
  },
  {
   "cell_type": "code",
   "execution_count": 8,
   "id": "8079f2bb",
   "metadata": {},
   "outputs": [
    {
     "data": {
      "text/plain": [
       "-0.04549439314510548"
      ]
     },
     "execution_count": 8,
     "metadata": {},
     "output_type": "execute_result"
    }
   ],
   "source": [
    "total"
   ]
  },
  {
   "cell_type": "code",
   "execution_count": 9,
   "id": "3e3b6936",
   "metadata": {},
   "outputs": [
    {
     "data": {
      "text/plain": [
       "58.02000045776367"
      ]
     },
     "execution_count": 9,
     "metadata": {},
     "output_type": "execute_result"
    }
   ],
   "source": [
    "getPrice('2024-01-04','PYPL','Open')"
   ]
  },
  {
   "cell_type": "code",
   "execution_count": 8,
   "id": "57985212",
   "metadata": {},
   "outputs": [
    {
     "name": "stdout",
     "output_type": "stream",
     "text": [
      "--- PDD ----\n",
      "Start Date:2024-01-04 , Start Price:148.41000366210938 \n",
      "End Date:2024-01-04 , End Price:147.74000549316406 \n",
      "Return:-0.004514508135655885\n",
      "\n",
      "--- FANG ----\n",
      "Start Date:2024-01-04 , Start Price:161.07000732421875 \n",
      "End Date:2024-01-04 , End Price:155.82000732421875 \n",
      "Return:-0.03259452263780087\n",
      "\n"
     ]
    },
    {
     "data": {
      "text/plain": [
       "[-0.004514508135655885, -0.03259452263780087]"
      ]
     },
     "execution_count": 8,
     "metadata": {},
     "output_type": "execute_result"
    }
   ],
   "source": [
    "getLongReturns('2024-01-04',['PDD','FANG'],debug=True)"
   ]
  },
  {
   "cell_type": "code",
   "execution_count": 7,
   "id": "c160fc93",
   "metadata": {},
   "outputs": [
    {
     "name": "stdout",
     "output_type": "stream",
     "text": [
      "--- ILMN ----\n",
      "Start Date:2024-01-04 , Start Price:125.25291442871094 \n",
      "End Date:2024-01-04 , End Price:127.8501968383789 \n",
      "Return:-0.020736303195134358\n",
      "\n",
      "--- PYPL ----\n",
      "Start Date:2024-01-04 , Start Price:58.02000045776367 \n",
      "End Date:2024-01-04 , End Price:58.45000076293945 \n",
      "Return:-0.007411242705673622\n",
      "\n"
     ]
    },
    {
     "data": {
      "text/plain": [
       "[-0.020736303195134358, -0.007411242705673622]"
      ]
     },
     "execution_count": 7,
     "metadata": {},
     "output_type": "execute_result"
    }
   ],
   "source": [
    "getShortReturns('2024-01-04',['ILMN','PYPL'],debug=True)"
   ]
  },
  {
   "cell_type": "code",
   "execution_count": 2,
   "id": "3d0aa83c",
   "metadata": {},
   "outputs": [
    {
     "name": "stdout",
     "output_type": "stream",
     "text": [
      "[2024-11-25 07:01:10 -0500] [75849] [INFO] Starting gunicorn 23.0.0\n",
      "[2024-11-25 07:01:10 -0500] [75849] [INFO] Listening at: http://127.0.0.1:5000 (75849)\n",
      "[2024-11-25 07:01:10 -0500] [75849] [INFO] Using worker: sync\n",
      "[2024-11-25 07:01:10 -0500] [75850] [INFO] Booting worker with pid: 75850\n",
      "[2024-11-25 07:01:10 -0500] [75851] [INFO] Booting worker with pid: 75851\n",
      "[2024-11-25 07:01:10 -0500] [75852] [INFO] Booting worker with pid: 75852\n",
      "[2024-11-25 07:01:10 -0500] [75853] [INFO] Booting worker with pid: 75853\n",
      "^C\n",
      "[2024-11-25 07:43:22 -0500] [75849] [INFO] Handling signal: int\n",
      "[2024-11-25 07:43:22 -0500] [75852] [INFO] Worker exiting (pid: 75852)\n",
      "[2024-11-25 07:43:22 -0500] [75850] [INFO] Worker exiting (pid: 75850)\n",
      "[2024-11-25 07:43:22 -0500] [75853] [INFO] Worker exiting (pid: 75853)\n",
      "[2024-11-25 07:43:22 -0500] [75851] [INFO] Worker exiting (pid: 75851)\n"
     ]
    }
   ],
   "source": [
    "!mlflow ui"
   ]
  },
  {
   "cell_type": "code",
   "execution_count": null,
   "id": "f44ac259",
   "metadata": {},
   "outputs": [],
   "source": []
  }
 ],
 "metadata": {
  "kernelspec": {
   "display_name": ".env",
   "language": "python",
   "name": ".env"
  },
  "language_info": {
   "codemirror_mode": {
    "name": "ipython",
    "version": 3
   },
   "file_extension": ".py",
   "mimetype": "text/x-python",
   "name": "python",
   "nbconvert_exporter": "python",
   "pygments_lexer": "ipython3",
   "version": "3.12.0"
  }
 },
 "nbformat": 4,
 "nbformat_minor": 5
}
